{
 "cells": [
  {
   "cell_type": "code",
   "execution_count": 1,
   "metadata": {},
   "outputs": [],
   "source": [
    "import sys\n",
    "sys.path.append('/home/mz1482/project/vt-bayesian-opt-bopt_debug/')\n",
    "import pandas as pd\n",
    "import numpy as np\n",
    "from data_analysis import get_heart_bounds, correlation_coef, graph_3d, get_index\n",
    "from graph import *\n",
    "from BayesOptLib.bayes_opt.bayesian_optimization import BayesianOptimization\n",
    "from RandomSampler import RandomSampler\n",
    "import matplotlib\n",
    "from matplotlib import pyplot as plt\n",
    "from mpl_toolkits.mplot3d import Axes3D\n",
    "from sklearn.metrics.pairwise import euclidean_distances\n",
    "matplotlib.use('Qt5Agg')  # or can use 'TkAgg', whatever you have/prefer\n",
    "# from prettytable import PrettyTable\n",
    "\n",
    "def black_box(x, y, z):\n",
    "    \"\"\"\n",
    "    Represents a black box function to maximize for CC of two ECGs given an XYZ coordinate\n",
    "    :param x:\n",
    "    :param y: coordinates of the prediction\n",
    "    :param z:\n",
    "    :return: CC of that point and the target\n",
    "    \"\"\"\n",
    "    sample_ecg = ecgs[get_index(np.array([x, y, z]),labels)]\n",
    "    return abs(correlation_coef(target_ecg, sample_ecg))\n",
    "\n",
    "\n",
    "def black_box_12_lead(x, y, z):\n",
    "    \"\"\"\n",
    "    Represents a black box function to maximize for CC of two ECGs given an XYZ coordinate\n",
    "    :param x:\n",
    "    :param y: coordinates of the prediction\n",
    "    :param z:\n",
    "    :return: CC of that point and the target\n",
    "    \"\"\"\n",
    "    sample_ecg = ecgs[get_index(np.array([x, y, z]),labels)]\n",
    "    sample_ecg = np.reshape(sample_ecg, [12, -1])\n",
    "    target_ecg = np.reshape(target_ecg, [12, -1])\n",
    "    nums = 0\n",
    "    for i in range(12):\n",
    "        ccs = np.corrcoef(sample_ecg[i], target_ecg[i])[0, 1]\n",
    "        if ccs > .9:\n",
    "            nums += 1\n",
    "\n",
    "#     return True if nums == 12 else False \n",
    "    return nums"
   ]
  },
  {
   "cell_type": "code",
   "execution_count": 2,
   "metadata": {},
   "outputs": [
    {
     "name": "stdout",
     "output_type": "stream",
     "text": [
      "Target:  [-33.9901 -84.6578  40.206 ]\n"
     ]
    }
   ],
   "source": [
    "data_path = \"/home/mz1482/project/vt-bayesian-opt-bopt_debug/data/simu_data_4000/\"\n",
    "# Reading in the ECGs and labels\n",
    "# aucs = pd.read_csv(data_path+\"Heart1/Heart1_AUCS.csv\", header=None).to_numpy()\n",
    "ecgs = pd.read_csv(data_path+\"Heart1/Heart1_SimuData_4000.csv\", header=None).to_numpy()\n",
    "labels = pd.read_csv(data_path+\"Heart1/Coord1_4000.csv\", header=None).to_numpy() / 1000\n",
    "uvc = pd.read_csv(data_path+\"UVC/Coord1_UVC_4000.csv\", header=None).to_numpy()\n",
    "bounds = get_heart_bounds(labels) # getting bounds \n",
    "tidx = np.random.randint(0, labels.shape[0])    # Pick out a sample to use as a target\n",
    "target, target_ecg,target_uvc = labels[tidx], ecgs[tidx], uvc[tidx]\n",
    "print(\"Target: \", target)\n",
    "init = 5 #initial random sample\n",
    "steps = 5 # total AL step\n",
    "af = \"ucb\" \n"
   ]
  },
  {
   "cell_type": "code",
   "execution_count": 3,
   "metadata": {},
   "outputs": [
    {
     "name": "stdout",
     "output_type": "stream",
     "text": [
      "|   iter    |  target   |     x     |     y     |     z     |\n",
      "-------------------------------------------------------------\n",
      "1\n",
      "| \u001b[0m 1       \u001b[0m | \u001b[0m 0.8346  \u001b[0m | \u001b[0m-2.307   \u001b[0m | \u001b[0m-97.61   \u001b[0m | \u001b[0m 20.22   \u001b[0m |\n",
      "1\n",
      "| \u001b[0m 2       \u001b[0m | \u001b[0m 0.1855  \u001b[0m | \u001b[0m-17.83   \u001b[0m | \u001b[0m-65.74   \u001b[0m | \u001b[0m-1.28    \u001b[0m |\n",
      "1\n",
      "| \u001b[0m 3       \u001b[0m | \u001b[0m 0.05964 \u001b[0m | \u001b[0m 13.6    \u001b[0m | \u001b[0m-96.98   \u001b[0m | \u001b[0m-40.28   \u001b[0m |\n",
      "1\n",
      "| \u001b[95m 4       \u001b[0m | \u001b[95m 0.9628  \u001b[0m | \u001b[95m-33.34   \u001b[0m | \u001b[95m-80.09   \u001b[0m | \u001b[95m 34.99   \u001b[0m |\n",
      "1\n",
      "| \u001b[0m 5       \u001b[0m | \u001b[0m 0.9623  \u001b[0m | \u001b[0m-33.03   \u001b[0m | \u001b[0m-95.52   \u001b[0m | \u001b[0m 28.76   \u001b[0m |\n",
      "1\n",
      "| \u001b[0m 6       \u001b[0m | \u001b[0m 0.9318  \u001b[0m | \u001b[0m-31.91   \u001b[0m | \u001b[0m-96.07   \u001b[0m | \u001b[0m 26.58   \u001b[0m |\n",
      "1\n",
      "| \u001b[95m 7       \u001b[0m | \u001b[95m 0.9709  \u001b[0m | \u001b[95m-24.3    \u001b[0m | \u001b[95m-90.2    \u001b[0m | \u001b[95m 43.68   \u001b[0m |\n",
      "1\n",
      "| \u001b[0m 8       \u001b[0m | \u001b[0m 0.9396  \u001b[0m | \u001b[0m-39.11   \u001b[0m | \u001b[0m-90.92   \u001b[0m | \u001b[0m 29.75   \u001b[0m |\n",
      "1\n",
      "| \u001b[0m 9       \u001b[0m | \u001b[0m 0.9596  \u001b[0m | \u001b[0m-33.06   \u001b[0m | \u001b[0m-96.8    \u001b[0m | \u001b[0m 28.01   \u001b[0m |\n",
      "1\n",
      "| \u001b[0m 10      \u001b[0m | \u001b[0m 0.9352  \u001b[0m | \u001b[0m-38.54   \u001b[0m | \u001b[0m-90.85   \u001b[0m | \u001b[0m 28.94   \u001b[0m |\n"
     ]
    }
   ],
   "source": [
    "# labels = uvc[:,0:3]\n",
    "# bounds = get_heart_bounds(labels) # getting bounds \n",
    "# print(\"Target: \", target_uvc)\n",
    "\n",
    "optimizer = BayesianOptimization(f=black_box_12_lead,pbounds=bounds,random_state=None, real_set=labels)\n",
    "gp,X = optimizer.gpfit(init_points=init, n_iter=steps,  acq=af, kappa = 1,kappa_decay=0.75,kappa_decay_delay=2)\n",
    "#     heart(target,labels)\n",
    "\n"
   ]
  },
  {
   "cell_type": "code",
   "execution_count": null,
   "metadata": {},
   "outputs": [],
   "source": []
  },
  {
   "cell_type": "code",
   "execution_count": null,
   "metadata": {},
   "outputs": [],
   "source": []
  },
  {
   "cell_type": "code",
   "execution_count": null,
   "metadata": {},
   "outputs": [],
   "source": []
  },
  {
   "cell_type": "code",
   "execution_count": 4,
   "metadata": {},
   "outputs": [
    {
     "data": {
      "text/plain": [
       "(4000, 7212)"
      ]
     },
     "execution_count": 4,
     "metadata": {},
     "output_type": "execute_result"
    }
   ],
   "source": [
    "ecgs.shape"
   ]
  },
  {
   "cell_type": "code",
   "execution_count": null,
   "metadata": {},
   "outputs": [],
   "source": []
  }
 ],
 "metadata": {
  "kernelspec": {
   "display_name": "Python [conda env:gp_tutorial]",
   "language": "python",
   "name": "conda-env-gp_tutorial-py"
  },
  "language_info": {
   "codemirror_mode": {
    "name": "ipython",
    "version": 3
   },
   "file_extension": ".py",
   "mimetype": "text/x-python",
   "name": "python",
   "nbconvert_exporter": "python",
   "pygments_lexer": "ipython3",
   "version": "3.7.7"
  }
 },
 "nbformat": 4,
 "nbformat_minor": 2
}
