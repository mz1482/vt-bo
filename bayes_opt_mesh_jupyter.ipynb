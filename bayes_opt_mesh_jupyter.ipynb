{
 "cells": [
  {
   "cell_type": "code",
   "execution_count": 1,
   "metadata": {},
   "outputs": [],
   "source": [
    "import pandas as pd\n",
    "import numpy as np\n",
    "from data_analysis import get_heart_bounds, correlation_coef, graph_3d\n",
    "from graph import narrow,corrplot3axes,trend,nearest,plot_exploration, graph_dist_over_axis, graph_cc_distribution\n",
    "from BayesOptLib.bayes_opt.bayesian_optimization import BayesianOptimization\n",
    "from RandomSampler import RandomSampler\n",
    "import matplotlib\n",
    "from matplotlib import pyplot as plt\n",
    "from mpl_toolkits.mplot3d import Axes3D\n",
    "from sklearn.metrics.pairwise import euclidean_distances\n",
    "matplotlib.use('Qt5Agg')  # or can use 'TkAgg', whatever you have/prefer\n",
    "from prettytable import PrettyTable\n",
    "%matplotlib qt \n",
    "\n",
    "\n",
    "def get_index(label):\n",
    "    \"\"\"\n",
    "    Gets the idx of a label in the labels array\n",
    "    :param label: label to check for\n",
    "    :return: idx\n",
    "    \"\"\"\n",
    "    idx = 0\n",
    "    for coord in labels:\n",
    "        if np.array_equal(label, coord):\n",
    "            break\n",
    "        idx += 1\n",
    "    return idx\n",
    "\n",
    "\n",
    "def black_box(x, y, z):\n",
    "    \"\"\"\n",
    "    Represents a black box function to maximize for CC of two ECGs given an XYZ coordinate\n",
    "    :param x:\n",
    "    :param y: coordinates of the prediction\n",
    "    :param z:\n",
    "    :return: CC of that point and the target\n",
    "    \"\"\"\n",
    "    sample_ecg = ecgs[get_index(np.array([x, y, z]))]\n",
    "    return correlation_coef(target_ecg, sample_ecg)\n",
    "\n",
    "\n",
    "def plot_exploration(visited, color_gradient):\n",
    "    \"\"\"\n",
    "    Handles plotting the predictions of the network over time\n",
    "    :param visited:\n",
    "    :return:\n",
    "    \"\"\"\n",
    "    path = np.array(visited)\n",
    "    color_gradient = np.array(color_gradient)\n",
    "\n",
    "\n",
    "    # Plot final for viewing\n",
    "    rest = np.delete(labels, np.where(np.isin(labels, path)), axis=0)\n",
    "    color_gradient = np.delete(color_gradient, np.where(np.isin(labels, path)), axis=0)\n",
    "#     fig = plt.figure(0)\n",
    "    fig = plt.figure(figsize=(8,8)); ax = Axes3D(fig)\n",
    "    ax = fig.gca(projection='3d')\n",
    "\n",
    "    ax.scatter(xs=rest[:, 0], ys=rest[:, 1], zs=rest[:, 2], zdir='z', alpha=0.75, c=color_gradient, cmap = plt.cm.Reds)\n",
    "    ax.scatter(xs=path[:, 0], ys=path[:, 1], zs=path[:, 2], zdir='z', color='blue')\n",
    "    ax.plot(path[:, 0], path[:, 1], path[:, 2], color = 'blue')\n",
    "\n",
    "    m = path\n",
    "    for i in range(len(m)):\n",
    "        ax.text(m[i, 0], m[i, 1], m[i, 2], '%s' % (str(i)), size=10, zorder=1, color='k')\n",
    "    ax.scatter(xs=target[0], ys=target[1], zs=target[2], color='black', s = 100)\n",
    "    plt.show()\n",
    "\n"
   ]
  },
  {
   "cell_type": "code",
   "execution_count": 2,
   "metadata": {},
   "outputs": [
    {
     "name": "stdout",
     "output_type": "stream",
     "text": [
      "(2000, 7212)\n"
     ]
    }
   ],
   "source": [
    "# if __name__ == '__main__':\n",
    "    # Read in ECGs and Coordinates\n",
    "ecgs = pd.read_csv(\"simu-data/Heart3_SimuData.csv\", header=None).to_numpy()\n",
    "labels = pd.read_csv(\"simu-data/Heart3_XYZsub.csv\", header=None).to_numpy() / 1000\n",
    "print(ecgs.shape)\n",
    "# Get bounds of the heart mesh\n",
    "bounds = get_heart_bounds(labels)"
   ]
  },
  {
   "cell_type": "code",
   "execution_count": 3,
   "metadata": {},
   "outputs": [],
   "source": [
    "def optimize_point(labels):\n",
    "    # Build the optimizer with the heart bounds\n",
    "    optimizer = BayesianOptimization(\n",
    "        f=black_box,\n",
    "        pbounds=bounds,\n",
    "        random_state=None, real_set=labels\n",
    "    )\n",
    "\n",
    "    # Maximize over x number of points\n",
    "    optimizer.maximize(init_points=10, n_iter=35,  acq=\"ucb\", kappa = 2)\n",
    "    return optimizer\n"
   ]
  },
  {
   "cell_type": "code",
   "execution_count": 4,
   "metadata": {},
   "outputs": [
    {
     "name": "stdout",
     "output_type": "stream",
     "text": [
      "Target:  [ 76.21322656 -82.82639844 -78.1805625 ]\n"
     ]
    }
   ],
   "source": [
    "# Pick out a sample to use as a target\n",
    "tidx = np.random.randint(0, labels.shape[0])\n",
    "#tidx = 1\n",
    "target, target_ecg = labels[tidx], ecgs[tidx]\n",
    "print(\"Target: \", target)"
   ]
  },
  {
   "cell_type": "code",
   "execution_count": 5,
   "metadata": {},
   "outputs": [],
   "source": [
    "optimizer = BayesianOptimization(\n",
    "    f=black_box,\n",
    "    pbounds=bounds,\n",
    "    random_state=None, real_set=labels\n",
    ")"
   ]
  },
  {
   "cell_type": "code",
   "execution_count": 6,
   "metadata": {},
   "outputs": [
    {
     "name": "stdout",
     "output_type": "stream",
     "text": [
      "|   iter    |  target   |     x     |     y     |     z     |\n",
      "-------------------------------------------------------------\n",
      "| \u001b[0m 1       \u001b[0m | \u001b[0m 0.2707  \u001b[0m | \u001b[0m 74.69   \u001b[0m | \u001b[0m-21.06   \u001b[0m | \u001b[0m-43.71   \u001b[0m |\n",
      "| \u001b[0m 2       \u001b[0m | \u001b[0m 0.2452  \u001b[0m | \u001b[0m 19.25   \u001b[0m | \u001b[0m-55.42   \u001b[0m | \u001b[0m-70.44   \u001b[0m |\n",
      "| \u001b[0m 3       \u001b[0m | \u001b[0m 0.172   \u001b[0m | \u001b[0m-33.23   \u001b[0m | \u001b[0m-93.31   \u001b[0m | \u001b[0m-39.05   \u001b[0m |\n",
      "| \u001b[0m 4       \u001b[0m | \u001b[0m 0.2599  \u001b[0m | \u001b[0m 62.4    \u001b[0m | \u001b[0m-87.9    \u001b[0m | \u001b[0m-18.48   \u001b[0m |\n",
      "| \u001b[0m 5       \u001b[0m | \u001b[0m 0.1031  \u001b[0m | \u001b[0m-0.03862 \u001b[0m | \u001b[0m-57.69   \u001b[0m | \u001b[0m-16.57   \u001b[0m |\n",
      "| \u001b[95m 6       \u001b[0m | \u001b[95m 0.3145  \u001b[0m | \u001b[95m 71.55   \u001b[0m | \u001b[95m-22.09   \u001b[0m | \u001b[95m-42.69   \u001b[0m |\n",
      "| \u001b[0m 7       \u001b[0m | \u001b[0m 0.2564  \u001b[0m | \u001b[0m 59.67   \u001b[0m | \u001b[0m-87.06   \u001b[0m | \u001b[0m-17.51   \u001b[0m |\n",
      "| \u001b[95m 8       \u001b[0m | \u001b[95m 0.3848  \u001b[0m | \u001b[95m 70.41   \u001b[0m | \u001b[95m-26.14   \u001b[0m | \u001b[95m-43.63   \u001b[0m |\n",
      "| \u001b[95m 9       \u001b[0m | \u001b[95m 0.4081  \u001b[0m | \u001b[95m 69.55   \u001b[0m | \u001b[95m-27.52   \u001b[0m | \u001b[95m-43.3    \u001b[0m |\n",
      "| \u001b[95m 10      \u001b[0m | \u001b[95m 0.4371  \u001b[0m | \u001b[95m 63.98   \u001b[0m | \u001b[95m-30.73   \u001b[0m | \u001b[95m-42.04   \u001b[0m |\n",
      "=============================================================\n"
     ]
    }
   ],
   "source": [
    "gp,x = optimizer.gpfit(init_points=5,n_iter=5,acq='ucb',kappa=2.576)"
   ]
  },
  {
   "cell_type": "code",
   "execution_count": 44,
   "metadata": {},
   "outputs": [
    {
     "data": {
      "text/plain": [
       "(10, 1)"
      ]
     },
     "execution_count": 44,
     "metadata": {},
     "output_type": "execute_result"
    }
   ],
   "source": [
    "x_train = np.asarray(optimizer.visited)\n",
    "y_train=optimizer._space.target.reshape(-1,1)\n",
    "gp.fit(x_train,y_train)\n",
    "y_train.shape\n"
   ]
  },
  {
   "cell_type": "code",
   "execution_count": null,
   "metadata": {},
   "outputs": [],
   "source": [
    "np.asarray(optimizer.visited).shape"
   ]
  },
  {
   "cell_type": "code",
   "execution_count": 45,
   "metadata": {},
   "outputs": [
    {
     "data": {
      "image/png": "[encoded data removed]",
      "text/plain": [
       "<Figure size 432x288 with 1 Axes>"
      ]
     },
     "metadata": {
      "needs_background": "light"
     },
     "output_type": "display_data"
    }
   ],
   "source": [
    "from matplotlib import cm\n",
    "fig = plt.figure()\n",
    "# ax = fig.gca(projection='3d')\n",
    "X = np.arange(-34, 94, 0.05)\n",
    "Y = np.arange(-34, 94, 0.05)\n",
    "Z = np.arange(-34, 94, 0.05)\n",
    "R = np.array([X,Y,Z]).T\n",
    "\n",
    "G = gp.predict(R,return_std=False)#.reshape(len(X),1)\n",
    "# X, Y = np.meshgrid(X, Y)\n",
    "# surf = ax.plot_surface(X, Y, G, cmap=cm.jet,linewidth=0, antialiased=False)\n",
    "# fig.colorbar(surf, shrink=0.5, aspect=5)\n",
    "plt.scatter(Z,G)\n",
    "plt.show()\n"
   ]
  },
  {
   "cell_type": "code",
   "execution_count": 9,
   "metadata": {},
   "outputs": [
    {
     "name": "stdout",
     "output_type": "stream",
     "text": [
      "Target:  [ 66.99728125 -58.15654297 -76.79723438]\n"
     ]
    }
   ],
   "source": [
    "# Pick out a sample to use as a target\n",
    "tidx = np.random.randint(0, labels.shape[0])\n",
    "#tidx = 1\n",
    "target, target_ecg = labels[tidx], ecgs[tidx]\n",
    "print(\"Target: \", target)\n",
    "\n",
    "# Remove target from labels\n",
    "#labels = np.delete(labels, np.where(np.isin(labels, target)), axis=0)\n",
    "\n",
    "# Get plots of target CC distribution\n",
    "# graph_cc_distribution(target_ecg)\n",
    "# graph_dist_over_axis(target_ecg)\n",
    "\n",
    "# Optimize for target and plot path\n",
    "# optimizer = optimize_point(labels)"
   ]
  },
  {
   "cell_type": "code",
   "execution_count": 10,
   "metadata": {},
   "outputs": [],
   "source": [
    "# init =10\n",
    "# actual = np.asarray(optimizer.predicted)\n",
    "# approx = np.asarray(optimizer.visited)\n",
    "# approx = approx[len(approx)-len(actual):len(approx),:]\n"
   ]
  },
  {
   "cell_type": "code",
   "execution_count": 11,
   "metadata": {},
   "outputs": [],
   "source": [
    "# np.linalg.norm(target[1,:]-optimizer.visited[1,:])\n",
    "# optimizer.visited.shape"
   ]
  },
  {
   "cell_type": "code",
   "execution_count": 12,
   "metadata": {},
   "outputs": [
    {
     "data": {
      "text/plain": [
       "0.09855815"
      ]
     },
     "execution_count": 12,
     "metadata": {},
     "output_type": "execute_result"
    }
   ],
   "source": [
    "np.quantile(ecgs[1],0.5)"
   ]
  },
  {
   "cell_type": "code",
   "execution_count": 13,
   "metadata": {},
   "outputs": [
    {
     "data": {
      "image/png": "[encoded data removed]",
      "text/plain": [
       "<Figure size 432x288 with 1 Axes>"
      ]
     },
     "metadata": {
      "needs_background": "light"
     },
     "output_type": "display_data"
    }
   ],
   "source": [
    "plt.hist(ecgs[1])\n",
    "plt.show()"
   ]
  },
  {
   "cell_type": "code",
   "execution_count": 14,
   "metadata": {},
   "outputs": [],
   "source": [
    "def all_mean(ecgs):\n",
    "    mean_array = []\n",
    "    var_array = []\n",
    "    for i in range(len(ecgs)):\n",
    "        m = np.mean(ecgs[i])\n",
    "        v = np.var(ecgs[i])\n",
    "        mean_array = np.append(mean_array,m)\n",
    "        var_array = np.append(var_array,v)\n",
    "    return mean_array, var_array\n",
    "        \n",
    "        "
   ]
  },
  {
   "cell_type": "code",
   "execution_count": 15,
   "metadata": {},
   "outputs": [],
   "source": [
    "mean, var = all_mean(ecgs)"
   ]
  },
  {
   "cell_type": "code",
   "execution_count": 16,
   "metadata": {},
   "outputs": [
    {
     "data": {
      "image/png": "[encoded data removed]",
      "text/plain": [
       "<Figure size 432x288 with 1 Axes>"
      ]
     },
     "metadata": {
      "needs_background": "light"
     },
     "output_type": "display_data"
    }
   ],
   "source": [
    "plt.hist(var)\n",
    "plt.show()"
   ]
  },
  {
   "cell_type": "code",
   "execution_count": 17,
   "metadata": {},
   "outputs": [
    {
     "name": "stdout",
     "output_type": "stream",
     "text": [
      "+-------+--------+--------+----------+------+-------+------+\n",
      "|   x   |   y    |   z    | Distance | Corr |   Q1  |  Q3  |\n",
      "+-------+--------+--------+----------+------+-------+------+\n",
      "|  67.0 | -58.16 | -76.8  |   0.0    | 1.0  | -0.08 | 0.52 |\n",
      "| 67.04 | -59.29 | -76.21 |   1.28   | 0.98 | -0.07 | 0.54 |\n",
      "| 66.27 | -63.31 | -71.31 |   7.56   | 0.84 | -0.06 | 0.58 |\n",
      "| 69.27 | -59.78 | -78.8  |   3.44   | 0.99 | -0.08 | 0.52 |\n",
      "| 70.94 | -72.12 | -75.8  |  14.54   | 0.75 | -0.05 | 0.6  |\n",
      "| 62.46 | -46.24 | -74.97 |  12.88   | 0.82 | -0.11 | 0.44 |\n",
      "| 61.52 | -48.58 | -73.47 |  11.52   | 0.92 |  -0.1 | 0.47 |\n",
      "| 68.17 | -58.17 | -79.51 |   2.96   | 0.96 | -0.08 | 0.51 |\n",
      "|  67.0 | -58.16 | -76.8  |   0.0    | 1.0  | -0.08 | 0.52 |\n",
      "| 61.53 | -48.42 | -71.6  |  12.32   | 0.96 |  -0.1 | 0.52 |\n",
      "| 60.16 | -51.66 | -66.48 |  13.98   | 0.93 | -0.09 | 0.56 |\n",
      "| 62.37 | -48.57 | -74.52 |  10.89   | 0.89 |  -0.1 | 0.46 |\n",
      "| 69.07 | -56.95 | -80.33 |   4.27   | 0.91 | -0.09 | 0.5  |\n",
      "| 63.01 | -46.36 | -76.3  |  12.47   | 0.78 | -0.11 | 0.44 |\n",
      "| 61.37 | -49.95 | -69.6  |  12.28   | 0.94 | -0.09 | 0.56 |\n",
      "| 61.01 | -50.61 | -68.81 |  12.51   | 0.94 | -0.09 | 0.56 |\n",
      "| 67.14 | -62.76 | -72.2  |   6.51   | 0.85 | -0.07 | 0.59 |\n",
      "| 68.66 | -63.35 | -76.42 |   5.47   | 0.9  | -0.06 | 0.57 |\n",
      "| 70.52 | -71.93 | -74.81 |  14.36   | 0.76 | -0.05 | 0.6  |\n",
      "| 60.84 | -51.52 | -67.35 |  13.09   | 0.93 | -0.09 | 0.56 |\n",
      "|  61.8 | -51.01 | -71.46 |  10.32   | 0.97 | -0.09 | 0.54 |\n",
      "| 66.42 | -60.35 | -74.03 |   3.57   | 0.87 | -0.07 | 0.58 |\n",
      "| 74.53 | -69.05 | -83.06 |  14.65   | 0.94 | -0.08 | 0.59 |\n",
      "|  66.6 | -61.27 | -73.09 |   4.86   | 0.86 | -0.07 | 0.58 |\n",
      "+-------+--------+--------+----------+------+-------+------+\n"
     ]
    }
   ],
   "source": [
    "def nearest(tidx,labels,ecgs,dis_limit):\n",
    "    target_loc = labels[tidx]\n",
    "    target_ecg = ecgs[tidx]\n",
    "    cc = np.array([[1]])\n",
    "    dis = np.array([[0]])\n",
    "    mean_target = np.array([[0]])+np.quantile(target_ecg,0.25)\n",
    "    var_target = np.array([[0]])+np.quantile(target_ecg,0.75)\n",
    "    first_row=np.concatenate((target_loc.reshape(1,3), dis,cc,mean_target,var_target),axis =1)\n",
    "    nn_loc = np.empty((0, 3))\n",
    "    nn_cc = np.empty ((0,1))\n",
    "    nn_dis = np.empty((0,1))\n",
    "    nn_mean = np.empty((0,1))\n",
    "    nn_var = np.empty((0,1))\n",
    "    for i in range(len(labels)):\n",
    "        d = np.sqrt(np.sum((target_loc - labels[i])**2))\n",
    "        if d < dis_limit:\n",
    "            nn_loc = np.append(nn_loc,labels[i].reshape(1,3),axis=0)\n",
    "            nn_cc = np.append(nn_cc,np.corrcoef(target_ecg, ecgs[i])[0, 1])\n",
    "            nn_dis = np.append(nn_dis,d)\n",
    "            nn_mean = np.append(nn_mean,np.quantile(ecgs[i],0.25))\n",
    "            nn_var = np.append(nn_var,np.quantile(ecgs[i],0.75))\n",
    "    nn_dis = nn_dis.reshape(-1,1)\n",
    "    nn_cc = nn_cc.reshape(-1,1)\n",
    "    nn_mean = nn_mean.reshape(-1,1)\n",
    "    nn_var = nn_var.reshape(-1,1)\n",
    "    near_points = np.concatenate((nn_loc, nn_dis, nn_cc,nn_mean,nn_var),axis =1)\n",
    "    table = np.concatenate((first_row,near_points), axis = 0)\n",
    "    table = np.around(table,2)\n",
    "    return table\n",
    "table=nearest(tidx,labels,ecgs,15)\n",
    "# plt.scatter(table[:,3],table[:,4])\n",
    "# plt.xlabel(\"distance\")\n",
    "# plt.ylabel(\"correlation\")\n",
    "# plt.show\n",
    "x= PrettyTable()\n",
    "x.field_names = ['x', 'y','z','Distance','Corr','Q1','Q3']\n",
    "for row in table:\n",
    "    x.add_row(row)\n",
    "print(x)"
   ]
  },
  {
   "cell_type": "code",
   "execution_count": 18,
   "metadata": {},
   "outputs": [
    {
     "data": {
      "text/plain": [
       "array([[ 6.700e+01, -5.816e+01, -7.680e+01,  0.000e+00,  1.000e+00,\n",
       "        -8.000e-02,  5.200e-01],\n",
       "       [ 7.922e+01, -5.934e+01, -6.228e+01,  1.902e+01,  8.600e-01,\n",
       "        -1.000e-01,  6.000e-01],\n",
       "       [ 7.618e+01, -7.084e+01, -8.482e+01,  1.759e+01,  9.100e-01,\n",
       "        -8.000e-02,  6.200e-01],\n",
       "       [ 7.967e+01, -7.026e+01, -6.747e+01,  1.985e+01,  8.300e-01,\n",
       "        -8.000e-02,  6.100e-01],\n",
       "       [ 8.033e+01, -5.786e+01, -6.284e+01,  1.930e+01,  8.600e-01,\n",
       "        -1.000e-01,  6.000e-01],\n",
       "       [ 7.922e+01, -5.934e+01, -6.228e+01,  1.902e+01,  8.600e-01,\n",
       "        -1.000e-01,  6.000e-01],\n",
       "       [ 7.967e+01, -7.026e+01, -6.747e+01,  1.985e+01,  8.300e-01,\n",
       "        -8.000e-02,  6.100e-01],\n",
       "       [ 8.033e+01, -5.786e+01, -6.284e+01,  1.930e+01,  8.600e-01,\n",
       "        -1.000e-01,  6.000e-01],\n",
       "       [ 6.704e+01, -5.929e+01, -7.621e+01,  1.280e+00,  9.800e-01,\n",
       "        -7.000e-02,  5.400e-01],\n",
       "       [ 6.627e+01, -6.331e+01, -7.131e+01,  7.560e+00,  8.400e-01,\n",
       "        -6.000e-02,  5.800e-01],\n",
       "       [ 7.312e+01, -7.207e+01, -7.930e+01,  1.540e+01,  8.000e-01,\n",
       "        -5.000e-02,  6.000e-01],\n",
       "       [ 6.927e+01, -5.978e+01, -7.880e+01,  3.440e+00,  9.900e-01,\n",
       "        -8.000e-02,  5.200e-01],\n",
       "       [ 7.094e+01, -7.212e+01, -7.580e+01,  1.454e+01,  7.500e-01,\n",
       "        -5.000e-02,  6.000e-01],\n",
       "       [ 6.246e+01, -4.624e+01, -7.497e+01,  1.288e+01,  8.200e-01,\n",
       "        -1.100e-01,  4.400e-01],\n",
       "       [ 5.415e+01, -7.282e+01, -7.535e+01,  1.955e+01,  6.900e-01,\n",
       "        -4.000e-02,  5.400e-01],\n",
       "       [ 6.152e+01, -4.858e+01, -7.347e+01,  1.152e+01,  9.200e-01,\n",
       "        -1.000e-01,  4.700e-01],\n",
       "       [ 7.252e+01, -7.331e+01, -7.758e+01,  1.615e+01,  7.300e-01,\n",
       "        -5.000e-02,  6.100e-01],\n",
       "       [ 7.298e+01, -7.207e+01, -7.827e+01,  1.522e+01,  7.500e-01,\n",
       "        -5.000e-02,  6.100e-01],\n",
       "       [ 6.817e+01, -5.817e+01, -7.951e+01,  2.960e+00,  9.600e-01,\n",
       "        -8.000e-02,  5.100e-01],\n",
       "       [ 6.700e+01, -5.816e+01, -7.680e+01,  0.000e+00,  1.000e+00,\n",
       "        -8.000e-02,  5.200e-01],\n",
       "       [ 6.153e+01, -4.842e+01, -7.160e+01,  1.232e+01,  9.600e-01,\n",
       "        -1.000e-01,  5.200e-01],\n",
       "       [ 6.016e+01, -5.166e+01, -6.648e+01,  1.398e+01,  9.300e-01,\n",
       "        -9.000e-02,  5.600e-01],\n",
       "       [ 6.237e+01, -4.857e+01, -7.452e+01,  1.089e+01,  8.900e-01,\n",
       "        -1.000e-01,  4.600e-01],\n",
       "       [ 5.467e+01, -7.343e+01, -7.451e+01,  1.976e+01,  6.800e-01,\n",
       "        -4.000e-02,  5.500e-01],\n",
       "       [ 7.804e+01, -6.009e+01, -6.109e+01,  1.930e+01,  8.500e-01,\n",
       "        -1.000e-01,  6.000e-01],\n",
       "       [ 6.907e+01, -5.695e+01, -8.033e+01,  4.270e+00,  9.100e-01,\n",
       "        -9.000e-02,  5.000e-01],\n",
       "       [ 6.301e+01, -4.636e+01, -7.630e+01,  1.247e+01,  7.800e-01,\n",
       "        -1.100e-01,  4.400e-01],\n",
       "       [ 7.804e+01, -6.009e+01, -6.109e+01,  1.930e+01,  8.500e-01,\n",
       "        -1.000e-01,  6.000e-01],\n",
       "       [ 6.137e+01, -4.995e+01, -6.960e+01,  1.228e+01,  9.400e-01,\n",
       "        -9.000e-02,  5.600e-01],\n",
       "       [ 6.101e+01, -5.061e+01, -6.881e+01,  1.251e+01,  9.400e-01,\n",
       "        -9.000e-02,  5.600e-01],\n",
       "       [ 6.714e+01, -6.276e+01, -7.220e+01,  6.510e+00,  8.500e-01,\n",
       "        -7.000e-02,  5.900e-01],\n",
       "       [ 6.866e+01, -6.335e+01, -7.642e+01,  5.470e+00,  9.000e-01,\n",
       "        -6.000e-02,  5.700e-01],\n",
       "       [ 7.458e+01, -7.088e+01, -8.247e+01,  1.586e+01,  9.200e-01,\n",
       "        -7.000e-02,  6.000e-01],\n",
       "       [ 7.052e+01, -7.193e+01, -7.481e+01,  1.436e+01,  7.600e-01,\n",
       "        -5.000e-02,  6.000e-01],\n",
       "       [ 7.424e+01, -7.348e+01, -8.110e+01,  1.749e+01,  8.400e-01,\n",
       "        -6.000e-02,  6.100e-01],\n",
       "       [ 6.084e+01, -5.152e+01, -6.735e+01,  1.309e+01,  9.300e-01,\n",
       "        -9.000e-02,  5.600e-01],\n",
       "       [ 6.180e+01, -5.101e+01, -7.146e+01,  1.032e+01,  9.700e-01,\n",
       "        -9.000e-02,  5.400e-01],\n",
       "       [ 5.638e+01, -7.406e+01, -7.371e+01,  1.937e+01,  6.700e-01,\n",
       "        -4.000e-02,  5.600e-01],\n",
       "       [ 7.434e+01, -7.160e+01, -8.129e+01,  1.596e+01,  8.900e-01,\n",
       "        -6.000e-02,  5.900e-01],\n",
       "       [ 6.642e+01, -6.035e+01, -7.403e+01,  3.570e+00,  8.700e-01,\n",
       "        -7.000e-02,  5.800e-01],\n",
       "       [ 7.453e+01, -6.905e+01, -8.306e+01,  1.465e+01,  9.400e-01,\n",
       "        -8.000e-02,  5.900e-01],\n",
       "       [ 6.660e+01, -6.127e+01, -7.309e+01,  4.860e+00,  8.600e-01,\n",
       "        -7.000e-02,  5.800e-01]])"
      ]
     },
     "execution_count": 18,
     "metadata": {},
     "output_type": "execute_result"
    }
   ],
   "source": [
    "nearest(tidx,labels,ecgs,20)"
   ]
  },
  {
   "cell_type": "code",
   "execution_count": 19,
   "metadata": {},
   "outputs": [],
   "source": [
    "def nearest(tidx,labels,ecgs,dis_limit):\n",
    "    target_loc = labels[tidx]\n",
    "    target_ecg = ecgs[tidx]\n",
    "    cc = np.array([[1]])\n",
    "    dis = np.array([[0]])\n",
    "    first_row=np.concatenate((target_loc.reshape(1,3), dis,cc),axis =1)\n",
    "    nn_loc = np.empty((0, 3))\n",
    "    nn_cc = np.empty ((0,1))\n",
    "    nn_dis = np.empty((0,1))\n",
    "    for i in range(len(labels)):\n",
    "        d = np.sqrt(np.sum((target_loc - labels[i])**2))\n",
    "        if d < dis_limit:\n",
    "            nn_loc = np.append(nn_loc,labels[i].reshape(1,3),axis=0)\n",
    "            nn_cc = np.append(nn_cc,np.corrcoef(target_ecg, ecgs[i])[0, 1])\n",
    "            nn_dis = np.append(nn_dis,d)\n",
    "    nn_dis = nn_dis.reshape(-1,1)\n",
    "    nn_cc = nn_cc.reshape(-1,1)\n",
    "    near_points = np.concatenate((nn_loc, nn_dis, nn_cc),axis =1)\n",
    "    table = np.concatenate((first_row,near_points), axis = 0)\n",
    "    table = np.around(table,2)\n",
    "    plt.figure(2)\n",
    "    plt.scatter(table[:,3],table[:,4])\n",
    "    plt.xlabel(\"distance\")\n",
    "    plt.ylabel(\"correlation\")\n",
    "    plt.show\n",
    "    return table"
   ]
  },
  {
   "cell_type": "code",
   "execution_count": 20,
   "metadata": {},
   "outputs": [
    {
     "data": {
      "text/plain": [
       "0.09855815"
      ]
     },
     "execution_count": 20,
     "metadata": {},
     "output_type": "execute_result"
    }
   ],
   "source": [
    "np.quantile(ecgs[1],0.5)"
   ]
  },
  {
   "cell_type": "code",
   "execution_count": 21,
   "metadata": {},
   "outputs": [
    {
     "data": {
      "image/png": "[encoded data removed]",
      "text/plain": [
       "<Figure size 432x288 with 3 Axes>"
      ]
     },
     "metadata": {
      "needs_background": "light"
     },
     "output_type": "display_data"
    }
   ],
   "source": [
    "x,y,z,nn_cc = corrplot3axes(tidx,labels,ecgs,15)"
   ]
  },
  {
   "cell_type": "code",
   "execution_count": 22,
   "metadata": {},
   "outputs": [],
   "source": [
    "def plot_exploration(visited, color_gradient):\n",
    "    \"\"\"\n",
    "    Handles plotting the predictions of the network over time\n",
    "    :param visited:\n",
    "    :return:\n",
    "    \"\"\"\n",
    "    path = np.array(visited)\n",
    "    color_gradient = np.array(color_gradient)\n",
    "\n",
    "    # Plot final for viewing\n",
    "    rest = np.delete(labels, np.where(np.isin(labels, path)), axis=0)\n",
    "    color_gradient = np.delete(color_gradient, np.where(np.isin(labels, path)), axis=0)\n",
    "    fig = plt.figure(0)\n",
    "    ax = fig.gca(projection='3d')\n",
    "\n",
    "    ax.scatter(xs=rest[:, 0], ys=rest[:, 1], zs=rest[:, 2], zdir='z', alpha=0.75, c=color_gradient, cmap = plt.cm.Reds)\n",
    "    ax.scatter(xs=path[:, 0], ys=path[:, 1], zs=path[:, 2], zdir='z', color='blue')\n",
    "    ax.plot(path[:, 0], path[:, 1], path[:, 2], color = 'blue')\n",
    "\n",
    "    m = path\n",
    "    for i in range(len(m)):\n",
    "        ax.text(m[i, 0], m[i, 1], m[i, 2], '%s' % (str(i)), size=10, zorder=1, color='k')\n",
    "    ax.scatter(xs=target[0], ys=target[1], zs=target[2], color='black', s = 100)\n",
    "    plt.show()\n"
   ]
  },
  {
   "cell_type": "code",
   "execution_count": 23,
   "metadata": {},
   "outputs": [
    {
     "data": {
      "image/png": "[encoded data removed]",
      "text/plain": [
       "<Figure size 432x288 with 1 Axes>"
      ]
     },
     "metadata": {
      "needs_background": "light"
     },
     "output_type": "display_data"
    }
   ],
   "source": [
    "color_gradient = []\n",
    "    # Loop through all points to get CC with that point\n",
    "for ecg, coord in zip(ecgs, labels):\n",
    "    if np.array_equal(target_ecg, ecg):\n",
    "        true = coord\n",
    "        color_gradient.append(1)\n",
    "        continue\n",
    "\n",
    "    cc = correlation_coef(target_ecg, ecg)\n",
    "    color_gradient.append(cc)\n",
    "# %matplotlib notebook\n",
    "plot_exploration(optimizer.visited, color_gradient)"
   ]
  },
  {
   "cell_type": "code",
   "execution_count": 24,
   "metadata": {},
   "outputs": [],
   "source": [
    "def cube(target,ecgs,labels):\n",
    "    c = corners(labels)\n",
    "    true = None\n",
    "    color_gradient = []\n",
    "    for ecg, coord in zip(ecgs, labels):\n",
    "        if np.array_equal(target, ecg):\n",
    "            true = coord\n",
    "            color_gradient.append(1)\n",
    "            continue\n",
    "        cc = correlation_coef(target, ecg)\n",
    "        color_gradient.append(cc)\n",
    "    fig = plt.figure(20)\n",
    "    ax = fig.gca(projection='3d')\n",
    "    ax.scatter(xs=labels[:, 0], ys=labels[:, 1], zs=labels[:, 2], c=color_gradient, cmap = plt.cm.rainbow)\n",
    "    ax.scatter(true[0], true[1], true[2], color='black', marker = \"X\", s = 100)\n",
    "    ax.scatter(c[:,0], c[:,1], c[:,2], color='red', marker = \"*\", s = 150)\n",
    "    ax.set_xlabel(\"X\"), ax.set_ylabel(\"Y\"), ax.set_zlabel(\"Z\")\n",
    "    plt.show()"
   ]
  },
  {
   "cell_type": "code",
   "execution_count": 25,
   "metadata": {},
   "outputs": [
    {
     "ename": "NameError",
     "evalue": "name 'corners' is not defined",
     "output_type": "error",
     "traceback": [
      "\u001b[0;31m---------------------------------------------------------------------------\u001b[0m",
      "\u001b[0;31mNameError\u001b[0m                                 Traceback (most recent call last)",
      "\u001b[0;32m<ipython-input-25-c6d580380cc5>\u001b[0m in \u001b[0;36m<module>\u001b[0;34m\u001b[0m\n\u001b[1;32m      1\u001b[0m \u001b[0;31m# %matplotlib qt\u001b[0m\u001b[0;34m\u001b[0m\u001b[0;34m\u001b[0m\u001b[0;34m\u001b[0m\u001b[0m\n\u001b[0;32m----> 2\u001b[0;31m \u001b[0mcube\u001b[0m\u001b[0;34m(\u001b[0m\u001b[0mtarget_ecg\u001b[0m\u001b[0;34m,\u001b[0m\u001b[0mecgs\u001b[0m\u001b[0;34m,\u001b[0m\u001b[0mlabels\u001b[0m\u001b[0;34m)\u001b[0m\u001b[0;34m\u001b[0m\u001b[0;34m\u001b[0m\u001b[0m\n\u001b[0m",
      "\u001b[0;32m<ipython-input-24-53726415782a>\u001b[0m in \u001b[0;36mcube\u001b[0;34m(target, ecgs, labels)\u001b[0m\n\u001b[1;32m      1\u001b[0m \u001b[0;32mdef\u001b[0m \u001b[0mcube\u001b[0m\u001b[0;34m(\u001b[0m\u001b[0mtarget\u001b[0m\u001b[0;34m,\u001b[0m\u001b[0mecgs\u001b[0m\u001b[0;34m,\u001b[0m\u001b[0mlabels\u001b[0m\u001b[0;34m)\u001b[0m\u001b[0;34m:\u001b[0m\u001b[0;34m\u001b[0m\u001b[0;34m\u001b[0m\u001b[0m\n\u001b[0;32m----> 2\u001b[0;31m     \u001b[0mc\u001b[0m \u001b[0;34m=\u001b[0m \u001b[0mcorners\u001b[0m\u001b[0;34m(\u001b[0m\u001b[0mlabels\u001b[0m\u001b[0;34m)\u001b[0m\u001b[0;34m\u001b[0m\u001b[0;34m\u001b[0m\u001b[0m\n\u001b[0m\u001b[1;32m      3\u001b[0m     \u001b[0mtrue\u001b[0m \u001b[0;34m=\u001b[0m \u001b[0;32mNone\u001b[0m\u001b[0;34m\u001b[0m\u001b[0;34m\u001b[0m\u001b[0m\n\u001b[1;32m      4\u001b[0m     \u001b[0mcolor_gradient\u001b[0m \u001b[0;34m=\u001b[0m \u001b[0;34m[\u001b[0m\u001b[0;34m]\u001b[0m\u001b[0;34m\u001b[0m\u001b[0;34m\u001b[0m\u001b[0m\n\u001b[1;32m      5\u001b[0m     \u001b[0;32mfor\u001b[0m \u001b[0mecg\u001b[0m\u001b[0;34m,\u001b[0m \u001b[0mcoord\u001b[0m \u001b[0;32min\u001b[0m \u001b[0mzip\u001b[0m\u001b[0;34m(\u001b[0m\u001b[0mecgs\u001b[0m\u001b[0;34m,\u001b[0m \u001b[0mlabels\u001b[0m\u001b[0;34m)\u001b[0m\u001b[0;34m:\u001b[0m\u001b[0;34m\u001b[0m\u001b[0;34m\u001b[0m\u001b[0m\n",
      "\u001b[0;31mNameError\u001b[0m: name 'corners' is not defined"
     ]
    }
   ],
   "source": [
    "# %matplotlib qt \n",
    "cube(target_ecg,ecgs,labels)"
   ]
  },
  {
   "cell_type": "code",
   "execution_count": null,
   "metadata": {},
   "outputs": [],
   "source": [
    "ecgs[1].shape"
   ]
  },
  {
   "cell_type": "code",
   "execution_count": null,
   "metadata": {},
   "outputs": [],
   "source": [
    "from scipy.stats import wasserstein_distance\n",
    "ww = np.empty((2000, 2000))\n",
    "for i in range(len(ecgs)):\n",
    "    for j in range(len(ecgs)):\n",
    "        d = wasserstein_distance(ecgs[i],ecgs[j])\n",
    "        ww[i,j] = d\n"
   ]
  },
  {
   "cell_type": "code",
   "execution_count": null,
   "metadata": {},
   "outputs": [],
   "source": [
    "ww.shape"
   ]
  },
  {
   "cell_type": "code",
   "execution_count": null,
   "metadata": {},
   "outputs": [],
   "source": [
    "def euclidean_distance(one, two):\n",
    "    return np.sqrt(np.sum((one - two)**2))"
   ]
  },
  {
   "cell_type": "code",
   "execution_count": null,
   "metadata": {},
   "outputs": [],
   "source": [
    "def corners(labels):\n",
    "    minx,maxx = np.amin(labels[:,0]),np.amax(labels[:,0])\n",
    "    miny,maxy = np.amin(labels[:,1]),np.amax(labels[:,1])\n",
    "    minz,maxz = np.amin(labels[:,2]),np.amax(labels[:,2])\n",
    "    c1 = np.array([minx,miny,minz])\n",
    "    c2 = np.array([maxx,miny,minz])\n",
    "    c3 = np.array([maxx,maxy,minz])\n",
    "    c4 = np.array([minx,maxy,minz])\n",
    "    c5 = np.array([minx,miny,maxz])\n",
    "    c6 = np.array([maxx,miny,maxz])\n",
    "    c7 = np.array([maxx,maxy,maxz])\n",
    "    c8 = np.array([minx,maxy,maxz])\n",
    "    c = np.asarray([c1,c2,c3,c4,c5,c6,c7,c8])   \n",
    "    c9 = np.asarray([np.mean(c[:,0]),np.mean(c[:,1]),np.mean(c[:,2])]).reshape(1,3)\n",
    "    c = np.concatenate((c, c9),axis =0)\n",
    "    for i in range(len(c)):\n",
    "        c[i] = approx(c[i],labels)\n",
    "    return c"
   ]
  },
  {
   "cell_type": "code",
   "execution_count": null,
   "metadata": {},
   "outputs": [],
   "source": []
  },
  {
   "cell_type": "code",
   "execution_count": null,
   "metadata": {},
   "outputs": [],
   "source": [
    "def approx(c1,labels):\n",
    "    dist = []\n",
    "    for i in range(len(labels)):\n",
    "        d = euclidean_distance(c1, labels[i])\n",
    "        dist = np.append(dist,d)\n",
    "    for j in range(len(dist)):\n",
    "        if dist[j]==np.amin(dist):\n",
    "            break\n",
    "    return labels[j]\n",
    "        \n",
    "        "
   ]
  },
  {
   "cell_type": "code",
   "execution_count": null,
   "metadata": {},
   "outputs": [],
   "source": [
    "c1 = np.array([minx,miny,minz])\n",
    "c1=approx(c1,labels)\n",
    "c1"
   ]
  },
  {
   "cell_type": "code",
   "execution_count": null,
   "metadata": {},
   "outputs": [],
   "source": [
    "c=corners(labels)"
   ]
  },
  {
   "cell_type": "code",
   "execution_count": null,
   "metadata": {},
   "outputs": [],
   "source": []
  },
  {
   "cell_type": "code",
   "execution_count": null,
   "metadata": {},
   "outputs": [],
   "source": []
  },
  {
   "cell_type": "code",
   "execution_count": null,
   "metadata": {},
   "outputs": [],
   "source": [
    "c.shape"
   ]
  },
  {
   "cell_type": "code",
   "execution_count": null,
   "metadata": {},
   "outputs": [],
   "source": []
  }
 ],
 "metadata": {
  "kernelspec": {
   "display_name": "Python [conda env:tf_gpu] *",
   "language": "python",
   "name": "conda-env-tf_gpu-py"
  },
  "language_info": {
   "codemirror_mode": {
    "name": "ipython",
    "version": 3
   },
   "file_extension": ".py",
   "mimetype": "text/x-python",
   "name": "python",
   "nbconvert_exporter": "python",
   "pygments_lexer": "ipython3",
   "version": "3.7.5"
  }
 },
 "nbformat": 4,
 "nbformat_minor": 2
}
