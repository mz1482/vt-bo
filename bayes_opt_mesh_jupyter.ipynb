{
 "cells": [
  {
   "cell_type": "code",
   "execution_count": 1,
   "metadata": {},
   "outputs": [],
   "source": [
    "import pandas as pd\n",
    "import numpy as np\n",
    "from data_analysis import get_heart_bounds, correlation_coef, graph_3d\n",
    "from graph import *\n",
    "from BayesOptLib.bayes_opt.bayesian_optimization import BayesianOptimization\n",
    "from RandomSampler import RandomSampler\n",
    "import matplotlib\n",
    "from matplotlib import pyplot as plt\n",
    "from mpl_toolkits.mplot3d import Axes3D\n",
    "from sklearn.metrics.pairwise import euclidean_distances\n",
    "matplotlib.use('Qt5Agg')  # or can use 'TkAgg', whatever you have/prefer\n",
    "%matplotlib qt \n",
    "\n",
    "\n",
    "def get_index(label):\n",
    "    \"\"\"\n",
    "    Gets the idx of a label in the labels array\n",
    "    :param label: label to check for\n",
    "    :return: idx\n",
    "    \"\"\"\n",
    "    idx = 0\n",
    "    for coord in labels:\n",
    "        if np.array_equal(label, coord):\n",
    "            break\n",
    "        idx += 1\n",
    "    return idx\n",
    "\n",
    "\n",
    "def black_box(x, y, z):\n",
    "    \"\"\"\n",
    "    Represents a black box function to maximize for CC of two ECGs given an XYZ coordinate\n",
    "    :param x:\n",
    "    :param y: coordinates of the prediction\n",
    "    :param z:\n",
    "    :return: CC of that point and the target\n",
    "    \"\"\"\n",
    "    sample_ecg = ecgs[get_index(np.array([x, y, z]))]\n",
    "    return correlation_coef(target_ecg, sample_ecg)\n"
   ]
  },
  {
   "cell_type": "code",
   "execution_count": 2,
   "metadata": {},
   "outputs": [
    {
     "name": "stdout",
     "output_type": "stream",
     "text": [
      "(4000, 7212)\n",
      "Target:  [ 20.8373 -90.0119 -37.2838]\n"
     ]
    }
   ],
   "source": [
    "ecgs = pd.read_csv(\"new_simu-data/Heart1/Heart1_SimuData_4000.csv\", header=None).to_numpy()\n",
    "labels = pd.read_csv(\"new_simu-data/Heart1/Coord1_4000.csv\", header=None).to_numpy() / 1000\n",
    "print(ecgs.shape)\n",
    "# Get bounds of the heart mesh\n",
    "bounds = get_heart_bounds(labels)\n",
    "# Pick out a sample to use as a target\n",
    "tidx = np.random.randint(0, labels.shape[0])\n",
    "#tidx = 1\n",
    "target, target_ecg = labels[tidx], ecgs[tidx]\n",
    "print(\"Target: \", target)"
   ]
  },
  {
   "cell_type": "code",
   "execution_count": 3,
   "metadata": {},
   "outputs": [],
   "source": [
    "def optimize_point(labels):\n",
    "    # Build the optimizer with the heart bounds\n",
    "    optimizer = BayesianOptimization(\n",
    "        f=black_box,\n",
    "        pbounds=bounds,\n",
    "        random_state=None, real_set=labels\n",
    "    )\n",
    "\n",
    "    # Maximize over x number of points\n",
    "    optimizer.maximize(init_points=10, n_iter=35,  acq=\"ucb\", kappa = 2)\n",
    "    return optimizer\n"
   ]
  },
  {
   "cell_type": "code",
   "execution_count": null,
   "metadata": {},
   "outputs": [],
   "source": []
  },
  {
   "cell_type": "code",
   "execution_count": 4,
   "metadata": {},
   "outputs": [],
   "source": [
    "optimizer = BayesianOptimization(\n",
    "    f=black_box,\n",
    "    pbounds=bounds,\n",
    "    random_state=None, real_set=labels\n",
    ")"
   ]
  },
  {
   "cell_type": "code",
   "execution_count": 5,
   "metadata": {},
   "outputs": [
    {
     "name": "stdout",
     "output_type": "stream",
     "text": [
      "|   iter    |  target   |     x     |     y     |     z     |\n",
      "-------------------------------------------------------------\n",
      "| \u001b[0m 1       \u001b[0m | \u001b[0m 0.7434  \u001b[0m | \u001b[0m 10.4    \u001b[0m | \u001b[0m-69.07   \u001b[0m | \u001b[0m-35.55   \u001b[0m |\n",
      "| \u001b[0m 2       \u001b[0m | \u001b[0m-0.2415  \u001b[0m | \u001b[0m 25.19   \u001b[0m | \u001b[0m-35.81   \u001b[0m | \u001b[0m 1.452   \u001b[0m |\n",
      "| \u001b[0m 3       \u001b[0m | \u001b[0m 0.4509  \u001b[0m | \u001b[0m-35.44   \u001b[0m | \u001b[0m-49.28   \u001b[0m | \u001b[0m-21.51   \u001b[0m |\n",
      "| \u001b[0m 4       \u001b[0m | \u001b[0m 0.01758 \u001b[0m | \u001b[0m-29.54   \u001b[0m | \u001b[0m-81.91   \u001b[0m | \u001b[0m 35.28   \u001b[0m |\n",
      "| \u001b[0m 5       \u001b[0m | \u001b[0m 0.02565 \u001b[0m | \u001b[0m-32.46   \u001b[0m | \u001b[0m-82.86   \u001b[0m | \u001b[0m 37.4    \u001b[0m |\n",
      "| \u001b[95m 6       \u001b[0m | \u001b[95m 0.7802  \u001b[0m | \u001b[95m-7.477   \u001b[0m | \u001b[95m-74.82   \u001b[0m | \u001b[95m-44.7    \u001b[0m |\n",
      "| \u001b[95m 7       \u001b[0m | \u001b[95m 0.8832  \u001b[0m | \u001b[95m 11.73   \u001b[0m | \u001b[95m-101.3   \u001b[0m | \u001b[95m-37.51   \u001b[0m |\n",
      "| \u001b[0m 8       \u001b[0m | \u001b[0m 0.576   \u001b[0m | \u001b[0m-48.56   \u001b[0m | \u001b[0m-94.13   \u001b[0m | \u001b[0m-31.04   \u001b[0m |\n",
      "| \u001b[0m 9       \u001b[0m | \u001b[0m 0.7674  \u001b[0m | \u001b[0m 32.63   \u001b[0m | \u001b[0m-97.53   \u001b[0m | \u001b[0m-33.85   \u001b[0m |\n",
      "| \u001b[0m 10      \u001b[0m | \u001b[0m 0.7163  \u001b[0m | \u001b[0m-7.343   \u001b[0m | \u001b[0m-99.42   \u001b[0m | \u001b[0m-38.54   \u001b[0m |\n",
      "| \u001b[0m 11      \u001b[0m | \u001b[0m 0.7825  \u001b[0m | \u001b[0m 30.94   \u001b[0m | \u001b[0m-99.02   \u001b[0m | \u001b[0m-33.87   \u001b[0m |\n",
      "| \u001b[0m 12      \u001b[0m | \u001b[0m 0.7476  \u001b[0m | \u001b[0m 32.55   \u001b[0m | \u001b[0m-95.82   \u001b[0m | \u001b[0m-35.96   \u001b[0m |\n",
      "| \u001b[0m 13      \u001b[0m | \u001b[0m 0.7909  \u001b[0m | \u001b[0m 31.49   \u001b[0m | \u001b[0m-99.0    \u001b[0m | \u001b[0m-33.1    \u001b[0m |\n",
      "| \u001b[0m 14      \u001b[0m | \u001b[0m 0.7645  \u001b[0m | \u001b[0m 33.7    \u001b[0m | \u001b[0m-96.77   \u001b[0m | \u001b[0m-33.4    \u001b[0m |\n",
      "| \u001b[0m 15      \u001b[0m | \u001b[0m 0.7359  \u001b[0m | \u001b[0m 33.6    \u001b[0m | \u001b[0m-95.05   \u001b[0m | \u001b[0m-35.52   \u001b[0m |\n"
     ]
    }
   ],
   "source": [
    "gp,x = optimizer.gpfit(init_points=5,n_iter=10,acq='ucb',kappa=2.576)"
   ]
  },
  {
   "cell_type": "code",
   "execution_count": 6,
   "metadata": {},
   "outputs": [
    {
     "data": {
      "text/plain": [
       "(15, 1)"
      ]
     },
     "execution_count": 6,
     "metadata": {},
     "output_type": "execute_result"
    }
   ],
   "source": [
    "x_train = np.asarray(optimizer.visited)\n",
    "y_train=optimizer._space.target.reshape(-1,1)\n",
    "gp.fit(x_train,y_train)\n",
    "y_train.shape\n"
   ]
  },
  {
   "cell_type": "code",
   "execution_count": 26,
   "metadata": {},
   "outputs": [],
   "source": [
    "def heart(target,labels):\n",
    "    fig = plt.figure(33)\n",
    "    ax = fig.gca(projection='3d')\n",
    "    ax.scatter(xs=labels[:, 0], ys=labels[:, 1], zs=labels[:, 2],s = 5, color = 'gray')\n",
    "    ax.scatter(target[0], target[1], target[2], color='black', marker = \"X\", s = 200)\n",
    "    plt.show()\n",
    "    \n",
    "    "
   ]
  },
  {
   "cell_type": "code",
   "execution_count": 27,
   "metadata": {},
   "outputs": [],
   "source": [
    "heart(target,labels)"
   ]
  },
  {
   "cell_type": "code",
   "execution_count": 8,
   "metadata": {},
   "outputs": [],
   "source": [
    "import seaborn as sns\n",
    "def graph_cc_distribution(target,ecgs,labels):\n",
    "    \"\"\"\n",
    "    Function that handles color coating the 3d mesh to see the distribution of CC over distance from a given target\n",
    "    coordinate. Useful to see the general function in 3D\n",
    "    \"\"\"\n",
    "    # Lists to hold the points with the color coating\n",
    "    true, blue, green, yellow, red = None, [], [], [], []\n",
    "    color_gradient = []\n",
    "    # Loop through all points to get CC with that point\n",
    "    for ecg, coord in zip(ecgs, labels):\n",
    "        if np.array_equal(target, ecg):\n",
    "            true = coord\n",
    "            color_gradient.append(1)\n",
    "            continue\n",
    "        cc = correlation_coef(target, ecg)\n",
    "        color_gradient.append(cc)\n",
    "    sns.set(style = \"darkgrid\")\n",
    "    fig = plt.figure(33)\n",
    "    ax = fig.gca(projection='3d')\n",
    "    img = ax.scatter(xs=labels[:, 0], ys=labels[:, 1], zs=labels[:, 2],s = 5, c=color_gradient, cmap = plt.cm.rainbow)\n",
    "    ax.scatter(true[0], true[1], true[2], color='black', marker = \"X\", s = 200)\n",
    "    ax.set_xlabel(\"X\"), ax.set_ylabel(\"Y\"), ax.set_zlabel(\"Z\")\n",
    "    fig.colorbar(img)\n",
    "    fig.suptitle('Actual CC plot', fontsize=16)\n",
    "    plt.show()"
   ]
  },
  {
   "cell_type": "code",
   "execution_count": 9,
   "metadata": {},
   "outputs": [],
   "source": [
    "graph_cc_distribution(target_ecg,ecgs,labels)\n"
   ]
  },
  {
   "cell_type": "code",
   "execution_count": 10,
   "metadata": {},
   "outputs": [],
   "source": [
    "def trend(target,visited,actual):\n",
    "    visited = np.asarray(visited)\n",
    "    actual = np.asarray(actual)\n",
    "    visited = visited[len(visited)-len(actual):len(visited)]\n",
    "    dis_tar_act = []\n",
    "    dis_tar_vis = []\n",
    "    dis_dif = []\n",
    "    for i in range(len(actual)):\n",
    "        d1 = np.linalg.norm(target-visited[i,:])\n",
    "        dis_tar_vis = np.append(dis_tar_vis,d1)\n",
    "        d2 = np.linalg.norm(target-actual[i,:])\n",
    "        dis_tar_act = np.append(dis_tar_act,d2)\n",
    "        d3 = np.linalg.norm(actual[i,:]-visited[i,:])\n",
    "        dis_dif = np.append(dis_dif,d3)\n",
    "    fig = plt.figure(10)\n",
    "    plt.plot(dis_tar_vis,label = 'between target and visited')\n",
    "    plt.plot(dis_tar_act,label = 'between target and predicted')\n",
    "    plt.plot(dis_dif, label = 'between predicted and visited')\n",
    "    plt.xlabel(\"iteration\")\n",
    "    plt.ylabel(\"distance\")\n",
    "    plt.legend(loc='upper right')\n",
    "    plt.show()"
   ]
  },
  {
   "cell_type": "code",
   "execution_count": 11,
   "metadata": {},
   "outputs": [],
   "source": [
    "trend(target,optimizer.visited,optimizer.predicted)"
   ]
  },
  {
   "cell_type": "code",
   "execution_count": 12,
   "metadata": {},
   "outputs": [],
   "source": [
    "tt=optimizer.predicted[6]"
   ]
  },
  {
   "cell_type": "code",
   "execution_count": 13,
   "metadata": {},
   "outputs": [],
   "source": [
    "def approx(suggestion,real_set):\n",
    "    dist = []\n",
    "    for i in range(len(real_set)):\n",
    "        d = euclidean_distance(suggestion, real_set[i])\n",
    "        dist = np.append(dist,d)\n",
    "    m = np.amin(dist)\n",
    "    for j in range(len(dist)):\n",
    "        if dist[j]==m:\n",
    "            t = real_set[j]\n",
    "            break\n",
    "    return t,m"
   ]
  },
  {
   "cell_type": "code",
   "execution_count": 14,
   "metadata": {},
   "outputs": [
    {
     "data": {
      "text/plain": [
       "-47.360800000000005"
      ]
     },
     "execution_count": 14,
     "metadata": {},
     "output_type": "execute_result"
    }
   ],
   "source": [
    "np.amin(labels[:,2])"
   ]
  },
  {
   "cell_type": "code",
   "execution_count": 15,
   "metadata": {},
   "outputs": [
    {
     "data": {
      "text/plain": [
       "(4000, 3)"
      ]
     },
     "execution_count": 15,
     "metadata": {},
     "output_type": "execute_result"
    }
   ],
   "source": [
    "labels.shape"
   ]
  },
  {
   "cell_type": "code",
   "execution_count": 16,
   "metadata": {},
   "outputs": [],
   "source": [
    "def euclidean_distance(one, two):\n",
    "    \"\"\" Computes the euclidean distance between two coordinates \"\"\"\n",
    "    return np.sqrt(np.sum((one - two)**2))"
   ]
  },
  {
   "cell_type": "code",
   "execution_count": 17,
   "metadata": {},
   "outputs": [
    {
     "data": {
      "text/plain": [
       "array([ 20.8373, -90.0119, -37.2838])"
      ]
     },
     "execution_count": 17,
     "metadata": {},
     "output_type": "execute_result"
    }
   ],
   "source": [
    "target"
   ]
  },
  {
   "cell_type": "code",
   "execution_count": 18,
   "metadata": {},
   "outputs": [
    {
     "data": {
      "text/plain": [
       "0.0007308165"
      ]
     },
     "execution_count": 18,
     "metadata": {},
     "output_type": "execute_result"
    }
   ],
   "source": [
    "np.quantile(ecgs[1],0.5)"
   ]
  },
  {
   "cell_type": "code",
   "execution_count": 19,
   "metadata": {},
   "outputs": [],
   "source": [
    "plt.hist(ecgs[1])\n",
    "plt.show()"
   ]
  },
  {
   "cell_type": "code",
   "execution_count": 20,
   "metadata": {},
   "outputs": [],
   "source": [
    "def all_mean(ecgs):\n",
    "    mean_array = []\n",
    "    var_array = []\n",
    "    for i in range(len(ecgs)):\n",
    "        m = np.mean(ecgs[i])\n",
    "        v = np.var(ecgs[i])\n",
    "        mean_array = np.append(mean_array,m)\n",
    "        var_array = np.append(var_array,v)\n",
    "    return mean_array, var_array\n",
    "        \n",
    "        "
   ]
  },
  {
   "cell_type": "code",
   "execution_count": 21,
   "metadata": {},
   "outputs": [],
   "source": [
    "mean, var = all_mean(ecgs)"
   ]
  },
  {
   "cell_type": "code",
   "execution_count": 22,
   "metadata": {},
   "outputs": [],
   "source": [
    "plt.hist(var)\n",
    "plt.show()"
   ]
  },
  {
   "cell_type": "code",
   "execution_count": 23,
   "metadata": {},
   "outputs": [
    {
     "ename": "NameError",
     "evalue": "name 'PrettyTable' is not defined",
     "output_type": "error",
     "traceback": [
      "\u001b[0;31m---------------------------------------------------------------------------\u001b[0m",
      "\u001b[0;31mNameError\u001b[0m                                 Traceback (most recent call last)",
      "\u001b[0;32m<ipython-input-23-ee939d361079>\u001b[0m in \u001b[0;36m<module>\u001b[0;34m\u001b[0m\n\u001b[1;32m     33\u001b[0m \u001b[0;31m# plt.ylabel(\"correlation\")\u001b[0m\u001b[0;34m\u001b[0m\u001b[0;34m\u001b[0m\u001b[0;34m\u001b[0m\u001b[0m\n\u001b[1;32m     34\u001b[0m \u001b[0;31m# plt.show\u001b[0m\u001b[0;34m\u001b[0m\u001b[0;34m\u001b[0m\u001b[0;34m\u001b[0m\u001b[0m\n\u001b[0;32m---> 35\u001b[0;31m \u001b[0mx\u001b[0m\u001b[0;34m=\u001b[0m \u001b[0mPrettyTable\u001b[0m\u001b[0;34m(\u001b[0m\u001b[0;34m)\u001b[0m\u001b[0;34m\u001b[0m\u001b[0;34m\u001b[0m\u001b[0m\n\u001b[0m\u001b[1;32m     36\u001b[0m \u001b[0mx\u001b[0m\u001b[0;34m.\u001b[0m\u001b[0mfield_names\u001b[0m \u001b[0;34m=\u001b[0m \u001b[0;34m[\u001b[0m\u001b[0;34m'x'\u001b[0m\u001b[0;34m,\u001b[0m \u001b[0;34m'y'\u001b[0m\u001b[0;34m,\u001b[0m\u001b[0;34m'z'\u001b[0m\u001b[0;34m,\u001b[0m\u001b[0;34m'Distance'\u001b[0m\u001b[0;34m,\u001b[0m\u001b[0;34m'Corr'\u001b[0m\u001b[0;34m,\u001b[0m\u001b[0;34m'Q1'\u001b[0m\u001b[0;34m,\u001b[0m\u001b[0;34m'Q3'\u001b[0m\u001b[0;34m]\u001b[0m\u001b[0;34m\u001b[0m\u001b[0;34m\u001b[0m\u001b[0m\n\u001b[1;32m     37\u001b[0m \u001b[0;32mfor\u001b[0m \u001b[0mrow\u001b[0m \u001b[0;32min\u001b[0m \u001b[0mtable\u001b[0m\u001b[0;34m:\u001b[0m\u001b[0;34m\u001b[0m\u001b[0;34m\u001b[0m\u001b[0m\n",
      "\u001b[0;31mNameError\u001b[0m: name 'PrettyTable' is not defined"
     ]
    }
   ],
   "source": [
    "def nearest(tidx,labels,ecgs,dis_limit):\n",
    "    target_loc = labels[tidx]\n",
    "    target_ecg = ecgs[tidx]\n",
    "    cc = np.array([[1]])\n",
    "    dis = np.array([[0]])\n",
    "    mean_target = np.array([[0]])+np.quantile(target_ecg,0.25)\n",
    "    var_target = np.array([[0]])+np.quantile(target_ecg,0.75)\n",
    "    first_row=np.concatenate((target_loc.reshape(1,3), dis,cc,mean_target,var_target),axis =1)\n",
    "    nn_loc = np.empty((0, 3))\n",
    "    nn_cc = np.empty ((0,1))\n",
    "    nn_dis = np.empty((0,1))\n",
    "    nn_mean = np.empty((0,1))\n",
    "    nn_var = np.empty((0,1))\n",
    "    for i in range(len(labels)):\n",
    "        d = np.sqrt(np.sum((target_loc - labels[i])**2))\n",
    "        if d < dis_limit:\n",
    "            nn_loc = np.append(nn_loc,labels[i].reshape(1,3),axis=0)\n",
    "            nn_cc = np.append(nn_cc,np.corrcoef(target_ecg, ecgs[i])[0, 1])\n",
    "            nn_dis = np.append(nn_dis,d)\n",
    "            nn_mean = np.append(nn_mean,np.quantile(ecgs[i],0.25))\n",
    "            nn_var = np.append(nn_var,np.quantile(ecgs[i],0.75))\n",
    "    nn_dis = nn_dis.reshape(-1,1)\n",
    "    nn_cc = nn_cc.reshape(-1,1)\n",
    "    nn_mean = nn_mean.reshape(-1,1)\n",
    "    nn_var = nn_var.reshape(-1,1)\n",
    "    near_points = np.concatenate((nn_loc, nn_dis, nn_cc,nn_mean,nn_var),axis =1)\n",
    "    table = np.concatenate((first_row,near_points), axis = 0)\n",
    "    table = np.around(table,2)\n",
    "    return table\n",
    "table=nearest(tidx,labels,ecgs,15)\n",
    "# plt.scatter(table[:,3],table[:,4])\n",
    "# plt.xlabel(\"distance\")\n",
    "# plt.ylabel(\"correlation\")\n",
    "# plt.show\n",
    "x= PrettyTable()\n",
    "x.field_names = ['x', 'y','z','Distance','Corr','Q1','Q3']\n",
    "for row in table:\n",
    "    x.add_row(row)\n",
    "print(x)"
   ]
  },
  {
   "cell_type": "code",
   "execution_count": null,
   "metadata": {},
   "outputs": [],
   "source": [
    "nearest(tidx,labels,ecgs,20)"
   ]
  },
  {
   "cell_type": "code",
   "execution_count": null,
   "metadata": {},
   "outputs": [],
   "source": [
    "def gp_plot(gp):\n",
    "    X = np.arange(-35, 95, 3)\n",
    "    Y = np.arange(-119, 3, 3)\n",
    "    Z = np.arange(-91, 8, 3)\n",
    "    gpm = []\n",
    "    loc = np.empty((0, 3))\n",
    "    for i in range(len(X)):\n",
    "        for j in range(len(Y)):\n",
    "            for k in range(len(Z)):\n",
    "                d = gp.predict(np.array([X[i],Y[j],Z[k]]).reshape(1,-1),return_std=False)\n",
    "                loc = np.append(loc,np.array([X[i],Y[j],Z[k]]).reshape(1,-1),axis=0)\n",
    "                gpm = np.append(gpm,d)\n",
    "    fig = plt.figure(60)\n",
    "    ax = fig.gca(projection='3d')\n",
    "    img = ax.scatter(xs=loc[:, 0], ys=loc[:, 1], zs=loc[:, 2], c=gpm, cmap = plt.cm.rainbow)\n",
    "    ax.set_xlabel(\"X\"), ax.set_ylabel(\"Y\"), ax.set_zlabel(\"Z\")\n",
    "    fig.colorbar(img)\n",
    "    fig.suptitle('CC distribution on GP', fontsize=16)\n",
    "    plt.show()"
   ]
  },
  {
   "cell_type": "code",
   "execution_count": null,
   "metadata": {},
   "outputs": [],
   "source": [
    "gp_plot(gp)"
   ]
  },
  {
   "cell_type": "code",
   "execution_count": null,
   "metadata": {},
   "outputs": [],
   "source": [
    "np.amin(labels[:,0])"
   ]
  },
  {
   "cell_type": "code",
   "execution_count": null,
   "metadata": {},
   "outputs": [],
   "source": [
    "def plot_exploration(visited, color_gradient):\n",
    "    \"\"\"\n",
    "    Handles plotting the predictions of the network over time\n",
    "    :param visited:\n",
    "    :return:\n",
    "    \"\"\"\n",
    "    path = np.array(visited)\n",
    "    color_gradient = np.array(color_gradient)\n",
    "\n",
    "    # Plot final for viewing\n",
    "    rest = np.delete(labels, np.where(np.isin(labels, path)), axis=0)\n",
    "    color_gradient = np.delete(color_gradient, np.where(np.isin(labels, path)), axis=0)\n",
    "    fig = plt.figure(0)\n",
    "    ax = fig.gca(projection='3d')\n",
    "\n",
    "    ax.scatter(xs=rest[:, 0], ys=rest[:, 1], zs=rest[:, 2], zdir='z', alpha=0.75, c=color_gradient, cmap = plt.cm.Reds)\n",
    "    ax.scatter(xs=path[:, 0], ys=path[:, 1], zs=path[:, 2], zdir='z', color='blue')\n",
    "    ax.plot(path[:, 0], path[:, 1], path[:, 2], color = 'blue')\n",
    "\n",
    "    m = path\n",
    "    for i in range(len(m)):\n",
    "        ax.text(m[i, 0], m[i, 1], m[i, 2], '%s' % (str(i)), size=10, zorder=1, color='k')\n",
    "    ax.scatter(xs=target[0], ys=target[1], zs=target[2], color='black', s = 100)\n",
    "    plt.show()\n"
   ]
  },
  {
   "cell_type": "code",
   "execution_count": null,
   "metadata": {},
   "outputs": [],
   "source": [
    "color_gradient = []\n",
    "    # Loop through all points to get CC with that point\n",
    "for ecg, coord in zip(ecgs, labels):\n",
    "    if np.array_equal(target_ecg, ecg):\n",
    "        true = coord\n",
    "        color_gradient.append(1)\n",
    "        continue\n",
    "\n",
    "    cc = correlation_coef(target_ecg, ecg)\n",
    "    color_gradient.append(cc)\n",
    "# %matplotlib notebook\n",
    "plot_exploration(optimizer.visited, color_gradient)"
   ]
  },
  {
   "cell_type": "code",
   "execution_count": null,
   "metadata": {},
   "outputs": [],
   "source": [
    "def cube(target,ecgs,labels):\n",
    "    c = corners(labels)\n",
    "    true = None\n",
    "    color_gradient = []\n",
    "    for ecg, coord in zip(ecgs, labels):\n",
    "        if np.array_equal(target, ecg):\n",
    "            true = coord\n",
    "            color_gradient.append(1)\n",
    "            continue\n",
    "        cc = correlation_coef(target, ecg)\n",
    "        color_gradient.append(cc)\n",
    "    fig = plt.figure(20)\n",
    "    ax = fig.gca(projection='3d')\n",
    "    ax.scatter(xs=labels[:, 0], ys=labels[:, 1], zs=labels[:, 2], c=color_gradient, cmap = plt.cm.rainbow)\n",
    "    ax.scatter(true[0], true[1], true[2], color='black', marker = \"X\", s = 100)\n",
    "    ax.scatter(c[:,0], c[:,1], c[:,2], color='red', marker = \"*\", s = 150)\n",
    "    ax.set_xlabel(\"X\"), ax.set_ylabel(\"Y\"), ax.set_zlabel(\"Z\")\n",
    "    plt.show()"
   ]
  },
  {
   "cell_type": "code",
   "execution_count": null,
   "metadata": {},
   "outputs": [],
   "source": [
    "# %matplotlib qt \n",
    "cube(target_ecg,ecgs,labels)"
   ]
  },
  {
   "cell_type": "code",
   "execution_count": null,
   "metadata": {},
   "outputs": [],
   "source": [
    "ecgs[1].shape"
   ]
  },
  {
   "cell_type": "code",
   "execution_count": null,
   "metadata": {},
   "outputs": [],
   "source": [
    "from scipy.stats import wasserstein_distance\n",
    "ww = np.empty((2000, 2000))\n",
    "for i in range(len(ecgs)):\n",
    "    for j in range(len(ecgs)):\n",
    "        d = wasserstein_distance(ecgs[i],ecgs[j])\n",
    "        ww[i,j] = d\n"
   ]
  },
  {
   "cell_type": "code",
   "execution_count": null,
   "metadata": {},
   "outputs": [],
   "source": [
    "ww.shape"
   ]
  },
  {
   "cell_type": "code",
   "execution_count": null,
   "metadata": {},
   "outputs": [],
   "source": [
    "def euclidean_distance(one, two):\n",
    "    return np.sqrt(np.sum((one - two)**2))"
   ]
  },
  {
   "cell_type": "code",
   "execution_count": null,
   "metadata": {},
   "outputs": [],
   "source": [
    "def corners(labels):\n",
    "    minx,maxx = np.amin(labels[:,0]),np.amax(labels[:,0])\n",
    "    miny,maxy = np.amin(labels[:,1]),np.amax(labels[:,1])\n",
    "    minz,maxz = np.amin(labels[:,2]),np.amax(labels[:,2])\n",
    "    c1 = np.array([minx,miny,minz])\n",
    "    c2 = np.array([maxx,miny,minz])\n",
    "    c3 = np.array([maxx,maxy,minz])\n",
    "    c4 = np.array([minx,maxy,minz])\n",
    "    c5 = np.array([minx,miny,maxz])\n",
    "    c6 = np.array([maxx,miny,maxz])\n",
    "    c7 = np.array([maxx,maxy,maxz])\n",
    "    c8 = np.array([minx,maxy,maxz])\n",
    "    c = np.asarray([c1,c2,c3,c4,c5,c6,c7,c8])   \n",
    "    c9 = np.asarray([np.mean(c[:,0]),np.mean(c[:,1]),np.mean(c[:,2])]).reshape(1,3)\n",
    "    c = np.concatenate((c, c9),axis =0)\n",
    "    for i in range(len(c)):\n",
    "        c[i] = approx(c[i],labels)\n",
    "    return c"
   ]
  },
  {
   "cell_type": "code",
   "execution_count": null,
   "metadata": {},
   "outputs": [],
   "source": []
  },
  {
   "cell_type": "code",
   "execution_count": null,
   "metadata": {},
   "outputs": [],
   "source": [
    "def approx(c1,labels):\n",
    "    dist = []\n",
    "    for i in range(len(labels)):\n",
    "        d = euclidean_distance(c1, labels[i])\n",
    "        dist = np.append(dist,d)\n",
    "    for j in range(len(dist)):\n",
    "        if dist[j]==np.amin(dist):\n",
    "            break\n",
    "    return labels[j]\n",
    "        \n",
    "        "
   ]
  },
  {
   "cell_type": "code",
   "execution_count": null,
   "metadata": {},
   "outputs": [],
   "source": [
    "c1 = np.array([minx,miny,minz])\n",
    "c1=approx(c1,labels)\n",
    "c1"
   ]
  },
  {
   "cell_type": "code",
   "execution_count": null,
   "metadata": {},
   "outputs": [],
   "source": [
    "c=corners(labels)"
   ]
  },
  {
   "cell_type": "code",
   "execution_count": null,
   "metadata": {},
   "outputs": [],
   "source": []
  },
  {
   "cell_type": "code",
   "execution_count": null,
   "metadata": {},
   "outputs": [],
   "source": []
  },
  {
   "cell_type": "code",
   "execution_count": null,
   "metadata": {},
   "outputs": [],
   "source": [
    "c.shape"
   ]
  },
  {
   "cell_type": "code",
   "execution_count": null,
   "metadata": {},
   "outputs": [],
   "source": []
  }
 ],
 "metadata": {
  "kernelspec": {
   "display_name": "Python [conda env:gp_tutorial]",
   "language": "python",
   "name": "conda-env-gp_tutorial-py"
  },
  "language_info": {
   "codemirror_mode": {
    "name": "ipython",
    "version": 3
   },
   "file_extension": ".py",
   "mimetype": "text/x-python",
   "name": "python",
   "nbconvert_exporter": "python",
   "pygments_lexer": "ipython3",
   "version": "3.7.7"
  }
 },
 "nbformat": 4,
 "nbformat_minor": 2
}
