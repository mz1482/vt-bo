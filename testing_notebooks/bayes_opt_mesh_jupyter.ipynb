{
 "cells": [
  {
   "cell_type": "code",
   "execution_count": 1,
   "metadata": {},
   "outputs": [],
   "source": [
    "import sys\n",
    "sys.path.append('/home/mz1482/project/vt-bayesian-opt-bopt_debug/')\n",
    "import pandas as pd\n",
    "import numpy as np\n",
    "from data_analysis import *\n",
    "from graph import *\n",
    "from BayesOptLib.bayes_opt.bayesian_optimization import BayesianOptimization\n",
    "from RandomSampler import RandomSampler\n",
    "import matplotlib\n",
    "from matplotlib import pyplot as plt\n",
    "from mpl_toolkits.mplot3d import Axes3D\n",
    "from sklearn.metrics.pairwise import euclidean_distances\n",
    "matplotlib.use('Qt5Agg')  # or can use 'TkAgg', whatever you have/prefer\n",
    "from prettytable import PrettyTable\n",
    "\n",
    "def black_box(x, y, z):\n",
    "    \"\"\"\n",
    "    Represents a black box function to maximize for CC of two ECGs given an XYZ coordinate\n",
    "    :param x:\n",
    "    :param y: coordinates of the prediction\n",
    "    :param z:\n",
    "    :return: CC of that point and the target\n",
    "    \"\"\"\n",
    "    sample_ecg = ecgs[get_index(np.array([x, y, z]),labels)]\n",
    "    return abs(correlation_coef(target_ecg, sample_ecg))\n",
    "\n",
    "\n",
    "def black_box_12_lead(x, y, z):\n",
    "    \"\"\"\n",
    "    Represents a black box function to maximize for CC of two ECGs given an XYZ coordinate\n",
    "    :param x:\n",
    "    :param y: coordinates of the prediction\n",
    "    :param z:\n",
    "    :return: CC of that point and the target\n",
    "    \"\"\"\n",
    "    sample_ecg = ecgs[get_index(np.array([x, y, z]),labels)]\n",
    "    sample_ecg = np.reshape(sample_ecg, [12, -1])\n",
    "    nums = 0\n",
    "    for i in range(12):\n",
    "#         ccs = np.corrcoef(sample_ecg[i], target_ecg.reshape(12,-1)[i])[0, 1]\n",
    "        ccs = abs(correlation_coef(target_ecg.reshape(12,-1)[i], sample_ecg[i]))\n",
    "        if ccs > .9:\n",
    "            nums += 1\n",
    "\n",
    "#     return True if nums == 12 else False \n",
    "    return nums"
   ]
  },
  {
   "cell_type": "code",
   "execution_count": 2,
   "metadata": {},
   "outputs": [],
   "source": [
    "data_path = \"/home/mz1482/project/vt-bayesian-opt-bopt_debug/data/simu_data_4000/\"\n",
    "# Reading in the ECGs and labels\n",
    "# aucs = pd.read_csv(data_path+\"Heart1/Heart1_AUCS.csv\", header=None).to_numpy()\n",
    "ecgs = pd.read_csv(data_path+\"Heart1/Heart1_SimuData_4000.csv\", header=None).to_numpy()\n",
    "labels = pd.read_csv(data_path+\"Heart1/Coord1_4000.csv\", header=None).to_numpy() / 1000\n",
    "uvc = pd.read_csv(data_path+\"UVC/Coord1_UVC_4000.csv\", header=None).to_numpy()\n",
    "bounds = get_heart_bounds(labels) # getting bounds \n",
    "\n",
    "# print(\"Target: \", target)\n",
    "init = 10 #initial random sample\n",
    "steps = 20 # total AL step\n",
    "af = \"ucb\" \n"
   ]
  },
  {
   "cell_type": "code",
   "execution_count": 3,
   "metadata": {},
   "outputs": [
    {
     "name": "stdout",
     "output_type": "stream",
     "text": [
      "|   iter    |  target   |     x     |     y     |     z     |\n",
      "-------------------------------------------------------------\n",
      "| \u001b[0m 1       \u001b[0m | \u001b[0m 0.1762  \u001b[0m | \u001b[0m-23.62   \u001b[0m | \u001b[0m-24.66   \u001b[0m | \u001b[0m-23.6    \u001b[0m |\n",
      "| \u001b[95m 2       \u001b[0m | \u001b[95m 0.7994  \u001b[0m | \u001b[95m-40.27   \u001b[0m | \u001b[95m-90.4    \u001b[0m | \u001b[95m 17.78   \u001b[0m |\n",
      "| \u001b[0m 3       \u001b[0m | \u001b[0m 0.4583  \u001b[0m | \u001b[0m 11.85   \u001b[0m | \u001b[0m-30.2    \u001b[0m | \u001b[0m 29.6    \u001b[0m |\n",
      "| \u001b[0m 4       \u001b[0m | \u001b[0m 0.2063  \u001b[0m | \u001b[0m-32.66   \u001b[0m | \u001b[0m-71.03   \u001b[0m | \u001b[0m 41.9    \u001b[0m |\n",
      "| \u001b[0m 5       \u001b[0m | \u001b[0m 0.1951  \u001b[0m | \u001b[0m-26.32   \u001b[0m | \u001b[0m-55.1    \u001b[0m | \u001b[0m 27.45   \u001b[0m |\n",
      "| \u001b[0m 6       \u001b[0m | \u001b[0m 0.241   \u001b[0m | \u001b[0m-22.97   \u001b[0m | \u001b[0m-50.0    \u001b[0m | \u001b[0m 23.31   \u001b[0m |\n",
      "| \u001b[0m 7       \u001b[0m | \u001b[0m 0.02181 \u001b[0m | \u001b[0m 41.92   \u001b[0m | \u001b[0m-71.93   \u001b[0m | \u001b[0m-27.22   \u001b[0m |\n",
      "| \u001b[0m 8       \u001b[0m | \u001b[0m 0.283   \u001b[0m | \u001b[0m-19.75   \u001b[0m | \u001b[0m-48.77   \u001b[0m | \u001b[0m 19.17   \u001b[0m |\n",
      "| \u001b[0m 9       \u001b[0m | \u001b[0m 0.3432  \u001b[0m | \u001b[0m 3.011   \u001b[0m | \u001b[0m-24.5    \u001b[0m | \u001b[0m 26.28   \u001b[0m |\n",
      "| \u001b[0m 10      \u001b[0m | \u001b[0m 0.2202  \u001b[0m | \u001b[0m-23.78   \u001b[0m | \u001b[0m-50.73   \u001b[0m | \u001b[0m 24.85   \u001b[0m |\n",
      "| \u001b[95m 11      \u001b[0m | \u001b[95m 0.9192  \u001b[0m | \u001b[95m-45.44   \u001b[0m | \u001b[95m-97.56   \u001b[0m | \u001b[95m 6.307   \u001b[0m |\n",
      "| \u001b[95m 12      \u001b[0m | \u001b[95m 0.9426  \u001b[0m | \u001b[95m-46.94   \u001b[0m | \u001b[95m-98.08   \u001b[0m | \u001b[95m 6.165   \u001b[0m |\n",
      "| \u001b[95m 13      \u001b[0m | \u001b[95m 0.9939  \u001b[0m | \u001b[95m-49.09   \u001b[0m | \u001b[95m-102.5   \u001b[0m | \u001b[95m-13.0    \u001b[0m |\n",
      "best value [ -49.0911 -102.545   -12.9966]\n",
      "|   iter    |  target   |     x     |     y     |     z     |\n",
      "-------------------------------------------------------------\n",
      "| \u001b[0m 1       \u001b[0m | \u001b[0m 0.09955 \u001b[0m | \u001b[0m-8.968   \u001b[0m | \u001b[0m-72.68   \u001b[0m | \u001b[0m 1.188   \u001b[0m |\n",
      "| \u001b[0m 2       \u001b[0m | \u001b[0m 0.04726 \u001b[0m | \u001b[0m 12.41   \u001b[0m | \u001b[0m-15.56   \u001b[0m | \u001b[0m-19.48   \u001b[0m |\n",
      "| \u001b[0m 3       \u001b[0m | \u001b[0m 0.06716 \u001b[0m | \u001b[0m-44.74   \u001b[0m | \u001b[0m-86.09   \u001b[0m | \u001b[0m 20.58   \u001b[0m |\n",
      "| \u001b[95m 4       \u001b[0m | \u001b[95m 0.5322  \u001b[0m | \u001b[95m 31.07   \u001b[0m | \u001b[95m-98.15   \u001b[0m | \u001b[95m-9.382   \u001b[0m |\n",
      "| \u001b[0m 5       \u001b[0m | \u001b[0m 0.5026  \u001b[0m | \u001b[0m-17.82   \u001b[0m | \u001b[0m-68.82   \u001b[0m | \u001b[0m-19.8    \u001b[0m |\n",
      "| \u001b[95m 6       \u001b[0m | \u001b[95m 0.6932  \u001b[0m | \u001b[95m 26.7    \u001b[0m | \u001b[95m-33.2    \u001b[0m | \u001b[95m 2.327   \u001b[0m |\n",
      "| \u001b[0m 7       \u001b[0m | \u001b[0m 0.6138  \u001b[0m | \u001b[0m 11.42   \u001b[0m | \u001b[0m-87.38   \u001b[0m | \u001b[0m 9.84    \u001b[0m |\n",
      "| \u001b[0m 8       \u001b[0m | \u001b[0m 0.4033  \u001b[0m | \u001b[0m-23.48   \u001b[0m | \u001b[0m-101.8   \u001b[0m | \u001b[0m-29.28   \u001b[0m |\n",
      "| \u001b[95m 9       \u001b[0m | \u001b[95m 0.8186  \u001b[0m | \u001b[95m 12.33   \u001b[0m | \u001b[95m-84.3    \u001b[0m | \u001b[95m 22.53   \u001b[0m |\n",
      "| \u001b[0m 10      \u001b[0m | \u001b[0m 0.5516  \u001b[0m | \u001b[0m-15.68   \u001b[0m | \u001b[0m-37.54   \u001b[0m | \u001b[0m-36.4    \u001b[0m |\n",
      "| \u001b[0m 11      \u001b[0m | \u001b[0m 0.7951  \u001b[0m | \u001b[0m 12.39   \u001b[0m | \u001b[0m-85.62   \u001b[0m | \u001b[0m 18.94   \u001b[0m |\n",
      "| \u001b[95m 12      \u001b[0m | \u001b[95m 0.9399  \u001b[0m | \u001b[95m 21.64   \u001b[0m | \u001b[95m-79.81   \u001b[0m | \u001b[95m 23.28   \u001b[0m |\n",
      "| \u001b[0m 13      \u001b[0m | \u001b[0m 0.9383  \u001b[0m | \u001b[0m 28.85   \u001b[0m | \u001b[0m-77.64   \u001b[0m | \u001b[0m 21.5    \u001b[0m |\n",
      "| \u001b[0m 14      \u001b[0m | \u001b[0m 0.9279  \u001b[0m | \u001b[0m 21.46   \u001b[0m | \u001b[0m-76.77   \u001b[0m | \u001b[0m 22.33   \u001b[0m |\n",
      "| \u001b[0m 15      \u001b[0m | \u001b[0m 0.9041  \u001b[0m | \u001b[0m 25.71   \u001b[0m | \u001b[0m-61.66   \u001b[0m | \u001b[0m 25.16   \u001b[0m |\n",
      "| \u001b[0m 16      \u001b[0m | \u001b[0m 0.9009  \u001b[0m | \u001b[0m 21.77   \u001b[0m | \u001b[0m-62.95   \u001b[0m | \u001b[0m 27.62   \u001b[0m |\n",
      "| \u001b[0m 17      \u001b[0m | \u001b[0m 0.9154  \u001b[0m | \u001b[0m 24.8    \u001b[0m | \u001b[0m-65.81   \u001b[0m | \u001b[0m 22.6    \u001b[0m |\n",
      "| \u001b[95m 18      \u001b[0m | \u001b[95m 0.9472  \u001b[0m | \u001b[95m 31.06   \u001b[0m | \u001b[95m-77.08   \u001b[0m | \u001b[95m 17.04   \u001b[0m |\n",
      "| \u001b[95m 19      \u001b[0m | \u001b[95m 0.9496  \u001b[0m | \u001b[95m 26.31   \u001b[0m | \u001b[95m-78.88   \u001b[0m | \u001b[95m 18.51   \u001b[0m |\n",
      "| \u001b[0m 20      \u001b[0m | \u001b[0m 0.8412  \u001b[0m | \u001b[0m 14.56   \u001b[0m | \u001b[0m-57.97   \u001b[0m | \u001b[0m 37.97   \u001b[0m |\n",
      "| \u001b[0m 21      \u001b[0m | \u001b[0m 0.9065  \u001b[0m | \u001b[0m 24.72   \u001b[0m | \u001b[0m-65.12   \u001b[0m | \u001b[0m 20.73   \u001b[0m |\n",
      "| \u001b[0m 22      \u001b[0m | \u001b[0m 0.8784  \u001b[0m | \u001b[0m 20.52   \u001b[0m | \u001b[0m-56.17   \u001b[0m | \u001b[0m 28.45   \u001b[0m |\n",
      "| \u001b[0m 23      \u001b[0m | \u001b[0m 0.8231  \u001b[0m | \u001b[0m 12.48   \u001b[0m | \u001b[0m-57.7    \u001b[0m | \u001b[0m 38.35   \u001b[0m |\n",
      "| \u001b[0m 24      \u001b[0m | \u001b[0m 0.8065  \u001b[0m | \u001b[0m 11.41   \u001b[0m | \u001b[0m-62.52   \u001b[0m | \u001b[0m 36.23   \u001b[0m |\n",
      "| \u001b[0m 25      \u001b[0m | \u001b[0m 0.8932  \u001b[0m | \u001b[0m 31.61   \u001b[0m | \u001b[0m-57.13   \u001b[0m | \u001b[0m 17.65   \u001b[0m |\n",
      "| \u001b[0m 26      \u001b[0m | \u001b[0m 0.9477  \u001b[0m | \u001b[0m 31.02   \u001b[0m | \u001b[0m-76.12   \u001b[0m | \u001b[0m 14.47   \u001b[0m |\n",
      "| \u001b[0m 27      \u001b[0m | \u001b[0m 0.8517  \u001b[0m | \u001b[0m 20.84   \u001b[0m | \u001b[0m-50.4    \u001b[0m | \u001b[0m 31.33   \u001b[0m |\n",
      "| \u001b[0m 28      \u001b[0m | \u001b[0m 0.9411  \u001b[0m | \u001b[0m 29.95   \u001b[0m | \u001b[0m-75.47   \u001b[0m | \u001b[0m 13.07   \u001b[0m |\n",
      "| \u001b[0m 29      \u001b[0m | \u001b[0m 0.8707  \u001b[0m | \u001b[0m 23.23   \u001b[0m | \u001b[0m-64.48   \u001b[0m | \u001b[0m 18.0    \u001b[0m |\n",
      "| \u001b[0m 30      \u001b[0m | \u001b[0m 0.8817  \u001b[0m | \u001b[0m 29.34   \u001b[0m | \u001b[0m-56.36   \u001b[0m | \u001b[0m 16.6    \u001b[0m |\n",
      "best value [ 26.3083 -78.8813  18.514 ]\n",
      "|   iter    |  target   |     x     |     y     |     z     |\n",
      "-------------------------------------------------------------\n",
      "| \u001b[0m 1       \u001b[0m | \u001b[0m 0.1646  \u001b[0m | \u001b[0m 25.9    \u001b[0m | \u001b[0m-22.21   \u001b[0m | \u001b[0m-15.97   \u001b[0m |\n",
      "| \u001b[95m 2       \u001b[0m | \u001b[95m 0.7255  \u001b[0m | \u001b[95m-9.097   \u001b[0m | \u001b[95m-48.07   \u001b[0m | \u001b[95m 17.53   \u001b[0m |\n",
      "| \u001b[95m 3       \u001b[0m | \u001b[95m 0.7518  \u001b[0m | \u001b[95m-7.729   \u001b[0m | \u001b[95m-39.16   \u001b[0m | \u001b[95m 32.91   \u001b[0m |\n",
      "| \u001b[0m 4       \u001b[0m | \u001b[0m 0.3562  \u001b[0m | \u001b[0m-34.09   \u001b[0m | \u001b[0m-84.87   \u001b[0m | \u001b[0m 41.49   \u001b[0m |\n",
      "| \u001b[0m 5       \u001b[0m | \u001b[0m 0.6346  \u001b[0m | \u001b[0m-25.3    \u001b[0m | \u001b[0m-52.25   \u001b[0m | \u001b[0m 14.37   \u001b[0m |\n",
      "| \u001b[0m 6       \u001b[0m | \u001b[0m 0.1216  \u001b[0m | \u001b[0m 36.46   \u001b[0m | \u001b[0m-57.47   \u001b[0m | \u001b[0m-38.52   \u001b[0m |\n",
      "| \u001b[0m 7       \u001b[0m | \u001b[0m 0.3046  \u001b[0m | \u001b[0m 33.27   \u001b[0m | \u001b[0m-57.61   \u001b[0m | \u001b[0m 0.3079  \u001b[0m |\n",
      "| \u001b[0m 8       \u001b[0m | \u001b[0m 0.5906  \u001b[0m | \u001b[0m-24.7    \u001b[0m | \u001b[0m-51.97   \u001b[0m | \u001b[0m 26.14   \u001b[0m |\n",
      "| \u001b[0m 9       \u001b[0m | \u001b[0m 0.2313  \u001b[0m | \u001b[0m-34.22   \u001b[0m | \u001b[0m-46.25   \u001b[0m | \u001b[0m-18.49   \u001b[0m |\n",
      "| \u001b[0m 10      \u001b[0m | \u001b[0m 0.05659 \u001b[0m | \u001b[0m 40.88   \u001b[0m | \u001b[0m-71.51   \u001b[0m | \u001b[0m-32.73   \u001b[0m |\n",
      "| \u001b[0m 11      \u001b[0m | \u001b[0m 0.7123  \u001b[0m | \u001b[0m-8.278   \u001b[0m | \u001b[0m-49.88   \u001b[0m | \u001b[0m 18.13   \u001b[0m |\n",
      "| \u001b[0m 12      \u001b[0m | \u001b[0m 0.7372  \u001b[0m | \u001b[0m-0.8592  \u001b[0m | \u001b[0m-30.53   \u001b[0m | \u001b[0m 30.74   \u001b[0m |\n",
      "| \u001b[95m 13      \u001b[0m | \u001b[95m 0.7809  \u001b[0m | \u001b[95m-1.942   \u001b[0m | \u001b[95m-30.01   \u001b[0m | \u001b[95m 29.05   \u001b[0m |\n",
      "| \u001b[95m 14      \u001b[0m | \u001b[95m 0.8819  \u001b[0m | \u001b[95m-8.368   \u001b[0m | \u001b[95m-37.71   \u001b[0m | \u001b[95m 29.83   \u001b[0m |\n",
      "| \u001b[95m 15      \u001b[0m | \u001b[95m 0.9079  \u001b[0m | \u001b[95m-2.813   \u001b[0m | \u001b[95m-30.01   \u001b[0m | \u001b[95m 26.74   \u001b[0m |\n",
      "| \u001b[95m 16      \u001b[0m | \u001b[95m 0.9756  \u001b[0m | \u001b[95m-2.786   \u001b[0m | \u001b[95m-30.48   \u001b[0m | \u001b[95m 24.22   \u001b[0m |\n",
      "| \u001b[0m 17      \u001b[0m | \u001b[0m 0.9234  \u001b[0m | \u001b[0m-0.1106  \u001b[0m | \u001b[0m-25.25   \u001b[0m | \u001b[0m 20.99   \u001b[0m |\n",
      "| \u001b[0m 18      \u001b[0m | \u001b[0m 0.9678  \u001b[0m | \u001b[0m-3.381   \u001b[0m | \u001b[0m-31.01   \u001b[0m | \u001b[0m 25.81   \u001b[0m |\n",
      "| \u001b[0m 19      \u001b[0m | \u001b[0m 0.9301  \u001b[0m | \u001b[0m 0.5627  \u001b[0m | \u001b[0m-25.66   \u001b[0m | \u001b[0m 21.77   \u001b[0m |\n",
      "| \u001b[95m 20      \u001b[0m | \u001b[95m 1.0     \u001b[0m | \u001b[95m-8.833   \u001b[0m | \u001b[95m-38.22   \u001b[0m | \u001b[95m 26.7    \u001b[0m |\n",
      "best value [ -8.8329 -38.2192  26.7002]\n"
     ]
    }
   ],
   "source": [
    "# labels = uvc[:,0:3]\n",
    "# bounds = get_heart_bounds(labels) # getting bounds \n",
    "# print(\"Target: \", target_uvc)\n",
    "for n in range(3):\n",
    "    tidx = np.random.randint(0, labels.shape[0])    # Pick out a sample to use as a target\n",
    "    target, target_ecg,target_uvc = labels[tidx], ecgs[tidx], uvc[tidx]\n",
    "    optimizer = BayesianOptimization(f=black_box,pbounds=bounds,random_state=None, real_set=labels)\n",
    "    gp,X = optimizer.gpfit(init_points=init, n_iter=steps,  acq=af, kappa = 2.5,kappa_decay=0.90,kappa_decay_delay=5,xi=0)\n",
    "    #     heart(target,labels)\n",
    "    max_cc, al,pass_lead,loc = result_metric(optimizer,target,target_ecg,labels,ecgs)\n",
    "    f= open(\"result.txt\",\"a\")\n",
    "    f.write(str(n)+\",\"+str(target[0]) + \",\" + str(target[1]) + \",\" + str(target[2])+\",\"+str(max_cc)+\",\"+str(al)+\",\"+str(pass_lead)+\",\"+str(loc) +\"\\n\")\n",
    "    f.close()\n",
    "\n"
   ]
  },
  {
   "cell_type": "code",
   "execution_count": 9,
   "metadata": {},
   "outputs": [],
   "source": [
    "data = np.loadtxt(\"result.txt\", delimiter=\",\")"
   ]
  },
  {
   "cell_type": "code",
   "execution_count": 15,
   "metadata": {},
   "outputs": [
    {
     "data": {
      "text/plain": [
       "26.7018"
      ]
     },
     "execution_count": 15,
     "metadata": {},
     "output_type": "execute_result"
    }
   ],
   "source": []
  },
  {
   "cell_type": "code",
   "execution_count": 4,
   "metadata": {},
   "outputs": [],
   "source": [
    "i=1"
   ]
  },
  {
   "cell_type": "code",
   "execution_count": null,
   "metadata": {},
   "outputs": [],
   "source": []
  },
  {
   "cell_type": "code",
   "execution_count": 5,
   "metadata": {},
   "outputs": [
    {
     "data": {
      "text/plain": [
       "1.0"
      ]
     },
     "execution_count": 5,
     "metadata": {},
     "output_type": "execute_result"
    }
   ],
   "source": [
    "max_cc"
   ]
  },
  {
   "cell_type": "code",
   "execution_count": 6,
   "metadata": {},
   "outputs": [
    {
     "name": "stdout",
     "output_type": "stream",
     "text": [
      "best value (3,)\n"
     ]
    }
   ],
   "source": [
    "    init = len(optimizer.visited)-len(optimizer.predicted)\n",
    "    Y = optimizer._space.target\n",
    "    X = optimizer.visited\n",
    "    max_cc = np.amax(Y)\n",
    "    for i in range(len(Y)):\n",
    "        if Y[i]==max_cc:\n",
    "            best = X[i]\n",
    "            break\n",
    "    print(\"best value\",best.shape)"
   ]
  },
  {
   "cell_type": "code",
   "execution_count": 7,
   "metadata": {},
   "outputs": [],
   "source": [
    "\n",
    "\n",
    "def result_table_xyz(target,optimizer,uvc=False):\n",
    "    '''\n",
    "    for 1 experiment it prints/return the table with distance from target at every iteration.\n",
    "    This function is for xyz coordinates\n",
    "    '''\n",
    "    print(\"The target location (in 3d) is:\",target)\n",
    "    if uvc==False:\n",
    "        visited = np.asarray(optimizer.visited)\n",
    "        f = optimizer._space.target\n",
    "        nn_dis = np.empty((0,1))\n",
    "        for i in range(len(visited)):\n",
    "            d = np.sqrt(np.sum((target - visited[i])**2))\n",
    "            nn_dis = np.append(nn_dis,d)\n",
    "        nn_dis = nn_dis.reshape(-1,1)\n",
    "        nn_dis = np.around(nn_dis,2)\n",
    "        f = f.reshape(-1,1).astype(int)\n",
    "        it = (np.arange(len(visited))+1).reshape(-1,1).astype(int)\n",
    "        floating_part = np.around(np.concatenate((visited,nn_dis), axis = 1),2)\n",
    "        int_part = np.concatenate((it,f), axis = 1)\n",
    "        result = np.concatenate((int_part,floating_part), axis = 1)\n",
    "        table = PrettyTable(result.dtype.names)\n",
    "        table.field_names = ['iteration','passing_lead', 'x','y','z','dis(mm) from target']\n",
    "        for row in result:\n",
    "            table.add_row(row)\n",
    "        return table\n",
    "    \n",
    "    "
   ]
  },
  {
   "cell_type": "code",
   "execution_count": 8,
   "metadata": {},
   "outputs": [
    {
     "name": "stdout",
     "output_type": "stream",
     "text": [
      "The target location (in 3d) is: [ -8.8329 -38.2192  26.7002]\n"
     ]
    },
    {
     "ename": "ValueError",
     "evalue": "all the input array dimensions except for the concatenation axis must match exactly",
     "output_type": "error",
     "traceback": [
      "\u001b[0;31m---------------------------------------------------------------------------\u001b[0m",
      "\u001b[0;31mValueError\u001b[0m                                Traceback (most recent call last)",
      "\u001b[0;32m<ipython-input-8-b637f2039309>\u001b[0m in \u001b[0;36m<module>\u001b[0;34m\u001b[0m\n\u001b[0;32m----> 1\u001b[0;31m \u001b[0mresult_table_xyz\u001b[0m\u001b[0;34m(\u001b[0m\u001b[0mtarget\u001b[0m\u001b[0;34m,\u001b[0m\u001b[0moptimizer\u001b[0m\u001b[0;34m)\u001b[0m\u001b[0;34m\u001b[0m\u001b[0;34m\u001b[0m\u001b[0m\n\u001b[0m",
      "\u001b[0;32m<ipython-input-7-3b7e6e2fada1>\u001b[0m in \u001b[0;36mresult_table_xyz\u001b[0;34m(target, optimizer, uvc)\u001b[0m\n\u001b[1;32m     17\u001b[0m         \u001b[0mit\u001b[0m \u001b[0;34m=\u001b[0m \u001b[0;34m(\u001b[0m\u001b[0mnp\u001b[0m\u001b[0;34m.\u001b[0m\u001b[0marange\u001b[0m\u001b[0;34m(\u001b[0m\u001b[0mlen\u001b[0m\u001b[0;34m(\u001b[0m\u001b[0mvisited\u001b[0m\u001b[0;34m)\u001b[0m\u001b[0;34m)\u001b[0m\u001b[0;34m+\u001b[0m\u001b[0;36m1\u001b[0m\u001b[0;34m)\u001b[0m\u001b[0;34m.\u001b[0m\u001b[0mreshape\u001b[0m\u001b[0;34m(\u001b[0m\u001b[0;34m-\u001b[0m\u001b[0;36m1\u001b[0m\u001b[0;34m,\u001b[0m\u001b[0;36m1\u001b[0m\u001b[0;34m)\u001b[0m\u001b[0;34m.\u001b[0m\u001b[0mastype\u001b[0m\u001b[0;34m(\u001b[0m\u001b[0mint\u001b[0m\u001b[0;34m)\u001b[0m\u001b[0;34m\u001b[0m\u001b[0;34m\u001b[0m\u001b[0m\n\u001b[1;32m     18\u001b[0m         \u001b[0mfloating_part\u001b[0m \u001b[0;34m=\u001b[0m \u001b[0mnp\u001b[0m\u001b[0;34m.\u001b[0m\u001b[0maround\u001b[0m\u001b[0;34m(\u001b[0m\u001b[0mnp\u001b[0m\u001b[0;34m.\u001b[0m\u001b[0mconcatenate\u001b[0m\u001b[0;34m(\u001b[0m\u001b[0;34m(\u001b[0m\u001b[0mvisited\u001b[0m\u001b[0;34m,\u001b[0m\u001b[0mnn_dis\u001b[0m\u001b[0;34m)\u001b[0m\u001b[0;34m,\u001b[0m \u001b[0maxis\u001b[0m \u001b[0;34m=\u001b[0m \u001b[0;36m1\u001b[0m\u001b[0;34m)\u001b[0m\u001b[0;34m,\u001b[0m\u001b[0;36m2\u001b[0m\u001b[0;34m)\u001b[0m\u001b[0;34m\u001b[0m\u001b[0;34m\u001b[0m\u001b[0m\n\u001b[0;32m---> 19\u001b[0;31m         \u001b[0mint_part\u001b[0m \u001b[0;34m=\u001b[0m \u001b[0mnp\u001b[0m\u001b[0;34m.\u001b[0m\u001b[0mconcatenate\u001b[0m\u001b[0;34m(\u001b[0m\u001b[0;34m(\u001b[0m\u001b[0mit\u001b[0m\u001b[0;34m,\u001b[0m\u001b[0mf\u001b[0m\u001b[0;34m)\u001b[0m\u001b[0;34m,\u001b[0m \u001b[0maxis\u001b[0m \u001b[0;34m=\u001b[0m \u001b[0;36m1\u001b[0m\u001b[0;34m)\u001b[0m\u001b[0;34m\u001b[0m\u001b[0;34m\u001b[0m\u001b[0m\n\u001b[0m\u001b[1;32m     20\u001b[0m         \u001b[0mresult\u001b[0m \u001b[0;34m=\u001b[0m \u001b[0mnp\u001b[0m\u001b[0;34m.\u001b[0m\u001b[0mconcatenate\u001b[0m\u001b[0;34m(\u001b[0m\u001b[0;34m(\u001b[0m\u001b[0mint_part\u001b[0m\u001b[0;34m,\u001b[0m\u001b[0mfloating_part\u001b[0m\u001b[0;34m)\u001b[0m\u001b[0;34m,\u001b[0m \u001b[0maxis\u001b[0m \u001b[0;34m=\u001b[0m \u001b[0;36m1\u001b[0m\u001b[0;34m)\u001b[0m\u001b[0;34m\u001b[0m\u001b[0;34m\u001b[0m\u001b[0m\n\u001b[1;32m     21\u001b[0m         \u001b[0mtable\u001b[0m \u001b[0;34m=\u001b[0m \u001b[0mPrettyTable\u001b[0m\u001b[0;34m(\u001b[0m\u001b[0mresult\u001b[0m\u001b[0;34m.\u001b[0m\u001b[0mdtype\u001b[0m\u001b[0;34m.\u001b[0m\u001b[0mnames\u001b[0m\u001b[0;34m)\u001b[0m\u001b[0;34m\u001b[0m\u001b[0;34m\u001b[0m\u001b[0m\n",
      "\u001b[0;31mValueError\u001b[0m: all the input array dimensions except for the concatenation axis must match exactly"
     ]
    }
   ],
   "source": [
    "result_table_xyz(target,optimizer)"
   ]
  },
  {
   "cell_type": "code",
   "execution_count": null,
   "metadata": {},
   "outputs": [],
   "source": [
    "table.title = 'Results for method Foo'\n",
    "table.field_names = ['Experiment', 'Value']\n",
    "table.add_row(['bla', 3.14])\n",
    "table.add_row(['baz', 42.0])"
   ]
  },
  {
   "cell_type": "code",
   "execution_count": null,
   "metadata": {},
   "outputs": [],
   "source": [
    "len(optimizer.predicted)"
   ]
  },
  {
   "cell_type": "code",
   "execution_count": null,
   "metadata": {},
   "outputs": [],
   "source": [
    "f.astype(int)"
   ]
  },
  {
   "cell_type": "code",
   "execution_count": null,
   "metadata": {},
   "outputs": [],
   "source": []
  },
  {
   "cell_type": "code",
   "execution_count": null,
   "metadata": {},
   "outputs": [],
   "source": [
    "it.shape"
   ]
  },
  {
   "cell_type": "code",
   "execution_count": null,
   "metadata": {},
   "outputs": [],
   "source": []
  }
 ],
 "metadata": {
  "kernelspec": {
   "display_name": "Python [conda env:gp_tutorial]",
   "language": "python",
   "name": "conda-env-gp_tutorial-py"
  },
  "language_info": {
   "codemirror_mode": {
    "name": "ipython",
    "version": 3
   },
   "file_extension": ".py",
   "mimetype": "text/x-python",
   "name": "python",
   "nbconvert_exporter": "python",
   "pygments_lexer": "ipython3",
   "version": "3.7.7"
  }
 },
 "nbformat": 4,
 "nbformat_minor": 2
}
