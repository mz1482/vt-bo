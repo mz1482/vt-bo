{
 "cells": [
  {
   "cell_type": "code",
   "execution_count": 6,
   "metadata": {},
   "outputs": [],
   "source": [
    "import pandas as pd\n",
    "import numpy as np\n",
    "from data_analysis import get_heart_bounds, correlation_coef, graph_3d\n",
    "from graph import narrow,corrplot3axes,trend,nearest,plot_exploration, graph_dist_over_axis, graph_cc_distribution\n",
    "from BayesOptLib.bayes_opt.bayesian_optimization import BayesianOptimization\n",
    "from RandomSampler import RandomSampler\n",
    "import matplotlib\n",
    "from matplotlib import pyplot as plt\n",
    "from mpl_toolkits.mplot3d import Axes3D\n",
    "from sklearn.metrics.pairwise import euclidean_distances\n",
    "matplotlib.use('Qt5Agg')  # or can use 'TkAgg', whatever you have/prefer\n",
    "from prettytable import PrettyTable\n",
    "%matplotlib qt \n",
    "\n",
    "\n",
    "def get_index(label):\n",
    "    \"\"\"\n",
    "    Gets the idx of a label in the labels array\n",
    "    :param label: label to check for\n",
    "    :return: idx\n",
    "    \"\"\"\n",
    "    idx = 0\n",
    "    for coord in labels:\n",
    "        if np.array_equal(label, coord):\n",
    "            break\n",
    "        idx += 1\n",
    "    return idx\n",
    "\n",
    "\n",
    "def black_box(x, y, z):\n",
    "    \"\"\"\n",
    "    Represents a black box function to maximize for CC of two ECGs given an XYZ coordinate\n",
    "    :param x:\n",
    "    :param y: coordinates of the prediction\n",
    "    :param z:\n",
    "    :return: CC of that point and the target\n",
    "    \"\"\"\n",
    "    sample_ecg = ecgs[get_index(np.array([x, y, z]))]\n",
    "    return correlation_coef(target_ecg, sample_ecg)\n",
    "\n",
    "\n",
    "def plot_exploration(visited, color_gradient):\n",
    "    \"\"\"\n",
    "    Handles plotting the predictions of the network over time\n",
    "    :param visited:\n",
    "    :return:\n",
    "    \"\"\"\n",
    "    path = np.array(visited)\n",
    "    color_gradient = np.array(color_gradient)\n",
    "\n",
    "\n",
    "    # Plot final for viewing\n",
    "    rest = np.delete(labels, np.where(np.isin(labels, path)), axis=0)\n",
    "    color_gradient = np.delete(color_gradient, np.where(np.isin(labels, path)), axis=0)\n",
    "#     fig = plt.figure(0)\n",
    "    fig = plt.figure(figsize=(8,8)); ax = Axes3D(fig)\n",
    "    ax = fig.gca(projection='3d')\n",
    "\n",
    "    ax.scatter(xs=rest[:, 0], ys=rest[:, 1], zs=rest[:, 2], zdir='z', alpha=0.75, c=color_gradient, cmap = plt.cm.Reds)\n",
    "    ax.scatter(xs=path[:, 0], ys=path[:, 1], zs=path[:, 2], zdir='z', color='blue')\n",
    "    ax.plot(path[:, 0], path[:, 1], path[:, 2], color = 'blue')\n",
    "\n",
    "    m = path\n",
    "    for i in range(len(m)):\n",
    "        ax.text(m[i, 0], m[i, 1], m[i, 2], '%s' % (str(i)), size=10, zorder=1, color='k')\n",
    "    ax.scatter(xs=target[0], ys=target[1], zs=target[2], color='black', s = 100)\n",
    "    plt.show()\n",
    "\n"
   ]
  },
  {
   "cell_type": "code",
   "execution_count": 7,
   "metadata": {},
   "outputs": [
    {
     "name": "stdout",
     "output_type": "stream",
     "text": [
      "(2000, 7212)\n"
     ]
    }
   ],
   "source": [
    "# if __name__ == '__main__':\n",
    "    # Read in ECGs and Coordinates\n",
    "ecgs = pd.read_csv(\"simu-data/Heart3_SimuData.csv\", header=None).to_numpy()\n",
    "labels = pd.read_csv(\"simu-data/Heart3_XYZsub.csv\", header=None).to_numpy() / 1000\n",
    "print(ecgs.shape)\n",
    "# Get bounds of the heart mesh\n",
    "bounds = get_heart_bounds(labels)"
   ]
  },
  {
   "cell_type": "code",
   "execution_count": 8,
   "metadata": {},
   "outputs": [],
   "source": [
    "def optimize_point(labels):\n",
    "    # Build the optimizer with the heart bounds\n",
    "    optimizer = BayesianOptimization(\n",
    "        f=black_box,\n",
    "        pbounds=bounds,\n",
    "        random_state=None, real_set=labels\n",
    "    )\n",
    "\n",
    "    # Maximize over x number of points\n",
    "    optimizer.maximize(init_points=10, n_iter=35,  acq=\"ucb\", kappa = 2)\n",
    "    return optimizer\n"
   ]
  },
  {
   "cell_type": "code",
   "execution_count": 9,
   "metadata": {},
   "outputs": [
    {
     "name": "stdout",
     "output_type": "stream",
     "text": [
      "Target:  [ 42.54957422 -79.85934375 -56.80838672]\n",
      "|   iter    |  target   |     x     |     y     |     z     |\n",
      "-------------------------------------------------------------\n",
      "| \u001b[0m 1       \u001b[0m | \u001b[0m 0.2305  \u001b[0m | \u001b[0m 15.53   \u001b[0m | \u001b[0m-33.24   \u001b[0m | \u001b[0m-51.18   \u001b[0m |\n",
      "| \u001b[95m 2       \u001b[0m | \u001b[95m 0.2924  \u001b[0m | \u001b[95m 19.25   \u001b[0m | \u001b[95m-55.42   \u001b[0m | \u001b[95m-70.44   \u001b[0m |\n",
      "| \u001b[95m 3       \u001b[0m | \u001b[95m 0.341   \u001b[0m | \u001b[95m 23.5    \u001b[0m | \u001b[95m-64.2    \u001b[0m | \u001b[95m-70.76   \u001b[0m |\n",
      "| \u001b[0m 4       \u001b[0m | \u001b[0m 0.2248  \u001b[0m | \u001b[0m 51.39   \u001b[0m | \u001b[0m-19.34   \u001b[0m | \u001b[0m-6.245   \u001b[0m |\n",
      "| \u001b[0m 5       \u001b[0m | \u001b[0m 0.2094  \u001b[0m | \u001b[0m-21.5    \u001b[0m | \u001b[0m-106.6   \u001b[0m | \u001b[0m-49.98   \u001b[0m |\n",
      "| \u001b[95m 6       \u001b[0m | \u001b[95m 0.4893  \u001b[0m | \u001b[95m 55.4    \u001b[0m | \u001b[95m-90.44   \u001b[0m | \u001b[95m-19.75   \u001b[0m |\n",
      "| \u001b[0m 7       \u001b[0m | \u001b[0m 0.2722  \u001b[0m | \u001b[0m 50.36   \u001b[0m | \u001b[0m-26.39   \u001b[0m | \u001b[0m-66.93   \u001b[0m |\n",
      "| \u001b[0m 8       \u001b[0m | \u001b[0m 0.473   \u001b[0m | \u001b[0m 48.77   \u001b[0m | \u001b[0m-32.49   \u001b[0m | \u001b[0m-58.63   \u001b[0m |\n",
      "| \u001b[0m 9       \u001b[0m | \u001b[0m 0.1527  \u001b[0m | \u001b[0m-4.807   \u001b[0m | \u001b[0m-37.67   \u001b[0m | \u001b[0m-59.61   \u001b[0m |\n",
      "| \u001b[0m 10      \u001b[0m | \u001b[0m 0.2105  \u001b[0m | \u001b[0m-13.4    \u001b[0m | \u001b[0m-98.29   \u001b[0m | \u001b[0m-49.23   \u001b[0m |\n",
      "| \u001b[0m 11      \u001b[0m | \u001b[0m 0.4022  \u001b[0m | \u001b[0m 52.05   \u001b[0m | \u001b[0m-91.85   \u001b[0m | \u001b[0m-21.7    \u001b[0m |\n",
      "| \u001b[0m 12      \u001b[0m | \u001b[0m 0.4703  \u001b[0m | \u001b[0m 48.78   \u001b[0m | \u001b[0m-31.49   \u001b[0m | \u001b[0m-59.18   \u001b[0m |\n",
      "| \u001b[0m 13      \u001b[0m | \u001b[0m 0.4564  \u001b[0m | \u001b[0m 51.96   \u001b[0m | \u001b[0m-88.91   \u001b[0m | \u001b[0m-21.36   \u001b[0m |\n",
      "| \u001b[95m 14      \u001b[0m | \u001b[95m 0.5306  \u001b[0m | \u001b[95m 52.61   \u001b[0m | \u001b[95m-88.33   \u001b[0m | \u001b[95m-22.66   \u001b[0m |\n",
      "| \u001b[95m 15      \u001b[0m | \u001b[95m 0.6263  \u001b[0m | \u001b[95m 52.33   \u001b[0m | \u001b[95m-85.48   \u001b[0m | \u001b[95m-24.01   \u001b[0m |\n",
      "| \u001b[95m 16      \u001b[0m | \u001b[95m 0.6577  \u001b[0m | \u001b[95m 45.21   \u001b[0m | \u001b[95m-70.41   \u001b[0m | \u001b[95m-22.25   \u001b[0m |\n",
      "| \u001b[0m 17      \u001b[0m | \u001b[0m 0.6539  \u001b[0m | \u001b[0m 45.02   \u001b[0m | \u001b[0m-70.72   \u001b[0m | \u001b[0m-21.0    \u001b[0m |\n",
      "| \u001b[0m 18      \u001b[0m | \u001b[0m 0.3083  \u001b[0m | \u001b[0m 46.58   \u001b[0m | \u001b[0m-90.32   \u001b[0m | \u001b[0m-21.33   \u001b[0m |\n",
      "| \u001b[0m 19      \u001b[0m | \u001b[0m 0.6216  \u001b[0m | \u001b[0m 44.39   \u001b[0m | \u001b[0m-72.52   \u001b[0m | \u001b[0m-17.13   \u001b[0m |\n",
      "| \u001b[0m 20      \u001b[0m | \u001b[0m 0.4667  \u001b[0m | \u001b[0m 49.19   \u001b[0m | \u001b[0m-30.73   \u001b[0m | \u001b[0m-60.21   \u001b[0m |\n",
      "| \u001b[0m 21      \u001b[0m | \u001b[0m 0.6539  \u001b[0m | \u001b[0m 45.74   \u001b[0m | \u001b[0m-71.97   \u001b[0m | \u001b[0m-20.28   \u001b[0m |\n",
      "| \u001b[0m 22      \u001b[0m | \u001b[0m 0.4497  \u001b[0m | \u001b[0m 59.67   \u001b[0m | \u001b[0m-87.06   \u001b[0m | \u001b[0m-17.51   \u001b[0m |\n",
      "| \u001b[0m 23      \u001b[0m | \u001b[0m 0.5592  \u001b[0m | \u001b[0m 44.13   \u001b[0m | \u001b[0m-74.84   \u001b[0m | \u001b[0m-15.34   \u001b[0m |\n",
      "| \u001b[95m 24      \u001b[0m | \u001b[95m 0.6596  \u001b[0m | \u001b[95m 45.46   \u001b[0m | \u001b[95m-73.3    \u001b[0m | \u001b[95m-19.95   \u001b[0m |\n",
      "| \u001b[0m 25      \u001b[0m | \u001b[0m 0.6065  \u001b[0m | \u001b[0m 44.61   \u001b[0m | \u001b[0m-75.25   \u001b[0m | \u001b[0m-18.02   \u001b[0m |\n",
      "| \u001b[0m 26      \u001b[0m | \u001b[0m 0.5369  \u001b[0m | \u001b[0m 50.71   \u001b[0m | \u001b[0m-85.08   \u001b[0m | \u001b[0m-20.76   \u001b[0m |\n",
      "| \u001b[0m 27      \u001b[0m | \u001b[0m 0.4068  \u001b[0m | \u001b[0m 62.4    \u001b[0m | \u001b[0m-87.9    \u001b[0m | \u001b[0m-18.48   \u001b[0m |\n",
      "| \u001b[0m 28      \u001b[0m | \u001b[0m 0.5027  \u001b[0m | \u001b[0m 45.11   \u001b[0m | \u001b[0m-77.4    \u001b[0m | \u001b[0m-14.33   \u001b[0m |\n",
      "| \u001b[0m 29      \u001b[0m | \u001b[0m 0.4193  \u001b[0m | \u001b[0m 44.81   \u001b[0m | \u001b[0m-78.7    \u001b[0m | \u001b[0m-12.58   \u001b[0m |\n",
      "| \u001b[95m 30      \u001b[0m | \u001b[95m 0.6726  \u001b[0m | \u001b[95m 50.56   \u001b[0m | \u001b[95m-77.72   \u001b[0m | \u001b[95m-27.58   \u001b[0m |\n",
      "| \u001b[95m 31      \u001b[0m | \u001b[95m 0.6737  \u001b[0m | \u001b[95m 51.33   \u001b[0m | \u001b[95m-82.1    \u001b[0m | \u001b[95m-25.05   \u001b[0m |\n",
      "| \u001b[0m 32      \u001b[0m | \u001b[0m 0.4584  \u001b[0m | \u001b[0m 48.26   \u001b[0m | \u001b[0m-29.26   \u001b[0m | \u001b[0m-60.79   \u001b[0m |\n",
      "| \u001b[0m 33      \u001b[0m | \u001b[0m 0.345   \u001b[0m | \u001b[0m 50.26   \u001b[0m | \u001b[0m-87.49   \u001b[0m | \u001b[0m-16.69   \u001b[0m |\n",
      "| \u001b[0m 34      \u001b[0m | \u001b[0m 0.606   \u001b[0m | \u001b[0m 38.82   \u001b[0m | \u001b[0m-63.5    \u001b[0m | \u001b[0m-14.92   \u001b[0m |\n",
      "| \u001b[0m 35      \u001b[0m | \u001b[0m 0.5966  \u001b[0m | \u001b[0m 37.85   \u001b[0m | \u001b[0m-61.63   \u001b[0m | \u001b[0m-14.84   \u001b[0m |\n",
      "| \u001b[95m 36      \u001b[0m | \u001b[95m 0.6754  \u001b[0m | \u001b[95m 51.56   \u001b[0m | \u001b[95m-81.39   \u001b[0m | \u001b[95m-26.19   \u001b[0m |\n",
      "| \u001b[0m 37      \u001b[0m | \u001b[0m 0.3513  \u001b[0m | \u001b[0m 44.0    \u001b[0m | \u001b[0m-79.48   \u001b[0m | \u001b[0m-10.68   \u001b[0m |\n",
      "| \u001b[0m 38      \u001b[0m | \u001b[0m 0.648   \u001b[0m | \u001b[0m 50.9    \u001b[0m | \u001b[0m-82.1    \u001b[0m | \u001b[0m-22.68   \u001b[0m |\n",
      "| \u001b[0m 39      \u001b[0m | \u001b[0m 0.5282  \u001b[0m | \u001b[0m 39.33   \u001b[0m | \u001b[0m-67.42   \u001b[0m | \u001b[0m-11.56   \u001b[0m |\n",
      "| \u001b[0m 40      \u001b[0m | \u001b[0m 0.6679  \u001b[0m | \u001b[0m 51.57   \u001b[0m | \u001b[0m-77.75   \u001b[0m | \u001b[0m-29.71   \u001b[0m |\n",
      "| \u001b[0m 41      \u001b[0m | \u001b[0m 0.603   \u001b[0m | \u001b[0m 39.14   \u001b[0m | \u001b[0m-64.1    \u001b[0m | \u001b[0m-14.03   \u001b[0m |\n",
      "| \u001b[95m 42      \u001b[0m | \u001b[95m 0.6773  \u001b[0m | \u001b[95m 51.3    \u001b[0m | \u001b[95m-79.24   \u001b[0m | \u001b[95m-27.68   \u001b[0m |\n",
      "| \u001b[0m 43      \u001b[0m | \u001b[0m 0.4677  \u001b[0m | \u001b[0m 54.3    \u001b[0m | \u001b[0m-85.91   \u001b[0m | \u001b[0m-15.33   \u001b[0m |\n",
      "| \u001b[0m 44      \u001b[0m | \u001b[0m 0.3389  \u001b[0m | \u001b[0m 49.94   \u001b[0m | \u001b[0m-85.06   \u001b[0m | \u001b[0m-14.04   \u001b[0m |\n",
      "| \u001b[95m 45      \u001b[0m | \u001b[95m 0.8946  \u001b[0m | \u001b[95m 41.56   \u001b[0m | \u001b[95m-78.29   \u001b[0m | \u001b[95m-39.54   \u001b[0m |\n",
      "=============================================================\n"
     ]
    }
   ],
   "source": [
    "# Pick out a sample to use as a target\n",
    "tidx = np.random.randint(0, labels.shape[0])\n",
    "#tidx = 1\n",
    "target, target_ecg = labels[tidx], ecgs[tidx]\n",
    "print(\"Target: \", target)\n",
    "\n",
    "# Remove target from labels\n",
    "#labels = np.delete(labels, np.where(np.isin(labels, target)), axis=0)\n",
    "\n",
    "# Get plots of target CC distribution\n",
    "# graph_cc_distribution(target_ecg)\n",
    "# graph_dist_over_axis(target_ecg)\n",
    "\n",
    "# Optimize for target and plot path\n",
    "optimizer = optimize_point(labels)"
   ]
  },
  {
   "cell_type": "code",
   "execution_count": 5,
   "metadata": {},
   "outputs": [],
   "source": [
    "# init =10\n",
    "# actual = np.asarray(optimizer.predicted)\n",
    "# approx = np.asarray(optimizer.visited)\n",
    "# approx = approx[len(approx)-len(actual):len(approx),:]\n"
   ]
  },
  {
   "cell_type": "code",
   "execution_count": 7,
   "metadata": {},
   "outputs": [],
   "source": [
    "# np.linalg.norm(target[1,:]-optimizer.visited[1,:])\n",
    "# optimizer.visited.shape"
   ]
  },
  {
   "cell_type": "code",
   "execution_count": 10,
   "metadata": {},
   "outputs": [
    {
     "data": {
      "text/plain": [
       "0.09855815"
      ]
     },
     "execution_count": 10,
     "metadata": {},
     "output_type": "execute_result"
    }
   ],
   "source": [
    "np.quantile(ecgs[1],0.5)"
   ]
  },
  {
   "cell_type": "code",
   "execution_count": 11,
   "metadata": {},
   "outputs": [],
   "source": [
    "plt.hist(ecgs[1])\n",
    "plt.show()"
   ]
  },
  {
   "cell_type": "code",
   "execution_count": 17,
   "metadata": {},
   "outputs": [],
   "source": [
    "def all_mean(ecgs):\n",
    "    mean_array = []\n",
    "    var_array = []\n",
    "    for i in range(len(ecgs)):\n",
    "        m = np.mean(ecgs[i])\n",
    "        v = np.var(ecgs[i])\n",
    "        mean_array = np.append(mean_array,m)\n",
    "        var_array = np.append(var_array,v)\n",
    "    return mean_array, var_array\n",
    "        \n",
    "        "
   ]
  },
  {
   "cell_type": "code",
   "execution_count": 18,
   "metadata": {},
   "outputs": [],
   "source": [
    "mean, var = all_mean(ecgs)"
   ]
  },
  {
   "cell_type": "code",
   "execution_count": 23,
   "metadata": {},
   "outputs": [],
   "source": [
    "plt.hist(var)\n",
    "plt.show()"
   ]
  },
  {
   "cell_type": "code",
   "execution_count": 5,
   "metadata": {},
   "outputs": [
    {
     "name": "stdout",
     "output_type": "stream",
     "text": [
      "+-------+---------+--------+----------+------+-------+------+\n",
      "|   x   |    y    |   z    | Distance | Corr |   Q1  |  Q3  |\n",
      "+-------+---------+--------+----------+------+-------+------+\n",
      "| 18.37 | -115.48 | -40.04 |   0.0    | 1.0  | -0.07 | 0.47 |\n",
      "| 10.43 | -113.15 | -33.03 |  10.85   | 0.99 | -0.07 | 0.46 |\n",
      "|  9.56 | -114.54 | -31.48 |  12.32   | 0.96 | -0.07 | 0.45 |\n",
      "|  8.47 | -112.98 | -30.32 |   14.1   | 0.97 | -0.07 | 0.46 |\n",
      "| 10.62 | -109.41 | -31.34 |  13.14   | 0.99 | -0.07 | 0.47 |\n",
      "|  8.28 | -111.71 | -30.42 |  14.44   | 0.99 | -0.07 | 0.47 |\n",
      "| 16.67 | -112.87 | -40.24 |   3.12   | 0.99 | -0.07 | 0.48 |\n",
      "| 17.09 | -113.94 | -37.22 |   3.46   | 0.99 | -0.07 | 0.47 |\n",
      "| 25.47 | -115.21 | -46.13 |   9.35   | 0.98 | -0.06 | 0.49 |\n",
      "| 26.06 | -115.05 | -47.06 |  10.42   | 0.97 | -0.06 | 0.49 |\n",
      "| 17.74 | -114.01 | -39.89 |   1.61   | 0.99 | -0.06 | 0.48 |\n",
      "| 16.26 | -112.95 | -37.16 |   4.38   | 0.99 | -0.07 | 0.48 |\n",
      "| 29.11 |  -115.0 | -48.8  |  13.87   | 0.97 | -0.06 | 0.49 |\n",
      "| 27.74 | -115.92 | -48.53 |  12.65   | 0.97 | -0.06 | 0.49 |\n",
      "|  9.67 | -110.31 | -31.52 |  13.23   | 0.99 | -0.07 | 0.47 |\n",
      "|  9.0  | -110.55 | -30.41 |  14.32   | 0.99 | -0.07 | 0.47 |\n",
      "| 10.82 | -112.08 | -32.7  |  11.07   | 1.0  | -0.07 | 0.47 |\n",
      "| 10.02 | -109.91 | -30.58 |   13.8   | 0.99 | -0.07 | 0.47 |\n",
      "|  24.0 | -116.43 | -46.15 |   8.36   | 0.99 | -0.06 | 0.48 |\n",
      "| 16.49 | -115.52 | -38.97 |   2.17   | 1.0  | -0.06 | 0.46 |\n",
      "| 16.85 | -116.51 | -39.4  |   1.94   | 0.99 | -0.07 | 0.46 |\n",
      "| 17.09 | -114.76 | -39.36 |   1.62   | 1.0  | -0.06 | 0.47 |\n",
      "| 18.81 | -112.69 | -39.54 |   2.87   | 0.99 | -0.07 | 0.47 |\n",
      "| 23.75 | -116.83 | -45.33 |   7.66   | 1.0  | -0.06 | 0.47 |\n",
      "|  25.8 | -118.04 | -47.65 |  10.94   | 1.0  | -0.06 | 0.47 |\n",
      "| 24.31 | -116.03 | -45.13 |   7.84   | 0.99 | -0.06 | 0.48 |\n",
      "| 26.22 | -114.06 | -46.47 |  10.24   | 0.97 | -0.06 | 0.49 |\n",
      "| 18.37 | -115.48 | -40.04 |   0.0    | 1.0  | -0.07 | 0.47 |\n",
      "|  13.7 | -115.23 | -36.4  |   5.93   | 0.99 | -0.07 | 0.46 |\n",
      "+-------+---------+--------+----------+------+-------+------+\n"
     ]
    }
   ],
   "source": [
    "def nearest(tidx,labels,ecgs,dis_limit):\n",
    "    target_loc = labels[tidx]\n",
    "    target_ecg = ecgs[tidx]\n",
    "    cc = np.array([[1]])\n",
    "    dis = np.array([[0]])\n",
    "    mean_target = np.array([[0]])+np.quantile(target_ecg,0.25)\n",
    "    var_target = np.array([[0]])+np.quantile(target_ecg,0.75)\n",
    "    first_row=np.concatenate((target_loc.reshape(1,3), dis,cc,mean_target,var_target),axis =1)\n",
    "    nn_loc = np.empty((0, 3))\n",
    "    nn_cc = np.empty ((0,1))\n",
    "    nn_dis = np.empty((0,1))\n",
    "    nn_mean = np.empty((0,1))\n",
    "    nn_var = np.empty((0,1))\n",
    "    for i in range(len(labels)):\n",
    "        d = np.sqrt(np.sum((target_loc - labels[i])**2))\n",
    "        if d < dis_limit:\n",
    "            nn_loc = np.append(nn_loc,labels[i].reshape(1,3),axis=0)\n",
    "            nn_cc = np.append(nn_cc,np.corrcoef(target_ecg, ecgs[i])[0, 1])\n",
    "            nn_dis = np.append(nn_dis,d)\n",
    "            nn_mean = np.append(nn_mean,np.quantile(ecgs[i],0.25))\n",
    "            nn_var = np.append(nn_var,np.quantile(ecgs[i],0.75))\n",
    "    nn_dis = nn_dis.reshape(-1,1)\n",
    "    nn_cc = nn_cc.reshape(-1,1)\n",
    "    nn_mean = nn_mean.reshape(-1,1)\n",
    "    nn_var = nn_var.reshape(-1,1)\n",
    "    near_points = np.concatenate((nn_loc, nn_dis, nn_cc,nn_mean,nn_var),axis =1)\n",
    "    table = np.concatenate((first_row,near_points), axis = 0)\n",
    "    table = np.around(table,2)\n",
    "    return table\n",
    "table=nearest(tidx,labels,ecgs,15)\n",
    "# plt.scatter(table[:,3],table[:,4])\n",
    "# plt.xlabel(\"distance\")\n",
    "# plt.ylabel(\"correlation\")\n",
    "# plt.show\n",
    "x= PrettyTable()\n",
    "x.field_names = ['x', 'y','z','Distance','Corr','Q1','Q3']\n",
    "for row in table:\n",
    "    x.add_row(row)\n",
    "print(x)"
   ]
  },
  {
   "cell_type": "code",
   "execution_count": 41,
   "metadata": {},
   "outputs": [
    {
     "data": {
      "text/plain": [
       "array([[ 19.91, -68.44, -63.48,   0.  ,   1.  ,   0.26,   0.94],\n",
       "       [ 25.51, -74.43, -67.23,   9.02,   0.95,   0.26,   0.95],\n",
       "       [ 29.41, -74.42, -72.8 ,  14.59,   0.96,   0.26,   0.91],\n",
       "       [ 31.11, -71.94, -75.67,  16.92,   0.96,   0.25,   0.84],\n",
       "       [ 29.41, -74.42, -72.8 ,  14.59,   0.96,   0.26,   0.91],\n",
       "       [ 29.41, -74.42, -72.8 ,  14.59,   0.96,   0.26,   0.91],\n",
       "       [ 26.84, -75.54, -69.17,  11.44,   0.93,   0.26,   0.97],\n",
       "       [ 31.93, -70.24, -77.3 ,  18.4 ,   0.89,   0.25,   0.87],\n",
       "       [ 31.17, -74.46, -75.11,  17.27,   0.96,   0.25,   0.87],\n",
       "       [ 29.57, -79.71, -69.55,  16.03,   0.89,   0.26,   0.99],\n",
       "       [ 20.42, -54.83, -49.61,  19.44,   0.1 ,   0.26,   0.94],\n",
       "       [ 12.75, -58.67, -63.35,  12.12,   0.93,   0.26,   0.92],\n",
       "       [ 13.78, -61.18, -62.32,   9.58,   0.96,   0.26,   0.93],\n",
       "       [ 18.29, -56.59, -51.32,  17.05,   0.16,   0.26,   0.9 ],\n",
       "       [  9.74, -57.59, -60.41,  15.19,   0.9 ,   0.26,   0.92],\n",
       "       [ 27.3 , -68.35, -73.  ,  12.06,   0.95,   0.25,   0.79],\n",
       "       [ 12.75, -58.67, -63.35,  12.12,   0.93,   0.26,   0.92],\n",
       "       [ 21.68, -67.  , -61.5 ,   3.01,   0.94,   0.26,   0.72],\n",
       "       [ 19.21, -61.13, -68.38,   8.84,   0.88,   0.25,   0.81],\n",
       "       [ 35.96, -70.81, -62.48,  16.25,   0.24,   0.26,   0.6 ],\n",
       "       [ 37.25, -70.87, -62.35,  17.54,   0.24,   0.26,   0.59],\n",
       "       [ 18.17, -67.79, -62.15,   2.29,   1.  ,   0.26,   0.95],\n",
       "       [ 19.25, -55.42, -70.44,  14.78,   0.63,   0.24,   0.76],\n",
       "       [ 24.62, -68.3 , -70.31,   8.3 ,   0.98,   0.26,   0.84],\n",
       "       [ 24.37, -65.28, -59.57,   6.72,   0.63,   0.26,   0.61],\n",
       "       [ 11.65, -61.92, -59.27,  11.34,   0.94,   0.25,   0.96],\n",
       "       [ 25.51, -74.43, -67.23,   9.02,   0.95,   0.26,   0.95],\n",
       "       [ 18.17, -67.79, -62.15,   2.29,   1.  ,   0.26,   0.95],\n",
       "       [ 12.79, -56.31, -64.14,  14.08,   0.83,   0.25,   0.82],\n",
       "       [ 10.69, -59.35, -59.78,  13.47,   0.92,   0.25,   0.94],\n",
       "       [ 23.5 , -64.2 , -70.76,   9.16,   0.89,   0.25,   0.78],\n",
       "       [ 13.65, -63.22, -60.92,   8.55,   0.97,   0.26,   0.95],\n",
       "       [ 19.44, -56.17, -51.41,  17.22,   0.11,   0.26,   0.92],\n",
       "       [ 21.42, -57.04, -50.72,  17.18,   0.1 ,   0.26,   0.9 ],\n",
       "       [ 18.87, -61.89, -66.6 ,   7.33,   0.94,   0.26,   0.85],\n",
       "       [ 27.21, -60.83, -74.11,  14.97,   0.7 ,   0.25,   0.78],\n",
       "       [ 23.99, -71.21, -68.41,   6.97,   0.98,   0.26,   0.94],\n",
       "       [ 29.55, -60.92, -53.44,  15.82,   0.13,   0.26,   0.78],\n",
       "       [ 21.59, -51.38, -71.98,  19.14,   0.52,   0.24,   0.73],\n",
       "       [ 25.95, -64.88, -58.25,   8.74,   0.42,   0.26,   0.66],\n",
       "       [ 23.44, -69.51, -68.67,   6.37,   0.99,   0.26,   0.93],\n",
       "       [ 24.43, -50.83, -70.88,  19.64,   0.51,   0.25,   0.75],\n",
       "       [ 36.56, -68.83, -60.06,  17.  ,   0.21,   0.26,   0.62],\n",
       "       [ 23.17, -66.48, -61.12,   4.47,   0.86,   0.26,   0.64],\n",
       "       [ 34.03, -70.5 , -62.59,  14.29,   0.34,   0.26,   0.6 ],\n",
       "       [ 18.59, -55.92, -68.64,  13.61,   0.69,   0.25,   0.75],\n",
       "       [ 29.47, -70.74, -47.11,  19.08,   0.15,   0.26,   0.61],\n",
       "       [ 12.79, -56.31, -64.14,  14.08,   0.83,   0.25,   0.82],\n",
       "       [ 27.9 , -70.81, -47.34,  18.16,   0.18,   0.26,   0.61],\n",
       "       [ 18.59, -55.92, -68.64,  13.61,   0.69,   0.25,   0.75],\n",
       "       [ 19.51, -65.13, -66.16,   4.28,   1.  ,   0.26,   0.93],\n",
       "       [ 12.54, -61.19, -57.36,  12.02,   0.88,   0.25,   0.84],\n",
       "       [ 19.51, -65.13, -66.16,   4.28,   1.  ,   0.26,   0.93],\n",
       "       [ 28.46, -75.47, -68.74,  12.25,   0.95,   0.26,   0.89],\n",
       "       [ 12.75, -58.67, -63.35,  12.12,   0.93,   0.26,   0.92],\n",
       "       [ 26.4 , -70.45, -45.95,  18.8 ,   0.21,   0.26,   0.63],\n",
       "       [ 30.09, -71.87, -48.53,  18.4 ,   0.17,   0.26,   0.59],\n",
       "       [ 21.79, -70.97, -65.06,   3.52,   0.99,   0.26,   0.94],\n",
       "       [ 19.39, -50.69, -70.63,  19.15,   0.52,   0.24,   0.72],\n",
       "       [ 18.87, -61.89, -66.6 ,   7.33,   0.94,   0.26,   0.85],\n",
       "       [ 13.36, -63.51, -60.04,   8.9 ,   0.96,   0.26,   0.96],\n",
       "       [ 14.33, -55.18, -66.42,  14.69,   0.71,   0.25,   0.77],\n",
       "       [ 21.79, -70.97, -65.06,   3.52,   0.99,   0.26,   0.94],\n",
       "       [ 27.3 , -68.35, -73.  ,  12.06,   0.95,   0.25,   0.79],\n",
       "       [ 27.21, -60.83, -74.11,  14.97,   0.7 ,   0.25,   0.78],\n",
       "       [ 27.3 , -68.35, -73.  ,  12.06,   0.95,   0.25,   0.79],\n",
       "       [ 29.89, -76.79, -72.87,  16.04,   0.9 ,   0.26,   0.98],\n",
       "       [ 26.26, -73.6 , -69.46,  10.13,   0.95,   0.26,   0.95],\n",
       "       [ 27.3 , -68.35, -73.  ,  12.06,   0.95,   0.25,   0.79],\n",
       "       [ 29.57, -79.71, -69.55,  16.03,   0.89,   0.26,   0.99],\n",
       "       [ 32.47, -68.62, -77.76,  19.02,   0.84,   0.25,   0.86],\n",
       "       [ 26.84, -75.54, -69.17,  11.44,   0.93,   0.26,   0.97],\n",
       "       [ 29.41, -74.42, -72.8 ,  14.59,   0.96,   0.26,   0.91],\n",
       "       [ 29.7 , -70.58, -74.44,  14.85,   0.96,   0.25,   0.82],\n",
       "       [ 14.97, -63.59, -62.07,   7.06,   0.97,   0.26,   0.95],\n",
       "       [ 27.21, -60.83, -74.11,  14.97,   0.7 ,   0.25,   0.78],\n",
       "       [ 32.46, -72.88, -64.64,  13.36,   0.72,   0.26,   0.56],\n",
       "       [ 18.87, -61.89, -66.6 ,   7.33,   0.94,   0.26,   0.85],\n",
       "       [ 12.79, -56.31, -64.14,  14.08,   0.83,   0.25,   0.82],\n",
       "       [ 22.  , -71.89, -64.93,   4.29,   0.99,   0.26,   0.95],\n",
       "       [ 30.03, -63.5 , -56.03,  13.5 ,   0.13,   0.26,   0.74],\n",
       "       [ 29.7 , -75.04, -67.41,  12.44,   0.94,   0.26,   0.75],\n",
       "       [ 28.28, -63.37, -56.29,  12.14,   0.13,   0.26,   0.76],\n",
       "       [ 27.3 , -68.35, -73.  ,  12.06,   0.95,   0.25,   0.79],\n",
       "       [ 27.42, -72.33, -47.32,  18.23,   0.25,   0.26,   0.6 ],\n",
       "       [ 17.87, -57.43, -52.88,  15.41,   0.31,   0.26,   0.81],\n",
       "       [ 21.72, -54.98, -49.17,  19.73,   0.11,   0.26,   0.92],\n",
       "       [ 18.59, -55.92, -68.64,  13.61,   0.69,   0.25,   0.75],\n",
       "       [ 23.99, -71.21, -68.41,   6.97,   0.98,   0.26,   0.94],\n",
       "       [ 13.66, -52.78, -66.16,  17.07,   0.66,   0.25,   0.75],\n",
       "       [ 15.79, -59.43, -55.18,  12.92,   0.64,   0.26,   0.67],\n",
       "       [ 19.51, -65.13, -66.16,   4.28,   1.  ,   0.26,   0.93],\n",
       "       [ 19.39, -50.69, -70.63,  19.15,   0.52,   0.24,   0.72],\n",
       "       [ 31.99, -75.01, -67.52,  14.33,   0.88,   0.26,   0.64],\n",
       "       [ 26.72, -66.88, -73.88,  12.54,   0.9 ,   0.25,   0.82],\n",
       "       [ 26.95, -64.28, -56.86,  10.52,   0.25,   0.26,   0.72],\n",
       "       [ 12.75, -58.67, -63.35,  12.12,   0.93,   0.26,   0.92],\n",
       "       [ 29.41, -61.65, -54.48,  14.74,   0.12,   0.26,   0.77],\n",
       "       [ 28.11, -57.11, -75.32,  18.33,   0.58,   0.24,   0.78],\n",
       "       [ 17.62, -63.25, -65.88,   6.17,   0.98,   0.26,   0.93],\n",
       "       [ 31.6 , -70.14, -62.44,  11.86,   0.49,   0.26,   0.57],\n",
       "       [ 37.44, -68.36, -59.04,  18.08,   0.21,   0.26,   0.61],\n",
       "       [ 13.78, -61.18, -62.32,   9.58,   0.96,   0.26,   0.93],\n",
       "       [ 11.65, -61.92, -59.27,  11.34,   0.94,   0.25,   0.96],\n",
       "       [ 24.62, -68.3 , -70.31,   8.3 ,   0.98,   0.26,   0.84],\n",
       "       [ 19.39, -50.69, -70.63,  19.15,   0.52,   0.24,   0.72],\n",
       "       [ 21.79, -70.97, -65.06,   3.52,   0.99,   0.26,   0.94],\n",
       "       [ 11.76, -53.06, -64.45,  17.44,   0.72,   0.25,   0.77],\n",
       "       [ 15.39, -60.58, -55.7 ,  11.95,   0.75,   0.26,   0.66],\n",
       "       [ 16.38, -57.5 , -66.56,  11.91,   0.8 ,   0.25,   0.79],\n",
       "       [ 18.17, -67.79, -62.15,   2.29,   1.  ,   0.26,   0.95],\n",
       "       [ 16.2 , -57.81, -52.87,  15.47,   0.41,   0.26,   0.75],\n",
       "       [ 13.78, -61.18, -62.32,   9.58,   0.96,   0.26,   0.93],\n",
       "       [ 12.75, -58.67, -63.35,  12.12,   0.93,   0.26,   0.92],\n",
       "       [ 18.59, -55.92, -68.64,  13.61,   0.69,   0.25,   0.75],\n",
       "       [ 27.56, -68.19, -45.59,  19.45,   0.14,   0.26,   0.65],\n",
       "       [ 27.18, -51.46, -71.08,  19.98,   0.5 ,   0.25,   0.77],\n",
       "       [ 11.5 , -51.52, -64.81,  18.95,   0.66,   0.25,   0.75],\n",
       "       [ 11.65, -61.92, -59.27,  11.34,   0.94,   0.25,   0.96],\n",
       "       [ 22.33, -62.46, -70.02,   9.19,   0.87,   0.25,   0.78],\n",
       "       [ 18.17, -67.79, -62.15,   2.29,   1.  ,   0.26,   0.95],\n",
       "       [ 27.21, -60.83, -74.11,  14.97,   0.7 ,   0.25,   0.78],\n",
       "       [ 12.79, -56.31, -64.14,  14.08,   0.83,   0.25,   0.82],\n",
       "       [ 13.36, -63.51, -60.04,   8.9 ,   0.96,   0.26,   0.96],\n",
       "       [ 11.5 , -51.52, -64.81,  18.95,   0.66,   0.25,   0.75],\n",
       "       [ 31.82, -69.97, -47.65,  19.86,   0.16,   0.26,   0.59],\n",
       "       [ 28.04, -51.6 , -69.83,  19.75,   0.46,   0.25,   0.78],\n",
       "       [ 19.91, -68.44, -63.48,   0.  ,   1.  ,   0.26,   0.94],\n",
       "       [ 29.99, -69.32, -46.79,  19.51,   0.14,   0.26,   0.61],\n",
       "       [ 29.41, -74.42, -72.8 ,  14.59,   0.96,   0.26,   0.91],\n",
       "       [ 25.51, -74.43, -67.23,   9.02,   0.95,   0.26,   0.95],\n",
       "       [ 29.41, -74.42, -72.8 ,  14.59,   0.96,   0.26,   0.91],\n",
       "       [ 26.84, -75.54, -69.17,  11.44,   0.93,   0.26,   0.97],\n",
       "       [ 29.41, -74.42, -72.8 ,  14.59,   0.96,   0.26,   0.91],\n",
       "       [ 29.41, -74.42, -72.8 ,  14.59,   0.96,   0.26,   0.91]])"
      ]
     },
     "execution_count": 41,
     "metadata": {},
     "output_type": "execute_result"
    }
   ],
   "source": [
    "nearest(tidx,labels,ecgs,20)"
   ]
  },
  {
   "cell_type": "code",
   "execution_count": 24,
   "metadata": {},
   "outputs": [],
   "source": [
    "def nearest(tidx,labels,ecgs,dis_limit):\n",
    "    target_loc = labels[tidx]\n",
    "    target_ecg = ecgs[tidx]\n",
    "    cc = np.array([[1]])\n",
    "    dis = np.array([[0]])\n",
    "    first_row=np.concatenate((target_loc.reshape(1,3), dis,cc),axis =1)\n",
    "    nn_loc = np.empty((0, 3))\n",
    "    nn_cc = np.empty ((0,1))\n",
    "    nn_dis = np.empty((0,1))\n",
    "    for i in range(len(labels)):\n",
    "        d = np.sqrt(np.sum((target_loc - labels[i])**2))\n",
    "        if d < dis_limit:\n",
    "            nn_loc = np.append(nn_loc,labels[i].reshape(1,3),axis=0)\n",
    "            nn_cc = np.append(nn_cc,np.corrcoef(target_ecg, ecgs[i])[0, 1])\n",
    "            nn_dis = np.append(nn_dis,d)\n",
    "    nn_dis = nn_dis.reshape(-1,1)\n",
    "    nn_cc = nn_cc.reshape(-1,1)\n",
    "    near_points = np.concatenate((nn_loc, nn_dis, nn_cc),axis =1)\n",
    "    table = np.concatenate((first_row,near_points), axis = 0)\n",
    "    table = np.around(table,2)\n",
    "    plt.figure(2)\n",
    "    plt.scatter(table[:,3],table[:,4])\n",
    "    plt.xlabel(\"distance\")\n",
    "    plt.ylabel(\"correlation\")\n",
    "    plt.show\n",
    "    return table"
   ]
  },
  {
   "cell_type": "code",
   "execution_count": 44,
   "metadata": {},
   "outputs": [
    {
     "data": {
      "text/plain": [
       "0.09855815"
      ]
     },
     "execution_count": 44,
     "metadata": {},
     "output_type": "execute_result"
    }
   ],
   "source": [
    "np.quantile(ecgs[1],0.5)"
   ]
  },
  {
   "cell_type": "code",
   "execution_count": 66,
   "metadata": {},
   "outputs": [],
   "source": [
    "x,y,z,nn_cc = corrplot3axes(tidx,labels,ecgs,15)"
   ]
  },
  {
   "cell_type": "code",
   "execution_count": 58,
   "metadata": {},
   "outputs": [],
   "source": [
    "def plot_exploration(visited, color_gradient):\n",
    "    \"\"\"\n",
    "    Handles plotting the predictions of the network over time\n",
    "    :param visited:\n",
    "    :return:\n",
    "    \"\"\"\n",
    "    path = np.array(visited)\n",
    "    color_gradient = np.array(color_gradient)\n",
    "\n",
    "    # Plot final for viewing\n",
    "    rest = np.delete(labels, np.where(np.isin(labels, path)), axis=0)\n",
    "    color_gradient = np.delete(color_gradient, np.where(np.isin(labels, path)), axis=0)\n",
    "    fig = plt.figure(0)\n",
    "    ax = fig.gca(projection='3d')\n",
    "\n",
    "    ax.scatter(xs=rest[:, 0], ys=rest[:, 1], zs=rest[:, 2], zdir='z', alpha=0.75, c=color_gradient, cmap = plt.cm.Reds)\n",
    "    ax.scatter(xs=path[:, 0], ys=path[:, 1], zs=path[:, 2], zdir='z', color='blue')\n",
    "    ax.plot(path[:, 0], path[:, 1], path[:, 2], color = 'blue')\n",
    "\n",
    "    m = path\n",
    "    for i in range(len(m)):\n",
    "        ax.text(m[i, 0], m[i, 1], m[i, 2], '%s' % (str(i)), size=10, zorder=1, color='k')\n",
    "    ax.scatter(xs=target[0], ys=target[1], zs=target[2], color='black', s = 100)\n",
    "    plt.show()\n"
   ]
  },
  {
   "cell_type": "code",
   "execution_count": 6,
   "metadata": {},
   "outputs": [
    {
     "name": "stdout",
     "output_type": "stream",
     "text": [
      "Warning: Cannot change to a different GUI toolkit: notebook. Using qt instead.\n"
     ]
    }
   ],
   "source": [
    "color_gradient = []\n",
    "    # Loop through all points to get CC with that point\n",
    "for ecg, coord in zip(ecgs, labels):\n",
    "    if np.array_equal(target_ecg, ecg):\n",
    "        true = coord\n",
    "        color_gradient.append(1)\n",
    "        continue\n",
    "\n",
    "    cc = correlation_coef(target_ecg, ecg)\n",
    "    color_gradient.append(cc)\n",
    "# %matplotlib notebook\n",
    "plot_exploration(optimizer.visited, color_gradient)"
   ]
  },
  {
   "cell_type": "code",
   "execution_count": null,
   "metadata": {},
   "outputs": [],
   "source": [
    "def graph_cc_distribution(target_loc,target,limit,g_labels,g_ecgs):\n",
    "    true, blue, green, yellow, red = None, [], [], [], []\n",
    "    color_gradient = []\n",
    "    ecgs = np.empty((0, 7212))\n",
    "    labels = np.empty((0, 3))\n",
    "    for i in range(len(g_labels)):\n",
    "        d = np.sqrt(np.sum((target_loc - g_labels[i])**2))\n",
    "        if d < limit:\n",
    "            labels = np.append(labels,g_labels[i].reshape(1,3),axis=0)\n",
    "            ecgs = np.append(ecgs,g_ecgs[i].reshape(1,7212),axis=0)\n",
    "    for ecg, coord in zip(ecgs, labels):\n",
    "        if np.array_equal(target, ecg):\n",
    "            true = coord\n",
    "            color_gradient.append(1)\n",
    "            continue\n",
    "\n",
    "        cc = correlation_coef(target, ecg)\n",
    "        color_gradient.append(cc)\n",
    "        if cc >= .9:\n",
    "            blue.append(coord)\n",
    "        elif .9 > cc >= .75:\n",
    "            green.append(coord)\n",
    "        elif .75 > cc > .3:\n",
    "            yellow.append(coord)\n",
    "        else:\n",
    "            red.append(coord)\n",
    "\n",
    "    # Plot out the points according to color\n",
    "    fig = plt.figure(55)\n",
    "    ax = fig.add_subplot(111, projection='3d')\n",
    "#     ax = fig.gca(projection='3d')\n",
    "    ax.scatter(true[0], true[1], true[2], color='black')\n",
    "    ax.scatter(xs=labels[:, 0], ys=labels[:, 1], zs=labels[:, 2], c=color_gradient, cmap = plt.cm.autumn)\n",
    "    ax.scatter(true[0], true[1], true[2], color='black', marker = \"X\", s = 100)\n",
    "    ax.set_xlabel(\"X\"), ax.set_ylabel(\"Y\"), ax.set_zlabel(\"Z\")\n",
    "    for angle in range(0, 360):\n",
    "        ax.view_init(30, angle)\n",
    "        plt.draw()\n",
    "        plt.pause(.001)\n",
    "    fig.show()\n",
    "#     return labels"
   ]
  },
  {
   "cell_type": "code",
   "execution_count": null,
   "metadata": {},
   "outputs": [],
   "source": [
    "graph_cc_distribution(target,target_ecg,50,labels,ecgs)"
   ]
  },
  {
   "cell_type": "code",
   "execution_count": 97,
   "metadata": {},
   "outputs": [],
   "source": [
    "def test(target,limit,g_labels,g_ecgs):\n",
    "    true, blue, green, yellow, red = None, [], [], [], []\n",
    "    color_gradient = []\n",
    "    ecgs = np.empty((0, 7212))\n",
    "    labels = np.empty((0, 3))\n",
    "    for i in range(len(g_labels)):\n",
    "        d = np.sqrt(np.sum((target - g_labels[i])**2))\n",
    "        if d < limit:\n",
    "            labels = np.append(labels,g_labels[i].reshape(1,3),axis=0)\n",
    "            ecgs = np.append(ecgs,g_ecgs[i].reshape(1,7212),axis=0)\n",
    "    return labels,ecgs"
   ]
  },
  {
   "cell_type": "code",
   "execution_count": 98,
   "metadata": {},
   "outputs": [],
   "source": [
    "labels,ecgs=test(target,10,labels,ecgs)"
   ]
  },
  {
   "cell_type": "code",
   "execution_count": 108,
   "metadata": {},
   "outputs": [
    {
     "data": {
      "text/plain": [
       "array([5.88000000e-15, 1.01528000e-05, 7.95080000e-05, ...,\n",
       "       2.31613333e-01, 2.20140000e-01, 2.08898667e-01])"
      ]
     },
     "execution_count": 108,
     "metadata": {},
     "output_type": "execute_result"
    }
   ],
   "source": [
    "target_ecg"
   ]
  },
  {
   "cell_type": "code",
   "execution_count": null,
   "metadata": {},
   "outputs": [],
   "source": []
  }
 ],
 "metadata": {
  "kernelspec": {
   "display_name": "Python [conda env:tf_gpu] *",
   "language": "python",
   "name": "conda-env-tf_gpu-py"
  },
  "language_info": {
   "codemirror_mode": {
    "name": "ipython",
    "version": 3
   },
   "file_extension": ".py",
   "mimetype": "text/x-python",
   "name": "python",
   "nbconvert_exporter": "python",
   "pygments_lexer": "ipython3",
   "version": "3.7.5"
  }
 },
 "nbformat": 4,
 "nbformat_minor": 2
}
