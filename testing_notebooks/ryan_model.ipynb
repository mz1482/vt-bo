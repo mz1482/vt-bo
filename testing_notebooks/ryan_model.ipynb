{
 "cells": [
  {
   "cell_type": "code",
   "execution_count": 1,
   "metadata": {},
   "outputs": [],
   "source": [
    "import sys\n",
    "sys.path.append('/home/mz1482/project/vt-bayesian-opt-bopt_debug/')\n",
    "from models.ccmodel import CCModel\n",
    "from models.rsmodel import RSModel\n",
    "from models.bomodel import BOModel\n",
    "from models.confi import *\n",
    "from models.utilfuncs import *\n",
    "from graph import *\n",
    "from data_analysis import *\n",
    "import pandas as pd\n",
    "from tqdm import tqdm\n",
    "import random\n",
    "\n",
    "# Ignoring warnings\n",
    "import warnings\n",
    "warnings.filterwarnings('ignore')"
   ]
  },
  {
   "cell_type": "code",
   "execution_count": 2,
   "metadata": {},
   "outputs": [],
   "source": [
    "data_path = \"/home/mz1482/project/vt-bayesian-opt-bopt_debug/data/simu_data_4000/\"\n",
    "# Reading in the ECGs and labels\n",
    "aucs = pd.read_csv(data_path+\"Heart1/Heart1_AUCS_4000.csv\", header=None).to_numpy()\n",
    "ecgs = pd.read_csv(data_path+\"Heart1/Heart1_SimuData_4000_200Cropped.csv\", header=None).to_numpy()\n",
    "labels = pd.read_csv(data_path+\"Heart1/Coord1_4000.csv\", header=None).to_numpy() / 1000\n",
    "uvc = pd.read_csv(data_path+\"UVC/Coord1_UVC_4000.csv\", header=None).to_numpy()\n",
    "\n",
    "idx=lv_rv(uvc,-1)\n",
    "uvc_lv=uvc[idx]\n",
    "uvc_lv = uvc_lv[:,0:3]\n",
    "ecgs = ecgs[idx]\n",
    "labels = labels[idx]\n",
    "aucs = aucs[idx]"
   ]
  },
  {
   "cell_type": "code",
   "execution_count": 3,
   "metadata": {},
   "outputs": [
    {
     "ename": "SyntaxError",
     "evalue": "invalid syntax (<ipython-input-3-53e089b8e187>, line 1)",
     "output_type": "error",
     "traceback": [
      "\u001b[0;36m  File \u001b[0;32m\"<ipython-input-3-53e089b8e187>\"\u001b[0;36m, line \u001b[0;32m1\u001b[0m\n\u001b[0;31m    for i in rangeecgs.shape[1]\u001b[0m\n\u001b[0m                               ^\u001b[0m\n\u001b[0;31mSyntaxError\u001b[0m\u001b[0;31m:\u001b[0m invalid syntax\n"
     ]
    }
   ],
   "source": [
    "for i in rangeecgs.shape[1]"
   ]
  },
  {
   "cell_type": "code",
   "execution_count": null,
   "metadata": {},
   "outputs": [],
   "source": [
    "len()"
   ]
  },
  {
   "cell_type": "code",
   "execution_count": null,
   "metadata": {},
   "outputs": [],
   "source": [
    "total_cases = 0\n",
    "alle, all_points = [], []\n",
    "# cc_euclids = [[] for _ in range(NUM_STEPS + 21)]                    # Random init CC arrays\n",
    "cc_euclids = []\n",
    "cc_successes, cc_avg_sites = [], []\n",
    "cc_drop = []\n",
    "# Set mm threshold for finding nearest\n",
    "mm_thres = 200000"
   ]
  },
  {
   "cell_type": "code",
   "execution_count": null,
   "metadata": {},
   "outputs": [],
   "source": [
    "def get_random_dataset(data, coords):\n",
    "    \"\"\"\n",
    "    Handles getting the random dataset for the randomly initialized models\n",
    "    :param target_coord: target coordinate\n",
    "    :param data: full dataset for a patient\n",
    "    :param coords: full labels for a patient\n",
    "    :return: x, y of size 4\n",
    "    \"\"\"\n",
    "    indices = np.random.choice(range(0, data.shape[0]), NUM_POINTS_START, replace=False)\n",
    "    return data[indices], coords[indices]"
   ]
  },
  {
   "cell_type": "code",
   "execution_count": null,
   "metadata": {},
   "outputs": [],
   "source": [
    "def model_run(model, x, y, train, labels, target, target_coord, target_raw, successes, avg_sites, all_euclids):\n",
    "    \"\"\"\n",
    "    Handles running a single runthrough of a given model on a target site\n",
    "    Train and labels are the initialized sets to start with (either random or by segment prediction)\n",
    "    \"\"\"\n",
    "    # Run the training loop for the model\n",
    "    euclids, preds, sites, success, nsites = model.run(x, y, train, labels, target, target_coord, target_raw)\n",
    "    sites = np.asarray(sites)\n",
    "\n",
    "    # Add to arrays if successful and add the per steps error\n",
    "    if success:\n",
    "        successes.append(euclids[-1])\n",
    "        avg_sites.append(nsites)\n",
    "    for j in range(len(euclids)):\n",
    "        all_euclids[j].append(euclids[j])\n",
    "        # if j != 0:\n",
    "        #     drop.append(euclids[j] - euclids[j - 1])\n",
    "    return successes, avg_sites, all_euclids, sites"
   ]
  },
  {
   "cell_type": "code",
   "execution_count": null,
   "metadata": {},
   "outputs": [],
   "source": [
    "cc_model = CCModel(leads=LEADS, steps=NUM_STEPS, svr_c=SVR_C, cc=CC_THRES, cc_succ=CC_SUCC,\n",
    "                   mm=mm_thres, samp_raw=ecgs, samp_coords=labels)\n",
    "rs_model = RSModel(steps=NUM_STEPS, svr_c=SVR_C, samp_raw=ecgs, samp_coords=labels, cc_succ=CC_SUCC)"
   ]
  },
  {
   "cell_type": "code",
   "execution_count": null,
   "metadata": {},
   "outputs": [],
   "source": [
    "exp = np.random.randint(0,len(labels),1)\n",
    "for n in range(len(exp)):\n",
    "    idx = exp[n]\n",
    "    target = aucs[idx]\n",
    "    target_coord = labels[idx]\n",
    "    target_raw = ecgs[idx]\n",
    "    # target_uvc = uvc[idx]\n",
    "#     labels, aucs, ecgs=closer_points(target_coord,ecgs,labels,aucs,40)\n",
    "\n",
    "    # Drop the target from the training set\n",
    "    if idx == 0:\n",
    "        x, y, raw = aucs[idx + 1:, :], labels[idx + 1:], ecgs[idx + 1:, :]\n",
    "    else:\n",
    "        x = np.concatenate((aucs[:idx, :], aucs[idx + 1:, :]))\n",
    "        y = np.concatenate((labels[:idx], labels[idx + 1:]))\n",
    "        raw = np.concatenate((ecgs[:idx], ecgs[idx + 1:]))\n",
    "    random_x, random_y = get_random_dataset(x, y)\n",
    "\n",
    "    cc_euclids, cc_preds, cc_sites, success, num_sites,no_of_lead = cc_model.run(x, y, random_x, random_y,\n",
    "                                                             target, target_coord, target_raw)"
   ]
  },
  {
   "cell_type": "code",
   "execution_count": null,
   "metadata": {},
   "outputs": [],
   "source": [
    "success"
   ]
  },
  {
   "cell_type": "code",
   "execution_count": null,
   "metadata": {},
   "outputs": [],
   "source": [
    "no_of_lead"
   ]
  },
  {
   "cell_type": "code",
   "execution_count": null,
   "metadata": {},
   "outputs": [],
   "source": [
    "num_sites"
   ]
  },
  {
   "cell_type": "code",
   "execution_count": null,
   "metadata": {},
   "outputs": [],
   "source": [
    "ecgs.shape"
   ]
  },
  {
   "cell_type": "code",
   "execution_count": null,
   "metadata": {},
   "outputs": [],
   "source": [
    "target"
   ]
  },
  {
   "cell_type": "code",
   "execution_count": null,
   "metadata": {},
   "outputs": [],
   "source": [
    "euclid = np.array([25,42,3])"
   ]
  },
  {
   "cell_type": "code",
   "execution_count": null,
   "metadata": {},
   "outputs": [],
   "source": [
    "inds = np.argsort(-euclid)"
   ]
  },
  {
   "cell_type": "code",
   "execution_count": null,
   "metadata": {},
   "outputs": [],
   "source": [
    "euclid[inds]"
   ]
  },
  {
   "cell_type": "code",
   "execution_count": null,
   "metadata": {},
   "outputs": [],
   "source": [
    "target_raw.shape"
   ]
  },
  {
   "cell_type": "code",
   "execution_count": null,
   "metadata": {},
   "outputs": [],
   "source": [
    "target_raw = np.reshape(target_raw, [12, -1])"
   ]
  },
  {
   "cell_type": "code",
   "execution_count": null,
   "metadata": {},
   "outputs": [],
   "source": [
    "for i in range(10):\n",
    "    if i==3:\n",
    "        continue\n",
    "    print(i)"
   ]
  },
  {
   "cell_type": "code",
   "execution_count": null,
   "metadata": {},
   "outputs": [],
   "source": [
    "exp = np.random.randint(0,3999,5)"
   ]
  },
  {
   "cell_type": "code",
   "execution_count": null,
   "metadata": {},
   "outputs": [],
   "source": [
    "idx = exp[1]"
   ]
  },
  {
   "cell_type": "code",
   "execution_count": null,
   "metadata": {},
   "outputs": [],
   "source": []
  },
  {
   "cell_type": "code",
   "execution_count": null,
   "metadata": {},
   "outputs": [],
   "source": []
  },
  {
   "cell_type": "code",
   "execution_count": null,
   "metadata": {},
   "outputs": [],
   "source": [
    "\n",
    "    "
   ]
  },
  {
   "cell_type": "code",
   "execution_count": null,
   "metadata": {},
   "outputs": [],
   "source": [
    "\n",
    "nn_labels, nn_aucs, nn_ecgs=closer_points(target_coord,ecgs,labels,aucs,20)"
   ]
  },
  {
   "cell_type": "code",
   "execution_count": null,
   "metadata": {},
   "outputs": [],
   "source": [
    "nn_ecgs.shape"
   ]
  },
  {
   "cell_type": "code",
   "execution_count": null,
   "metadata": {},
   "outputs": [],
   "source": [
    "aucs.shape"
   ]
  },
  {
   "cell_type": "code",
   "execution_count": null,
   "metadata": {},
   "outputs": [],
   "source": []
  }
 ],
 "metadata": {
  "kernelspec": {
   "display_name": "Python [conda env:gp_tutorial]",
   "language": "python",
   "name": "conda-env-gp_tutorial-py"
  },
  "language_info": {
   "codemirror_mode": {
    "name": "ipython",
    "version": 3
   },
   "file_extension": ".py",
   "mimetype": "text/x-python",
   "name": "python",
   "nbconvert_exporter": "python",
   "pygments_lexer": "ipython3",
   "version": "3.7.7"
  }
 },
 "nbformat": 4,
 "nbformat_minor": 2
}
