{
 "cells": [
  {
   "cell_type": "code",
   "execution_count": 1,
   "metadata": {},
   "outputs": [],
   "source": [
    "import sys\n",
    "sys.path.append('/home/mz1482/project/vt-bayesian-opt-bopt_debug/my_bayes_opt/')\n",
    "import bo_new\n",
    "import pandas as pd\n",
    "import numpy as np\n",
    "from data_analysis import get_heart_bounds, correlation_coef, graph_3d, get_index\n",
    "from graph import narrow,corrplot3axes,trend,nearest,plot_exploration, graph_cc_distribution, cube, gp_plot, gp_plot2,predicted_visited, init_gp_plot\n",
    "from BayesOptLib.bayes_opt.bayesian_optimization import BayesianOptimization\n",
    "from RandomSampler import RandomSampler\n",
    "import matplotlib\n",
    "from matplotlib import pyplot as plt\n",
    "from mpl_toolkits.mplot3d import Axes3D\n",
    "from sklearn.metrics.pairwise import euclidean_distances\n",
    "matplotlib.use('Qt5Agg')  # or can use 'TkAgg', whatever you have/prefer"
   ]
  },
  {
   "cell_type": "code",
   "execution_count": 2,
   "metadata": {},
   "outputs": [],
   "source": [
    "def black_box(x, y, z):\n",
    "    \"\"\"\n",
    "    Represents a black box function to maximize for CC of two ECGs given an XYZ coordinate\n",
    "    :param x:\n",
    "    :param y: coordinates of the prediction\n",
    "    :param z:\n",
    "    :return: CC of that point and the target\n",
    "    \"\"\"\n",
    "    sample_ecg = ecgs[get_index(np.array([x, y, z]),labels)]\n",
    "    return abs(correlation_coef(target_ecg, sample_ecg))"
   ]
  },
  {
   "cell_type": "code",
   "execution_count": 3,
   "metadata": {},
   "outputs": [],
   "source": [
    "ecgs = pd.read_csv(\"new_simu-data/Heart1/Heart1_SimuData_4000.csv\", header=None).to_numpy()\n",
    "labels = pd.read_csv(\"new_simu-data/Heart1/Coord1_4000.csv\", header=None).to_numpy() / 1000\n",
    "init = 5\n",
    "steps = 10"
   ]
  },
  {
   "cell_type": "code",
   "execution_count": 5,
   "metadata": {},
   "outputs": [
    {
     "data": {
      "text/plain": [
       "(4000, 7212)"
      ]
     },
     "execution_count": 5,
     "metadata": {},
     "output_type": "execute_result"
    }
   ],
   "source": [
    "ecgs.shape"
   ]
  },
  {
   "cell_type": "code",
   "execution_count": null,
   "metadata": {},
   "outputs": [
    {
     "name": "stdout",
     "output_type": "stream",
     "text": [
      "\u001b[31mInitialization\u001b[0m\n",
      "\u001b[94m-----------------------------------------------------------------\u001b[0m\n",
      " Step |   Time |      Value |         x |         y |         z | \n",
      "    1 | 00m00s | \u001b[35m   0.23803\u001b[0m | \u001b[32m   3.1185\u001b[0m | \u001b[32m -51.4843\u001b[0m | \u001b[32m  42.5245\u001b[0m | \n",
      "    2 | 00m00s | \u001b[35m   0.60026\u001b[0m | \u001b[32m  30.9194\u001b[0m | \u001b[32m -92.7589\u001b[0m | \u001b[32m -35.7565\u001b[0m | \n",
      "    3 | 00m00s | \u001b[35m   0.66610\u001b[0m | \u001b[32m  20.5774\u001b[0m | \u001b[32m -88.6341\u001b[0m | \u001b[32m -11.6335\u001b[0m | \n",
      "    4 | 00m00s |    0.07310 |   26.7018 |  -94.2967 |    9.0581 | \n",
      "    5 | 00m00s | \u001b[35m   0.68626\u001b[0m | \u001b[32m  32.6903\u001b[0m | \u001b[32m -92.7321\u001b[0m | \u001b[32m -21.3882\u001b[0m | \n",
      "\u001b[31mBayesian Optimization\u001b[0m\n",
      "\u001b[94m-----------------------------------------------------------------\u001b[0m\n",
      " Step |   Time |      Value |         x |         y |         z | \n",
      "    6 | 00m03s |    0.37224 |   22.0918 |  -37.5188 |  -26.6018 | \n",
      "    7 | 00m01s |    0.47725 |  -44.1595 |  -75.7426 |  -34.0211 | \n",
      "    8 | 00m01s |    0.09708 |  -22.9732 |  -50.0049 |   23.3087 | \n",
      "    9 | 00m01s |    0.57340 |  -15.8001 | -106.2170 |  -30.4722 | \n",
      "   10 | 00m01s |    0.14260 |   22.8993 |  -30.4229 |   19.8667 | \n",
      "   11 | 00m01s | \u001b[35m   0.86485\u001b[0m | \u001b[32m   3.4689\u001b[0m | \u001b[32m -78.4542\u001b[0m | \u001b[32m -29.0379\u001b[0m | \n",
      "   12 | 00m01s |    0.38608 |   -7.3595 |  -70.1304 |  -45.5693 | \n",
      "   13 | 00m01s |    0.65234 |   -3.5343 |  -79.4677 |  -17.4727 | \n",
      "   14 | 00m02s | \u001b[35m   0.87476\u001b[0m | \u001b[32m  26.5788\u001b[0m | \u001b[32m -70.8085\u001b[0m | \u001b[32m -29.4250\u001b[0m | \n",
      "   15 | 00m02s |    0.42007 |  -48.5647 |  -94.1265 |  -31.0406 | \n"
     ]
    }
   ],
   "source": [
    "bounds = get_heart_bounds(labels)\n",
    "# Pick out a sample to use as a target\n",
    "tidx = np.random.randint(0, labels.shape[0])\n",
    "target, target_ecg = labels[tidx], ecgs[tidx]\n",
    "# optimizer = optimize_point(labels,bounds)  \n",
    "optimizer = bo_new.mybo(f=black_box,pbounds=bounds, real_set=labels)\n",
    "gp,X,rs,predicted = optimizer.gpfit(init_points=init, n_iter=steps,  acq=\"ucb\", kappa = 1)\n",
    "# print(optimizer.predicted)\n",
    "graph_cc_distribution(target_ecg,ecgs,labels)\n",
    "init_gp_plot(init,gp,labels,X)\n",
    "predicted_visited(init,target,target_ecg,labels,ecgs,X,predicted)"
   ]
  },
  {
   "cell_type": "code",
   "execution_count": null,
   "metadata": {},
   "outputs": [],
   "source": [
    "predicted"
   ]
  },
  {
   "cell_type": "code",
   "execution_count": null,
   "metadata": {},
   "outputs": [],
   "source": []
  },
  {
   "cell_type": "code",
   "execution_count": null,
   "metadata": {},
   "outputs": [],
   "source": []
  }
 ],
 "metadata": {
  "kernelspec": {
   "display_name": "Python [conda env:gp_tutorial]",
   "language": "python",
   "name": "conda-env-gp_tutorial-py"
  },
  "language_info": {
   "codemirror_mode": {
    "name": "ipython",
    "version": 3
   },
   "file_extension": ".py",
   "mimetype": "text/x-python",
   "name": "python",
   "nbconvert_exporter": "python",
   "pygments_lexer": "ipython3",
   "version": "3.7.7"
  }
 },
 "nbformat": 4,
 "nbformat_minor": 2
}
