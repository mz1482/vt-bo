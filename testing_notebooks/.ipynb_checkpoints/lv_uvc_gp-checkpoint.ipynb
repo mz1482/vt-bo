{
 "cells": [
  {
   "cell_type": "code",
   "execution_count": 1,
   "metadata": {},
   "outputs": [],
   "source": [
    "import sys\n",
    "sys.path.append('/home/mz1482/project/vt-bayesian-opt-bopt_debug/')\n",
    "import pandas as pd\n",
    "import numpy as np\n",
    "from data_analysis import *\n",
    "from graph import *\n",
    "from BayesOptLib.bayes_opt.bayesian_optimization import BayesianOptimization\n",
    "from RandomSampler import RandomSampler\n",
    "import matplotlib\n",
    "from matplotlib import pyplot as plt\n",
    "from mpl_toolkits.mplot3d import Axes3D\n",
    "from sklearn.metrics.pairwise import euclidean_distances\n",
    "matplotlib.use('Qt5Agg')  # or can use 'TkAgg', whatever you have/prefer\n",
    "from prettytable import PrettyTable\n",
    "import plotly.graph_objects as go\n",
    "%matplotlib inline \n",
    "\n",
    "data_path = \"/home/mz1482/project/vt-bayesian-opt-bopt_debug/data/simu_data_4000/\"\n",
    "# Reading in the ECGs and labels\n",
    "# aucs = pd.read_csv(data_path+\"Heart1/Heart1_AUCS.csv\", header=None).to_numpy()\n",
    "ecgs = pd.read_csv(data_path+\"Heart1/Heart1_SimuData_4000.csv\", header=None).to_numpy()\n",
    "labels = pd.read_csv(data_path+\"Heart1/Coord1_4000.csv\", header=None).to_numpy() / 1000\n",
    "uvc = pd.read_csv(data_path+\"UVC/Coord1_UVC_4000.csv\", header=None).to_numpy()\n"
   ]
  },
  {
   "cell_type": "code",
   "execution_count": 2,
   "metadata": {},
   "outputs": [
    {
     "data": {
      "text/plain": [
       "(4000, 6)"
      ]
     },
     "execution_count": 2,
     "metadata": {},
     "output_type": "execute_result"
    }
   ],
   "source": [
    "uvc.shape"
   ]
  },
  {
   "cell_type": "code",
   "execution_count": 3,
   "metadata": {},
   "outputs": [],
   "source": [
    "idx=lv_rv(uvc,-1)\n",
    "uvc_lv=uvc[idx]\n",
    "uvc_lv = uvc_lv[:,0:3]\n",
    "ecgs_lv = ecgs[idx]\n",
    "labels_lv = labels[idx]"
   ]
  },
  {
   "cell_type": "code",
   "execution_count": 4,
   "metadata": {},
   "outputs": [
    {
     "data": {
      "text/plain": [
       "(2000, 3)"
      ]
     },
     "execution_count": 4,
     "metadata": {},
     "output_type": "execute_result"
    }
   ],
   "source": [
    "uvc_lv.shape"
   ]
  },
  {
   "cell_type": "code",
   "execution_count": 5,
   "metadata": {},
   "outputs": [],
   "source": [
    "def black_box_uvc(x, y, z):\n",
    "    \"\"\"\n",
    "    Represents a black box function to maximize for CC of two ECGs given an XYZ coordinate\n",
    "    :param x:\n",
    "    :param y: coordinates of the prediction\n",
    "    :param z:\n",
    "    :return: CC of that point and the target\n",
    "    \"\"\"\n",
    "    sample_ecg = ecgs_lv[get_index(np.array([x, y, z]),uvc_lv)]\n",
    "    return abs(correlation_coef(target_ecg, sample_ecg))\n",
    "\n",
    "def black_box_uvc_12_lead(x, y, z):\n",
    "    \"\"\"\n",
    "    Represents a black box function to maximize for CC of two ECGs given an XYZ coordinate\n",
    "    :param x:\n",
    "    :param y: coordinates of the prediction\n",
    "    :param z:\n",
    "    :return: CC of that point and the target\n",
    "    \"\"\"\n",
    "    sample_ecg = ecgs_lv[get_index(np.array([x, y, z]),uvc_lv)]\n",
    "    sample_ecg = np.reshape(sample_ecg, [12, -1])\n",
    "    nums = 0\n",
    "    for i in range(12):\n",
    "#         ccs = np.corrcoef(sample_ecg[i], target_ecg.reshape(12,-1)[i])[0, 1]\n",
    "        ccs = abs(correlation_coef(target_ecg.reshape(12,-1)[i], sample_ecg[i]))\n",
    "        if ccs > .9:\n",
    "            nums += 1\n",
    "\n",
    "#     return True if nums == 12 else False \n",
    "    return nums"
   ]
  },
  {
   "cell_type": "code",
   "execution_count": 6,
   "metadata": {},
   "outputs": [],
   "source": [
    "# for j in range(1):\n",
    "#     print(j)\n",
    "#     # bounds = get_heart_bounds(labels) # getting bounds \n",
    "#     tidx = np.random.randint(0, uvc_lv.shape[0])    # Pick out a sample to use as a target\n",
    "#     target_xyz, target_ecg,target_uvc = labels_lv[tidx], ecgs_lv[tidx], uvc_lv[tidx]\n",
    "# #     labels = uvc[:,0:3]\n",
    "#     plotly_plot(target_ecg,uvc_lv,ecgs_lv)"
   ]
  },
  {
   "cell_type": "code",
   "execution_count": 7,
   "metadata": {},
   "outputs": [],
   "source": [
    "# graph_cc_distribution(target_ecg,ecgs_lv,labels_lv)"
   ]
  },
  {
   "cell_type": "code",
   "execution_count": 8,
   "metadata": {},
   "outputs": [],
   "source": [
    "# def gp_uvc(gp,target,labels):\n",
    "#     color_gradient = []\n",
    "#     for i in range(len(labels)):\n",
    "#         cc = gp.predict(labels[i].reshape(1,-1),return_std=False)\n",
    "#         color_gradient.append(cc)\n",
    "#     color_gradient = np.array(color_gradient).flatten()\n",
    "#     fig = go.Figure()\n",
    "#     fig.add_trace(go.Scatter3d(x=labels[:,0],y=labels[:,1],z=labels[:,2],mode='markers',marker=dict(size=5,color=color_gradient,colorbar=dict(title=\"\"),colorscale='rainbow',opacity=0)))\n",
    "#     fig.add_trace(go.Scatter3d(x=[target[0]],y=[target[1]],z=[target[2]],mode = 'markers',marker = dict(size=10,color='Black',symbol= 'x')))\n",
    "#     fig.show()"
   ]
  },
  {
   "cell_type": "code",
   "execution_count": 9,
   "metadata": {},
   "outputs": [],
   "source": [
    "init = 10 #initial random sample\n",
    "steps = 20 # total AL step\n",
    "af = \"ucb\" \n",
    "bounds = get_heart_bounds(uvc_lv)"
   ]
  },
  {
   "cell_type": "code",
   "execution_count": 10,
   "metadata": {},
   "outputs": [],
   "source": [
    "# optimizer = BayesianOptimization(f=black_box_uvc,pbounds=bounds,random_state=None, real_set=uvc_lv)\n",
    "# gp,X = optimizer.gpfit(init_points=init, n_iter=steps,  acq=af, kappa = 1,kappa_decay=0.75,kappa_decay_delay=2)"
   ]
  },
  {
   "cell_type": "code",
   "execution_count": 11,
   "metadata": {},
   "outputs": [],
   "source": [
    "# Y=optimizer._space.target"
   ]
  },
  {
   "cell_type": "code",
   "execution_count": 12,
   "metadata": {},
   "outputs": [],
   "source": [
    "# xyz=uvc_xyz(X,uvc_lv,labels_lv,target_xyz)"
   ]
  },
  {
   "cell_type": "code",
   "execution_count": null,
   "metadata": {},
   "outputs": [],
   "source": [
    "\n",
    "    "
   ]
  },
  {
   "cell_type": "code",
   "execution_count": 13,
   "metadata": {},
   "outputs": [],
   "source": [
    "# a,b=result_metric(target_xyz,Y,xyz,init)"
   ]
  },
  {
   "cell_type": "code",
   "execution_count": 14,
   "metadata": {},
   "outputs": [],
   "source": [
    "# a"
   ]
  },
  {
   "cell_type": "code",
   "execution_count": 15,
   "metadata": {},
   "outputs": [],
   "source": [
    "# gp_uvc(gp,target_uvc,uvc_lv)"
   ]
  },
  {
   "cell_type": "code",
   "execution_count": 16,
   "metadata": {},
   "outputs": [],
   "source": [
    "# plotly_plot(target_ecg,labels,ecgs)"
   ]
  },
  {
   "cell_type": "code",
   "execution_count": 17,
   "metadata": {},
   "outputs": [],
   "source": [
    "# visited(init,target_xyz,target_ecg,labels_lv,ecgs_lv,xyz)"
   ]
  },
  {
   "cell_type": "code",
   "execution_count": 18,
   "metadata": {},
   "outputs": [
    {
     "name": "stdout",
     "output_type": "stream",
     "text": [
      "experiment: 1\n",
      "target location [0.22222222 0.44444444 0.16526316]\n",
      "|   iter    |  target   |     x     |     y     |     z     |\n",
      "-------------------------------------------------------------\n",
      "| \u001b[0m 1       \u001b[0m | \u001b[0m 0.08344 \u001b[0m | \u001b[0m 0.8889  \u001b[0m | \u001b[0m 1.0     \u001b[0m | \u001b[0m 1.818   \u001b[0m |\n",
      "| \u001b[95m 2       \u001b[0m | \u001b[95m 0.6093  \u001b[0m | \u001b[95m 0.2222  \u001b[0m | \u001b[95m 0.1111  \u001b[0m | \u001b[95m 2.148   \u001b[0m |\n",
      "| \u001b[95m 3       \u001b[0m | \u001b[95m 1.0     \u001b[0m | \u001b[95m 0.2222  \u001b[0m | \u001b[95m 0.4444  \u001b[0m | \u001b[95m 0.1653  \u001b[0m |\n"
     ]
    }
   ],
   "source": [
    "total_error,total_step,cc = [],[],[]\n",
    "for n in range(1):\n",
    "    print(\"experiment:\",n+1)\n",
    "    tidx = np.random.randint(0, uvc_lv.shape[0])    # Pick out a sample to use as a target\n",
    "    target_xyz, target_ecg,target_uvc = labels_lv[tidx], ecgs_lv[tidx], uvc_lv[tidx]\n",
    "    print(\"target location\",target_uvc)\n",
    "    optimizer = BayesianOptimization(f=black_box_uvc,pbounds=bounds,random_state=None, real_set=uvc_lv)\n",
    "    gp,X = optimizer.gpfit(init_points=init, n_iter=steps,  acq=af, kappa = 2.5,kappa_decay=0.90,kappa_decay_delay=5)\n",
    "#     Y=optimizer._space.target\n",
    "#     xyz=uvc_xyz(X,uvc_lv,labels_lv,target_xyz)\n",
    "#     step,error,max_cc=result_metric(target_xyz,Y,xyz,init)\n",
    "#     total_error = np.append(total_error,error)\n",
    "#     total_step = np.append(total_step,step)\n",
    "#     cc = np.append(cc,max_cc)\n",
    "    "
   ]
  },
  {
   "cell_type": "code",
   "execution_count": 19,
   "metadata": {},
   "outputs": [
    {
     "name": "stdout",
     "output_type": "stream",
     "text": [
      "Average max CC within 15 AL step nan\n"
     ]
    },
    {
     "name": "stderr",
     "output_type": "stream",
     "text": [
      "/home/mz1482/anaconda3/envs/gp_tutorial/lib/python3.7/site-packages/numpy/core/fromnumeric.py:3118: RuntimeWarning: Mean of empty slice.\n",
      "  out=out, **kwargs)\n",
      "/home/mz1482/anaconda3/envs/gp_tutorial/lib/python3.7/site-packages/numpy/core/_methods.py:85: RuntimeWarning: invalid value encountered in double_scalars\n",
      "  ret = ret.dtype.type(ret / rcount)\n"
     ]
    }
   ],
   "source": [
    "print(\"Average max CC within 15 AL step\",np.mean(cc))"
   ]
  },
  {
   "cell_type": "code",
   "execution_count": 20,
   "metadata": {},
   "outputs": [
    {
     "name": "stdout",
     "output_type": "stream",
     "text": [
      "average localization error nan\n"
     ]
    }
   ],
   "source": [
    "print(\"average localization error\",np.mean(total_error))"
   ]
  },
  {
   "cell_type": "code",
   "execution_count": 21,
   "metadata": {},
   "outputs": [
    {
     "name": "stdout",
     "output_type": "stream",
     "text": [
      "average AL step to reach max nan\n"
     ]
    }
   ],
   "source": [
    "print(\"average AL step to reach max\",np.mean(total_step))"
   ]
  },
  {
   "cell_type": "code",
   "execution_count": 22,
   "metadata": {},
   "outputs": [],
   "source": [
    "def uvc_xyz(optimizer,uvc_lv,labels_lv,target_xyz):\n",
    "    visited = np.asarray(optimizer.visited)\n",
    "    path_xyz=np.empty((0, 3))\n",
    "    for i in range(len(visited)):\n",
    "        t=get_index(visited[i],uvc_lv)\n",
    "        b=labels_lv[t]\n",
    "        path_xyz = np.append(path_xyz,b.reshape(1,-1),axis=0)\n",
    "    return path_xyz"
   ]
  },
  {
   "cell_type": "code",
   "execution_count": 23,
   "metadata": {},
   "outputs": [],
   "source": [
    "def result_metric_uvc(optimizer,target_uvc,target_xyz,target_ecg,uvc_lv,labels_lv,ecgs_lv):\n",
    "    '''\n",
    "    it calculates location error, AL step and the max cc. It helped to analyze large experiment when \n",
    "    we consider CC of ECG as a concatenated version\n",
    "    '''\n",
    "    init = len(optimizer.visited)-len(optimizer.predicted)\n",
    "#     Y = optimizer._space.target\n",
    "#     X = optimizer.visited\n",
    "    max_cc,best = list(optimizer.max.values())[0], np.fromiter(list(optimizer.max.values())[1].values(),dtype=float)\n",
    "    \n",
    "#     max_cc = np.amax(Y)\n",
    "#     for i in range(len(Y)):\n",
    "#         if Y[i]==max_cc:\n",
    "#             best = X[i]\n",
    "#             break\n",
    "    print(\"best value\",best)\n",
    "    for i in range(len(optimizer.visited)):\n",
    "        if np.array_equal(best, optimizer.visited[i]):\n",
    "            break\n",
    "    al_step = i-init+1\n",
    "    if al_step<0:\n",
    "        al_step=0\n",
    "    visited_xyz = uvc_xyz(optimizer,uvc_lv,labels_lv,target_xyz)\n",
    "    best_xyz = visited_xyz[i]\n",
    "    print(\"the best xyz location\",best_xyz)\n",
    "    loc_error = euclidean_distance(best_xyz, target_xyz)\n",
    "    print('loc error:',loc_error)\n",
    "    for j in range(len(uvc_lv)):\n",
    "        if np.array_equal(best, uvc_lv[j]):\n",
    "            idx = j\n",
    "            break\n",
    "    best_ecg = ecgs_lv[idx]\n",
    "    best_ecg = np.reshape(best_ecg, [12, -1])\n",
    "    nums = 0\n",
    "    for k in range(12):\n",
    "        ccs = abs(correlation_coef(target_ecg.reshape(12,-1)[k], best_ecg[k]))\n",
    "        if ccs > .90:\n",
    "            nums += 1\n",
    "    loc_error,max_cc = np.around(loc_error,2),  np.around(max_cc,2)\n",
    "    return max_cc,al_step,nums,loc_error\n"
   ]
  },
  {
   "cell_type": "code",
   "execution_count": 24,
   "metadata": {},
   "outputs": [
    {
     "data": {
      "text/plain": [
       "(11, 3)"
      ]
     },
     "execution_count": 24,
     "metadata": {},
     "output_type": "execute_result"
    }
   ],
   "source": [
    "xyz=uvc_xyz(optimizer,uvc_lv,labels_lv,target_xyz)\n",
    "xyz.shape"
   ]
  },
  {
   "cell_type": "code",
   "execution_count": 25,
   "metadata": {},
   "outputs": [
    {
     "ename": "NameError",
     "evalue": "name 'Y' is not defined",
     "output_type": "error",
     "traceback": [
      "\u001b[0;31m---------------------------------------------------------------------------\u001b[0m",
      "\u001b[0;31mNameError\u001b[0m                                 Traceback (most recent call last)",
      "\u001b[0;32m<ipython-input-25-0ebbf4102991>\u001b[0m in \u001b[0;36m<module>\u001b[0;34m\u001b[0m\n\u001b[0;32m----> 1\u001b[0;31m \u001b[0mbest\u001b[0m\u001b[0;34m=\u001b[0m\u001b[0mresult_metric2\u001b[0m\u001b[0;34m(\u001b[0m\u001b[0mtarget_xyz\u001b[0m\u001b[0;34m,\u001b[0m\u001b[0mY\u001b[0m\u001b[0;34m,\u001b[0m\u001b[0mxyz\u001b[0m\u001b[0;34m,\u001b[0m\u001b[0minit\u001b[0m\u001b[0;34m)\u001b[0m\u001b[0;34m\u001b[0m\u001b[0;34m\u001b[0m\u001b[0m\n\u001b[0m",
      "\u001b[0;31mNameError\u001b[0m: name 'Y' is not defined"
     ]
    }
   ],
   "source": [
    "best=result_metric2(target_xyz,Y,xyz,init)"
   ]
  },
  {
   "cell_type": "code",
   "execution_count": null,
   "metadata": {},
   "outputs": [],
   "source": [
    "target_xyz"
   ]
  },
  {
   "cell_type": "code",
   "execution_count": null,
   "metadata": {},
   "outputs": [],
   "source": [
    "\n",
    "def result_table_uvc(target_xyz,target_uvc,optimizer,uvc_lv,labels_lv):\n",
    "    '''\n",
    "    for 1 experiment it prints/return the table with distance from target at every iteration.\n",
    "    This function is for uvc coordinates\n",
    "    '''\n",
    "    print(\"The target location (in uvc) is:\",target_uvc)\n",
    "    visited = np.asarray(optimizer.visited)\n",
    "    visited_xyz = uvc_xyz(optimizer,uvc_lv,labels_lv,target_xyz)\n",
    "    f = optimizer._space.target\n",
    "    nn_dis = np.empty((0,1))\n",
    "    for i in range(len(visited)):\n",
    "        d = np.sqrt(np.sum((target_xyz - visited_xyz[i])**2))\n",
    "        nn_dis = np.append(nn_dis,d)\n",
    "    nn_dis = nn_dis.reshape(-1,1)\n",
    "    nn_dis = np.around(nn_dis,2)\n",
    "    f = f.reshape(-1,1).astype(int)\n",
    "    it = (np.arange(len(visited))+1).reshape(-1,1).astype(int)\n",
    "    floating_part = np.around(np.concatenate((visited,nn_dis), axis = 1),2)\n",
    "    int_part = np.concatenate((it,f), axis = 1)\n",
    "    result = np.concatenate((int_part,floating_part), axis = 1)\n",
    "    table = PrettyTable(result.dtype.names)\n",
    "    table.field_names = ['iteration','passing_lead', 'apicobasal','transmural','rotational','dis(mm) from target']\n",
    "    for row in result:\n",
    "        table.add_row(row)\n",
    "    return table"
   ]
  },
  {
   "cell_type": "code",
   "execution_count": null,
   "metadata": {},
   "outputs": [],
   "source": [
    "result_table_uvc(target_xyz,target_uvc,optimizer,uvc_lv,labels_lv)"
   ]
  },
  {
   "cell_type": "code",
   "execution_count": null,
   "metadata": {},
   "outputs": [],
   "source": []
  }
 ],
 "metadata": {
  "kernelspec": {
   "display_name": "Python [conda env:gp_tutorial]",
   "language": "python",
   "name": "conda-env-gp_tutorial-py"
  },
  "language_info": {
   "codemirror_mode": {
    "name": "ipython",
    "version": 3
   },
   "file_extension": ".py",
   "mimetype": "text/x-python",
   "name": "python",
   "nbconvert_exporter": "python",
   "pygments_lexer": "ipython3",
   "version": "3.7.7"
  }
 },
 "nbformat": 4,
 "nbformat_minor": 2
}
