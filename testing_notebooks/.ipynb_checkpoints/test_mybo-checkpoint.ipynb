{
 "cells": [
  {
   "cell_type": "code",
   "execution_count": 2,
   "metadata": {},
   "outputs": [],
   "source": [
    "import sys\n",
    "sys.path.append('/home/mz1482/project/vt-bayesian-opt-bopt_debug/')\n",
    "sys.path.append('/home/mz1482/project/vt-bayesian-opt-bopt_debug/my_bayes_opt/')\n",
    "import bo_new\n",
    "import pandas as pd\n",
    "import numpy as np\n",
    "from data_analysis import get_heart_bounds, correlation_coef, graph_3d, get_index\n",
    "from graph import narrow,corrplot3axes,trend,nearest,plot_exploration, graph_cc_distribution, cube, gp_plot, gp_plot2,predicted_visited, init_gp_plot\n",
    "from BayesOptLib.bayes_opt.bayesian_optimization import BayesianOptimization\n",
    "from RandomSampler import RandomSampler\n",
    "import matplotlib\n",
    "from matplotlib import pyplot as plt\n",
    "from mpl_toolkits.mplot3d import Axes3D\n",
    "from sklearn.metrics.pairwise import euclidean_distances\n",
    "matplotlib.use('Qt5Agg')  # or can use 'TkAgg', whatever you have/prefer"
   ]
  },
  {
   "cell_type": "code",
   "execution_count": 3,
   "metadata": {},
   "outputs": [],
   "source": [
    "def black_box(x, y, z):\n",
    "    \"\"\"\n",
    "    Represents a black box function to maximize for CC of two ECGs given an XYZ coordinate\n",
    "    :param x:\n",
    "    :param y: coordinates of the prediction\n",
    "    :param z:\n",
    "    :return: CC of that point and the target\n",
    "    \"\"\"\n",
    "    sample_ecg = ecgs[get_index(np.array([x, y, z]),labels)]\n",
    "    return abs(correlation_coef(target_ecg, sample_ecg))"
   ]
  },
  {
   "cell_type": "code",
   "execution_count": 4,
   "metadata": {},
   "outputs": [],
   "source": [
    "data_path = \"/home/mz1482/project/vt-bayesian-opt-bopt_debug/data/simu_data_4000/\"\n",
    "# Reading in the ECGs and labels\n",
    "# aucs = pd.read_csv(data_path+\"Heart1/Heart1_AUCS.csv\", header=None).to_numpy()\n",
    "ecgs = pd.read_csv(data_path+\"Heart1/Heart1_SimuData_4000.csv\", header=None).to_numpy()\n",
    "labels = pd.read_csv(data_path+\"Heart1/Coord1_4000.csv\", header=None).to_numpy() / 1000\n",
    "uvc = pd.read_csv(data_path+\"UVC/Coord1_UVC_4000.csv\", header=None).to_numpy()\n",
    "init = 5\n",
    "steps = 10"
   ]
  },
  {
   "cell_type": "code",
   "execution_count": 5,
   "metadata": {},
   "outputs": [
    {
     "data": {
      "text/plain": [
       "(4000, 7212)"
      ]
     },
     "execution_count": 5,
     "metadata": {},
     "output_type": "execute_result"
    }
   ],
   "source": [
    "ecgs.shape"
   ]
  },
  {
   "cell_type": "code",
   "execution_count": null,
   "metadata": {},
   "outputs": [
    {
     "name": "stdout",
     "output_type": "stream",
     "text": [
      "\u001b[31mInitialization\u001b[0m\n",
      "\u001b[94m-----------------------------------------------------------------\u001b[0m\n",
      " Step |   Time |      Value |         x |         y |         z | \n",
      "    1 | 00m00s | \u001b[35m   0.29910\u001b[0m | \u001b[32m   1.6762\u001b[0m | \u001b[32m -55.4817\u001b[0m | \u001b[32m  39.3260\u001b[0m | \n",
      "    2 | 00m00s | \u001b[35m   0.31671\u001b[0m | \u001b[32m  -6.5203\u001b[0m | \u001b[32m-110.4290\u001b[0m | \u001b[32m  -4.2246\u001b[0m | \n",
      "    3 | 00m00s |    0.27643 |   23.4648 |  -91.3785 |  -24.6401 | \n",
      "    4 | 00m00s |    0.25649 |   30.7353 |  -82.5706 |  -22.3447 | \n",
      "    5 | 00m00s | \u001b[35m   0.51543\u001b[0m | \u001b[32m -32.7785\u001b[0m | \u001b[32m-108.4250\u001b[0m | \u001b[32m  -1.1480\u001b[0m | \n",
      "\u001b[31mBayesian Optimization\u001b[0m\n",
      "\u001b[94m-----------------------------------------------------------------\u001b[0m\n",
      " Step |   Time |      Value |         x |         y |         z | \n",
      "1\n",
      "0.5154308090065831\n",
      "    6 | 00m09s |    0.44953 |  -32.3934 |  -34.6662 |  -27.7782 | \n",
      "1\n",
      "0.7023965080593763\n"
     ]
    }
   ],
   "source": [
    "bounds = get_heart_bounds(labels)\n",
    "# Pick out a sample to use as a target\n",
    "tidx = np.random.randint(0, labels.shape[0])\n",
    "target, target_ecg = labels[tidx], ecgs[tidx]\n",
    "# optimizer = optimize_point(labels,bounds)  \n",
    "optimizer = bo_new.mybo(f=black_box,pbounds=bounds, real_set=labels)\n",
    "gp,X,rs,predicted = optimizer.gpfit(init_points=init, n_iter=steps,  acq=\"ucb\", kappa = 1)\n",
    "# print(optimizer.predicted)\n",
    "graph_cc_distribution(target_ecg,ecgs,labels)\n",
    "init_gp_plot(init,gp,labels,X)\n",
    "predicted_visited(init,target,target_ecg,labels,ecgs,X,predicted)"
   ]
  },
  {
   "cell_type": "code",
   "execution_count": null,
   "metadata": {},
   "outputs": [],
   "source": [
    "predicted"
   ]
  },
  {
   "cell_type": "code",
   "execution_count": null,
   "metadata": {},
   "outputs": [],
   "source": []
  },
  {
   "cell_type": "code",
   "execution_count": null,
   "metadata": {},
   "outputs": [],
   "source": []
  }
 ],
 "metadata": {
  "kernelspec": {
   "display_name": "Python [conda env:gp_tutorial]",
   "language": "python",
   "name": "conda-env-gp_tutorial-py"
  },
  "language_info": {
   "codemirror_mode": {
    "name": "ipython",
    "version": 3
   },
   "file_extension": ".py",
   "mimetype": "text/x-python",
   "name": "python",
   "nbconvert_exporter": "python",
   "pygments_lexer": "ipython3",
   "version": "3.7.7"
  }
 },
 "nbformat": 4,
 "nbformat_minor": 2
}
