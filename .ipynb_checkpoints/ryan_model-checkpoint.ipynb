{
 "cells": [
  {
   "cell_type": "code",
   "execution_count": 1,
   "metadata": {},
   "outputs": [],
   "source": [
    "from models.ccmodel import CCModel\n",
    "from models.rsmodel import RSModel\n",
    "from models.bomodel import BOModel\n",
    "from models.confi import *\n",
    "from models.utilfuncs import *\n",
    "import pandas as pd\n",
    "from tqdm import tqdm\n",
    "import random\n",
    "\n",
    "# Ignoring warnings\n",
    "import warnings\n",
    "warnings.filterwarnings('ignore')"
   ]
  },
  {
   "cell_type": "code",
   "execution_count": 2,
   "metadata": {},
   "outputs": [],
   "source": [
    "# Reading in the ECGs and labels\n",
    "aucs = pd.read_csv(\"simu-data/Heart3_AUCS.csv\", header=None).to_numpy()\n",
    "ecgs = pd.read_csv(\"simu-data/Heart3_SimuData.csv\", header=None).to_numpy()\n",
    "labels = pd.read_csv(\"simu-data/Heart3_XYZsub.csv\", header=None).to_numpy()[:, :3] / 1000"
   ]
  },
  {
   "cell_type": "code",
   "execution_count": 9,
   "metadata": {},
   "outputs": [],
   "source": [
    "total_cases = 0\n",
    "alle, all_points = [], []\n",
    "\n",
    "cc_euclids = [[] for _ in range(NUM_STEPS + 21)]                    # Random init CC arrays\n",
    "cc_successes, cc_avg_sites = [], []\n",
    "cc_drop = []\n",
    "\n",
    "# Set mm threshold for finding nearest\n",
    "mm_thres = 200000"
   ]
  },
  {
   "cell_type": "code",
   "execution_count": 10,
   "metadata": {},
   "outputs": [],
   "source": [
    "def get_random_dataset(data, coords):\n",
    "    \"\"\"\n",
    "    Handles getting the random dataset for the randomly initialized models\n",
    "    :param target_coord: target coordinate\n",
    "    :param data: full dataset for a patient\n",
    "    :param coords: full labels for a patient\n",
    "    :return: x, y of size 4\n",
    "    \"\"\"\n",
    "    indices = np.random.choice(range(0, data.shape[0]), NUM_POINTS_START, replace=False)\n",
    "    return data[indices], coords[indices]"
   ]
  },
  {
   "cell_type": "code",
   "execution_count": 11,
   "metadata": {},
   "outputs": [],
   "source": [
    "def model_run(model, x, y, train, labels, target, target_coord, target_raw, successes, avg_sites, all_euclids):\n",
    "    \"\"\"\n",
    "    Handles running a single runthrough of a given model on a target site\n",
    "    Train and labels are the initialized sets to start with (either random or by segment prediction)\n",
    "    \"\"\"\n",
    "    # Run the training loop for the model\n",
    "    euclids, preds, sites, success, nsites = model.run(x, y, train, labels, target, target_coord, target_raw)\n",
    "    sites = np.asarray(sites)\n",
    "\n",
    "    # Add to arrays if successful and add the per steps error\n",
    "    if success:\n",
    "        successes.append(euclids[-1])\n",
    "        avg_sites.append(nsites)\n",
    "    for j in range(len(euclids)):\n",
    "        all_euclids[j].append(euclids[j])\n",
    "        # if j != 0:\n",
    "        #     drop.append(euclids[j] - euclids[j - 1])\n",
    "    return successes, avg_sites, all_euclids, sites"
   ]
  },
  {
   "cell_type": "code",
   "execution_count": 12,
   "metadata": {},
   "outputs": [],
   "source": [
    "cc_model = CCModel(leads=LEADS, steps=NUM_STEPS, svr_c=SVR_C, cc=CC_THRES, cc_succ=CC_SUCC,\n",
    "                   mm=mm_thres, samp_raw=ecgs, samp_coords=labels)\n",
    "rs_model = RSModel(steps=NUM_STEPS, svr_c=SVR_C, samp_raw=ecgs, samp_coords=labels, cc_succ=CC_SUCC)"
   ]
  },
  {
   "cell_type": "code",
   "execution_count": 13,
   "metadata": {},
   "outputs": [
    {
     "name": "stderr",
     "output_type": "stream",
     "text": [
      "1it [00:59, 59.39s/it]\n"
     ]
    },
    {
     "ename": "IndexError",
     "evalue": "list index out of range",
     "output_type": "error",
     "traceback": [
      "\u001b[0;31m---------------------------------------------------------------------------\u001b[0m",
      "\u001b[0;31mIndexError\u001b[0m                                Traceback (most recent call last)",
      "\u001b[0;32m<ipython-input-13-73f8b6ca246f>\u001b[0m in \u001b[0;36m<module>\u001b[0;34m\u001b[0m\n\u001b[1;32m     26\u001b[0m         cc_successes, cc_avg_sites, cc_euclids,sites = model_run(cc_model, x, y, random_x, random_y,\n\u001b[1;32m     27\u001b[0m                                                                  \u001b[0mtarget\u001b[0m\u001b[0;34m,\u001b[0m \u001b[0mtarget_coord\u001b[0m\u001b[0;34m,\u001b[0m \u001b[0mtarget_raw\u001b[0m\u001b[0;34m,\u001b[0m\u001b[0;34m\u001b[0m\u001b[0;34m\u001b[0m\u001b[0m\n\u001b[0;32m---> 28\u001b[0;31m                                                                  cc_successes, cc_avg_sites, cc_euclids)\n\u001b[0m\u001b[1;32m     29\u001b[0m \u001b[0;34m\u001b[0m\u001b[0m\n\u001b[1;32m     30\u001b[0m         \u001b[0;31m# RSRI Model\u001b[0m\u001b[0;34m\u001b[0m\u001b[0;34m\u001b[0m\u001b[0;34m\u001b[0m\u001b[0m\n",
      "\u001b[0;32m<ipython-input-11-09f1b4dc413d>\u001b[0m in \u001b[0;36mmodel_run\u001b[0;34m(model, x, y, train, labels, target, target_coord, target_raw, successes, avg_sites, all_euclids)\u001b[0m\n\u001b[1;32m     13\u001b[0m         \u001b[0mavg_sites\u001b[0m\u001b[0;34m.\u001b[0m\u001b[0mappend\u001b[0m\u001b[0;34m(\u001b[0m\u001b[0mnsites\u001b[0m\u001b[0;34m)\u001b[0m\u001b[0;34m\u001b[0m\u001b[0;34m\u001b[0m\u001b[0m\n\u001b[1;32m     14\u001b[0m     \u001b[0;32mfor\u001b[0m \u001b[0mj\u001b[0m \u001b[0;32min\u001b[0m \u001b[0mrange\u001b[0m\u001b[0;34m(\u001b[0m\u001b[0mlen\u001b[0m\u001b[0;34m(\u001b[0m\u001b[0meuclids\u001b[0m\u001b[0;34m)\u001b[0m\u001b[0;34m)\u001b[0m\u001b[0;34m:\u001b[0m\u001b[0;34m\u001b[0m\u001b[0;34m\u001b[0m\u001b[0m\n\u001b[0;32m---> 15\u001b[0;31m         \u001b[0mall_euclids\u001b[0m\u001b[0;34m[\u001b[0m\u001b[0mj\u001b[0m\u001b[0;34m]\u001b[0m\u001b[0;34m.\u001b[0m\u001b[0mappend\u001b[0m\u001b[0;34m(\u001b[0m\u001b[0meuclids\u001b[0m\u001b[0;34m[\u001b[0m\u001b[0mj\u001b[0m\u001b[0;34m]\u001b[0m\u001b[0;34m)\u001b[0m\u001b[0;34m\u001b[0m\u001b[0;34m\u001b[0m\u001b[0m\n\u001b[0m\u001b[1;32m     16\u001b[0m         \u001b[0;31m# if j != 0:\u001b[0m\u001b[0;34m\u001b[0m\u001b[0;34m\u001b[0m\u001b[0;34m\u001b[0m\u001b[0m\n\u001b[1;32m     17\u001b[0m         \u001b[0;31m#     drop.append(euclids[j] - euclids[j - 1])\u001b[0m\u001b[0;34m\u001b[0m\u001b[0;34m\u001b[0m\u001b[0;34m\u001b[0m\u001b[0m\n",
      "\u001b[0;31mIndexError\u001b[0m: list index out of range"
     ]
    }
   ],
   "source": [
    "for target, target_coord, target_raw, idx in tqdm(zip(aucs, labels, ecgs, range(len(labels)))):\n",
    "    if idx > 2:\n",
    "        break\n",
    "\n",
    "    # Drop the target from the training set\n",
    "    if idx == 0:\n",
    "        x, y, raw = aucs[idx + 1:, :], labels[idx + 1:], ecgs[idx + 1:, :]\n",
    "    else:\n",
    "        x = np.concatenate((aucs[:idx, :], aucs[idx + 1:, :]))\n",
    "        y = np.concatenate((labels[:idx], labels[idx + 1:]))\n",
    "        raw = np.concatenate((ecgs[:idx], ecgs[idx + 1:]))\n",
    "\n",
    "    # Looping through every point to test, n number of times for variance in initialization\n",
    "    for _ in range(2):\n",
    "        # Get initial datasets for random and segment initializations\n",
    "        random_x, random_y = get_random_dataset(x, y)\n",
    "\n",
    "        # All model testing\n",
    "        all_euclid, all_pred = build_target_model(SVR_C, x, y, target, target_coord)\n",
    "        pred_check = get_closest(10000, all_pred, raw, y)[1]\n",
    "        if pred_check is not None and check_cc_success(target_raw, pred_check) >= CC_SUCC:\n",
    "            all_points.append(len(x))\n",
    "            alle.append(all_euclid)\n",
    "\n",
    "        # CCRI Model\n",
    "        cc_successes, cc_avg_sites, cc_euclids,sites = model_run(cc_model, x, y, random_x, random_y,\n",
    "                                                                 target, target_coord, target_raw,\n",
    "                                                                 cc_successes, cc_avg_sites, cc_euclids)\n",
    "\n",
    "        # RSRI Model\n",
    "#         rs_successes, rr_avg_sites, rs_euclids,sites = model_run(rs_model, x, y, random_x, random_y,\n",
    "#                                                                  target, target_coord, target_raw,\n",
    "#                                                                  rs_successes, rr_avg_sites, rs_euclids)\n",
    "\n",
    "    total_cases += 1"
   ]
  },
  {
   "cell_type": "code",
   "execution_count": 14,
   "metadata": {},
   "outputs": [],
   "source": [
    "cc_euclids = [[] for _ in range(NUM_STEPS + 2)]    "
   ]
  },
  {
   "cell_type": "code",
   "execution_count": 17,
   "metadata": {},
   "outputs": [
    {
     "data": {
      "text/plain": [
       "22"
      ]
     },
     "execution_count": 17,
     "metadata": {},
     "output_type": "execute_result"
    }
   ],
   "source": [
    "len(cc_euclids)"
   ]
  },
  {
   "cell_type": "code",
   "execution_count": null,
   "metadata": {},
   "outputs": [],
   "source": []
  }
 ],
 "metadata": {
  "kernelspec": {
   "display_name": "Python [conda env:gp_tutorial]",
   "language": "python",
   "name": "conda-env-gp_tutorial-py"
  },
  "language_info": {
   "codemirror_mode": {
    "name": "ipython",
    "version": 3
   },
   "file_extension": ".py",
   "mimetype": "text/x-python",
   "name": "python",
   "nbconvert_exporter": "python",
   "pygments_lexer": "ipython3",
   "version": "3.7.7"
  }
 },
 "nbformat": 4,
 "nbformat_minor": 2
}
