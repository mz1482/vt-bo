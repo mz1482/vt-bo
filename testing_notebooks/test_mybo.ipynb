{
 "cells": [
  {
   "cell_type": "code",
   "execution_count": 1,
   "metadata": {},
   "outputs": [],
   "source": [
    "import sys\n",
    "sys.path.append('/home/mz1482/project/vt-bayesian-opt-bopt_debug/')\n",
    "sys.path.append('/home/mz1482/project/vt-bayesian-opt-bopt_debug/my_bayes_opt/')\n",
    "import bo_new\n",
    "import pandas as pd\n",
    "import numpy as np\n",
    "from data_analysis import get_heart_bounds, correlation_coef, graph_3d, get_index\n",
    "from graph import *\n",
    "from BayesOptLib.bayes_opt.bayesian_optimization import BayesianOptimization\n",
    "from RandomSampler import RandomSampler\n",
    "import matplotlib\n",
    "from matplotlib import pyplot as plt\n",
    "from mpl_toolkits.mplot3d import Axes3D\n",
    "from sklearn.metrics.pairwise import euclidean_distances\n",
    "matplotlib.use('Qt5Agg')  # or can use 'TkAgg', whatever you have/prefer"
   ]
  },
  {
   "cell_type": "code",
   "execution_count": 2,
   "metadata": {},
   "outputs": [],
   "source": [
    "def black_box(x, y, z):\n",
    "    \"\"\"\n",
    "    Represents a black box function to maximize for CC of two ECGs given an XYZ coordinate\n",
    "    :param x:\n",
    "    :param y: coordinates of the prediction\n",
    "    :param z:\n",
    "    :return: CC of that point and the target\n",
    "    \"\"\"\n",
    "    sample_ecg = ecgs[get_index(np.array([x, y, z]),labels)]\n",
    "    return abs(correlation_coef(target_ecg, sample_ecg))\n",
    "\n",
    "def black_box_12_lead(x, y, z):\n",
    "    \"\"\"\n",
    "    Represents a black box function to maximize for CC of two ECGs given an XYZ coordinate\n",
    "    :param x:\n",
    "    :param y: coordinates of the prediction\n",
    "    :param z:\n",
    "    :return: CC of that point and the target\n",
    "    \"\"\"\n",
    "    sample_ecg = ecgs[get_index(np.array([x, y, z]),labels)]\n",
    "    sample_ecg = np.reshape(sample_ecg, [12, -1])\n",
    "#     target_ecg = np.reshape(target_ecg, [12, -1])\n",
    "    nums = 0\n",
    "    for i in range(12):\n",
    "#         ccs = np.corrcoef(sample_ecg[i], target_ecg[i])[0, 1]\n",
    "        ccs = abs(correlation_coef(target_ecg.reshape(12,-1)[i], sample_ecg[i]))\n",
    "        if ccs > .9:\n",
    "            nums += 1\n",
    "\n",
    "#     return True if nums == 12 else False \n",
    "    return nums"
   ]
  },
  {
   "cell_type": "code",
   "execution_count": 3,
   "metadata": {},
   "outputs": [],
   "source": [
    "data_path = \"/home/mz1482/project/vt-bayesian-opt-bopt_debug/data/simu_data_4000/\"\n",
    "# Reading in the ECGs and labels\n",
    "# aucs = pd.read_csv(data_path+\"Heart1/Heart1_AUCS.csv\", header=None).to_numpy()\n",
    "ecgs = pd.read_csv(data_path+\"Heart1/Heart1_SimuData_4000.csv\", header=None).to_numpy()\n",
    "labels = pd.read_csv(data_path+\"Heart1/Coord1_4000.csv\", header=None).to_numpy() / 1000\n",
    "uvc = pd.read_csv(data_path+\"UVC/Coord1_UVC_4000.csv\", header=None).to_numpy()\n",
    "init = 10\n",
    "steps = 20"
   ]
  },
  {
   "cell_type": "code",
   "execution_count": 4,
   "metadata": {},
   "outputs": [
    {
     "data": {
      "text/plain": [
       "(4000, 7212)"
      ]
     },
     "execution_count": 4,
     "metadata": {},
     "output_type": "execute_result"
    }
   ],
   "source": [
    "ecgs.shape"
   ]
  },
  {
   "cell_type": "code",
   "execution_count": null,
   "metadata": {},
   "outputs": [
    {
     "name": "stdout",
     "output_type": "stream",
     "text": [
      "\u001b[31mInitialization\u001b[0m\n",
      "\u001b[94m-----------------------------------------------------------------\u001b[0m\n",
      " Step |   Time |      Value |         x |         y |         z | \n",
      "    1 | 00m00s | \u001b[35m   1.00000\u001b[0m | \u001b[32m   3.5067\u001b[0m | \u001b[32m -76.8661\u001b[0m | \u001b[32m  -8.6279\u001b[0m | \n",
      "    2 | 00m00s |    0.00000 |   31.0602 |  -77.0779 |   17.0360 | \n",
      "    3 | 00m00s |    0.00000 |   13.6659 |  -72.9178 |   19.3183 | \n",
      "    4 | 00m00s |    1.00000 |   28.3457 |  -91.3452 |  -20.7242 | \n",
      "    5 | 00m00s |    0.00000 |   -0.5753 |   -9.3055 |    2.6197 | \n",
      "    6 | 00m00s |    0.00000 |  -30.3748 |  -43.6686 |  -15.2477 | \n",
      "    7 | 00m00s |    0.00000 |    5.5773 | -100.0120 |  -37.4261 | \n",
      "    8 | 00m00s |    0.00000 |  -31.5163 |  -83.1665 |   36.8677 | \n",
      "    9 | 00m00s |    0.00000 |    2.3004 |  -71.7836 |   29.7499 | \n",
      "   10 | 00m00s |    0.00000 |  -33.2249 | -102.0960 |   11.3615 | \n",
      "\u001b[31mBayesian Optimization\u001b[0m\n",
      "\u001b[94m-----------------------------------------------------------------\u001b[0m\n",
      " Step |   Time |      Value |         x |         y |         z | \n",
      "1\n",
      "   11 | 00m11s | \u001b[35m   7.00000\u001b[0m | \u001b[32m  28.7773\u001b[0m | \u001b[32m -59.8580\u001b[0m | \u001b[32m -24.3497\u001b[0m | \n",
      "1\n",
      "   12 | 00m07s |    0.00000 |  -44.7359 |  -86.0884 |   20.5762 | \u001b[31mWarning: Test point chose at random due to repeated sample.\u001b[0m\n",
      "\n",
      "1\n",
      "   13 | 00m07s |    0.00000 |    0.3149 | -104.5790 |   -3.6950 | \u001b[31mWarning: Test point chose at random due to repeated sample.\u001b[0m\n",
      "\n",
      "1\n",
      "   14 | 00m05s |    0.00000 |    1.7208 |  -53.0303 |   21.1467 | \u001b[31mWarning: Test point chose at random due to repeated sample.\u001b[0m\n",
      "\n",
      "1\n",
      "   15 | 00m07s |    0.00000 |   11.3732 |  -74.8753 |   -2.6739 | \u001b[31mWarning: Test point chose at random due to repeated sample.\u001b[0m\n",
      "\n",
      "1\n",
      "   16 | 00m07s |    0.00000 |   -2.4040 |  -72.4854 |  -40.8798 | \u001b[31mWarning: Test point chose at random due to repeated sample.\u001b[0m\n",
      "\n",
      "1\n",
      "   17 | 00m07s |    0.00000 |  -30.3748 |  -43.6686 |  -15.2477 | \u001b[31mWarning: Test point chose at random due to repeated sample.\u001b[0m\n",
      "\n",
      "1\n",
      "   18 | 00m00s |    0.00000 |   40.4878 |  -52.0589 |   -8.1660 | \u001b[31mWarning: Test point chose at random due to repeated sample.\u001b[0m\n",
      "\n",
      "1\n"
     ]
    }
   ],
   "source": [
    "bounds = get_heart_bounds(labels)\n",
    "# Pick out a sample to use as a target\n",
    "tidx = np.random.randint(0, labels.shape[0])\n",
    "target, target_ecg = labels[tidx], ecgs[tidx]\n",
    "# optimizer = optimize_point(labels,bounds)  \n",
    "optimizer = bo_new.mybo(f=black_box_12_lead,pbounds=bounds, real_set=labels)\n",
    "gp,X,rs,predicted = optimizer.gpfit_12_lead(init_points=init, n_iter=steps,  acq=\"ucb\", kappa = 1,kappa_decay=.75,\n",
    "                 kappa_decay_delay=0)\n",
    "# print(optimizer.predicted)\n",
    "# graph_cc_distribution(target_ecg,ecgs,labels)\n",
    "# init_gp_plot(init,gp,labels,X)\n",
    "# predicted_visited(init,target,target_ecg,labels,ecgs,X,predicted)"
   ]
  },
  {
   "cell_type": "code",
   "execution_count": null,
   "metadata": {},
   "outputs": [],
   "source": [
    "target"
   ]
  },
  {
   "cell_type": "code",
   "execution_count": null,
   "metadata": {},
   "outputs": [],
   "source": []
  },
  {
   "cell_type": "code",
   "execution_count": null,
   "metadata": {},
   "outputs": [],
   "source": []
  }
 ],
 "metadata": {
  "kernelspec": {
   "display_name": "Python [conda env:gp_tutorial]",
   "language": "python",
   "name": "conda-env-gp_tutorial-py"
  },
  "language_info": {
   "codemirror_mode": {
    "name": "ipython",
    "version": 3
   },
   "file_extension": ".py",
   "mimetype": "text/x-python",
   "name": "python",
   "nbconvert_exporter": "python",
   "pygments_lexer": "ipython3",
   "version": "3.7.7"
  }
 },
 "nbformat": 4,
 "nbformat_minor": 2
}
