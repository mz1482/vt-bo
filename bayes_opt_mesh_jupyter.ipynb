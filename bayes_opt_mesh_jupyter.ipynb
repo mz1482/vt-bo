{
 "cells": [
  {
   "cell_type": "code",
   "execution_count": 1,
   "metadata": {},
   "outputs": [],
   "source": [
    "import pandas as pd\n",
    "import numpy as np\n",
    "from data_analysis import get_heart_bounds, correlation_coef, graph_3d\n",
    "from graph import narrow,corrplot3axes,trend,nearest,plot_exploration, graph_dist_over_axis, graph_cc_distribution\n",
    "from BayesOptLib.bayes_opt.bayesian_optimization import BayesianOptimization\n",
    "from RandomSampler import RandomSampler\n",
    "import matplotlib\n",
    "from matplotlib import pyplot as plt\n",
    "from mpl_toolkits.mplot3d import Axes3D\n",
    "from sklearn.metrics.pairwise import euclidean_distances\n",
    "matplotlib.use('Qt5Agg')  # or can use 'TkAgg', whatever you have/prefer\n",
    "from prettytable import PrettyTable\n",
    "%matplotlib qt \n",
    "\n",
    "\n",
    "def get_index(label):\n",
    "    \"\"\"\n",
    "    Gets the idx of a label in the labels array\n",
    "    :param label: label to check for\n",
    "    :return: idx\n",
    "    \"\"\"\n",
    "    idx = 0\n",
    "    for coord in labels:\n",
    "        if np.array_equal(label, coord):\n",
    "            break\n",
    "        idx += 1\n",
    "    return idx\n",
    "\n",
    "\n",
    "def black_box(x, y, z):\n",
    "    \"\"\"\n",
    "    Represents a black box function to maximize for CC of two ECGs given an XYZ coordinate\n",
    "    :param x:\n",
    "    :param y: coordinates of the prediction\n",
    "    :param z:\n",
    "    :return: CC of that point and the target\n",
    "    \"\"\"\n",
    "    sample_ecg = ecgs[get_index(np.array([x, y, z]))]\n",
    "    return correlation_coef(target_ecg, sample_ecg)\n",
    "\n",
    "\n",
    "def plot_exploration(visited, color_gradient):\n",
    "    \"\"\"\n",
    "    Handles plotting the predictions of the network over time\n",
    "    :param visited:\n",
    "    :return:\n",
    "    \"\"\"\n",
    "    path = np.array(visited)\n",
    "    color_gradient = np.array(color_gradient)\n",
    "\n",
    "\n",
    "    # Plot final for viewing\n",
    "    rest = np.delete(labels, np.where(np.isin(labels, path)), axis=0)\n",
    "    color_gradient = np.delete(color_gradient, np.where(np.isin(labels, path)), axis=0)\n",
    "#     fig = plt.figure(0)\n",
    "    fig = plt.figure(figsize=(8,8)); ax = Axes3D(fig)\n",
    "    ax = fig.gca(projection='3d')\n",
    "\n",
    "    ax.scatter(xs=rest[:, 0], ys=rest[:, 1], zs=rest[:, 2], zdir='z', alpha=0.75, c=color_gradient, cmap = plt.cm.Reds)\n",
    "    ax.scatter(xs=path[:, 0], ys=path[:, 1], zs=path[:, 2], zdir='z', color='blue')\n",
    "    ax.plot(path[:, 0], path[:, 1], path[:, 2], color = 'blue')\n",
    "\n",
    "    m = path\n",
    "    for i in range(len(m)):\n",
    "        ax.text(m[i, 0], m[i, 1], m[i, 2], '%s' % (str(i)), size=10, zorder=1, color='k')\n",
    "    ax.scatter(xs=target[0], ys=target[1], zs=target[2], color='black', s = 100)\n",
    "    plt.show()\n",
    "\n"
   ]
  },
  {
   "cell_type": "code",
   "execution_count": 25,
   "metadata": {},
   "outputs": [
    {
     "name": "stdout",
     "output_type": "stream",
     "text": [
      "(2000, 7212)\n"
     ]
    }
   ],
   "source": [
    "# if __name__ == '__main__':\n",
    "    # Read in ECGs and Coordinates\n",
    "ecgs = pd.read_csv(\"simu-data/Heart3_SimuData.csv\", header=None).to_numpy()\n",
    "labels = pd.read_csv(\"simu-data/Heart3_XYZsub.csv\", header=None).to_numpy() / 1000\n",
    "print(ecgs.shape)\n",
    "# Get bounds of the heart mesh\n",
    "bounds = get_heart_bounds(labels)"
   ]
  },
  {
   "cell_type": "code",
   "execution_count": 3,
   "metadata": {},
   "outputs": [],
   "source": [
    "def optimize_point(labels):\n",
    "    # Build the optimizer with the heart bounds\n",
    "    optimizer = BayesianOptimization(\n",
    "        f=black_box,\n",
    "        pbounds=bounds,\n",
    "        random_state=None, real_set=labels\n",
    "    )\n",
    "\n",
    "    # Maximize over x number of points\n",
    "    optimizer.maximize(init_points=10, n_iter=35,  acq=\"ucb\", kappa = 2)\n",
    "    return optimizer\n"
   ]
  },
  {
   "cell_type": "code",
   "execution_count": 29,
   "metadata": {},
   "outputs": [
    {
     "name": "stdout",
     "output_type": "stream",
     "text": [
      "Target:  [ 30.7526875  -97.58259375 -77.78215625]\n"
     ]
    }
   ],
   "source": [
    "# Pick out a sample to use as a target\n",
    "tidx = np.random.randint(0, labels.shape[0])\n",
    "#tidx = 1\n",
    "target, target_ecg = labels[tidx], ecgs[tidx]\n",
    "print(\"Target: \", target)\n",
    "\n",
    "# Remove target from labels\n",
    "#labels = np.delete(labels, np.where(np.isin(labels, target)), axis=0)\n",
    "\n",
    "# Get plots of target CC distribution\n",
    "# graph_cc_distribution(target_ecg)\n",
    "# graph_dist_over_axis(target_ecg)\n",
    "\n",
    "# Optimize for target and plot path\n",
    "# optimizer = optimize_point(labels)"
   ]
  },
  {
   "cell_type": "code",
   "execution_count": 5,
   "metadata": {},
   "outputs": [],
   "source": [
    "# init =10\n",
    "# actual = np.asarray(optimizer.predicted)\n",
    "# approx = np.asarray(optimizer.visited)\n",
    "# approx = approx[len(approx)-len(actual):len(approx),:]\n"
   ]
  },
  {
   "cell_type": "code",
   "execution_count": 6,
   "metadata": {},
   "outputs": [],
   "source": [
    "# np.linalg.norm(target[1,:]-optimizer.visited[1,:])\n",
    "# optimizer.visited.shape"
   ]
  },
  {
   "cell_type": "code",
   "execution_count": 7,
   "metadata": {},
   "outputs": [
    {
     "data": {
      "text/plain": [
       "0.09855815"
      ]
     },
     "execution_count": 7,
     "metadata": {},
     "output_type": "execute_result"
    }
   ],
   "source": [
    "np.quantile(ecgs[1],0.5)"
   ]
  },
  {
   "cell_type": "code",
   "execution_count": 8,
   "metadata": {},
   "outputs": [
    {
     "data": {
      "image/png": "[encoded data removed]",
      "text/plain": [
       "<Figure size 432x288 with 1 Axes>"
      ]
     },
     "metadata": {
      "needs_background": "light"
     },
     "output_type": "display_data"
    }
   ],
   "source": [
    "plt.hist(ecgs[1])\n",
    "plt.show()"
   ]
  },
  {
   "cell_type": "code",
   "execution_count": 9,
   "metadata": {},
   "outputs": [],
   "source": [
    "def all_mean(ecgs):\n",
    "    mean_array = []\n",
    "    var_array = []\n",
    "    for i in range(len(ecgs)):\n",
    "        m = np.mean(ecgs[i])\n",
    "        v = np.var(ecgs[i])\n",
    "        mean_array = np.append(mean_array,m)\n",
    "        var_array = np.append(var_array,v)\n",
    "    return mean_array, var_array\n",
    "        \n",
    "        "
   ]
  },
  {
   "cell_type": "code",
   "execution_count": 10,
   "metadata": {},
   "outputs": [],
   "source": [
    "mean, var = all_mean(ecgs)"
   ]
  },
  {
   "cell_type": "code",
   "execution_count": 11,
   "metadata": {},
   "outputs": [
    {
     "data": {
      "image/png": "[encoded data removed]",
      "text/plain": [
       "<Figure size 432x288 with 1 Axes>"
      ]
     },
     "metadata": {
      "needs_background": "light"
     },
     "output_type": "display_data"
    }
   ],
   "source": [
    "plt.hist(var)\n",
    "plt.show()"
   ]
  },
  {
   "cell_type": "code",
   "execution_count": 12,
   "metadata": {},
   "outputs": [
    {
     "name": "stdout",
     "output_type": "stream",
     "text": [
      "+-------+--------+--------+----------+------+-------+------+\n",
      "|   x   |   y    |   z    | Distance | Corr |   Q1  |  Q3  |\n",
      "+-------+--------+--------+----------+------+-------+------+\n",
      "| 53.67 | -77.19 | -81.55 |   0.0    | 1.0  | -0.03 | 0.54 |\n",
      "| 47.83 | -87.82 | -76.76 |  13.04   | 0.8  |  -0.0 | 0.48 |\n",
      "| 40.83 | -81.41 | -81.85 |  13.52   | 0.72 | -0.04 | 0.48 |\n",
      "| 42.42 | -76.52 | -83.94 |  11.52   | 0.76 | -0.04 | 0.49 |\n",
      "| 46.39 | -89.53 | -79.34 |  14.49   | 0.7  | -0.02 | 0.49 |\n",
      "| 42.13 | -69.34 | -82.41 |  13.98   | 0.72 | -0.03 | 0.49 |\n",
      "| 49.82 | -90.03 | -87.25 |  14.56   | 0.74 | -0.04 | 0.56 |\n",
      "| 58.62 | -88.31 | -75.45 |  13.62   | 0.74 | -0.03 | 0.57 |\n",
      "| 51.01 | -77.52 | -85.13 |   4.47   | 0.91 | -0.03 | 0.56 |\n",
      "| 40.44 | -83.15 | -80.69 |  14.54   | 0.69 | -0.04 | 0.47 |\n",
      "| 48.25 | -90.03 | -79.08 |  14.16   | 0.7  | -0.01 | 0.5  |\n",
      "|  53.3 | -83.07 | -70.76 |  12.29   | 0.82 | -0.02 | 0.54 |\n",
      "| 47.72 | -85.82 | -75.43 |  12.13   | 0.86 |  -0.0 | 0.49 |\n",
      "| 41.01 | -78.21 | -83.26 |  12.82   | 0.74 | -0.04 | 0.48 |\n",
      "| 41.09 | -71.41 | -82.71 |  13.89   | 0.72 | -0.04 | 0.49 |\n",
      "| 50.01 | -67.41 | -71.63 |   14.4   | 0.82 | -0.04 | 0.51 |\n",
      "| 60.92 | -85.31 | -86.96 |  12.16   | 0.91 | -0.04 | 0.64 |\n",
      "| 54.09 | -75.15 | -77.21 |   4.82   | 0.9  | -0.04 | 0.56 |\n",
      "| 49.82 | -90.03 | -87.25 |  14.56   | 0.74 | -0.04 | 0.56 |\n",
      "| 54.15 | -72.82 | -75.35 |   7.6    | 0.88 | -0.04 | 0.54 |\n",
      "| 60.36 | -82.83 | -83.97 |   9.09   | 0.94 | -0.04 | 0.61 |\n",
      "| 49.82 | -90.03 | -87.25 |  14.56   | 0.74 | -0.04 | 0.56 |\n",
      "| 41.09 | -71.41 | -82.71 |  13.89   | 0.72 | -0.04 | 0.49 |\n",
      "| 63.24 | -81.31 | -77.55 |  11.16   | 0.83 | -0.04 | 0.59 |\n",
      "| 60.54 | -82.31 | -82.76 |   8.65   | 0.92 | -0.04 | 0.6  |\n",
      "| 49.82 | -90.03 | -87.25 |  14.56   | 0.74 | -0.04 | 0.56 |\n",
      "| 54.67 | -73.43 | -74.51 |   8.04   | 0.88 | -0.04 | 0.55 |\n",
      "|  59.2 | -83.36 | -85.0  |   8.97   | 0.95 | -0.04 | 0.62 |\n",
      "| 53.72 | -75.13 | -78.36 |   3.8    | 0.93 | -0.04 | 0.55 |\n",
      "| 41.09 | -71.41 | -82.71 |  13.89   | 0.72 | -0.04 | 0.49 |\n",
      "| 50.18 | -83.5  | -71.8  |  12.13   | 0.84 | -0.02 | 0.53 |\n",
      "| 51.11 | -85.92 | -73.89 |  11.89   | 0.81 | -0.02 | 0.54 |\n",
      "| 49.82 | -90.03 | -87.25 |  14.56   | 0.74 | -0.04 | 0.56 |\n",
      "| 48.52 | -89.75 | -86.09 |  14.32   | 0.74 | -0.04 | 0.54 |\n",
      "| 60.09 | -88.22 | -74.82 |  14.43   | 0.74 | -0.03 | 0.57 |\n",
      "| 48.16 | -84.33 | -73.86 |  11.85   | 0.88 | -0.02 | 0.51 |\n",
      "| 62.09 | -86.82 | -88.28 |  14.46   | 0.88 | -0.04 | 0.64 |\n",
      "| 51.53 | -83.02 | -71.46 |  11.85   | 0.83 | -0.02 | 0.54 |\n",
      "| 41.09 | -71.41 | -82.71 |  13.89   | 0.72 | -0.04 | 0.49 |\n",
      "| 53.67 | -77.19 | -81.55 |   0.0    | 1.0  | -0.03 | 0.54 |\n",
      "| 63.21 | -81.9  | -79.91 |  10.77   | 0.83 | -0.04 | 0.6  |\n",
      "| 51.78 | -77.31 | -83.8  |   2.95   | 0.95 | -0.03 | 0.55 |\n",
      "| 62.51 | -82.03 | -80.89 |   10.1   | 0.83 | -0.04 | 0.6  |\n",
      "| 42.62 | -67.91 | -79.0  |  14.65   | 0.75 | -0.02 | 0.47 |\n",
      "| 40.44 | -83.15 | -80.69 |  14.54   | 0.69 | -0.04 | 0.47 |\n",
      "| 45.06 | -68.05 | -76.23 |  13.63   | 0.84 | -0.04 | 0.47 |\n",
      "| 49.82 | -90.03 | -87.25 |  14.56   | 0.74 | -0.04 | 0.56 |\n",
      "| 53.32 | -76.98 | -82.7  |   1.22   | 0.99 | -0.03 | 0.55 |\n",
      "| 61.06 | -82.02 | -81.73 |   8.83   | 0.89 | -0.04 | 0.59 |\n",
      "| 63.85 | -82.61 | -79.15 |  11.78   | 0.82 | -0.04 | 0.6  |\n",
      "| 52.79 | -76.08 | -79.36 |   2.6    | 0.98 | -0.04 | 0.54 |\n",
      "| 56.38 | -74.06 | -73.71 |   8.86   | 0.88 | -0.04 | 0.56 |\n",
      "| 49.82 | -90.03 | -87.25 |  14.56   | 0.74 | -0.04 | 0.56 |\n",
      "| 44.76 | -67.92 | -77.8  |  13.39   | 0.81 | -0.04 | 0.46 |\n",
      "| 44.45 | -69.78 | -81.14 |  11.83   | 0.8  | -0.02 | 0.49 |\n",
      "+-------+--------+--------+----------+------+-------+------+\n"
     ]
    }
   ],
   "source": [
    "def nearest(tidx,labels,ecgs,dis_limit):\n",
    "    target_loc = labels[tidx]\n",
    "    target_ecg = ecgs[tidx]\n",
    "    cc = np.array([[1]])\n",
    "    dis = np.array([[0]])\n",
    "    mean_target = np.array([[0]])+np.quantile(target_ecg,0.25)\n",
    "    var_target = np.array([[0]])+np.quantile(target_ecg,0.75)\n",
    "    first_row=np.concatenate((target_loc.reshape(1,3), dis,cc,mean_target,var_target),axis =1)\n",
    "    nn_loc = np.empty((0, 3))\n",
    "    nn_cc = np.empty ((0,1))\n",
    "    nn_dis = np.empty((0,1))\n",
    "    nn_mean = np.empty((0,1))\n",
    "    nn_var = np.empty((0,1))\n",
    "    for i in range(len(labels)):\n",
    "        d = np.sqrt(np.sum((target_loc - labels[i])**2))\n",
    "        if d < dis_limit:\n",
    "            nn_loc = np.append(nn_loc,labels[i].reshape(1,3),axis=0)\n",
    "            nn_cc = np.append(nn_cc,np.corrcoef(target_ecg, ecgs[i])[0, 1])\n",
    "            nn_dis = np.append(nn_dis,d)\n",
    "            nn_mean = np.append(nn_mean,np.quantile(ecgs[i],0.25))\n",
    "            nn_var = np.append(nn_var,np.quantile(ecgs[i],0.75))\n",
    "    nn_dis = nn_dis.reshape(-1,1)\n",
    "    nn_cc = nn_cc.reshape(-1,1)\n",
    "    nn_mean = nn_mean.reshape(-1,1)\n",
    "    nn_var = nn_var.reshape(-1,1)\n",
    "    near_points = np.concatenate((nn_loc, nn_dis, nn_cc,nn_mean,nn_var),axis =1)\n",
    "    table = np.concatenate((first_row,near_points), axis = 0)\n",
    "    table = np.around(table,2)\n",
    "    return table\n",
    "table=nearest(tidx,labels,ecgs,15)\n",
    "# plt.scatter(table[:,3],table[:,4])\n",
    "# plt.xlabel(\"distance\")\n",
    "# plt.ylabel(\"correlation\")\n",
    "# plt.show\n",
    "x= PrettyTable()\n",
    "x.field_names = ['x', 'y','z','Distance','Corr','Q1','Q3']\n",
    "for row in table:\n",
    "    x.add_row(row)\n",
    "print(x)"
   ]
  },
  {
   "cell_type": "code",
   "execution_count": 13,
   "metadata": {},
   "outputs": [
    {
     "data": {
      "text/plain": [
       "array([[ 5.367e+01, -7.719e+01, -8.155e+01, ...,  1.000e+00, -3.000e-02,\n",
       "         5.400e-01],\n",
       "       [ 4.783e+01, -8.782e+01, -7.676e+01, ...,  8.000e-01, -0.000e+00,\n",
       "         4.800e-01],\n",
       "       [ 4.062e+01, -8.676e+01, -7.968e+01, ...,  6.400e-01, -4.000e-02,\n",
       "         4.900e-01],\n",
       "       ...,\n",
       "       [ 4.062e+01, -8.676e+01, -7.968e+01, ...,  6.400e-01, -4.000e-02,\n",
       "         4.900e-01],\n",
       "       [ 3.805e+01, -8.759e+01, -7.511e+01, ...,  5.800e-01, -5.000e-02,\n",
       "         5.100e-01],\n",
       "       [ 4.445e+01, -6.978e+01, -8.114e+01, ...,  8.000e-01, -2.000e-02,\n",
       "         4.900e-01]])"
      ]
     },
     "execution_count": 13,
     "metadata": {},
     "output_type": "execute_result"
    }
   ],
   "source": [
    "nearest(tidx,labels,ecgs,20)"
   ]
  },
  {
   "cell_type": "code",
   "execution_count": 14,
   "metadata": {},
   "outputs": [],
   "source": [
    "def nearest(tidx,labels,ecgs,dis_limit):\n",
    "    target_loc = labels[tidx]\n",
    "    target_ecg = ecgs[tidx]\n",
    "    cc = np.array([[1]])\n",
    "    dis = np.array([[0]])\n",
    "    first_row=np.concatenate((target_loc.reshape(1,3), dis,cc),axis =1)\n",
    "    nn_loc = np.empty((0, 3))\n",
    "    nn_cc = np.empty ((0,1))\n",
    "    nn_dis = np.empty((0,1))\n",
    "    for i in range(len(labels)):\n",
    "        d = np.sqrt(np.sum((target_loc - labels[i])**2))\n",
    "        if d < dis_limit:\n",
    "            nn_loc = np.append(nn_loc,labels[i].reshape(1,3),axis=0)\n",
    "            nn_cc = np.append(nn_cc,np.corrcoef(target_ecg, ecgs[i])[0, 1])\n",
    "            nn_dis = np.append(nn_dis,d)\n",
    "    nn_dis = nn_dis.reshape(-1,1)\n",
    "    nn_cc = nn_cc.reshape(-1,1)\n",
    "    near_points = np.concatenate((nn_loc, nn_dis, nn_cc),axis =1)\n",
    "    table = np.concatenate((first_row,near_points), axis = 0)\n",
    "    table = np.around(table,2)\n",
    "    plt.figure(2)\n",
    "    plt.scatter(table[:,3],table[:,4])\n",
    "    plt.xlabel(\"distance\")\n",
    "    plt.ylabel(\"correlation\")\n",
    "    plt.show\n",
    "    return table"
   ]
  },
  {
   "cell_type": "code",
   "execution_count": 15,
   "metadata": {},
   "outputs": [
    {
     "data": {
      "text/plain": [
       "0.09855815"
      ]
     },
     "execution_count": 15,
     "metadata": {},
     "output_type": "execute_result"
    }
   ],
   "source": [
    "np.quantile(ecgs[1],0.5)"
   ]
  },
  {
   "cell_type": "code",
   "execution_count": 16,
   "metadata": {},
   "outputs": [
    {
     "data": {
      "image/png": "[encoded data removed]",
      "text/plain": [
       "<Figure size 432x288 with 3 Axes>"
      ]
     },
     "metadata": {
      "needs_background": "light"
     },
     "output_type": "display_data"
    }
   ],
   "source": [
    "x,y,z,nn_cc = corrplot3axes(tidx,labels,ecgs,15)"
   ]
  },
  {
   "cell_type": "code",
   "execution_count": 17,
   "metadata": {},
   "outputs": [],
   "source": [
    "def plot_exploration(visited, color_gradient):\n",
    "    \"\"\"\n",
    "    Handles plotting the predictions of the network over time\n",
    "    :param visited:\n",
    "    :return:\n",
    "    \"\"\"\n",
    "    path = np.array(visited)\n",
    "    color_gradient = np.array(color_gradient)\n",
    "\n",
    "    # Plot final for viewing\n",
    "    rest = np.delete(labels, np.where(np.isin(labels, path)), axis=0)\n",
    "    color_gradient = np.delete(color_gradient, np.where(np.isin(labels, path)), axis=0)\n",
    "    fig = plt.figure(0)\n",
    "    ax = fig.gca(projection='3d')\n",
    "\n",
    "    ax.scatter(xs=rest[:, 0], ys=rest[:, 1], zs=rest[:, 2], zdir='z', alpha=0.75, c=color_gradient, cmap = plt.cm.Reds)\n",
    "    ax.scatter(xs=path[:, 0], ys=path[:, 1], zs=path[:, 2], zdir='z', color='blue')\n",
    "    ax.plot(path[:, 0], path[:, 1], path[:, 2], color = 'blue')\n",
    "\n",
    "    m = path\n",
    "    for i in range(len(m)):\n",
    "        ax.text(m[i, 0], m[i, 1], m[i, 2], '%s' % (str(i)), size=10, zorder=1, color='k')\n",
    "    ax.scatter(xs=target[0], ys=target[1], zs=target[2], color='black', s = 100)\n",
    "    plt.show()\n"
   ]
  },
  {
   "cell_type": "code",
   "execution_count": 18,
   "metadata": {},
   "outputs": [
    {
     "data": {
      "image/png": "[encoded data removed]",
      "text/plain": [
       "<Figure size 432x288 with 1 Axes>"
      ]
     },
     "metadata": {
      "needs_background": "light"
     },
     "output_type": "display_data"
    }
   ],
   "source": [
    "color_gradient = []\n",
    "    # Loop through all points to get CC with that point\n",
    "for ecg, coord in zip(ecgs, labels):\n",
    "    if np.array_equal(target_ecg, ecg):\n",
    "        true = coord\n",
    "        color_gradient.append(1)\n",
    "        continue\n",
    "\n",
    "    cc = correlation_coef(target_ecg, ecg)\n",
    "    color_gradient.append(cc)\n",
    "# %matplotlib notebook\n",
    "plot_exploration(optimizer.visited, color_gradient)"
   ]
  },
  {
   "cell_type": "code",
   "execution_count": 171,
   "metadata": {},
   "outputs": [],
   "source": [
    "def cube(target,ecgs,labels):\n",
    "    c = corners(labels)\n",
    "    true = None\n",
    "    color_gradient = []\n",
    "    for ecg, coord in zip(ecgs, labels):\n",
    "        if np.array_equal(target, ecg):\n",
    "            true = coord\n",
    "            color_gradient.append(1)\n",
    "            continue\n",
    "        cc = correlation_coef(target, ecg)\n",
    "        color_gradient.append(cc)\n",
    "    fig = plt.figure(20)\n",
    "    ax = fig.gca(projection='3d')\n",
    "    ax.scatter(xs=labels[:, 0], ys=labels[:, 1], zs=labels[:, 2], c=color_gradient, cmap = plt.cm.rainbow)\n",
    "    ax.scatter(true[0], true[1], true[2], color='black', marker = \"X\", s = 100)\n",
    "    ax.scatter(c[:,0], c[:,1], c[:,2], color='red', marker = \"*\", s = 150)\n",
    "    ax.set_xlabel(\"X\"), ax.set_ylabel(\"Y\"), ax.set_zlabel(\"Z\")\n",
    "    plt.show()"
   ]
  },
  {
   "cell_type": "code",
   "execution_count": 172,
   "metadata": {},
   "outputs": [],
   "source": [
    "# %matplotlib qt \n",
    "cube(target_ecg,ecgs,labels)"
   ]
  },
  {
   "cell_type": "code",
   "execution_count": 41,
   "metadata": {},
   "outputs": [],
   "source": []
  },
  {
   "cell_type": "code",
   "execution_count": 68,
   "metadata": {},
   "outputs": [
    {
     "data": {
      "text/plain": [
       "(1, 6)"
      ]
     },
     "execution_count": 68,
     "metadata": {},
     "output_type": "execute_result"
    }
   ],
   "source": [
    "\n"
   ]
  },
  {
   "cell_type": "code",
   "execution_count": 47,
   "metadata": {},
   "outputs": [],
   "source": [
    "def euclidean_distance(one, two):\n",
    "    return np.sqrt(np.sum((one - two)**2))"
   ]
  },
  {
   "cell_type": "code",
   "execution_count": 148,
   "metadata": {},
   "outputs": [],
   "source": [
    "def corners(labels):\n",
    "    minx,maxx = np.amin(labels[:,0]),np.amax(labels[:,0])\n",
    "    miny,maxy = np.amin(labels[:,1]),np.amax(labels[:,1])\n",
    "    minz,maxz = np.amin(labels[:,2]),np.amax(labels[:,2])\n",
    "    c1 = np.array([minx,miny,minz])\n",
    "    c2 = np.array([maxx,miny,minz])\n",
    "    c3 = np.array([maxx,maxy,minz])\n",
    "    c4 = np.array([minx,maxy,minz])\n",
    "    c5 = np.array([minx,miny,maxz])\n",
    "    c6 = np.array([maxx,miny,maxz])\n",
    "    c7 = np.array([maxx,maxy,maxz])\n",
    "    c8 = np.array([minx,maxy,maxz])\n",
    "    c = np.asarray([c1,c2,c3,c4,c5,c6,c7,c8])   \n",
    "    c9 = np.asarray([np.mean(c[:,0]),np.mean(c[:,1]),np.mean(c[:,2])]).reshape(1,3)\n",
    "    c = np.concatenate((c, c9),axis =0)\n",
    "    for i in range(len(c)):\n",
    "        c[i] = approx(c[i],labels)\n",
    "    return c"
   ]
  },
  {
   "cell_type": "code",
   "execution_count": 131,
   "metadata": {},
   "outputs": [
    {
     "data": {
      "text/plain": [
       "(1, 3)"
      ]
     },
     "execution_count": 131,
     "metadata": {},
     "output_type": "execute_result"
    }
   ],
   "source": []
  },
  {
   "cell_type": "code",
   "execution_count": 106,
   "metadata": {},
   "outputs": [],
   "source": [
    "def approx(c1,labels):\n",
    "    dist = []\n",
    "    for i in range(len(labels)):\n",
    "        d = euclidean_distance(c1, labels[i])\n",
    "        dist = np.append(dist,d)\n",
    "    for j in range(len(dist)):\n",
    "        if dist[j]==np.amin(dist):\n",
    "            break\n",
    "    return labels[j]\n",
    "        \n",
    "        "
   ]
  },
  {
   "cell_type": "code",
   "execution_count": 108,
   "metadata": {},
   "outputs": [
    {
     "data": {
      "text/plain": [
       "array([ -10.07483008, -111.63642187,  -55.97594531])"
      ]
     },
     "execution_count": 108,
     "metadata": {},
     "output_type": "execute_result"
    }
   ],
   "source": [
    "c1 = np.array([minx,miny,minz])\n",
    "c1=approx(c1,labels)\n",
    "c1"
   ]
  },
  {
   "cell_type": "code",
   "execution_count": 112,
   "metadata": {},
   "outputs": [],
   "source": [
    "c=corners(labels)"
   ]
  },
  {
   "cell_type": "code",
   "execution_count": 140,
   "metadata": {},
   "outputs": [],
   "source": []
  },
  {
   "cell_type": "code",
   "execution_count": 143,
   "metadata": {},
   "outputs": [],
   "source": []
  },
  {
   "cell_type": "code",
   "execution_count": 144,
   "metadata": {},
   "outputs": [
    {
     "data": {
      "text/plain": [
       "(9, 3)"
      ]
     },
     "execution_count": 144,
     "metadata": {},
     "output_type": "execute_result"
    }
   ],
   "source": [
    "c.shape"
   ]
  },
  {
   "cell_type": "code",
   "execution_count": null,
   "metadata": {},
   "outputs": [],
   "source": []
  }
 ],
 "metadata": {
  "kernelspec": {
   "display_name": "Python [conda env:tf_gpu] *",
   "language": "python",
   "name": "conda-env-tf_gpu-py"
  },
  "language_info": {
   "codemirror_mode": {
    "name": "ipython",
    "version": 3
   },
   "file_extension": ".py",
   "mimetype": "text/x-python",
   "name": "python",
   "nbconvert_exporter": "python",
   "pygments_lexer": "ipython3",
   "version": "3.7.5"
  }
 },
 "nbformat": 4,
 "nbformat_minor": 2
}
