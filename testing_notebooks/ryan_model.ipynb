{
 "cells": [
  {
   "cell_type": "code",
   "execution_count": 1,
   "metadata": {},
   "outputs": [],
   "source": [
    "import sys\n",
    "sys.path.append('/home/mz1482/project/vt-bayesian-opt-bopt_debug/')\n",
    "from models.ccmodel import CCModel\n",
    "from models.rsmodel import RSModel\n",
    "from models.bomodel import BOModel\n",
    "from models.confi import *\n",
    "from models.utilfuncs import *\n",
    "from graph import *\n",
    "import pandas as pd\n",
    "from tqdm import tqdm\n",
    "import random\n",
    "\n",
    "# Ignoring warnings\n",
    "import warnings\n",
    "warnings.filterwarnings('ignore')"
   ]
  },
  {
   "cell_type": "code",
   "execution_count": 2,
   "metadata": {},
   "outputs": [],
   "source": [
    "data_path = \"/home/mz1482/project/vt-bayesian-opt-bopt_debug/data/simu_data_4000/\"\n",
    "# Reading in the ECGs and labels\n",
    "aucs = pd.read_csv(data_path+\"Heart1/Heart1_AUCS.csv\", header=None).to_numpy()\n",
    "ecgs = pd.read_csv(data_path+\"Heart1/Heart1_SimuData_4000.csv\", header=None).to_numpy()\n",
    "labels = pd.read_csv(data_path+\"Heart1/Coord1_4000.csv\", header=None).to_numpy() / 1000\n",
    "uvc = pd.read_csv(data_path+\"UVC/Coord1_UVC_4000.csv\", header=None).to_numpy()"
   ]
  },
  {
   "cell_type": "code",
   "execution_count": 3,
   "metadata": {},
   "outputs": [],
   "source": [
    "total_cases = 0\n",
    "alle, all_points = [], []\n",
    "cc_euclids = [[] for _ in range(NUM_STEPS + 21)]                    # Random init CC arrays\n",
    "cc_successes, cc_avg_sites = [], []\n",
    "cc_drop = []\n",
    "# Set mm threshold for finding nearest\n",
    "mm_thres = 200000"
   ]
  },
  {
   "cell_type": "code",
   "execution_count": 4,
   "metadata": {},
   "outputs": [],
   "source": [
    "def get_random_dataset(data, coords):\n",
    "    \"\"\"\n",
    "    Handles getting the random dataset for the randomly initialized models\n",
    "    :param target_coord: target coordinate\n",
    "    :param data: full dataset for a patient\n",
    "    :param coords: full labels for a patient\n",
    "    :return: x, y of size 4\n",
    "    \"\"\"\n",
    "    indices = np.random.choice(range(0, data.shape[0]), NUM_POINTS_START, replace=False)\n",
    "    return data[indices], coords[indices]"
   ]
  },
  {
   "cell_type": "code",
   "execution_count": 5,
   "metadata": {},
   "outputs": [],
   "source": [
    "def model_run(model, x, y, train, labels, target, target_coord, target_raw, successes, avg_sites, all_euclids):\n",
    "    \"\"\"\n",
    "    Handles running a single runthrough of a given model on a target site\n",
    "    Train and labels are the initialized sets to start with (either random or by segment prediction)\n",
    "    \"\"\"\n",
    "    # Run the training loop for the model\n",
    "    euclids, preds, sites, success, nsites = model.run(x, y, train, labels, target, target_coord, target_raw)\n",
    "    sites = np.asarray(sites)\n",
    "\n",
    "    # Add to arrays if successful and add the per steps error\n",
    "    if success:\n",
    "        successes.append(euclids[-1])\n",
    "        avg_sites.append(nsites)\n",
    "    for j in range(len(euclids)):\n",
    "        all_euclids[j].append(euclids[j])\n",
    "        # if j != 0:\n",
    "        #     drop.append(euclids[j] - euclids[j - 1])\n",
    "    return successes, avg_sites, all_euclids, sites"
   ]
  },
  {
   "cell_type": "code",
   "execution_count": 6,
   "metadata": {},
   "outputs": [],
   "source": [
    "cc_model = CCModel(leads=LEADS, steps=10, svr_c=SVR_C, cc=CC_THRES, cc_succ=CC_SUCC,\n",
    "                   mm=mm_thres, samp_raw=ecgs, samp_coords=labels)\n",
    "rs_model = RSModel(steps=NUM_STEPS, svr_c=SVR_C, samp_raw=ecgs, samp_coords=labels, cc_succ=CC_SUCC)"
   ]
  },
  {
   "cell_type": "code",
   "execution_count": 7,
   "metadata": {},
   "outputs": [],
   "source": [
    "idx = np.random.randint(0,1999,1)[0]\n",
    "target = aucs[idx]\n",
    "target_coord = labels[idx]\n",
    "target_raw = ecgs[idx]\n",
    "target_uvc = uvc[idx]\n",
    "\n",
    "# Drop the target from the training set\n",
    "if idx == 0:\n",
    "    x, y, raw = aucs[idx + 1:, :], labels[idx + 1:], ecgs[idx + 1:, :]\n",
    "else:\n",
    "    x = np.concatenate((aucs[:idx, :], aucs[idx + 1:, :]))\n",
    "    y = np.concatenate((labels[:idx], labels[idx + 1:]))\n",
    "    raw = np.concatenate((ecgs[:idx], ecgs[idx + 1:]))\n",
    "random_x, random_y = get_random_dataset(x, y)\n",
    "\n",
    "cc_euclids, cc_preds, cc_sites, success, num_sites = cc_model.run(x, y, random_x, random_y,\n",
    "                                                         target, target_coord, target_raw)"
   ]
  },
  {
   "cell_type": "code",
   "execution_count": 8,
   "metadata": {},
   "outputs": [
    {
     "data": {
      "text/plain": [
       "(4000, 3)"
      ]
     },
     "execution_count": 8,
     "metadata": {},
     "output_type": "execute_result"
    }
   ],
   "source": [
    "lab = uvc[:,0:3]\n",
    "lab.shape"
   ]
  },
  {
   "cell_type": "code",
   "execution_count": 9,
   "metadata": {},
   "outputs": [
    {
     "data": {
      "text/plain": [
       "[array([-14.5733, -76.4582, -34.747 ]),\n",
       " array([ -8.5367, -64.5615, -39.0669]),\n",
       " array([ -6.45628, -63.0949 , -34.9386 ]),\n",
       " array([-16.3808, -58.4224, -39.4019]),\n",
       " array([-12.8766, -60.0958, -45.1094]),\n",
       " array([-15.342 , -55.0044, -34.8803]),\n",
       " array([ -8.27326, -63.7605 , -36.9956 ]),\n",
       " array([-11.1218, -66.1183, -45.3213]),\n",
       " array([ -9.32303, -66.0308 , -41.7344 ]),\n",
       " array([-20.9479, -71.4986, -33.4704])]"
      ]
     },
     "execution_count": 9,
     "metadata": {},
     "output_type": "execute_result"
    }
   ],
   "source": [
    "cc_sites"
   ]
  },
  {
   "cell_type": "code",
   "execution_count": 10,
   "metadata": {},
   "outputs": [
    {
     "data": {
      "text/plain": [
       "array([-0.0129531 , -0.69461085, -0.68165774,  0.35378197,  0.33435232,\n",
       "       -0.68813429,  0.17849338,  0.09662747, -0.28807973, -1.09335126,\n",
       "       -1.48810547, -1.00319581])"
      ]
     },
     "execution_count": 10,
     "metadata": {},
     "output_type": "execute_result"
    }
   ],
   "source": [
    "target"
   ]
  },
  {
   "cell_type": "code",
   "execution_count": 11,
   "metadata": {},
   "outputs": [
    {
     "data": {
      "text/plain": [
       "(4000, 7212)"
      ]
     },
     "execution_count": 11,
     "metadata": {},
     "output_type": "execute_result"
    }
   ],
   "source": [
    "ecgs.shape"
   ]
  },
  {
   "cell_type": "code",
   "execution_count": 12,
   "metadata": {},
   "outputs": [
    {
     "data": {
      "text/plain": [
       "array([-0.0129531 , -0.69461085, -0.68165774,  0.35378197,  0.33435232,\n",
       "       -0.68813429,  0.17849338,  0.09662747, -0.28807973, -1.09335126,\n",
       "       -1.48810547, -1.00319581])"
      ]
     },
     "execution_count": 12,
     "metadata": {},
     "output_type": "execute_result"
    }
   ],
   "source": [
    "target"
   ]
  },
  {
   "cell_type": "code",
   "execution_count": 13,
   "metadata": {},
   "outputs": [
    {
     "data": {
      "text/plain": [
       "(10, 3)"
      ]
     },
     "execution_count": 13,
     "metadata": {},
     "output_type": "execute_result"
    }
   ],
   "source": [
    "random_y.shape"
   ]
  },
  {
   "cell_type": "code",
   "execution_count": 14,
   "metadata": {},
   "outputs": [],
   "source": [
    "pred_raw = np.reshape(ecgs, [12, -1])"
   ]
  },
  {
   "cell_type": "code",
   "execution_count": 15,
   "metadata": {},
   "outputs": [
    {
     "data": {
      "text/plain": [
       "(12, 2404000)"
      ]
     },
     "execution_count": 15,
     "metadata": {},
     "output_type": "execute_result"
    }
   ],
   "source": [
    "pred_raw.shape"
   ]
  },
  {
   "cell_type": "code",
   "execution_count": 16,
   "metadata": {},
   "outputs": [
    {
     "data": {
      "text/plain": [
       "(7212,)"
      ]
     },
     "execution_count": 16,
     "metadata": {},
     "output_type": "execute_result"
    }
   ],
   "source": [
    "target_raw.shape"
   ]
  },
  {
   "cell_type": "code",
   "execution_count": 17,
   "metadata": {},
   "outputs": [],
   "source": [
    "target_raw = np.reshape(target_raw, [12, -1])"
   ]
  },
  {
   "cell_type": "code",
   "execution_count": 18,
   "metadata": {},
   "outputs": [
    {
     "data": {
      "text/plain": [
       "(12, 601)"
      ]
     },
     "execution_count": 18,
     "metadata": {},
     "output_type": "execute_result"
    }
   ],
   "source": [
    "target_raw.shape"
   ]
  },
  {
   "cell_type": "code",
   "execution_count": 25,
   "metadata": {},
   "outputs": [],
   "source": [
    "exp = np.random.randint(0,3999,5)"
   ]
  },
  {
   "cell_type": "code",
   "execution_count": 27,
   "metadata": {},
   "outputs": [],
   "source": [
    "idx = exp[1]"
   ]
  },
  {
   "cell_type": "code",
   "execution_count": 28,
   "metadata": {},
   "outputs": [
    {
     "data": {
      "text/plain": [
       "2744"
      ]
     },
     "execution_count": 28,
     "metadata": {},
     "output_type": "execute_result"
    }
   ],
   "source": [
    "idx"
   ]
  },
  {
   "cell_type": "code",
   "execution_count": null,
   "metadata": {},
   "outputs": [],
   "source": []
  }
 ],
 "metadata": {
  "kernelspec": {
   "display_name": "Python [conda env:gp_tutorial]",
   "language": "python",
   "name": "conda-env-gp_tutorial-py"
  },
  "language_info": {
   "codemirror_mode": {
    "name": "ipython",
    "version": 3
   },
   "file_extension": ".py",
   "mimetype": "text/x-python",
   "name": "python",
   "nbconvert_exporter": "python",
   "pygments_lexer": "ipython3",
   "version": "3.7.7"
  }
 },
 "nbformat": 4,
 "nbformat_minor": 2
}
