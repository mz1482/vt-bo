{
 "cells": [
  {
   "cell_type": "code",
   "execution_count": 1,
   "metadata": {},
   "outputs": [],
   "source": [
    "import pandas as pd\n",
    "import numpy as np\n",
    "from data_analysis import get_heart_bounds, correlation_coef, graph_3d, get_index\n",
    "from graph import *\n",
    "from BayesOptLib.bayes_opt.bayesian_optimization import BayesianOptimization\n",
    "from RandomSampler import RandomSampler\n",
    "import matplotlib\n",
    "from matplotlib import pyplot as plt\n",
    "from mpl_toolkits.mplot3d import Axes3D\n",
    "from sklearn.metrics.pairwise import euclidean_distances\n",
    "matplotlib.use('Qt5Agg')  # or can use 'TkAgg', whatever you have/prefer\n",
    "# from prettytable import PrettyTable\n",
    "\n",
    "def black_box(x, y, z):\n",
    "    \"\"\"\n",
    "    Represents a black box function to maximize for CC of two ECGs given an XYZ coordinate\n",
    "    :param x:\n",
    "    :param y: coordinates of the prediction\n",
    "    :param z:\n",
    "    :return: CC of that point and the target\n",
    "    \"\"\"\n",
    "    sample_ecg = ecgs[get_index(np.array([x, y, z]),labels)]\n",
    "    return abs(correlation_coef(target_ecg, sample_ecg))\n"
   ]
  },
  {
   "cell_type": "code",
   "execution_count": 2,
   "metadata": {},
   "outputs": [
    {
     "name": "stdout",
     "output_type": "stream",
     "text": [
      "Target:  [  7.81502 -93.7713   11.8206 ]\n"
     ]
    }
   ],
   "source": [
    "ecgs = pd.read_csv(\"new_simu-data/Heart1/Heart1_SimuData_4000.csv\", header=None).to_numpy()\n",
    "labels = pd.read_csv(\"new_simu-data/Heart1/Coord1_4000.csv\", header=None).to_numpy() / 1000\n",
    "uvc = pd.read_csv(\"new_simu-data/UVC/Coord1_UVC_4000.csv\", header=None).to_numpy()\n",
    "bounds = get_heart_bounds(labels) # getting bounds \n",
    "tidx = np.random.randint(0, labels.shape[0])    # Pick out a sample to use as a target\n",
    "target, target_ecg,target_uvc = labels[tidx], ecgs[tidx], uvc[tidx]\n",
    "print(\"Target: \", target)\n",
    "init = 5 #initial random sample\n",
    "steps = 5 # total AL step\n",
    "af = \"ucb\" \n"
   ]
  },
  {
   "cell_type": "code",
   "execution_count": 3,
   "metadata": {},
   "outputs": [
    {
     "name": "stdout",
     "output_type": "stream",
     "text": [
      "|   iter    |  target   |     x     |     y     |     z     |\n",
      "-------------------------------------------------------------\n",
      "| \u001b[0m 1       \u001b[0m | \u001b[0m 0.1075  \u001b[0m | \u001b[0m-15.99   \u001b[0m | \u001b[0m-20.29   \u001b[0m | \u001b[0m-18.29   \u001b[0m |\n",
      "| \u001b[95m 2       \u001b[0m | \u001b[95m 0.11    \u001b[0m | \u001b[95m-28.54   \u001b[0m | \u001b[95m-52.4    \u001b[0m | \u001b[95m-1.488   \u001b[0m |\n",
      "| \u001b[95m 3       \u001b[0m | \u001b[95m 0.3784  \u001b[0m | \u001b[95m 33.28   \u001b[0m | \u001b[95m-44.5    \u001b[0m | \u001b[95m-35.71   \u001b[0m |\n",
      "| \u001b[95m 4       \u001b[0m | \u001b[95m 0.7813  \u001b[0m | \u001b[95m-15.33   \u001b[0m | \u001b[95m-101.1   \u001b[0m | \u001b[95m 23.56   \u001b[0m |\n",
      "| \u001b[0m 5       \u001b[0m | \u001b[0m 0.2011  \u001b[0m | \u001b[0m-31.17   \u001b[0m | \u001b[0m-43.67   \u001b[0m | \u001b[0m-15.66   \u001b[0m |\n",
      "| \u001b[0m 6       \u001b[0m | \u001b[0m 0.7693  \u001b[0m | \u001b[0m-15.79   \u001b[0m | \u001b[0m-100.9   \u001b[0m | \u001b[0m 21.56   \u001b[0m |\n",
      "| \u001b[95m 7       \u001b[0m | \u001b[95m 0.8937  \u001b[0m | \u001b[95m 1.881   \u001b[0m | \u001b[95m-98.24   \u001b[0m | \u001b[95m 23.07   \u001b[0m |\n",
      "| \u001b[95m 8       \u001b[0m | \u001b[95m 0.9058  \u001b[0m | \u001b[95m 0.1864  \u001b[0m | \u001b[95m-98.44   \u001b[0m | \u001b[95m 21.75   \u001b[0m |\n",
      "| \u001b[95m 9       \u001b[0m | \u001b[95m 0.9108  \u001b[0m | \u001b[95m 2.601   \u001b[0m | \u001b[95m-103.5   \u001b[0m | \u001b[95m 11.29   \u001b[0m |\n",
      "| \u001b[0m 10      \u001b[0m | \u001b[0m 0.718   \u001b[0m | \u001b[0m 20.0    \u001b[0m | \u001b[0m-96.78   \u001b[0m | \u001b[0m 11.09   \u001b[0m |\n"
     ]
    }
   ],
   "source": [
    "# labels = uvc[:,0:3]\n",
    "# bounds = get_heart_bounds(labels) # getting bounds \n",
    "# print(\"Target: \", target_uvc)\n",
    "\n",
    "optimizer = BayesianOptimization(f=black_box,pbounds=bounds,random_state=None, real_set=labels)\n",
    "gp,X = optimizer.gpfit(init_points=init, n_iter=steps,  acq=af, kappa = 1,kappa_decay=0.75,kappa_decay_delay=2)\n",
    "#     heart(target,labels)\n",
    "\n"
   ]
  },
  {
   "cell_type": "code",
   "execution_count": 4,
   "metadata": {},
   "outputs": [],
   "source": [
    "def test(init,target,target_ecg,labels,ecgs,visited,predicted):\n",
    "    \"\"\"\n",
    "    show the points and path of both predicted and visited values\n",
    "    \"\"\"\n",
    "    color_gradient = []\n",
    "    for ecg, coord in zip(ecgs, labels):\n",
    "        cc = correlation_coef(target_ecg, ecg)\n",
    "        color_gradient.append(cc)\n",
    "        \n",
    "    path_pred = np.array(predicted)\n",
    "    path = np.array(visited)\n",
    "    path1 = path[0:init,:]\n",
    "    path2 = path[init:len(path),:]\n",
    "    \n",
    "#     rest = np.delete(labels, np.where(np.isin(labels, path2)), axis=0)\n",
    "#     color_gradient = np.delete(color_gradient, np.where(np.isin(labels, path2)), axis=0)\n",
    "    fig = plt.figure(figsize=(10,7))\n",
    "    ax = fig.gca(projection='3d')\n",
    "    img = ax.scatter(xs=labels[:, 0], ys=labels[:, 1], zs=labels[:, 2], zdir='z', alpha=0.75,s = 5, c=color_gradient, cmap = plt.cm.rainbow)\n",
    "    ax.scatter(xs=path2[:, 0], ys=path2[:, 1], zs=path2[:, 2], zdir='z',s=20, color='blue')\n",
    "    ax.scatter(xs=path_pred[:, 0], ys=path_pred[:, 1], zs=path_pred[:, 2], zdir='z',s=20, color='green')\n",
    "    ax.plot(path2[:, 0], path2[:, 1], path2[:, 2], color = 'black',label = 'Visited Path')\n",
    "    ax.plot(path_pred[:, 0], path_pred[:, 1], path_pred[:, 2], color = 'red',label='Predicted Path')\n",
    "    ax.legend()\n",
    "    fig.colorbar(img)\n",
    "    m = path2\n",
    "    n = path_pred\n",
    "    for i in range(len(m)):\n",
    "        ax.text(m[i, 0], m[i, 1], m[i, 2], '%s' % (str(i+init+1)), size=10, zorder=1, color='black')\n",
    "        ax.text(n[i, 0], n[i, 1], n[i, 2], '%s' % (str(i+init+1)), size=10, zorder=1, color='red')\n",
    "    ax.scatter(xs=target[0], ys=target[1], zs=target[2], color='black',marker = \"*\", s = 150)\n",
    "    fig.suptitle('Path of BO to target', fontsize=16)\n",
    "    plt.show()\n",
    "#     anim = FuncAnimation(fig, update, frames=np.arange(0, 360, 2), repeat=True, fargs=(fig, ax))\n",
    "#     anim.save('plots/AL_path'+str(labels[1])+'.gif', dpi=80, writer='imagemagick', fps=10)"
   ]
  },
  {
   "cell_type": "code",
   "execution_count": 6,
   "metadata": {},
   "outputs": [],
   "source": [
    "# graph_cc_distribution(target_ecg,ecgs,labels)\n",
    "# gp_plot(gp,labels,target_uvc)\n",
    "test(init,target,target_ecg,labels,ecgs,optimizer.visited,optimizer.predicted)"
   ]
  },
  {
   "cell_type": "code",
   "execution_count": null,
   "metadata": {},
   "outputs": [],
   "source": []
  },
  {
   "cell_type": "code",
   "execution_count": null,
   "metadata": {},
   "outputs": [],
   "source": [
    "ecgs.shape"
   ]
  },
  {
   "cell_type": "code",
   "execution_count": null,
   "metadata": {},
   "outputs": [],
   "source": []
  }
 ],
 "metadata": {
  "kernelspec": {
   "display_name": "Python [conda env:gp_tutorial]",
   "language": "python",
   "name": "conda-env-gp_tutorial-py"
  },
  "language_info": {
   "codemirror_mode": {
    "name": "ipython",
    "version": 3
   },
   "file_extension": ".py",
   "mimetype": "text/x-python",
   "name": "python",
   "nbconvert_exporter": "python",
   "pygments_lexer": "ipython3",
   "version": "3.7.7"
  }
 },
 "nbformat": 4,
 "nbformat_minor": 2
}
