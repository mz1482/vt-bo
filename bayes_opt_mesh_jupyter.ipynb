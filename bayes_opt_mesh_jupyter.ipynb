{
 "cells": [
  {
   "cell_type": "code",
   "execution_count": 1,
   "metadata": {},
   "outputs": [],
   "source": [
    "import pandas as pd\n",
    "import numpy as np\n",
    "from data_analysis import get_heart_bounds, correlation_coef, graph_3d\n",
    "from graph import narrow,corrplot3axes,trend,nearest,plot_exploration, graph_dist_over_axis, graph_cc_distribution\n",
    "from BayesOptLib.bayes_opt.bayesian_optimization import BayesianOptimization\n",
    "from RandomSampler import RandomSampler\n",
    "import matplotlib\n",
    "from matplotlib import pyplot as plt\n",
    "from mpl_toolkits.mplot3d import Axes3D\n",
    "from sklearn.metrics.pairwise import euclidean_distances\n",
    "matplotlib.use('Qt5Agg')  # or can use 'TkAgg', whatever you have/prefer\n",
    "from prettytable import PrettyTable\n",
    "%matplotlib qt \n",
    "\n",
    "\n",
    "def get_index(label):\n",
    "    \"\"\"\n",
    "    Gets the idx of a label in the labels array\n",
    "    :param label: label to check for\n",
    "    :return: idx\n",
    "    \"\"\"\n",
    "    idx = 0\n",
    "    for coord in labels:\n",
    "        if np.array_equal(label, coord):\n",
    "            break\n",
    "        idx += 1\n",
    "    return idx\n",
    "\n",
    "\n",
    "def black_box(x, y, z):\n",
    "    \"\"\"\n",
    "    Represents a black box function to maximize for CC of two ECGs given an XYZ coordinate\n",
    "    :param x:\n",
    "    :param y: coordinates of the prediction\n",
    "    :param z:\n",
    "    :return: CC of that point and the target\n",
    "    \"\"\"\n",
    "    sample_ecg = ecgs[get_index(np.array([x, y, z]))]\n",
    "    return correlation_coef(target_ecg, sample_ecg)\n",
    "\n",
    "\n",
    "def plot_exploration(visited, color_gradient):\n",
    "    \"\"\"\n",
    "    Handles plotting the predictions of the network over time\n",
    "    :param visited:\n",
    "    :return:\n",
    "    \"\"\"\n",
    "    path = np.array(visited)\n",
    "    color_gradient = np.array(color_gradient)\n",
    "\n",
    "\n",
    "    # Plot final for viewing\n",
    "    rest = np.delete(labels, np.where(np.isin(labels, path)), axis=0)\n",
    "    color_gradient = np.delete(color_gradient, np.where(np.isin(labels, path)), axis=0)\n",
    "#     fig = plt.figure(0)\n",
    "    fig = plt.figure(figsize=(8,8)); ax = Axes3D(fig)\n",
    "    ax = fig.gca(projection='3d')\n",
    "\n",
    "    ax.scatter(xs=rest[:, 0], ys=rest[:, 1], zs=rest[:, 2], zdir='z', alpha=0.75, c=color_gradient, cmap = plt.cm.Reds)\n",
    "    ax.scatter(xs=path[:, 0], ys=path[:, 1], zs=path[:, 2], zdir='z', color='blue')\n",
    "    ax.plot(path[:, 0], path[:, 1], path[:, 2], color = 'blue')\n",
    "\n",
    "    m = path\n",
    "    for i in range(len(m)):\n",
    "        ax.text(m[i, 0], m[i, 1], m[i, 2], '%s' % (str(i)), size=10, zorder=1, color='k')\n",
    "    ax.scatter(xs=target[0], ys=target[1], zs=target[2], color='black', s = 100)\n",
    "    plt.show()\n",
    "\n"
   ]
  },
  {
   "cell_type": "code",
   "execution_count": 2,
   "metadata": {},
   "outputs": [
    {
     "name": "stdout",
     "output_type": "stream",
     "text": [
      "(2000, 7212)\n",
      "Target:  [ 46.61774609 -96.28867969 -31.36082031]\n"
     ]
    }
   ],
   "source": [
    "ecgs = pd.read_csv(\"simu-data/Heart3_SimuData.csv\", header=None).to_numpy()\n",
    "labels = pd.read_csv(\"simu-data/Heart3_XYZsub.csv\", header=None).to_numpy() / 1000\n",
    "print(ecgs.shape)\n",
    "# Get bounds of the heart mesh\n",
    "bounds = get_heart_bounds(labels)\n",
    "# Pick out a sample to use as a target\n",
    "tidx = np.random.randint(0, labels.shape[0])\n",
    "#tidx = 1\n",
    "target, target_ecg = labels[tidx], ecgs[tidx]\n",
    "print(\"Target: \", target)"
   ]
  },
  {
   "cell_type": "code",
   "execution_count": 3,
   "metadata": {},
   "outputs": [],
   "source": [
    "def optimize_point(labels):\n",
    "    # Build the optimizer with the heart bounds\n",
    "    optimizer = BayesianOptimization(\n",
    "        f=black_box,\n",
    "        pbounds=bounds,\n",
    "        random_state=None, real_set=labels\n",
    "    )\n",
    "\n",
    "    # Maximize over x number of points\n",
    "    optimizer.maximize(init_points=10, n_iter=35,  acq=\"ucb\", kappa = 2)\n",
    "    return optimizer\n"
   ]
  },
  {
   "cell_type": "code",
   "execution_count": null,
   "metadata": {},
   "outputs": [],
   "source": []
  },
  {
   "cell_type": "code",
   "execution_count": 4,
   "metadata": {},
   "outputs": [],
   "source": [
    "optimizer = BayesianOptimization(\n",
    "    f=black_box,\n",
    "    pbounds=bounds,\n",
    "    random_state=None, real_set=labels\n",
    ")"
   ]
  },
  {
   "cell_type": "code",
   "execution_count": 5,
   "metadata": {},
   "outputs": [
    {
     "name": "stdout",
     "output_type": "stream",
     "text": [
      "|   iter    |  target   |     x     |     y     |     z     |\n",
      "-------------------------------------------------------------\n",
      "| \u001b[0m 1       \u001b[0m | \u001b[0m 0.4717  \u001b[0m | \u001b[0m 59.3    \u001b[0m | \u001b[0m-76.34   \u001b[0m | \u001b[0m-8.497   \u001b[0m |\n",
      "| \u001b[0m 2       \u001b[0m | \u001b[0m-0.1523  \u001b[0m | \u001b[0m 5.76    \u001b[0m | \u001b[0m-25.49   \u001b[0m | \u001b[0m-48.26   \u001b[0m |\n",
      "| \u001b[0m 3       \u001b[0m | \u001b[0m 0.2164  \u001b[0m | \u001b[0m 79.11   \u001b[0m | \u001b[0m-87.14   \u001b[0m | \u001b[0m-53.51   \u001b[0m |\n",
      "| \u001b[0m 4       \u001b[0m | \u001b[0m 0.326   \u001b[0m | \u001b[0m-19.42   \u001b[0m | \u001b[0m-71.16   \u001b[0m | \u001b[0m-65.73   \u001b[0m |\n",
      "| \u001b[0m 5       \u001b[0m | \u001b[0m 0.1341  \u001b[0m | \u001b[0m 26.72   \u001b[0m | \u001b[0m-66.88   \u001b[0m | \u001b[0m-73.88   \u001b[0m |\n",
      "| \u001b[95m 6       \u001b[0m | \u001b[95m 0.5325  \u001b[0m | \u001b[95m 56.88   \u001b[0m | \u001b[95m-76.9    \u001b[0m | \u001b[95m-8.499   \u001b[0m |\n",
      "| \u001b[95m 7       \u001b[0m | \u001b[95m 0.7071  \u001b[0m | \u001b[95m 52.43   \u001b[0m | \u001b[95m-79.3    \u001b[0m | \u001b[95m-8.714   \u001b[0m |\n",
      "| \u001b[95m 8       \u001b[0m | \u001b[95m 0.7861  \u001b[0m | \u001b[95m 50.87   \u001b[0m | \u001b[95m-80.09   \u001b[0m | \u001b[95m-9.575   \u001b[0m |\n",
      "| \u001b[0m 9       \u001b[0m | \u001b[0m 0.3422  \u001b[0m | \u001b[0m 62.19   \u001b[0m | \u001b[0m-68.25   \u001b[0m | \u001b[0m-6.886   \u001b[0m |\n",
      "| \u001b[0m 10      \u001b[0m | \u001b[0m 0.6794  \u001b[0m | \u001b[0m 54.66   \u001b[0m | \u001b[0m-82.01   \u001b[0m | \u001b[0m-11.71   \u001b[0m |\n",
      "| \u001b[0m 11      \u001b[0m | \u001b[0m 0.6125  \u001b[0m | \u001b[0m 51.24   \u001b[0m | \u001b[0m-72.55   \u001b[0m | \u001b[0m-4.303   \u001b[0m |\n",
      "| \u001b[95m 12      \u001b[0m | \u001b[95m 0.841   \u001b[0m | \u001b[95m 46.2    \u001b[0m | \u001b[95m-75.2    \u001b[0m | \u001b[95m-5.044   \u001b[0m |\n",
      "| \u001b[0m 13      \u001b[0m | \u001b[0m 0.5845  \u001b[0m | \u001b[0m 51.1    \u001b[0m | \u001b[0m-68.05   \u001b[0m | \u001b[0m-1.588   \u001b[0m |\n",
      "| \u001b[95m 14      \u001b[0m | \u001b[95m 0.9328  \u001b[0m | \u001b[95m 49.94   \u001b[0m | \u001b[95m-85.06   \u001b[0m | \u001b[95m-14.04   \u001b[0m |\n",
      "| \u001b[0m 15      \u001b[0m | \u001b[0m 0.6628  \u001b[0m | \u001b[0m 48.91   \u001b[0m | \u001b[0m-68.17   \u001b[0m | \u001b[0m-1.393   \u001b[0m |\n",
      "| \u001b[0m 16      \u001b[0m | \u001b[0m 0.8967  \u001b[0m | \u001b[0m 44.73   \u001b[0m | \u001b[0m-80.74   \u001b[0m | \u001b[0m-10.37   \u001b[0m |\n",
      "| \u001b[0m 17      \u001b[0m | \u001b[0m 0.8293  \u001b[0m | \u001b[0m 44.55   \u001b[0m | \u001b[0m-73.58   \u001b[0m | \u001b[0m-3.628   \u001b[0m |\n",
      "| \u001b[0m 18      \u001b[0m | \u001b[0m 0.7692  \u001b[0m | \u001b[0m 54.3    \u001b[0m | \u001b[0m-85.91   \u001b[0m | \u001b[0m-15.33   \u001b[0m |\n",
      "| \u001b[0m 19      \u001b[0m | \u001b[0m 0.7018  \u001b[0m | \u001b[0m 45.11   \u001b[0m | \u001b[0m-77.4    \u001b[0m | \u001b[0m-14.33   \u001b[0m |\n",
      "| \u001b[0m 20      \u001b[0m | \u001b[0m 0.7617  \u001b[0m | \u001b[0m 45.29   \u001b[0m | \u001b[0m-70.58   \u001b[0m | \u001b[0m-1.726   \u001b[0m |\n",
      "| \u001b[0m 21      \u001b[0m | \u001b[0m 0.615   \u001b[0m | \u001b[0m 59.67   \u001b[0m | \u001b[0m-87.06   \u001b[0m | \u001b[0m-17.51   \u001b[0m |\n",
      "| \u001b[95m 22      \u001b[0m | \u001b[95m 0.9508  \u001b[0m | \u001b[95m 50.26   \u001b[0m | \u001b[95m-87.49   \u001b[0m | \u001b[95m-16.69   \u001b[0m |\n",
      "| \u001b[0m 23      \u001b[0m | \u001b[0m 0.8213  \u001b[0m | \u001b[0m 44.81   \u001b[0m | \u001b[0m-78.7    \u001b[0m | \u001b[0m-12.58   \u001b[0m |\n",
      "| \u001b[0m 24      \u001b[0m | \u001b[0m 0.8686  \u001b[0m | \u001b[0m 44.0    \u001b[0m | \u001b[0m-79.48   \u001b[0m | \u001b[0m-10.68   \u001b[0m |\n",
      "| \u001b[95m 25      \u001b[0m | \u001b[95m 0.9783  \u001b[0m | \u001b[95m 46.58   \u001b[0m | \u001b[95m-90.32   \u001b[0m | \u001b[95m-21.33   \u001b[0m |\n",
      "| \u001b[0m 26      \u001b[0m | \u001b[0m 0.767   \u001b[0m | \u001b[0m 50.71   \u001b[0m | \u001b[0m-85.08   \u001b[0m | \u001b[0m-20.76   \u001b[0m |\n",
      "| \u001b[0m 27      \u001b[0m | \u001b[0m 0.9179  \u001b[0m | \u001b[0m 46.16   \u001b[0m | \u001b[0m-82.34   \u001b[0m | \u001b[0m-12.01   \u001b[0m |\n",
      "| \u001b[0m 28      \u001b[0m | \u001b[0m 0.8446  \u001b[0m | \u001b[0m 44.7    \u001b[0m | \u001b[0m-75.19   \u001b[0m | \u001b[0m-4.943   \u001b[0m |\n",
      "| \u001b[0m 29      \u001b[0m | \u001b[0m 0.7677  \u001b[0m | \u001b[0m 43.84   \u001b[0m | \u001b[0m-68.87   \u001b[0m | \u001b[0m-0.3689  \u001b[0m |\n",
      "| \u001b[0m 30      \u001b[0m | \u001b[0m 0.523   \u001b[0m | \u001b[0m 44.13   \u001b[0m | \u001b[0m-74.84   \u001b[0m | \u001b[0m-15.34   \u001b[0m |\n",
      "| \u001b[0m 31      \u001b[0m | \u001b[0m 0.7936  \u001b[0m | \u001b[0m 43.15   \u001b[0m | \u001b[0m-71.07   \u001b[0m | \u001b[0m-2.504   \u001b[0m |\n",
      "| \u001b[0m 32      \u001b[0m | \u001b[0m 0.7849  \u001b[0m | \u001b[0m 46.19   \u001b[0m | \u001b[0m-72.66   \u001b[0m | \u001b[0m-3.468   \u001b[0m |\n",
      "| \u001b[0m 33      \u001b[0m | \u001b[0m 0.8797  \u001b[0m | \u001b[0m 51.96   \u001b[0m | \u001b[0m-88.91   \u001b[0m | \u001b[0m-21.36   \u001b[0m |\n",
      "| \u001b[0m 34      \u001b[0m | \u001b[0m 0.809   \u001b[0m | \u001b[0m 44.61   \u001b[0m | \u001b[0m-72.05   \u001b[0m | \u001b[0m-2.424   \u001b[0m |\n",
      "| \u001b[0m 35      \u001b[0m | \u001b[0m 0.4356  \u001b[0m | \u001b[0m 44.61   \u001b[0m | \u001b[0m-75.25   \u001b[0m | \u001b[0m-18.02   \u001b[0m |\n",
      "| \u001b[95m 36      \u001b[0m | \u001b[95m 0.9891  \u001b[0m | \u001b[95m 48.85   \u001b[0m | \u001b[95m-92.96   \u001b[0m | \u001b[95m-23.34   \u001b[0m |\n",
      "| \u001b[0m 37      \u001b[0m | \u001b[0m 0.7969  \u001b[0m | \u001b[0m 44.42   \u001b[0m | \u001b[0m-71.02   \u001b[0m | \u001b[0m-2.128   \u001b[0m |\n",
      "| \u001b[0m 38      \u001b[0m | \u001b[0m 0.5325  \u001b[0m | \u001b[0m 50.9    \u001b[0m | \u001b[0m-82.1    \u001b[0m | \u001b[0m-22.68   \u001b[0m |\n",
      "| \u001b[0m 39      \u001b[0m | \u001b[0m 0.9322  \u001b[0m | \u001b[0m 52.05   \u001b[0m | \u001b[0m-91.85   \u001b[0m | \u001b[0m-21.7    \u001b[0m |\n",
      "| \u001b[0m 40      \u001b[0m | \u001b[0m 0.6257  \u001b[0m | \u001b[0m 52.33   \u001b[0m | \u001b[0m-85.48   \u001b[0m | \u001b[0m-24.01   \u001b[0m |\n",
      "| \u001b[0m 41      \u001b[0m | \u001b[0m 0.7918  \u001b[0m | \u001b[0m 52.61   \u001b[0m | \u001b[0m-88.33   \u001b[0m | \u001b[0m-22.66   \u001b[0m |\n",
      "| \u001b[0m 42      \u001b[0m | \u001b[0m 0.7994  \u001b[0m | \u001b[0m 55.4    \u001b[0m | \u001b[0m-90.44   \u001b[0m | \u001b[0m-19.75   \u001b[0m |\n",
      "| \u001b[0m 43      \u001b[0m | \u001b[0m 0.785   \u001b[0m | \u001b[0m 44.34   \u001b[0m | \u001b[0m-69.98   \u001b[0m | \u001b[0m-1.369   \u001b[0m |\n",
      "| \u001b[0m 44      \u001b[0m | \u001b[0m 0.5409  \u001b[0m | \u001b[0m 62.4    \u001b[0m | \u001b[0m-87.9    \u001b[0m | \u001b[0m-18.48   \u001b[0m |\n",
      "| \u001b[0m 45      \u001b[0m | \u001b[0m 0.7443  \u001b[0m | \u001b[0m 58.29   \u001b[0m | \u001b[0m-94.69   \u001b[0m | \u001b[0m-27.87   \u001b[0m |\n",
      "| \u001b[0m 46      \u001b[0m | \u001b[0m 0.3636  \u001b[0m | \u001b[0m 44.39   \u001b[0m | \u001b[0m-72.52   \u001b[0m | \u001b[0m-17.13   \u001b[0m |\n",
      "| \u001b[0m 47      \u001b[0m | \u001b[0m 0.3563  \u001b[0m | \u001b[0m 45.46   \u001b[0m | \u001b[0m-73.3    \u001b[0m | \u001b[0m-19.95   \u001b[0m |\n",
      "| \u001b[0m 48      \u001b[0m | \u001b[0m 0.7751  \u001b[0m | \u001b[0m 45.41   \u001b[0m | \u001b[0m-69.32   \u001b[0m | \u001b[0m-0.4542  \u001b[0m |\n",
      "| \u001b[0m 49      \u001b[0m | \u001b[0m 0.7417  \u001b[0m | \u001b[0m 46.14   \u001b[0m | \u001b[0m-68.03   \u001b[0m | \u001b[0m-0.06985 \u001b[0m |\n",
      "| \u001b[95m 50      \u001b[0m | \u001b[95m 0.9923  \u001b[0m | \u001b[95m 48.64   \u001b[0m | \u001b[95m-93.62   \u001b[0m | \u001b[95m-25.85   \u001b[0m |\n",
      "=============================================================\n"
     ]
    },
    {
     "data": {
      "image/png": "[encoded data removed]",
      "text/plain": [
       "<Figure size 432x288 with 1 Axes>"
      ]
     },
     "metadata": {
      "needs_background": "light"
     },
     "output_type": "display_data"
    }
   ],
   "source": [
    "gp,x = optimizer.gpfit(init_points=5,n_iter=100,acq='ucb',kappa=2.576)"
   ]
  },
  {
   "cell_type": "code",
   "execution_count": 6,
   "metadata": {},
   "outputs": [
    {
     "ename": "ValueError",
     "evalue": "Found input variables with inconsistent numbers of samples: [51, 50]",
     "output_type": "error",
     "traceback": [
      "\u001b[0;31m---------------------------------------------------------------------------\u001b[0m",
      "\u001b[0;31mValueError\u001b[0m                                Traceback (most recent call last)",
      "\u001b[0;32m<ipython-input-6-13fd9fb3558e>\u001b[0m in \u001b[0;36m<module>\u001b[0;34m\u001b[0m\n\u001b[1;32m      1\u001b[0m \u001b[0mx_train\u001b[0m \u001b[0;34m=\u001b[0m \u001b[0mnp\u001b[0m\u001b[0;34m.\u001b[0m\u001b[0masarray\u001b[0m\u001b[0;34m(\u001b[0m\u001b[0moptimizer\u001b[0m\u001b[0;34m.\u001b[0m\u001b[0mvisited\u001b[0m\u001b[0;34m)\u001b[0m\u001b[0;34m\u001b[0m\u001b[0;34m\u001b[0m\u001b[0m\n\u001b[1;32m      2\u001b[0m \u001b[0my_train\u001b[0m\u001b[0;34m=\u001b[0m\u001b[0moptimizer\u001b[0m\u001b[0;34m.\u001b[0m\u001b[0m_space\u001b[0m\u001b[0;34m.\u001b[0m\u001b[0mtarget\u001b[0m\u001b[0;34m.\u001b[0m\u001b[0mreshape\u001b[0m\u001b[0;34m(\u001b[0m\u001b[0;34m-\u001b[0m\u001b[0;36m1\u001b[0m\u001b[0;34m,\u001b[0m\u001b[0;36m1\u001b[0m\u001b[0;34m)\u001b[0m\u001b[0;34m\u001b[0m\u001b[0;34m\u001b[0m\u001b[0m\n\u001b[0;32m----> 3\u001b[0;31m \u001b[0mgp\u001b[0m\u001b[0;34m.\u001b[0m\u001b[0mfit\u001b[0m\u001b[0;34m(\u001b[0m\u001b[0mx_train\u001b[0m\u001b[0;34m,\u001b[0m\u001b[0my_train\u001b[0m\u001b[0;34m)\u001b[0m\u001b[0;34m\u001b[0m\u001b[0;34m\u001b[0m\u001b[0m\n\u001b[0m\u001b[1;32m      4\u001b[0m \u001b[0my_train\u001b[0m\u001b[0;34m.\u001b[0m\u001b[0mshape\u001b[0m\u001b[0;34m\u001b[0m\u001b[0;34m\u001b[0m\u001b[0m\n",
      "\u001b[0;32m~/anaconda3/envs/tf_gpu/lib/python3.7/site-packages/sklearn/gaussian_process/gpr.py\u001b[0m in \u001b[0;36mfit\u001b[0;34m(self, X, y)\u001b[0m\n\u001b[1;32m    183\u001b[0m         \u001b[0mself\u001b[0m\u001b[0;34m.\u001b[0m\u001b[0m_rng\u001b[0m \u001b[0;34m=\u001b[0m \u001b[0mcheck_random_state\u001b[0m\u001b[0;34m(\u001b[0m\u001b[0mself\u001b[0m\u001b[0;34m.\u001b[0m\u001b[0mrandom_state\u001b[0m\u001b[0;34m)\u001b[0m\u001b[0;34m\u001b[0m\u001b[0;34m\u001b[0m\u001b[0m\n\u001b[1;32m    184\u001b[0m \u001b[0;34m\u001b[0m\u001b[0m\n\u001b[0;32m--> 185\u001b[0;31m         \u001b[0mX\u001b[0m\u001b[0;34m,\u001b[0m \u001b[0my\u001b[0m \u001b[0;34m=\u001b[0m \u001b[0mcheck_X_y\u001b[0m\u001b[0;34m(\u001b[0m\u001b[0mX\u001b[0m\u001b[0;34m,\u001b[0m \u001b[0my\u001b[0m\u001b[0;34m,\u001b[0m \u001b[0mmulti_output\u001b[0m\u001b[0;34m=\u001b[0m\u001b[0;32mTrue\u001b[0m\u001b[0;34m,\u001b[0m \u001b[0my_numeric\u001b[0m\u001b[0;34m=\u001b[0m\u001b[0;32mTrue\u001b[0m\u001b[0;34m)\u001b[0m\u001b[0;34m\u001b[0m\u001b[0;34m\u001b[0m\u001b[0m\n\u001b[0m\u001b[1;32m    186\u001b[0m \u001b[0;34m\u001b[0m\u001b[0m\n\u001b[1;32m    187\u001b[0m         \u001b[0;31m# Normalize target value\u001b[0m\u001b[0;34m\u001b[0m\u001b[0;34m\u001b[0m\u001b[0;34m\u001b[0m\u001b[0m\n",
      "\u001b[0;32m~/anaconda3/envs/tf_gpu/lib/python3.7/site-packages/sklearn/utils/validation.py\u001b[0m in \u001b[0;36mcheck_X_y\u001b[0;34m(X, y, accept_sparse, accept_large_sparse, dtype, order, copy, force_all_finite, ensure_2d, allow_nd, multi_output, ensure_min_samples, ensure_min_features, y_numeric, warn_on_dtype, estimator)\u001b[0m\n\u001b[1;32m    727\u001b[0m         \u001b[0my\u001b[0m \u001b[0;34m=\u001b[0m \u001b[0my\u001b[0m\u001b[0;34m.\u001b[0m\u001b[0mastype\u001b[0m\u001b[0;34m(\u001b[0m\u001b[0mnp\u001b[0m\u001b[0;34m.\u001b[0m\u001b[0mfloat64\u001b[0m\u001b[0;34m)\u001b[0m\u001b[0;34m\u001b[0m\u001b[0;34m\u001b[0m\u001b[0m\n\u001b[1;32m    728\u001b[0m \u001b[0;34m\u001b[0m\u001b[0m\n\u001b[0;32m--> 729\u001b[0;31m     \u001b[0mcheck_consistent_length\u001b[0m\u001b[0;34m(\u001b[0m\u001b[0mX\u001b[0m\u001b[0;34m,\u001b[0m \u001b[0my\u001b[0m\u001b[0;34m)\u001b[0m\u001b[0;34m\u001b[0m\u001b[0;34m\u001b[0m\u001b[0m\n\u001b[0m\u001b[1;32m    730\u001b[0m \u001b[0;34m\u001b[0m\u001b[0m\n\u001b[1;32m    731\u001b[0m     \u001b[0;32mreturn\u001b[0m \u001b[0mX\u001b[0m\u001b[0;34m,\u001b[0m \u001b[0my\u001b[0m\u001b[0;34m\u001b[0m\u001b[0;34m\u001b[0m\u001b[0m\n",
      "\u001b[0;32m~/anaconda3/envs/tf_gpu/lib/python3.7/site-packages/sklearn/utils/validation.py\u001b[0m in \u001b[0;36mcheck_consistent_length\u001b[0;34m(*arrays)\u001b[0m\n\u001b[1;32m    203\u001b[0m     \u001b[0;32mif\u001b[0m \u001b[0mlen\u001b[0m\u001b[0;34m(\u001b[0m\u001b[0muniques\u001b[0m\u001b[0;34m)\u001b[0m \u001b[0;34m>\u001b[0m \u001b[0;36m1\u001b[0m\u001b[0;34m:\u001b[0m\u001b[0;34m\u001b[0m\u001b[0;34m\u001b[0m\u001b[0m\n\u001b[1;32m    204\u001b[0m         raise ValueError(\"Found input variables with inconsistent numbers of\"\n\u001b[0;32m--> 205\u001b[0;31m                          \" samples: %r\" % [int(l) for l in lengths])\n\u001b[0m\u001b[1;32m    206\u001b[0m \u001b[0;34m\u001b[0m\u001b[0m\n\u001b[1;32m    207\u001b[0m \u001b[0;34m\u001b[0m\u001b[0m\n",
      "\u001b[0;31mValueError\u001b[0m: Found input variables with inconsistent numbers of samples: [51, 50]"
     ]
    }
   ],
   "source": [
    "x_train = np.asarray(optimizer.visited)\n",
    "y_train=optimizer._space.target.reshape(-1,1)\n",
    "gp.fit(x_train,y_train)\n",
    "y_train.shape\n"
   ]
  },
  {
   "cell_type": "code",
   "execution_count": null,
   "metadata": {},
   "outputs": [],
   "source": [
    "np.amax(labels[:,0])"
   ]
  },
  {
   "cell_type": "code",
   "execution_count": null,
   "metadata": {},
   "outputs": [],
   "source": [
    "from matplotlib import cm\n",
    "fig = plt.figure()\n",
    "# ax = fig.gca(projection='3d')\n",
    "X = np.arange(-34, 94, 0.05)\n",
    "Y = np.arange(-34, 94, 0.05)\n",
    "Z = np.arange(-34, 94, 0.05)\n",
    "R = np.array([X,Y,Z]).T\n",
    "\n",
    "G = gp.predict(R,return_std=False)#.reshape(len(X),1)\n",
    "# X, Y = np.meshgrid(X, Y)\n",
    "# surf = ax.plot_surface(X, Y, G, cmap=cm.jet,linewidth=0, antialiased=False)\n",
    "# fig.colorbar(surf, shrink=0.5, aspect=5)\n",
    "plt.scatter(Y,G)\n",
    "plt.show()\n"
   ]
  },
  {
   "cell_type": "code",
   "execution_count": null,
   "metadata": {},
   "outputs": [],
   "source": [
    "X"
   ]
  },
  {
   "cell_type": "code",
   "execution_count": null,
   "metadata": {},
   "outputs": [],
   "source": [
    "# Pick out a sample to use as a target\n",
    "tidx = np.random.randint(0, labels.shape[0])\n",
    "#tidx = 1\n",
    "target, target_ecg = labels[tidx], ecgs[tidx]\n",
    "print(\"Target: \", target)\n",
    "\n",
    "# Remove target from labels\n",
    "#labels = np.delete(labels, np.where(np.isin(labels, target)), axis=0)\n",
    "\n",
    "# Get plots of target CC distribution\n",
    "# graph_cc_distribution(target_ecg)\n",
    "# graph_dist_over_axis(target_ecg)\n",
    "\n",
    "# Optimize for target and plot path\n",
    "# optimizer = optimize_point(labels)"
   ]
  },
  {
   "cell_type": "code",
   "execution_count": null,
   "metadata": {},
   "outputs": [],
   "source": [
    "# init =10\n",
    "# actual = np.asarray(optimizer.predicted)\n",
    "# approx = np.asarray(optimizer.visited)\n",
    "# approx = approx[len(approx)-len(actual):len(approx),:]\n"
   ]
  },
  {
   "cell_type": "code",
   "execution_count": null,
   "metadata": {},
   "outputs": [],
   "source": [
    "# np.linalg.norm(target[1,:]-optimizer.visited[1,:])\n",
    "# optimizer.visited.shape"
   ]
  },
  {
   "cell_type": "code",
   "execution_count": null,
   "metadata": {},
   "outputs": [],
   "source": [
    "np.quantile(ecgs[1],0.5)"
   ]
  },
  {
   "cell_type": "code",
   "execution_count": null,
   "metadata": {},
   "outputs": [],
   "source": [
    "plt.hist(ecgs[1])\n",
    "plt.show()"
   ]
  },
  {
   "cell_type": "code",
   "execution_count": null,
   "metadata": {},
   "outputs": [],
   "source": [
    "def all_mean(ecgs):\n",
    "    mean_array = []\n",
    "    var_array = []\n",
    "    for i in range(len(ecgs)):\n",
    "        m = np.mean(ecgs[i])\n",
    "        v = np.var(ecgs[i])\n",
    "        mean_array = np.append(mean_array,m)\n",
    "        var_array = np.append(var_array,v)\n",
    "    return mean_array, var_array\n",
    "        \n",
    "        "
   ]
  },
  {
   "cell_type": "code",
   "execution_count": null,
   "metadata": {},
   "outputs": [],
   "source": [
    "mean, var = all_mean(ecgs)"
   ]
  },
  {
   "cell_type": "code",
   "execution_count": null,
   "metadata": {},
   "outputs": [],
   "source": [
    "plt.hist(var)\n",
    "plt.show()"
   ]
  },
  {
   "cell_type": "code",
   "execution_count": null,
   "metadata": {},
   "outputs": [],
   "source": [
    "def nearest(tidx,labels,ecgs,dis_limit):\n",
    "    target_loc = labels[tidx]\n",
    "    target_ecg = ecgs[tidx]\n",
    "    cc = np.array([[1]])\n",
    "    dis = np.array([[0]])\n",
    "    mean_target = np.array([[0]])+np.quantile(target_ecg,0.25)\n",
    "    var_target = np.array([[0]])+np.quantile(target_ecg,0.75)\n",
    "    first_row=np.concatenate((target_loc.reshape(1,3), dis,cc,mean_target,var_target),axis =1)\n",
    "    nn_loc = np.empty((0, 3))\n",
    "    nn_cc = np.empty ((0,1))\n",
    "    nn_dis = np.empty((0,1))\n",
    "    nn_mean = np.empty((0,1))\n",
    "    nn_var = np.empty((0,1))\n",
    "    for i in range(len(labels)):\n",
    "        d = np.sqrt(np.sum((target_loc - labels[i])**2))\n",
    "        if d < dis_limit:\n",
    "            nn_loc = np.append(nn_loc,labels[i].reshape(1,3),axis=0)\n",
    "            nn_cc = np.append(nn_cc,np.corrcoef(target_ecg, ecgs[i])[0, 1])\n",
    "            nn_dis = np.append(nn_dis,d)\n",
    "            nn_mean = np.append(nn_mean,np.quantile(ecgs[i],0.25))\n",
    "            nn_var = np.append(nn_var,np.quantile(ecgs[i],0.75))\n",
    "    nn_dis = nn_dis.reshape(-1,1)\n",
    "    nn_cc = nn_cc.reshape(-1,1)\n",
    "    nn_mean = nn_mean.reshape(-1,1)\n",
    "    nn_var = nn_var.reshape(-1,1)\n",
    "    near_points = np.concatenate((nn_loc, nn_dis, nn_cc,nn_mean,nn_var),axis =1)\n",
    "    table = np.concatenate((first_row,near_points), axis = 0)\n",
    "    table = np.around(table,2)\n",
    "    return table\n",
    "table=nearest(tidx,labels,ecgs,15)\n",
    "# plt.scatter(table[:,3],table[:,4])\n",
    "# plt.xlabel(\"distance\")\n",
    "# plt.ylabel(\"correlation\")\n",
    "# plt.show\n",
    "x= PrettyTable()\n",
    "x.field_names = ['x', 'y','z','Distance','Corr','Q1','Q3']\n",
    "for row in table:\n",
    "    x.add_row(row)\n",
    "print(x)"
   ]
  },
  {
   "cell_type": "code",
   "execution_count": null,
   "metadata": {},
   "outputs": [],
   "source": [
    "nearest(tidx,labels,ecgs,20)"
   ]
  },
  {
   "cell_type": "code",
   "execution_count": null,
   "metadata": {},
   "outputs": [],
   "source": [
    "def nearest(tidx,labels,ecgs,dis_limit):\n",
    "    target_loc = labels[tidx]\n",
    "    target_ecg = ecgs[tidx]\n",
    "    cc = np.array([[1]])\n",
    "    dis = np.array([[0]])\n",
    "    first_row=np.concatenate((target_loc.reshape(1,3), dis,cc),axis =1)\n",
    "    nn_loc = np.empty((0, 3))\n",
    "    nn_cc = np.empty ((0,1))\n",
    "    nn_dis = np.empty((0,1))\n",
    "    for i in range(len(labels)):\n",
    "        d = np.sqrt(np.sum((target_loc - labels[i])**2))\n",
    "        if d < dis_limit:\n",
    "            nn_loc = np.append(nn_loc,labels[i].reshape(1,3),axis=0)\n",
    "            nn_cc = np.append(nn_cc,np.corrcoef(target_ecg, ecgs[i])[0, 1])\n",
    "            nn_dis = np.append(nn_dis,d)\n",
    "    nn_dis = nn_dis.reshape(-1,1)\n",
    "    nn_cc = nn_cc.reshape(-1,1)\n",
    "    near_points = np.concatenate((nn_loc, nn_dis, nn_cc),axis =1)\n",
    "    table = np.concatenate((first_row,near_points), axis = 0)\n",
    "    table = np.around(table,2)\n",
    "    plt.figure(2)\n",
    "    plt.scatter(table[:,3],table[:,4])\n",
    "    plt.xlabel(\"distance\")\n",
    "    plt.ylabel(\"correlation\")\n",
    "    plt.show\n",
    "    return table"
   ]
  },
  {
   "cell_type": "code",
   "execution_count": null,
   "metadata": {},
   "outputs": [],
   "source": [
    "np.quantile(ecgs[1],0.5)"
   ]
  },
  {
   "cell_type": "code",
   "execution_count": null,
   "metadata": {},
   "outputs": [],
   "source": [
    "x,y,z,nn_cc = corrplot3axes(tidx,labels,ecgs,15)"
   ]
  },
  {
   "cell_type": "code",
   "execution_count": null,
   "metadata": {},
   "outputs": [],
   "source": [
    "def plot_exploration(visited, color_gradient):\n",
    "    \"\"\"\n",
    "    Handles plotting the predictions of the network over time\n",
    "    :param visited:\n",
    "    :return:\n",
    "    \"\"\"\n",
    "    path = np.array(visited)\n",
    "    color_gradient = np.array(color_gradient)\n",
    "\n",
    "    # Plot final for viewing\n",
    "    rest = np.delete(labels, np.where(np.isin(labels, path)), axis=0)\n",
    "    color_gradient = np.delete(color_gradient, np.where(np.isin(labels, path)), axis=0)\n",
    "    fig = plt.figure(0)\n",
    "    ax = fig.gca(projection='3d')\n",
    "\n",
    "    ax.scatter(xs=rest[:, 0], ys=rest[:, 1], zs=rest[:, 2], zdir='z', alpha=0.75, c=color_gradient, cmap = plt.cm.Reds)\n",
    "    ax.scatter(xs=path[:, 0], ys=path[:, 1], zs=path[:, 2], zdir='z', color='blue')\n",
    "    ax.plot(path[:, 0], path[:, 1], path[:, 2], color = 'blue')\n",
    "\n",
    "    m = path\n",
    "    for i in range(len(m)):\n",
    "        ax.text(m[i, 0], m[i, 1], m[i, 2], '%s' % (str(i)), size=10, zorder=1, color='k')\n",
    "    ax.scatter(xs=target[0], ys=target[1], zs=target[2], color='black', s = 100)\n",
    "    plt.show()\n"
   ]
  },
  {
   "cell_type": "code",
   "execution_count": null,
   "metadata": {},
   "outputs": [],
   "source": [
    "color_gradient = []\n",
    "    # Loop through all points to get CC with that point\n",
    "for ecg, coord in zip(ecgs, labels):\n",
    "    if np.array_equal(target_ecg, ecg):\n",
    "        true = coord\n",
    "        color_gradient.append(1)\n",
    "        continue\n",
    "\n",
    "    cc = correlation_coef(target_ecg, ecg)\n",
    "    color_gradient.append(cc)\n",
    "# %matplotlib notebook\n",
    "plot_exploration(optimizer.visited, color_gradient)"
   ]
  },
  {
   "cell_type": "code",
   "execution_count": null,
   "metadata": {},
   "outputs": [],
   "source": [
    "def cube(target,ecgs,labels):\n",
    "    c = corners(labels)\n",
    "    true = None\n",
    "    color_gradient = []\n",
    "    for ecg, coord in zip(ecgs, labels):\n",
    "        if np.array_equal(target, ecg):\n",
    "            true = coord\n",
    "            color_gradient.append(1)\n",
    "            continue\n",
    "        cc = correlation_coef(target, ecg)\n",
    "        color_gradient.append(cc)\n",
    "    fig = plt.figure(20)\n",
    "    ax = fig.gca(projection='3d')\n",
    "    ax.scatter(xs=labels[:, 0], ys=labels[:, 1], zs=labels[:, 2], c=color_gradient, cmap = plt.cm.rainbow)\n",
    "    ax.scatter(true[0], true[1], true[2], color='black', marker = \"X\", s = 100)\n",
    "    ax.scatter(c[:,0], c[:,1], c[:,2], color='red', marker = \"*\", s = 150)\n",
    "    ax.set_xlabel(\"X\"), ax.set_ylabel(\"Y\"), ax.set_zlabel(\"Z\")\n",
    "    plt.show()"
   ]
  },
  {
   "cell_type": "code",
   "execution_count": null,
   "metadata": {},
   "outputs": [],
   "source": [
    "# %matplotlib qt \n",
    "cube(target_ecg,ecgs,labels)"
   ]
  },
  {
   "cell_type": "code",
   "execution_count": null,
   "metadata": {},
   "outputs": [],
   "source": [
    "ecgs[1].shape"
   ]
  },
  {
   "cell_type": "code",
   "execution_count": null,
   "metadata": {},
   "outputs": [],
   "source": [
    "from scipy.stats import wasserstein_distance\n",
    "ww = np.empty((2000, 2000))\n",
    "for i in range(len(ecgs)):\n",
    "    for j in range(len(ecgs)):\n",
    "        d = wasserstein_distance(ecgs[i],ecgs[j])\n",
    "        ww[i,j] = d\n"
   ]
  },
  {
   "cell_type": "code",
   "execution_count": null,
   "metadata": {},
   "outputs": [],
   "source": [
    "ww.shape"
   ]
  },
  {
   "cell_type": "code",
   "execution_count": null,
   "metadata": {},
   "outputs": [],
   "source": [
    "def euclidean_distance(one, two):\n",
    "    return np.sqrt(np.sum((one - two)**2))"
   ]
  },
  {
   "cell_type": "code",
   "execution_count": null,
   "metadata": {},
   "outputs": [],
   "source": [
    "def corners(labels):\n",
    "    minx,maxx = np.amin(labels[:,0]),np.amax(labels[:,0])\n",
    "    miny,maxy = np.amin(labels[:,1]),np.amax(labels[:,1])\n",
    "    minz,maxz = np.amin(labels[:,2]),np.amax(labels[:,2])\n",
    "    c1 = np.array([minx,miny,minz])\n",
    "    c2 = np.array([maxx,miny,minz])\n",
    "    c3 = np.array([maxx,maxy,minz])\n",
    "    c4 = np.array([minx,maxy,minz])\n",
    "    c5 = np.array([minx,miny,maxz])\n",
    "    c6 = np.array([maxx,miny,maxz])\n",
    "    c7 = np.array([maxx,maxy,maxz])\n",
    "    c8 = np.array([minx,maxy,maxz])\n",
    "    c = np.asarray([c1,c2,c3,c4,c5,c6,c7,c8])   \n",
    "    c9 = np.asarray([np.mean(c[:,0]),np.mean(c[:,1]),np.mean(c[:,2])]).reshape(1,3)\n",
    "    c = np.concatenate((c, c9),axis =0)\n",
    "    for i in range(len(c)):\n",
    "        c[i] = approx(c[i],labels)\n",
    "    return c"
   ]
  },
  {
   "cell_type": "code",
   "execution_count": null,
   "metadata": {},
   "outputs": [],
   "source": []
  },
  {
   "cell_type": "code",
   "execution_count": null,
   "metadata": {},
   "outputs": [],
   "source": [
    "def approx(c1,labels):\n",
    "    dist = []\n",
    "    for i in range(len(labels)):\n",
    "        d = euclidean_distance(c1, labels[i])\n",
    "        dist = np.append(dist,d)\n",
    "    for j in range(len(dist)):\n",
    "        if dist[j]==np.amin(dist):\n",
    "            break\n",
    "    return labels[j]\n",
    "        \n",
    "        "
   ]
  },
  {
   "cell_type": "code",
   "execution_count": null,
   "metadata": {},
   "outputs": [],
   "source": [
    "c1 = np.array([minx,miny,minz])\n",
    "c1=approx(c1,labels)\n",
    "c1"
   ]
  },
  {
   "cell_type": "code",
   "execution_count": null,
   "metadata": {},
   "outputs": [],
   "source": [
    "c=corners(labels)"
   ]
  },
  {
   "cell_type": "code",
   "execution_count": null,
   "metadata": {},
   "outputs": [],
   "source": []
  },
  {
   "cell_type": "code",
   "execution_count": null,
   "metadata": {},
   "outputs": [],
   "source": []
  },
  {
   "cell_type": "code",
   "execution_count": null,
   "metadata": {},
   "outputs": [],
   "source": [
    "c.shape"
   ]
  },
  {
   "cell_type": "code",
   "execution_count": null,
   "metadata": {},
   "outputs": [],
   "source": []
  }
 ],
 "metadata": {
  "kernelspec": {
   "display_name": "Python [conda env:tf_gpu] *",
   "language": "python",
   "name": "conda-env-tf_gpu-py"
  },
  "language_info": {
   "codemirror_mode": {
    "name": "ipython",
    "version": 3
   },
   "file_extension": ".py",
   "mimetype": "text/x-python",
   "name": "python",
   "nbconvert_exporter": "python",
   "pygments_lexer": "ipython3",
   "version": "3.7.5"
  }
 },
 "nbformat": 4,
 "nbformat_minor": 2
}
