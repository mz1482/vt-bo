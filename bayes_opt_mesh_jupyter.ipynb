{
 "cells": [
  {
   "cell_type": "code",
   "execution_count": 1,
   "metadata": {},
   "outputs": [],
   "source": [
    "import pandas as pd\n",
    "import numpy as np\n",
    "from data_analysis import get_heart_bounds, correlation_coef, graph_3d\n",
    "from graph import narrow,corrplot3axes,trend,nearest,plot_exploration, graph_dist_over_axis, graph_cc_distribution\n",
    "from BayesOptLib.bayes_opt.bayesian_optimization import BayesianOptimization\n",
    "from RandomSampler import RandomSampler\n",
    "import matplotlib\n",
    "from matplotlib import pyplot as plt\n",
    "from mpl_toolkits.mplot3d import Axes3D\n",
    "from sklearn.metrics.pairwise import euclidean_distances\n",
    "matplotlib.use('Qt5Agg')  # or can use 'TkAgg', whatever you have/prefer\n",
    "from prettytable import PrettyTable\n",
    "%matplotlib qt \n",
    "\n",
    "\n",
    "def get_index(label):\n",
    "    \"\"\"\n",
    "    Gets the idx of a label in the labels array\n",
    "    :param label: label to check for\n",
    "    :return: idx\n",
    "    \"\"\"\n",
    "    idx = 0\n",
    "    for coord in labels:\n",
    "        if np.array_equal(label, coord):\n",
    "            break\n",
    "        idx += 1\n",
    "    return idx\n",
    "\n",
    "\n",
    "def black_box(x, y, z):\n",
    "    \"\"\"\n",
    "    Represents a black box function to maximize for CC of two ECGs given an XYZ coordinate\n",
    "    :param x:\n",
    "    :param y: coordinates of the prediction\n",
    "    :param z:\n",
    "    :return: CC of that point and the target\n",
    "    \"\"\"\n",
    "    sample_ecg = ecgs[get_index(np.array([x, y, z]))]\n",
    "    return correlation_coef(target_ecg, sample_ecg)\n",
    "\n",
    "\n",
    "def plot_exploration(visited, color_gradient):\n",
    "    \"\"\"\n",
    "    Handles plotting the predictions of the network over time\n",
    "    :param visited:\n",
    "    :return:\n",
    "    \"\"\"\n",
    "    path = np.array(visited)\n",
    "    color_gradient = np.array(color_gradient)\n",
    "\n",
    "\n",
    "    # Plot final for viewing\n",
    "    rest = np.delete(labels, np.where(np.isin(labels, path)), axis=0)\n",
    "    color_gradient = np.delete(color_gradient, np.where(np.isin(labels, path)), axis=0)\n",
    "#     fig = plt.figure(0)\n",
    "    fig = plt.figure(figsize=(8,8)); ax = Axes3D(fig)\n",
    "    ax = fig.gca(projection='3d')\n",
    "\n",
    "    ax.scatter(xs=rest[:, 0], ys=rest[:, 1], zs=rest[:, 2], zdir='z', alpha=0.75, c=color_gradient, cmap = plt.cm.Reds)\n",
    "    ax.scatter(xs=path[:, 0], ys=path[:, 1], zs=path[:, 2], zdir='z', color='blue')\n",
    "    ax.plot(path[:, 0], path[:, 1], path[:, 2], color = 'blue')\n",
    "\n",
    "    m = path\n",
    "    for i in range(len(m)):\n",
    "        ax.text(m[i, 0], m[i, 1], m[i, 2], '%s' % (str(i)), size=10, zorder=1, color='k')\n",
    "    ax.scatter(xs=target[0], ys=target[1], zs=target[2], color='black', s = 100)\n",
    "    plt.show()\n",
    "\n"
   ]
  },
  {
   "cell_type": "code",
   "execution_count": 2,
   "metadata": {},
   "outputs": [
    {
     "name": "stdout",
     "output_type": "stream",
     "text": [
      "(2000, 7212)\n",
      "Target:  [  3.76326636 -39.65657813 -62.78487109]\n"
     ]
    }
   ],
   "source": [
    "ecgs = pd.read_csv(\"simu-data/Heart3_SimuData.csv\", header=None).to_numpy()\n",
    "labels = pd.read_csv(\"simu-data/Heart3_XYZsub.csv\", header=None).to_numpy() / 1000\n",
    "print(ecgs.shape)\n",
    "# Get bounds of the heart mesh\n",
    "bounds = get_heart_bounds(labels)\n",
    "# Pick out a sample to use as a target\n",
    "tidx = np.random.randint(0, labels.shape[0])\n",
    "#tidx = 1\n",
    "target, target_ecg = labels[tidx], ecgs[tidx]\n",
    "print(\"Target: \", target)"
   ]
  },
  {
   "cell_type": "code",
   "execution_count": 3,
   "metadata": {},
   "outputs": [],
   "source": [
    "def optimize_point(labels):\n",
    "    # Build the optimizer with the heart bounds\n",
    "    optimizer = BayesianOptimization(\n",
    "        f=black_box,\n",
    "        pbounds=bounds,\n",
    "        random_state=None, real_set=labels\n",
    "    )\n",
    "\n",
    "    # Maximize over x number of points\n",
    "    optimizer.maximize(init_points=10, n_iter=35,  acq=\"ucb\", kappa = 2)\n",
    "    return optimizer\n"
   ]
  },
  {
   "cell_type": "code",
   "execution_count": null,
   "metadata": {},
   "outputs": [],
   "source": []
  },
  {
   "cell_type": "code",
   "execution_count": 4,
   "metadata": {},
   "outputs": [],
   "source": [
    "optimizer = BayesianOptimization(\n",
    "    f=black_box,\n",
    "    pbounds=bounds,\n",
    "    random_state=None, real_set=labels\n",
    ")"
   ]
  },
  {
   "cell_type": "code",
   "execution_count": 5,
   "metadata": {},
   "outputs": [
    {
     "name": "stdout",
     "output_type": "stream",
     "text": [
      "|   iter    |  target   |     x     |     y     |     z     |\n",
      "-------------------------------------------------------------\n",
      "| \u001b[0m 1       \u001b[0m | \u001b[0m 0.6689  \u001b[0m | \u001b[0m-1.126   \u001b[0m | \u001b[0m-23.86   \u001b[0m | \u001b[0m-53.68   \u001b[0m |\n",
      "| \u001b[0m 2       \u001b[0m | \u001b[0m 0.1743  \u001b[0m | \u001b[0m-10.74   \u001b[0m | \u001b[0m-104.9   \u001b[0m | \u001b[0m-16.17   \u001b[0m |\n",
      "| \u001b[0m 3       \u001b[0m | \u001b[0m 0.3105  \u001b[0m | \u001b[0m-33.7    \u001b[0m | \u001b[0m-87.87   \u001b[0m | \u001b[0m-37.19   \u001b[0m |\n",
      "| \u001b[0m 4       \u001b[0m | \u001b[0m 0.1658  \u001b[0m | \u001b[0m 41.97   \u001b[0m | \u001b[0m-57.81   \u001b[0m | \u001b[0m-65.1    \u001b[0m |\n",
      "| \u001b[0m 5       \u001b[0m | \u001b[0m 0.3003  \u001b[0m | \u001b[0m-12.97   \u001b[0m | \u001b[0m-99.73   \u001b[0m | \u001b[0m-50.02   \u001b[0m |\n",
      "| \u001b[0m 6       \u001b[0m | \u001b[0m 0.5572  \u001b[0m | \u001b[0m 2.509   \u001b[0m | \u001b[0m-24.28   \u001b[0m | \u001b[0m-49.7    \u001b[0m |\n",
      "| \u001b[0m 7       \u001b[0m | \u001b[0m 0.6208  \u001b[0m | \u001b[0m-1.271   \u001b[0m | \u001b[0m-23.1    \u001b[0m | \u001b[0m-50.78   \u001b[0m |\n",
      "| \u001b[0m 8       \u001b[0m | \u001b[0m 0.6271  \u001b[0m | \u001b[0m-2.134   \u001b[0m | \u001b[0m-23.32   \u001b[0m | \u001b[0m-51.74   \u001b[0m |\n",
      "| \u001b[0m 9       \u001b[0m | \u001b[0m 0.4537  \u001b[0m | \u001b[0m 5.76    \u001b[0m | \u001b[0m-25.49   \u001b[0m | \u001b[0m-48.26   \u001b[0m |\n",
      "| \u001b[0m 10      \u001b[0m | \u001b[0m 0.5355  \u001b[0m | \u001b[0m 2.889   \u001b[0m | \u001b[0m-24.37   \u001b[0m | \u001b[0m-48.84   \u001b[0m |\n",
      "=============================================================\n"
     ]
    },
    {
     "data": {
      "image/png": "[encoded data removed]",
      "text/plain": [
       "<Figure size 432x288 with 1 Axes>"
      ]
     },
     "metadata": {
      "needs_background": "light"
     },
     "output_type": "display_data"
    }
   ],
   "source": [
    "gp,x = optimizer.gpfit(init_points=5,n_iter=5,acq='ucb',kappa=2.576)"
   ]
  },
  {
   "cell_type": "code",
   "execution_count": 6,
   "metadata": {},
   "outputs": [
    {
     "data": {
      "text/plain": [
       "(10, 1)"
      ]
     },
     "execution_count": 6,
     "metadata": {},
     "output_type": "execute_result"
    }
   ],
   "source": [
    "x_train = np.asarray(optimizer.visited)\n",
    "y_train=optimizer._space.target.reshape(-1,1)\n",
    "gp.fit(x_train,y_train)\n",
    "y_train.shape\n"
   ]
  },
  {
   "cell_type": "code",
   "execution_count": 7,
   "metadata": {},
   "outputs": [
    {
     "data": {
      "text/plain": [
       "94.38438281200003"
      ]
     },
     "execution_count": 7,
     "metadata": {},
     "output_type": "execute_result"
    }
   ],
   "source": [
    "np.amax(labels[:,0])"
   ]
  },
  {
   "cell_type": "code",
   "execution_count": 8,
   "metadata": {},
   "outputs": [
    {
     "data": {
      "image/png": "[encoded data removed]",
      "text/plain": [
       "<Figure size 432x288 with 1 Axes>"
      ]
     },
     "metadata": {
      "needs_background": "light"
     },
     "output_type": "display_data"
    }
   ],
   "source": [
    "from matplotlib import cm\n",
    "fig = plt.figure()\n",
    "# ax = fig.gca(projection='3d')\n",
    "X = np.arange(-34, 94, 0.05)\n",
    "Y = np.arange(-34, 94, 0.05)\n",
    "Z = np.arange(-34, 94, 0.05)\n",
    "R = np.array([X,Y,Z]).T\n",
    "\n",
    "G = gp.predict(R,return_std=False)#.reshape(len(X),1)\n",
    "# X, Y = np.meshgrid(X, Y)\n",
    "# surf = ax.plot_surface(X, Y, G, cmap=cm.jet,linewidth=0, antialiased=False)\n",
    "# fig.colorbar(surf, shrink=0.5, aspect=5)\n",
    "plt.scatter(Y,G)\n",
    "plt.show()\n"
   ]
  },
  {
   "cell_type": "code",
   "execution_count": 9,
   "metadata": {},
   "outputs": [
    {
     "data": {
      "text/plain": [
       "array([-34.  , -33.95, -33.9 , ...,  93.85,  93.9 ,  93.95])"
      ]
     },
     "execution_count": 9,
     "metadata": {},
     "output_type": "execute_result"
    }
   ],
   "source": [
    "X"
   ]
  },
  {
   "cell_type": "code",
   "execution_count": 10,
   "metadata": {},
   "outputs": [
    {
     "name": "stdout",
     "output_type": "stream",
     "text": [
      "Target:  [ 78.08914844 -96.04877344 -84.25153125]\n"
     ]
    }
   ],
   "source": [
    "# Pick out a sample to use as a target\n",
    "tidx = np.random.randint(0, labels.shape[0])\n",
    "#tidx = 1\n",
    "target, target_ecg = labels[tidx], ecgs[tidx]\n",
    "print(\"Target: \", target)\n",
    "\n",
    "# Remove target from labels\n",
    "#labels = np.delete(labels, np.where(np.isin(labels, target)), axis=0)\n",
    "\n",
    "# Get plots of target CC distribution\n",
    "# graph_cc_distribution(target_ecg)\n",
    "# graph_dist_over_axis(target_ecg)\n",
    "\n",
    "# Optimize for target and plot path\n",
    "# optimizer = optimize_point(labels)"
   ]
  },
  {
   "cell_type": "code",
   "execution_count": 11,
   "metadata": {},
   "outputs": [],
   "source": [
    "# init =10\n",
    "# actual = np.asarray(optimizer.predicted)\n",
    "# approx = np.asarray(optimizer.visited)\n",
    "# approx = approx[len(approx)-len(actual):len(approx),:]\n"
   ]
  },
  {
   "cell_type": "code",
   "execution_count": 12,
   "metadata": {},
   "outputs": [],
   "source": [
    "# np.linalg.norm(target[1,:]-optimizer.visited[1,:])\n",
    "# optimizer.visited.shape"
   ]
  },
  {
   "cell_type": "code",
   "execution_count": 13,
   "metadata": {},
   "outputs": [
    {
     "data": {
      "text/plain": [
       "0.09855815"
      ]
     },
     "execution_count": 13,
     "metadata": {},
     "output_type": "execute_result"
    }
   ],
   "source": [
    "np.quantile(ecgs[1],0.5)"
   ]
  },
  {
   "cell_type": "code",
   "execution_count": 14,
   "metadata": {},
   "outputs": [
    {
     "data": {
      "image/png": "[encoded data removed]",
      "text/plain": [
       "<Figure size 432x288 with 1 Axes>"
      ]
     },
     "metadata": {
      "needs_background": "light"
     },
     "output_type": "display_data"
    }
   ],
   "source": [
    "plt.hist(ecgs[1])\n",
    "plt.show()"
   ]
  },
  {
   "cell_type": "code",
   "execution_count": 15,
   "metadata": {},
   "outputs": [],
   "source": [
    "def all_mean(ecgs):\n",
    "    mean_array = []\n",
    "    var_array = []\n",
    "    for i in range(len(ecgs)):\n",
    "        m = np.mean(ecgs[i])\n",
    "        v = np.var(ecgs[i])\n",
    "        mean_array = np.append(mean_array,m)\n",
    "        var_array = np.append(var_array,v)\n",
    "    return mean_array, var_array\n",
    "        \n",
    "        "
   ]
  },
  {
   "cell_type": "code",
   "execution_count": 16,
   "metadata": {},
   "outputs": [],
   "source": [
    "mean, var = all_mean(ecgs)"
   ]
  },
  {
   "cell_type": "code",
   "execution_count": 17,
   "metadata": {},
   "outputs": [
    {
     "data": {
      "image/png": "[encoded data removed]",
      "text/plain": [
       "<Figure size 432x288 with 1 Axes>"
      ]
     },
     "metadata": {
      "needs_background": "light"
     },
     "output_type": "display_data"
    }
   ],
   "source": [
    "plt.hist(var)\n",
    "plt.show()"
   ]
  },
  {
   "cell_type": "code",
   "execution_count": 18,
   "metadata": {},
   "outputs": [
    {
     "name": "stdout",
     "output_type": "stream",
     "text": [
      "+-------+---------+--------+----------+------+-------+------+\n",
      "|   x   |    y    |   z    | Distance | Corr |   Q1  |  Q3  |\n",
      "+-------+---------+--------+----------+------+-------+------+\n",
      "| 78.09 |  -96.05 | -84.25 |   0.0    | 1.0  | -0.09 | 0.62 |\n",
      "| 87.04 |  -97.66 | -82.71 |   9.22   | 0.94 | -0.13 | 0.62 |\n",
      "|  84.9 |  -97.61 | -81.29 |   7.6    | 0.97 |  -0.1 | 0.62 |\n",
      "| 69.48 |  -93.18 | -78.62 |  10.68   | 0.82 | -0.04 | 0.59 |\n",
      "| 71.89 |  -99.4  | -84.31 |   7.05   | 0.97 | -0.06 | 0.65 |\n",
      "| 75.45 |  -94.83 | -79.24 |   5.79   | 0.92 | -0.05 | 0.57 |\n",
      "| 74.19 |  -96.8  | -90.25 |   7.2    | 0.97 | -0.09 | 0.65 |\n",
      "| 72.67 | -101.88 | -86.51 |   8.28   | 0.98 | -0.09 | 0.69 |\n",
      "| 77.42 |  -98.71 | -81.85 |   3.65   | 0.99 | -0.09 | 0.61 |\n",
      "| 84.92 |  -96.75 | -79.47 |   8.37   | 0.98 | -0.09 | 0.61 |\n",
      "| 80.89 |  -93.0  | -76.43 |   8.85   | 0.95 | -0.07 | 0.61 |\n",
      "| 85.86 |  -97.99 | -82.52 |   8.19   | 0.95 | -0.12 | 0.62 |\n",
      "| 86.56 |  -97.23 | -85.61 |   8.66   | 0.92 | -0.15 | 0.62 |\n",
      "| 73.58 | -103.45 | -87.94 |   9.41   | 0.96 | -0.09 | 0.7  |\n",
      "| 82.88 | -103.72 | -83.73 |   9.05   | 0.95 | -0.13 | 0.65 |\n",
      "| 76.06 |  -97.71 | -81.05 |   4.14   | 0.98 | -0.07 | 0.59 |\n",
      "| 75.56 |  -96.27 | -80.36 |   4.65   | 0.96 | -0.06 | 0.58 |\n",
      "| 70.58 | -100.11 | -85.51 |   8.63   | 0.97 | -0.06 | 0.67 |\n",
      "| 83.51 | -102.12 | -74.94 |  12.37   | 0.95 | -0.12 | 0.64 |\n",
      "| 84.43 | -103.13 | -77.17 |  11.85   | 0.95 | -0.11 | 0.64 |\n",
      "| 87.04 |  -97.66 | -82.71 |   9.22   | 0.94 | -0.13 | 0.62 |\n",
      "| 83.01 |  -94.48 | -71.48 |  13.78   | 0.91 |  -0.1 | 0.61 |\n",
      "|  84.9 |  -97.61 | -81.29 |   7.6    | 0.97 |  -0.1 | 0.62 |\n",
      "| 84.16 | -102.23 | -76.23 |  11.81   | 0.95 | -0.12 | 0.65 |\n",
      "| 82.76 | -105.27 | -80.2  |   11.1   | 0.95 | -0.11 | 0.63 |\n",
      "| 79.11 |  -99.13 | -69.85 |  14.76   | 0.9  | -0.08 | 0.59 |\n",
      "| 82.62 | -100.71 | -75.02 |  11.29   | 0.96 | -0.11 | 0.62 |\n",
      "| 80.24 |  -97.11 | -72.52 |  11.97   | 0.92 | -0.09 | 0.57 |\n",
      "| 80.89 |  -93.0  | -76.43 |   8.85   | 0.95 | -0.07 | 0.61 |\n",
      "| 84.92 |  -96.75 | -79.47 |   8.37   | 0.98 | -0.09 | 0.61 |\n",
      "| 84.74 |  -96.4  | -71.99 |  13.95   | 0.94 |  -0.1 | 0.63 |\n",
      "| 85.86 |  -97.99 | -82.52 |   8.19   | 0.95 | -0.12 | 0.62 |\n",
      "| 83.58 |  -95.28 | -71.4  |   14.0   | 0.92 |  -0.1 | 0.63 |\n",
      "| 82.04 |  -92.57 | -74.67 |  10.94   | 0.95 | -0.07 | 0.61 |\n",
      "| 87.33 |  -94.66 | -76.05 |  12.43   | 0.96 | -0.11 | 0.61 |\n",
      "| 88.58 | -101.35 | -75.68 |  14.55   | 0.93 | -0.14 | 0.63 |\n",
      "| 88.49 |  -96.59 | -79.18 |  11.58   | 0.95 | -0.12 | 0.61 |\n",
      "| 79.14 |  -98.66 | -76.7  |   8.06   | 0.97 | -0.08 | 0.6  |\n",
      "|  78.0 | -107.87 | -77.26 |  13.73   | 0.95 | -0.08 | 0.65 |\n",
      "|  80.4 |  -99.39 | -76.89 |   8.41   | 0.97 | -0.09 | 0.61 |\n",
      "|  87.3 |  -99.83 | -81.36 |  10.37   | 0.94 | -0.12 | 0.62 |\n",
      "| 86.25 |  -97.65 | -79.94 |   9.36   | 0.97 |  -0.1 | 0.62 |\n",
      "| 74.81 | -104.74 | -73.42 |  14.27   | 0.94 | -0.07 | 0.62 |\n",
      "|  72.7 |  -98.57 | -70.89 |  14.62   | 0.84 | -0.06 | 0.58 |\n",
      "| 77.29 | -106.67 | -75.92 |  13.53   | 0.96 | -0.07 | 0.65 |\n",
      "| 80.18 | -100.64 | -76.94 |   8.88   | 0.97 |  -0.1 | 0.61 |\n",
      "| 77.25 |  -98.6  | -74.53 |  10.09   | 0.93 | -0.07 | 0.58 |\n",
      "| 78.73 |  -98.37 | -79.13 |   5.66   | 0.98 | -0.07 | 0.6  |\n",
      "| 69.32 |  -87.24 | -80.57 |  12.96   | 0.81 | -0.04 | 0.62 |\n",
      "| 79.03 | -103.72 | -86.99 |   8.2    | 0.96 | -0.12 | 0.68 |\n",
      "| 76.17 | -106.22 | -83.01 |  10.43   | 0.96 | -0.09 | 0.7  |\n",
      "| 69.41 |  -89.52 | -83.91 |  10.87   | 0.86 | -0.05 | 0.63 |\n",
      "| 77.56 |  -97.76 | -78.01 |   6.5    | 0.97 | -0.07 | 0.6  |\n",
      "| 79.31 |  -98.0  | -86.81 |   3.45   | 0.97 | -0.12 | 0.64 |\n",
      "|  76.9 |  -92.45 | -79.4  |   6.16   | 0.93 | -0.05 | 0.59 |\n",
      "| 71.64 | -105.05 | -80.59 |  11.66   | 0.95 | -0.07 | 0.66 |\n",
      "| 78.09 |  -96.05 | -84.25 |   0.0    | 1.0  | -0.09 | 0.62 |\n",
      "| 80.58 |  -83.55 | -84.07 |  12.75   | 0.94 | -0.08 | 0.67 |\n",
      "| 81.35 |  -92.22 | -79.84 |   6.69   | 0.98 | -0.07 | 0.61 |\n",
      "| 82.64 |  -85.47 | -86.42 |  11.72   | 0.96 |  -0.1 | 0.66 |\n",
      "| 81.59 |  -91.28 | -81.27 |   6.62   | 0.98 | -0.07 | 0.61 |\n",
      "| 79.66 |  -97.3  | -85.17 |   2.2    | 0.99 | -0.11 | 0.62 |\n",
      "| 69.45 |  -96.62 | -75.17 |  12.55   | 0.82 | -0.04 | 0.56 |\n",
      "|  72.0 | -103.24 | -80.15 |  10.27   | 0.95 | -0.06 | 0.63 |\n",
      "| 78.39 |  -96.69 | -78.02 |   6.27   | 0.97 | -0.07 | 0.61 |\n",
      "| 69.96 |  -89.18 | -82.78 |  10.74   | 0.84 | -0.05 | 0.63 |\n",
      "| 81.71 |  -99.48 | -87.14 |   5.76   | 0.94 | -0.14 | 0.65 |\n",
      "|  70.6 |  -88.61 | -81.75 |  10.85   | 0.83 | -0.04 | 0.62 |\n",
      "| 78.89 |  -99.94 | -80.41 |   5.52   | 0.98 | -0.09 | 0.61 |\n",
      "| 73.47 | -105.79 | -81.86 |  11.04   | 0.96 | -0.08 | 0.69 |\n",
      "| 82.19 |  -85.29 | -85.19 |  11.55   | 0.96 | -0.09 | 0.66 |\n",
      "| 82.57 |  -95.01 | -80.37 |   6.02   | 0.99 | -0.09 | 0.62 |\n",
      "| 80.44 |  -90.26 | -78.52 |   8.48   | 0.95 | -0.06 | 0.62 |\n",
      "| 80.44 |  -85.65 | -83.33 |   10.7   | 0.94 | -0.07 | 0.65 |\n",
      "| 76.21 |  -82.83 | -78.18 |  14.67   | 0.85 | -0.04 | 0.63 |\n",
      "| 78.94 | -101.81 | -85.08 |   5.88   | 0.96 | -0.12 | 0.67 |\n",
      "| 67.22 |  -96.63 | -82.52 |  11.02   | 0.88 | -0.04 | 0.62 |\n",
      "| 82.81 |  -99.82 | -87.38 |   6.81   | 0.92 | -0.15 | 0.63 |\n",
      "|  70.3 |  -94.53 | -79.67 |   9.17   | 0.86 | -0.04 | 0.59 |\n",
      "| 77.09 |  -99.29 | -83.54 |   3.46   | 0.99 | -0.09 | 0.62 |\n",
      "| 76.18 |  -94.58 | -78.34 |   6.38   | 0.93 | -0.05 | 0.57 |\n",
      "| 82.34 |  -95.43 | -79.22 |   6.61   | 0.98 | -0.08 | 0.62 |\n",
      "| 82.19 |  -93.84 | -78.25 |   7.59   | 0.97 | -0.08 | 0.62 |\n",
      "| 77.72 | -100.14 | -84.6  |   4.12   | 0.98 | -0.11 | 0.64 |\n",
      "| 73.79 |  -96.73 | -80.71 |   5.61   | 0.94 | -0.05 | 0.58 |\n",
      "|  79.1 | -102.82 | -86.24 |   7.13   | 0.96 | -0.12 | 0.68 |\n",
      "| 70.67 |  -96.77 | -81.41 |   7.97   | 0.91 | -0.05 | 0.59 |\n",
      "| 77.49 | -106.94 | -83.89 |  10.91   | 0.95 | -0.09 | 0.68 |\n",
      "|  84.0 |  -86.86 | -87.54 |  11.41   | 0.95 | -0.11 | 0.64 |\n",
      "| 82.48 |  -92.37 | -77.06 |   9.2    | 0.96 | -0.08 | 0.61 |\n",
      "| 82.46 |  -96.57 | -79.9  |   6.19   | 0.99 | -0.08 | 0.62 |\n",
      "|  85.8 |  -98.33 | -73.14 |  13.72   | 0.96 | -0.12 | 0.64 |\n",
      "| 82.24 |  -94.25 | -70.78 |  14.21   | 0.89 |  -0.1 | 0.62 |\n",
      "| 87.44 |  -98.98 | -74.23 |  14.01   | 0.95 | -0.13 | 0.64 |\n",
      "| 82.19 |  -93.84 | -78.25 |   7.59   | 0.97 | -0.08 | 0.62 |\n",
      "| 82.34 |  -95.43 | -79.22 |   6.61   | 0.98 | -0.08 | 0.62 |\n",
      "| 87.92 | -100.05 | -82.25 |   10.8   | 0.93 | -0.13 | 0.62 |\n",
      "| 81.53 |  -99.64 | -73.29 |  12.04   | 0.95 | -0.09 | 0.59 |\n",
      "| 81.09 |  -98.05 | -74.02 |  10.85   | 0.94 | -0.09 | 0.59 |\n",
      "| 82.46 |  -96.57 | -79.9  |   6.19   | 0.99 | -0.08 | 0.62 |\n",
      "| 87.98 | -100.46 | -74.82 |  14.36   | 0.94 | -0.14 | 0.64 |\n",
      "| 82.48 |  -92.37 | -77.06 |   9.2    | 0.96 | -0.08 | 0.61 |\n",
      "|  86.6 |  -98.92 | -75.0  |   12.9   | 0.96 | -0.13 | 0.65 |\n",
      "| 80.55 |  -98.26 | -72.99 |  11.74   | 0.93 | -0.09 | 0.57 |\n",
      "| 77.72 | -109.17 | -77.04 |  14.98   | 0.94 | -0.07 | 0.63 |\n",
      "|  82.2 |  -99.45 | -74.93 |  10.74   | 0.96 |  -0.1 | 0.61 |\n",
      "| 82.27 | -100.69 | -79.54 |   7.83   | 0.97 | -0.11 | 0.63 |\n",
      "| 83.94 | -102.42 | -81.12 |   9.2    | 0.95 | -0.13 | 0.63 |\n",
      "| 74.09 | -102.42 | -73.03 |  13.51   | 0.91 | -0.06 | 0.6  |\n",
      "| 74.02 | -101.06 | -71.97 |  13.88   | 0.89 | -0.06 | 0.6  |\n",
      "| 86.87 |  -92.83 | -74.79 |   13.3   | 0.96 |  -0.1 | 0.6  |\n",
      "| 83.46 |  -92.0  | -74.25 |  12.05   | 0.95 | -0.08 | 0.6  |\n",
      "| 74.99 |  -99.95 | -72.69 |  12.59   | 0.9  | -0.06 | 0.6  |\n",
      "| 85.86 | -103.49 | -78.13 |  12.38   | 0.94 | -0.11 | 0.62 |\n",
      "| 82.82 | -102.73 | -80.58 |   8.97   | 0.96 | -0.12 | 0.64 |\n",
      "| 78.51 |  -96.24 | -75.94 |   8.33   | 0.95 | -0.07 | 0.6  |\n",
      "| 81.24 | -100.56 | -78.21 |   8.17   | 0.97 |  -0.1 | 0.62 |\n",
      "| 83.36 |  -93.91 | -75.87 |  10.13   | 0.97 | -0.08 | 0.61 |\n",
      "| 86.69 | -101.02 | -83.21 |   9.99   | 0.93 | -0.14 | 0.62 |\n",
      "| 85.88 |  -92.32 | -74.77 |  12.82   | 0.96 | -0.09 | 0.59 |\n",
      "| 85.29 |  -97.46 | -84.28 |   7.34   | 0.94 | -0.13 | 0.62 |\n",
      "| 77.81 |  -83.36 | -81.18 |  13.06   | 0.88 | -0.05 | 0.64 |\n",
      "| 76.79 |  -82.89 | -80.29 |  13.81   | 0.86 | -0.05 | 0.63 |\n",
      "| 84.29 |  -95.87 | -82.44 |   6.46   | 0.97 | -0.11 | 0.61 |\n",
      "| 71.73 |  -91.47 | -85.36 |   7.91   | 0.93 | -0.05 | 0.63 |\n",
      "| 81.29 | -100.57 | -81.19 |   6.33   | 0.97 | -0.12 | 0.63 |\n",
      "| 71.14 |  -88.85 | -79.89 |  10.92   | 0.83 | -0.04 | 0.61 |\n",
      "| 69.27 |  -98.91 | -76.75 |  11.93   | 0.86 | -0.05 | 0.57 |\n",
      "| 79.03 |  -95.62 | -83.11 |   1.54   | 1.0  | -0.09 | 0.61 |\n",
      "|  73.3 |  -94.98 | -87.63 |   5.95   | 0.98 | -0.07 | 0.65 |\n",
      "| 75.64 | -104.04 | -88.59 |   9.41   | 0.95 | -0.09 | 0.68 |\n",
      "| 75.88 |  -92.52 | -80.72 |   5.47   | 0.93 | -0.05 | 0.59 |\n",
      "| 70.35 | -101.07 | -78.18 |  11.04   | 0.91 | -0.06 | 0.59 |\n",
      "| 77.92 | -105.52 | -83.18 |   9.53   | 0.96 |  -0.1 | 0.69 |\n",
      "| 80.04 |  -90.99 | -77.74 |   8.48   | 0.95 | -0.06 | 0.61 |\n",
      "| 83.67 |  -96.23 | -81.18 |   6.37   | 0.98 | -0.09 | 0.61 |\n",
      "| 86.69 | -101.02 | -83.21 |   9.99   | 0.93 | -0.14 | 0.62 |\n",
      "| 76.95 |  -82.97 | -79.08 |  14.11   | 0.86 | -0.04 | 0.63 |\n",
      "| 84.94 |  -97.47 | -83.17 |   7.08   | 0.96 | -0.12 | 0.62 |\n",
      "| 79.09 |  -84.13 | -82.51 |  12.09   | 0.92 | -0.06 | 0.65 |\n",
      "| 73.07 | -102.22 | -79.69 |   9.17   | 0.95 | -0.06 | 0.61 |\n",
      "| 76.23 |  -92.59 | -82.1  |   4.48   | 0.95 | -0.05 | 0.61 |\n",
      "| 80.34 | -102.53 | -81.8  |   7.29   | 0.96 | -0.12 | 0.64 |\n",
      "| 77.42 |  -93.88 | -82.2  |   3.06   | 0.98 | -0.06 | 0.61 |\n",
      "| 67.97 |  -97.56 | -75.5  |  13.46   | 0.81 | -0.04 | 0.57 |\n",
      "| 75.54 |  -96.4  | -89.04 |   5.44   | 0.98 | -0.09 | 0.65 |\n",
      "| 79.05 | -101.05 | -80.94 |   6.07   | 0.98 |  -0.1 | 0.62 |\n",
      "| 77.59 |  -95.68 | -77.0  |   7.28   | 0.95 | -0.06 | 0.6  |\n",
      "| 69.06 |  -90.94 | -86.22 |  10.56   | 0.91 | -0.05 | 0.64 |\n",
      "+-------+---------+--------+----------+------+-------+------+\n"
     ]
    }
   ],
   "source": [
    "def nearest(tidx,labels,ecgs,dis_limit):\n",
    "    target_loc = labels[tidx]\n",
    "    target_ecg = ecgs[tidx]\n",
    "    cc = np.array([[1]])\n",
    "    dis = np.array([[0]])\n",
    "    mean_target = np.array([[0]])+np.quantile(target_ecg,0.25)\n",
    "    var_target = np.array([[0]])+np.quantile(target_ecg,0.75)\n",
    "    first_row=np.concatenate((target_loc.reshape(1,3), dis,cc,mean_target,var_target),axis =1)\n",
    "    nn_loc = np.empty((0, 3))\n",
    "    nn_cc = np.empty ((0,1))\n",
    "    nn_dis = np.empty((0,1))\n",
    "    nn_mean = np.empty((0,1))\n",
    "    nn_var = np.empty((0,1))\n",
    "    for i in range(len(labels)):\n",
    "        d = np.sqrt(np.sum((target_loc - labels[i])**2))\n",
    "        if d < dis_limit:\n",
    "            nn_loc = np.append(nn_loc,labels[i].reshape(1,3),axis=0)\n",
    "            nn_cc = np.append(nn_cc,np.corrcoef(target_ecg, ecgs[i])[0, 1])\n",
    "            nn_dis = np.append(nn_dis,d)\n",
    "            nn_mean = np.append(nn_mean,np.quantile(ecgs[i],0.25))\n",
    "            nn_var = np.append(nn_var,np.quantile(ecgs[i],0.75))\n",
    "    nn_dis = nn_dis.reshape(-1,1)\n",
    "    nn_cc = nn_cc.reshape(-1,1)\n",
    "    nn_mean = nn_mean.reshape(-1,1)\n",
    "    nn_var = nn_var.reshape(-1,1)\n",
    "    near_points = np.concatenate((nn_loc, nn_dis, nn_cc,nn_mean,nn_var),axis =1)\n",
    "    table = np.concatenate((first_row,near_points), axis = 0)\n",
    "    table = np.around(table,2)\n",
    "    return table\n",
    "table=nearest(tidx,labels,ecgs,15)\n",
    "# plt.scatter(table[:,3],table[:,4])\n",
    "# plt.xlabel(\"distance\")\n",
    "# plt.ylabel(\"correlation\")\n",
    "# plt.show\n",
    "x= PrettyTable()\n",
    "x.field_names = ['x', 'y','z','Distance','Corr','Q1','Q3']\n",
    "for row in table:\n",
    "    x.add_row(row)\n",
    "print(x)"
   ]
  },
  {
   "cell_type": "code",
   "execution_count": 19,
   "metadata": {},
   "outputs": [
    {
     "data": {
      "text/plain": [
       "array([[ 7.8090e+01, -9.6050e+01, -8.4250e+01, ...,  1.0000e+00,\n",
       "        -9.0000e-02,  6.2000e-01],\n",
       "       [ 8.4760e+01, -8.1950e+01, -7.3480e+01, ...,  8.5000e-01,\n",
       "        -7.0000e-02,  6.2000e-01],\n",
       "       [ 8.5980e+01, -8.3750e+01, -7.5610e+01, ...,  8.9000e-01,\n",
       "        -8.0000e-02,  6.2000e-01],\n",
       "       ...,\n",
       "       [ 7.9050e+01, -1.0105e+02, -8.0940e+01, ...,  9.8000e-01,\n",
       "        -1.0000e-01,  6.2000e-01],\n",
       "       [ 7.7590e+01, -9.5680e+01, -7.7000e+01, ...,  9.5000e-01,\n",
       "        -6.0000e-02,  6.0000e-01],\n",
       "       [ 6.9060e+01, -9.0940e+01, -8.6220e+01, ...,  9.1000e-01,\n",
       "        -5.0000e-02,  6.4000e-01]])"
      ]
     },
     "execution_count": 19,
     "metadata": {},
     "output_type": "execute_result"
    }
   ],
   "source": [
    "nearest(tidx,labels,ecgs,20)"
   ]
  },
  {
   "cell_type": "code",
   "execution_count": 20,
   "metadata": {},
   "outputs": [],
   "source": [
    "def nearest(tidx,labels,ecgs,dis_limit):\n",
    "    target_loc = labels[tidx]\n",
    "    target_ecg = ecgs[tidx]\n",
    "    cc = np.array([[1]])\n",
    "    dis = np.array([[0]])\n",
    "    first_row=np.concatenate((target_loc.reshape(1,3), dis,cc),axis =1)\n",
    "    nn_loc = np.empty((0, 3))\n",
    "    nn_cc = np.empty ((0,1))\n",
    "    nn_dis = np.empty((0,1))\n",
    "    for i in range(len(labels)):\n",
    "        d = np.sqrt(np.sum((target_loc - labels[i])**2))\n",
    "        if d < dis_limit:\n",
    "            nn_loc = np.append(nn_loc,labels[i].reshape(1,3),axis=0)\n",
    "            nn_cc = np.append(nn_cc,np.corrcoef(target_ecg, ecgs[i])[0, 1])\n",
    "            nn_dis = np.append(nn_dis,d)\n",
    "    nn_dis = nn_dis.reshape(-1,1)\n",
    "    nn_cc = nn_cc.reshape(-1,1)\n",
    "    near_points = np.concatenate((nn_loc, nn_dis, nn_cc),axis =1)\n",
    "    table = np.concatenate((first_row,near_points), axis = 0)\n",
    "    table = np.around(table,2)\n",
    "    plt.figure(2)\n",
    "    plt.scatter(table[:,3],table[:,4])\n",
    "    plt.xlabel(\"distance\")\n",
    "    plt.ylabel(\"correlation\")\n",
    "    plt.show\n",
    "    return table"
   ]
  },
  {
   "cell_type": "code",
   "execution_count": 21,
   "metadata": {},
   "outputs": [
    {
     "data": {
      "text/plain": [
       "0.09855815"
      ]
     },
     "execution_count": 21,
     "metadata": {},
     "output_type": "execute_result"
    }
   ],
   "source": [
    "np.quantile(ecgs[1],0.5)"
   ]
  },
  {
   "cell_type": "code",
   "execution_count": 22,
   "metadata": {},
   "outputs": [
    {
     "data": {
      "image/png": "[encoded data removed]",
      "text/plain": [
       "<Figure size 432x288 with 3 Axes>"
      ]
     },
     "metadata": {
      "needs_background": "light"
     },
     "output_type": "display_data"
    }
   ],
   "source": [
    "x,y,z,nn_cc = corrplot3axes(tidx,labels,ecgs,15)"
   ]
  },
  {
   "cell_type": "code",
   "execution_count": 23,
   "metadata": {},
   "outputs": [],
   "source": [
    "def plot_exploration(visited, color_gradient):\n",
    "    \"\"\"\n",
    "    Handles plotting the predictions of the network over time\n",
    "    :param visited:\n",
    "    :return:\n",
    "    \"\"\"\n",
    "    path = np.array(visited)\n",
    "    color_gradient = np.array(color_gradient)\n",
    "\n",
    "    # Plot final for viewing\n",
    "    rest = np.delete(labels, np.where(np.isin(labels, path)), axis=0)\n",
    "    color_gradient = np.delete(color_gradient, np.where(np.isin(labels, path)), axis=0)\n",
    "    fig = plt.figure(0)\n",
    "    ax = fig.gca(projection='3d')\n",
    "\n",
    "    ax.scatter(xs=rest[:, 0], ys=rest[:, 1], zs=rest[:, 2], zdir='z', alpha=0.75, c=color_gradient, cmap = plt.cm.Reds)\n",
    "    ax.scatter(xs=path[:, 0], ys=path[:, 1], zs=path[:, 2], zdir='z', color='blue')\n",
    "    ax.plot(path[:, 0], path[:, 1], path[:, 2], color = 'blue')\n",
    "\n",
    "    m = path\n",
    "    for i in range(len(m)):\n",
    "        ax.text(m[i, 0], m[i, 1], m[i, 2], '%s' % (str(i)), size=10, zorder=1, color='k')\n",
    "    ax.scatter(xs=target[0], ys=target[1], zs=target[2], color='black', s = 100)\n",
    "    plt.show()\n"
   ]
  },
  {
   "cell_type": "code",
   "execution_count": 24,
   "metadata": {},
   "outputs": [
    {
     "data": {
      "image/png": "[encoded data removed]",
      "text/plain": [
       "<Figure size 432x288 with 1 Axes>"
      ]
     },
     "metadata": {
      "needs_background": "light"
     },
     "output_type": "display_data"
    }
   ],
   "source": [
    "color_gradient = []\n",
    "    # Loop through all points to get CC with that point\n",
    "for ecg, coord in zip(ecgs, labels):\n",
    "    if np.array_equal(target_ecg, ecg):\n",
    "        true = coord\n",
    "        color_gradient.append(1)\n",
    "        continue\n",
    "\n",
    "    cc = correlation_coef(target_ecg, ecg)\n",
    "    color_gradient.append(cc)\n",
    "# %matplotlib notebook\n",
    "plot_exploration(optimizer.visited, color_gradient)"
   ]
  },
  {
   "cell_type": "code",
   "execution_count": 25,
   "metadata": {},
   "outputs": [],
   "source": [
    "def cube(target,ecgs,labels):\n",
    "    c = corners(labels)\n",
    "    true = None\n",
    "    color_gradient = []\n",
    "    for ecg, coord in zip(ecgs, labels):\n",
    "        if np.array_equal(target, ecg):\n",
    "            true = coord\n",
    "            color_gradient.append(1)\n",
    "            continue\n",
    "        cc = correlation_coef(target, ecg)\n",
    "        color_gradient.append(cc)\n",
    "    fig = plt.figure(20)\n",
    "    ax = fig.gca(projection='3d')\n",
    "    ax.scatter(xs=labels[:, 0], ys=labels[:, 1], zs=labels[:, 2], c=color_gradient, cmap = plt.cm.rainbow)\n",
    "    ax.scatter(true[0], true[1], true[2], color='black', marker = \"X\", s = 100)\n",
    "    ax.scatter(c[:,0], c[:,1], c[:,2], color='red', marker = \"*\", s = 150)\n",
    "    ax.set_xlabel(\"X\"), ax.set_ylabel(\"Y\"), ax.set_zlabel(\"Z\")\n",
    "    plt.show()"
   ]
  },
  {
   "cell_type": "code",
   "execution_count": 26,
   "metadata": {},
   "outputs": [
    {
     "ename": "NameError",
     "evalue": "name 'corners' is not defined",
     "output_type": "error",
     "traceback": [
      "\u001b[0;31m---------------------------------------------------------------------------\u001b[0m",
      "\u001b[0;31mNameError\u001b[0m                                 Traceback (most recent call last)",
      "\u001b[0;32m<ipython-input-26-c6d580380cc5>\u001b[0m in \u001b[0;36m<module>\u001b[0;34m\u001b[0m\n\u001b[1;32m      1\u001b[0m \u001b[0;31m# %matplotlib qt\u001b[0m\u001b[0;34m\u001b[0m\u001b[0;34m\u001b[0m\u001b[0;34m\u001b[0m\u001b[0m\n\u001b[0;32m----> 2\u001b[0;31m \u001b[0mcube\u001b[0m\u001b[0;34m(\u001b[0m\u001b[0mtarget_ecg\u001b[0m\u001b[0;34m,\u001b[0m\u001b[0mecgs\u001b[0m\u001b[0;34m,\u001b[0m\u001b[0mlabels\u001b[0m\u001b[0;34m)\u001b[0m\u001b[0;34m\u001b[0m\u001b[0;34m\u001b[0m\u001b[0m\n\u001b[0m",
      "\u001b[0;32m<ipython-input-25-53726415782a>\u001b[0m in \u001b[0;36mcube\u001b[0;34m(target, ecgs, labels)\u001b[0m\n\u001b[1;32m      1\u001b[0m \u001b[0;32mdef\u001b[0m \u001b[0mcube\u001b[0m\u001b[0;34m(\u001b[0m\u001b[0mtarget\u001b[0m\u001b[0;34m,\u001b[0m\u001b[0mecgs\u001b[0m\u001b[0;34m,\u001b[0m\u001b[0mlabels\u001b[0m\u001b[0;34m)\u001b[0m\u001b[0;34m:\u001b[0m\u001b[0;34m\u001b[0m\u001b[0;34m\u001b[0m\u001b[0m\n\u001b[0;32m----> 2\u001b[0;31m     \u001b[0mc\u001b[0m \u001b[0;34m=\u001b[0m \u001b[0mcorners\u001b[0m\u001b[0;34m(\u001b[0m\u001b[0mlabels\u001b[0m\u001b[0;34m)\u001b[0m\u001b[0;34m\u001b[0m\u001b[0;34m\u001b[0m\u001b[0m\n\u001b[0m\u001b[1;32m      3\u001b[0m     \u001b[0mtrue\u001b[0m \u001b[0;34m=\u001b[0m \u001b[0;32mNone\u001b[0m\u001b[0;34m\u001b[0m\u001b[0;34m\u001b[0m\u001b[0m\n\u001b[1;32m      4\u001b[0m     \u001b[0mcolor_gradient\u001b[0m \u001b[0;34m=\u001b[0m \u001b[0;34m[\u001b[0m\u001b[0;34m]\u001b[0m\u001b[0;34m\u001b[0m\u001b[0;34m\u001b[0m\u001b[0m\n\u001b[1;32m      5\u001b[0m     \u001b[0;32mfor\u001b[0m \u001b[0mecg\u001b[0m\u001b[0;34m,\u001b[0m \u001b[0mcoord\u001b[0m \u001b[0;32min\u001b[0m \u001b[0mzip\u001b[0m\u001b[0;34m(\u001b[0m\u001b[0mecgs\u001b[0m\u001b[0;34m,\u001b[0m \u001b[0mlabels\u001b[0m\u001b[0;34m)\u001b[0m\u001b[0;34m:\u001b[0m\u001b[0;34m\u001b[0m\u001b[0;34m\u001b[0m\u001b[0m\n",
      "\u001b[0;31mNameError\u001b[0m: name 'corners' is not defined"
     ]
    }
   ],
   "source": [
    "# %matplotlib qt \n",
    "cube(target_ecg,ecgs,labels)"
   ]
  },
  {
   "cell_type": "code",
   "execution_count": null,
   "metadata": {},
   "outputs": [],
   "source": [
    "ecgs[1].shape"
   ]
  },
  {
   "cell_type": "code",
   "execution_count": null,
   "metadata": {},
   "outputs": [],
   "source": [
    "from scipy.stats import wasserstein_distance\n",
    "ww = np.empty((2000, 2000))\n",
    "for i in range(len(ecgs)):\n",
    "    for j in range(len(ecgs)):\n",
    "        d = wasserstein_distance(ecgs[i],ecgs[j])\n",
    "        ww[i,j] = d\n"
   ]
  },
  {
   "cell_type": "code",
   "execution_count": null,
   "metadata": {},
   "outputs": [],
   "source": [
    "ww.shape"
   ]
  },
  {
   "cell_type": "code",
   "execution_count": null,
   "metadata": {},
   "outputs": [],
   "source": [
    "def euclidean_distance(one, two):\n",
    "    return np.sqrt(np.sum((one - two)**2))"
   ]
  },
  {
   "cell_type": "code",
   "execution_count": null,
   "metadata": {},
   "outputs": [],
   "source": [
    "def corners(labels):\n",
    "    minx,maxx = np.amin(labels[:,0]),np.amax(labels[:,0])\n",
    "    miny,maxy = np.amin(labels[:,1]),np.amax(labels[:,1])\n",
    "    minz,maxz = np.amin(labels[:,2]),np.amax(labels[:,2])\n",
    "    c1 = np.array([minx,miny,minz])\n",
    "    c2 = np.array([maxx,miny,minz])\n",
    "    c3 = np.array([maxx,maxy,minz])\n",
    "    c4 = np.array([minx,maxy,minz])\n",
    "    c5 = np.array([minx,miny,maxz])\n",
    "    c6 = np.array([maxx,miny,maxz])\n",
    "    c7 = np.array([maxx,maxy,maxz])\n",
    "    c8 = np.array([minx,maxy,maxz])\n",
    "    c = np.asarray([c1,c2,c3,c4,c5,c6,c7,c8])   \n",
    "    c9 = np.asarray([np.mean(c[:,0]),np.mean(c[:,1]),np.mean(c[:,2])]).reshape(1,3)\n",
    "    c = np.concatenate((c, c9),axis =0)\n",
    "    for i in range(len(c)):\n",
    "        c[i] = approx(c[i],labels)\n",
    "    return c"
   ]
  },
  {
   "cell_type": "code",
   "execution_count": null,
   "metadata": {},
   "outputs": [],
   "source": []
  },
  {
   "cell_type": "code",
   "execution_count": null,
   "metadata": {},
   "outputs": [],
   "source": [
    "def approx(c1,labels):\n",
    "    dist = []\n",
    "    for i in range(len(labels)):\n",
    "        d = euclidean_distance(c1, labels[i])\n",
    "        dist = np.append(dist,d)\n",
    "    for j in range(len(dist)):\n",
    "        if dist[j]==np.amin(dist):\n",
    "            break\n",
    "    return labels[j]\n",
    "        \n",
    "        "
   ]
  },
  {
   "cell_type": "code",
   "execution_count": null,
   "metadata": {},
   "outputs": [],
   "source": [
    "c1 = np.array([minx,miny,minz])\n",
    "c1=approx(c1,labels)\n",
    "c1"
   ]
  },
  {
   "cell_type": "code",
   "execution_count": null,
   "metadata": {},
   "outputs": [],
   "source": [
    "c=corners(labels)"
   ]
  },
  {
   "cell_type": "code",
   "execution_count": null,
   "metadata": {},
   "outputs": [],
   "source": []
  },
  {
   "cell_type": "code",
   "execution_count": null,
   "metadata": {},
   "outputs": [],
   "source": []
  },
  {
   "cell_type": "code",
   "execution_count": null,
   "metadata": {},
   "outputs": [],
   "source": [
    "c.shape"
   ]
  },
  {
   "cell_type": "code",
   "execution_count": null,
   "metadata": {},
   "outputs": [],
   "source": []
  }
 ],
 "metadata": {
  "kernelspec": {
   "display_name": "Python [conda env:tf_gpu] *",
   "language": "python",
   "name": "conda-env-tf_gpu-py"
  },
  "language_info": {
   "codemirror_mode": {
    "name": "ipython",
    "version": 3
   },
   "file_extension": ".py",
   "mimetype": "text/x-python",
   "name": "python",
   "nbconvert_exporter": "python",
   "pygments_lexer": "ipython3",
   "version": "3.7.5"
  }
 },
 "nbformat": 4,
 "nbformat_minor": 2
}
