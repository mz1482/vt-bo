{
 "cells": [
  {
   "cell_type": "code",
   "execution_count": 1,
   "metadata": {},
   "outputs": [],
   "source": [
    "import sys\n",
    "sys.path.append('/home/mz1482/project/vt-bayesian-opt-bopt_debug/my_bayes_opt/')\n",
    "import bo_new\n",
    "import pandas as pd\n",
    "import numpy as np\n",
    "from data_analysis import get_heart_bounds, correlation_coef, graph_3d, get_index\n",
    "from graph import narrow,corrplot3axes,trend,nearest,plot_exploration, graph_cc_distribution, cube, gp_plot, gp_plot2,predicted_visited, init_gp_plot\n",
    "from BayesOptLib.bayes_opt.bayesian_optimization import BayesianOptimization\n",
    "from RandomSampler import RandomSampler\n",
    "import matplotlib\n",
    "from matplotlib import pyplot as plt\n",
    "from mpl_toolkits.mplot3d import Axes3D\n",
    "from sklearn.metrics.pairwise import euclidean_distances\n",
    "matplotlib.use('Qt5Agg')  # or can use 'TkAgg', whatever you have/prefer"
   ]
  },
  {
   "cell_type": "code",
   "execution_count": 2,
   "metadata": {},
   "outputs": [],
   "source": [
    "def black_box(x, y, z):\n",
    "    \"\"\"\n",
    "    Represents a black box function to maximize for CC of two ECGs given an XYZ coordinate\n",
    "    :param x:\n",
    "    :param y: coordinates of the prediction\n",
    "    :param z:\n",
    "    :return: CC of that point and the target\n",
    "    \"\"\"\n",
    "    sample_ecg = ecgs[get_index(np.array([x, y, z]),labels)]\n",
    "    return abs(correlation_coef(target_ecg, sample_ecg))"
   ]
  },
  {
   "cell_type": "code",
   "execution_count": 3,
   "metadata": {},
   "outputs": [],
   "source": [
    "ecgs = pd.read_csv(\"new_simu-data/Heart1/Heart1_SimuData_4000.csv\", header=None).to_numpy()\n",
    "labels = pd.read_csv(\"new_simu-data/Heart1/Coord1_4000.csv\", header=None).to_numpy() / 1000\n",
    "init = 5\n",
    "steps = 10"
   ]
  },
  {
   "cell_type": "code",
   "execution_count": 4,
   "metadata": {},
   "outputs": [
    {
     "name": "stdout",
     "output_type": "stream",
     "text": [
      "\u001b[31mInitialization\u001b[0m\n",
      "\u001b[94m-----------------------------------------------------------------\u001b[0m\n",
      " Step |   Time |      Value |         x |         y |         z | \n",
      "    1 | 00m00s | \u001b[35m   0.13487\u001b[0m | \u001b[32m  -7.6837\u001b[0m | \u001b[32m -16.0327\u001b[0m | \u001b[32m -15.6516\u001b[0m | \n",
      "    2 | 00m00s | \u001b[35m   0.19841\u001b[0m | \u001b[32m  15.5183\u001b[0m | \u001b[32m-101.6560\u001b[0m | \u001b[32m   5.0517\u001b[0m | \n",
      "    3 | 00m00s | \u001b[35m   1.00000\u001b[0m | \u001b[32m  -6.1670\u001b[0m | \u001b[32m -88.3709\u001b[0m | \u001b[32m -36.6618\u001b[0m | \n",
      "    4 | 00m00s |    0.13284 |    0.1864 |  -98.4354 |   21.7536 | \n",
      "    5 | 00m00s |    0.11688 |    5.5928 |  -82.5250 |   18.5371 | \n",
      "\u001b[31mBayesian Optimization\u001b[0m\n",
      "\u001b[94m-----------------------------------------------------------------\u001b[0m\n",
      " Step |   Time |      Value |         x |         y |         z | \n",
      "    6 | 00m03s |    0.76416 |  -48.5647 |  -94.1265 |  -31.0406 | \n",
      "    7 | 00m03s |    0.96937 |   -7.3430 |  -99.4235 |  -38.5416 | \n",
      "    8 | 00m02s |    0.81032 |  -12.2912 |  -75.0930 |  -43.4956 | \n",
      "    9 | 00m03s |    0.55158 |   25.2813 |  -89.9660 |  -40.3020 | \n",
      "   10 | 00m02s |    0.94324 |  -22.5091 |  -98.9788 |  -29.3956 | \n",
      "   11 | 00m02s |    0.86000 |   -6.9853 |  -81.1188 |  -26.6381 | \n",
      "   12 | 00m02s |    0.97329 |  -15.0553 |  -94.0384 |  -40.4445 | \n",
      "   13 | 00m03s |    0.97884 |   -9.5480 |  -97.7981 |  -35.1215 | \n",
      "   14 | 00m03s |    0.73988 |  -49.0911 | -102.5450 |  -12.9966 | \n",
      "   15 | 00m02s |    0.95997 |   -1.3095 |  -89.7915 |  -41.3253 | \n",
      "[[  -7.68367  -16.0327   -15.6516 ]\n",
      " [  15.5183  -101.656      5.05171]\n",
      " [  -6.16699  -88.3709   -36.6618 ]\n",
      " [   0.18643  -98.4354    21.7536 ]\n",
      " [   5.59283  -82.525     18.5371 ]]\n"
     ]
    }
   ],
   "source": [
    "bounds = get_heart_bounds(labels)\n",
    "# Pick out a sample to use as a target\n",
    "tidx = np.random.randint(0, labels.shape[0])\n",
    "target, target_ecg = labels[tidx], ecgs[tidx]\n",
    "# optimizer = optimize_point(labels,bounds)  \n",
    "optimizer = bo_new.mybo(f=black_box,pbounds=bounds, real_set=labels)\n",
    "gp,X,rs,predicted = optimizer.gpfit(init_points=init, n_iter=steps,  acq=\"ucb\", kappa = 1)\n",
    "# print(optimizer.predicted)\n",
    "graph_cc_distribution(target_ecg,ecgs,labels)\n",
    "init_gp_plot(init,gp,labels,X)\n",
    "predicted_visited(init,target,target_ecg,labels,ecgs,X,predicted)"
   ]
  },
  {
   "cell_type": "code",
   "execution_count": 5,
   "metadata": {},
   "outputs": [
    {
     "data": {
      "text/plain": [
       "array([[ -59.2155    , -112.304     ,  -47.3608    ],\n",
       "       [ -11.63950582, -112.304     ,  -47.3608    ],\n",
       "       [ -15.66761945,  -75.28601112,  -47.3608    ],\n",
       "       [  24.44349289,  -87.40303563,  -47.3608    ],\n",
       "       [ -18.65305138,  -92.09573485,  -22.46635105],\n",
       "       [ -10.56327285,  -89.03536669,  -26.95167487],\n",
       "       [ -15.73746912,  -93.00736387,  -41.7001247 ],\n",
       "       [  -9.35980973,  -92.80107696,  -34.15104716],\n",
       "       [ -59.2155    , -112.304     ,   -4.35315075],\n",
       "       [  -4.4742547 ,  -91.21414241,  -42.23366481],\n",
       "       [ -11.01552629,  -90.07735745,  -35.92449515]])"
      ]
     },
     "execution_count": 5,
     "metadata": {},
     "output_type": "execute_result"
    }
   ],
   "source": [
    "predicted"
   ]
  },
  {
   "cell_type": "code",
   "execution_count": null,
   "metadata": {},
   "outputs": [],
   "source": []
  }
 ],
 "metadata": {
  "kernelspec": {
   "display_name": "Python [conda env:gp_tutorial]",
   "language": "python",
   "name": "conda-env-gp_tutorial-py"
  },
  "language_info": {
   "codemirror_mode": {
    "name": "ipython",
    "version": 3
   },
   "file_extension": ".py",
   "mimetype": "text/x-python",
   "name": "python",
   "nbconvert_exporter": "python",
   "pygments_lexer": "ipython3",
   "version": "3.7.7"
  }
 },
 "nbformat": 4,
 "nbformat_minor": 2
}
