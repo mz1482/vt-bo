{
 "cells": [
  {
   "cell_type": "code",
   "execution_count": 1,
   "metadata": {},
   "outputs": [],
   "source": [
    "import pandas as pd\n",
    "import numpy as np\n",
    "from data_analysis import get_heart_bounds, correlation_coef, graph_3d\n",
    "from graph import narrow,corrplot3axes,trend,nearest,plot_exploration, graph_dist_over_axis, graph_cc_distribution\n",
    "from BayesOptLib.bayes_opt.bayesian_optimization import BayesianOptimization\n",
    "from RandomSampler import RandomSampler\n",
    "import matplotlib\n",
    "from matplotlib import pyplot as plt\n",
    "from mpl_toolkits.mplot3d import Axes3D\n",
    "from sklearn.metrics.pairwise import euclidean_distances\n",
    "matplotlib.use('Qt5Agg')  # or can use 'TkAgg', whatever you have/prefer\n",
    "from prettytable import PrettyTable\n",
    "%matplotlib qt \n",
    "\n",
    "\n",
    "def get_index(label):\n",
    "    \"\"\"\n",
    "    Gets the idx of a label in the labels array\n",
    "    :param label: label to check for\n",
    "    :return: idx\n",
    "    \"\"\"\n",
    "    idx = 0\n",
    "    for coord in labels:\n",
    "        if np.array_equal(label, coord):\n",
    "            break\n",
    "        idx += 1\n",
    "    return idx\n",
    "\n",
    "\n",
    "def black_box(x, y, z):\n",
    "    \"\"\"\n",
    "    Represents a black box function to maximize for CC of two ECGs given an XYZ coordinate\n",
    "    :param x:\n",
    "    :param y: coordinates of the prediction\n",
    "    :param z:\n",
    "    :return: CC of that point and the target\n",
    "    \"\"\"\n",
    "    sample_ecg = ecgs[get_index(np.array([x, y, z]))]\n",
    "    return np.log(abs(correlation_coef(target_ecg, sample_ecg)))\n",
    "\n",
    "\n",
    "def plot_exploration(visited, color_gradient):\n",
    "    \"\"\"\n",
    "    Handles plotting the predictions of the network over time\n",
    "    :param visited:\n",
    "    :return:\n",
    "    \"\"\"\n",
    "    path = np.array(visited)\n",
    "    color_gradient = np.array(color_gradient)\n",
    "\n",
    "\n",
    "    # Plot final for viewing\n",
    "    rest = np.delete(labels, np.where(np.isin(labels, path)), axis=0)\n",
    "    color_gradient = np.delete(color_gradient, np.where(np.isin(labels, path)), axis=0)\n",
    "#     fig = plt.figure(0)\n",
    "    fig = plt.figure(figsize=(8,8)); ax = Axes3D(fig)\n",
    "    ax = fig.gca(projection='3d')\n",
    "\n",
    "    ax.scatter(xs=rest[:, 0], ys=rest[:, 1], zs=rest[:, 2], zdir='z', alpha=0.75, c=color_gradient, cmap = plt.cm.Reds)\n",
    "    ax.scatter(xs=path[:, 0], ys=path[:, 1], zs=path[:, 2], zdir='z', color='blue')\n",
    "    ax.plot(path[:, 0], path[:, 1], path[:, 2], color = 'blue')\n",
    "\n",
    "    m = path\n",
    "    for i in range(len(m)):\n",
    "        ax.text(m[i, 0], m[i, 1], m[i, 2], '%s' % (str(i)), size=10, zorder=1, color='k')\n",
    "    ax.scatter(xs=target[0], ys=target[1], zs=target[2], color='black', s = 100)\n",
    "    plt.show()\n",
    "\n"
   ]
  },
  {
   "cell_type": "code",
   "execution_count": 2,
   "metadata": {},
   "outputs": [
    {
     "name": "stdout",
     "output_type": "stream",
     "text": [
      "(2000, 7212)\n",
      "Target:  [ 12.85047559 -44.05477344 -67.4263125 ]\n"
     ]
    }
   ],
   "source": [
    "ecgs = pd.read_csv(\"simu-data/Heart3_SimuData.csv\", header=None).to_numpy()\n",
    "labels = pd.read_csv(\"simu-data/Heart3_XYZsub.csv\", header=None).to_numpy() / 1000\n",
    "print(ecgs.shape)\n",
    "# Get bounds of the heart mesh\n",
    "bounds = get_heart_bounds(labels)\n",
    "# Pick out a sample to use as a target\n",
    "tidx = np.random.randint(0, labels.shape[0])\n",
    "#tidx = 1\n",
    "target, target_ecg = labels[tidx], ecgs[tidx]\n",
    "print(\"Target: \", target)"
   ]
  },
  {
   "cell_type": "code",
   "execution_count": 3,
   "metadata": {},
   "outputs": [],
   "source": [
    "def optimize_point(labels):\n",
    "    # Build the optimizer with the heart bounds\n",
    "    optimizer = BayesianOptimization(\n",
    "        f=black_box,\n",
    "        pbounds=bounds,\n",
    "        random_state=None, real_set=labels\n",
    "    )\n",
    "\n",
    "    # Maximize over x number of points\n",
    "    optimizer.maximize(init_points=10, n_iter=35,  acq=\"ucb\", kappa = 2)\n",
    "    return optimizer\n"
   ]
  },
  {
   "cell_type": "code",
   "execution_count": null,
   "metadata": {},
   "outputs": [],
   "source": []
  },
  {
   "cell_type": "code",
   "execution_count": 4,
   "metadata": {},
   "outputs": [],
   "source": [
    "optimizer = BayesianOptimization(\n",
    "    f=black_box,\n",
    "    pbounds=bounds,\n",
    "    random_state=None, real_set=labels\n",
    ")"
   ]
  },
  {
   "cell_type": "code",
   "execution_count": 5,
   "metadata": {},
   "outputs": [
    {
     "name": "stdout",
     "output_type": "stream",
     "text": [
      "|   iter    |  target   |     x     |     y     |     z     |\n",
      "-------------------------------------------------------------\n",
      "| \u001b[0m 1       \u001b[0m | \u001b[0m 0.04153 \u001b[0m | \u001b[0m-21.08   \u001b[0m | \u001b[0m-93.02   \u001b[0m | \u001b[0m-8.656   \u001b[0m |\n",
      "| \u001b[95m 2       \u001b[0m | \u001b[95m 0.3006  \u001b[0m | \u001b[95m 21.72   \u001b[0m | \u001b[95m-54.98   \u001b[0m | \u001b[95m-49.17   \u001b[0m |\n",
      "| \u001b[0m 3       \u001b[0m | \u001b[0m-0.07686 \u001b[0m | \u001b[0m-6.821   \u001b[0m | \u001b[0m-69.73   \u001b[0m | \u001b[0m-4.955   \u001b[0m |\n",
      "| \u001b[95m 4       \u001b[0m | \u001b[95m 0.4449  \u001b[0m | \u001b[95m 57.85   \u001b[0m | \u001b[95m-37.88   \u001b[0m | \u001b[95m-71.11   \u001b[0m |\n",
      "| \u001b[0m 5       \u001b[0m | \u001b[0m-0.1796  \u001b[0m | \u001b[0m 70.55   \u001b[0m | \u001b[0m-87.0    \u001b[0m | \u001b[0m-22.71   \u001b[0m |\n",
      "| \u001b[0m 6       \u001b[0m | \u001b[0m 0.4114  \u001b[0m | \u001b[0m 57.3    \u001b[0m | \u001b[0m-39.46   \u001b[0m | \u001b[0m-70.57   \u001b[0m |\n",
      "| \u001b[95m 7       \u001b[0m | \u001b[95m 0.4788  \u001b[0m | \u001b[95m 62.46   \u001b[0m | \u001b[95m-46.24   \u001b[0m | \u001b[95m-74.97   \u001b[0m |\n",
      "| \u001b[0m 8       \u001b[0m | \u001b[0m 0.3071  \u001b[0m | \u001b[0m 20.42   \u001b[0m | \u001b[0m-54.83   \u001b[0m | \u001b[0m-49.61   \u001b[0m |\n",
      "| \u001b[0m 9       \u001b[0m | \u001b[0m 0.3056  \u001b[0m | \u001b[0m 19.44   \u001b[0m | \u001b[0m-56.17   \u001b[0m | \u001b[0m-51.41   \u001b[0m |\n",
      "| \u001b[95m 10      \u001b[0m | \u001b[95m 0.617   \u001b[0m | \u001b[95m 15.39   \u001b[0m | \u001b[95m-60.58   \u001b[0m | \u001b[95m-55.7    \u001b[0m |\n",
      "=============================================================\n"
     ]
    },
    {
     "data": {
      "image/png": "[encoded data removed]",
      "text/plain": [
       "<Figure size 432x288 with 1 Axes>"
      ]
     },
     "metadata": {
      "needs_background": "light"
     },
     "output_type": "display_data"
    }
   ],
   "source": [
    "gp,x = optimizer.gpfit(init_points=5,n_iter=5,acq='ucb',kappa=2.576)"
   ]
  },
  {
   "cell_type": "code",
   "execution_count": 6,
   "metadata": {},
   "outputs": [
    {
     "data": {
      "text/plain": [
       "(10, 1)"
      ]
     },
     "execution_count": 6,
     "metadata": {},
     "output_type": "execute_result"
    }
   ],
   "source": [
    "x_train = np.asarray(optimizer.visited)\n",
    "y_train=optimizer._space.target.reshape(-1,1)\n",
    "gp.fit(x_train,y_train)\n",
    "y_train.shape\n"
   ]
  },
  {
   "cell_type": "code",
   "execution_count": 32,
   "metadata": {},
   "outputs": [
    {
     "data": {
      "text/plain": [
       "94.38438281200003"
      ]
     },
     "execution_count": 32,
     "metadata": {},
     "output_type": "execute_result"
    }
   ],
   "source": [
    "np.amax(labels[:,0])"
   ]
  },
  {
   "cell_type": "code",
   "execution_count": 8,
   "metadata": {},
   "outputs": [
    {
     "data": {
      "image/png": "[encoded data removed]",
      "text/plain": [
       "<Figure size 432x288 with 1 Axes>"
      ]
     },
     "metadata": {
      "needs_background": "light"
     },
     "output_type": "display_data"
    }
   ],
   "source": [
    "from matplotlib import cm\n",
    "fig = plt.figure()\n",
    "# ax = fig.gca(projection='3d')\n",
    "X = np.arange(-34, 94, 0.05)\n",
    "Y = np.arange(-34, 94, 0.05)\n",
    "Z = np.arange(-34, 94, 0.05)\n",
    "R = np.array([X,Y,Z]).T\n",
    "\n",
    "G = gp.predict(R,return_std=False)#.reshape(len(X),1)\n",
    "# X, Y = np.meshgrid(X, Y)\n",
    "# surf = ax.plot_surface(X, Y, G, cmap=cm.jet,linewidth=0, antialiased=False)\n",
    "# fig.colorbar(surf, shrink=0.5, aspect=5)\n",
    "plt.scatter(Y,G)\n",
    "plt.show()\n"
   ]
  },
  {
   "cell_type": "code",
   "execution_count": 9,
   "metadata": {},
   "outputs": [
    {
     "data": {
      "text/plain": [
       "array([-34.  , -33.95, -33.9 , ...,  93.85,  93.9 ,  93.95])"
      ]
     },
     "execution_count": 9,
     "metadata": {},
     "output_type": "execute_result"
    }
   ],
   "source": [
    "X"
   ]
  },
  {
   "cell_type": "code",
   "execution_count": 10,
   "metadata": {},
   "outputs": [
    {
     "name": "stdout",
     "output_type": "stream",
     "text": [
      "Target:  [ 62.11659766 -93.26707031 -70.62080469]\n"
     ]
    }
   ],
   "source": [
    "# Pick out a sample to use as a target\n",
    "tidx = np.random.randint(0, labels.shape[0])\n",
    "#tidx = 1\n",
    "target, target_ecg = labels[tidx], ecgs[tidx]\n",
    "print(\"Target: \", target)\n",
    "\n",
    "# Remove target from labels\n",
    "#labels = np.delete(labels, np.where(np.isin(labels, target)), axis=0)\n",
    "\n",
    "# Get plots of target CC distribution\n",
    "# graph_cc_distribution(target_ecg)\n",
    "# graph_dist_over_axis(target_ecg)\n",
    "\n",
    "# Optimize for target and plot path\n",
    "# optimizer = optimize_point(labels)"
   ]
  },
  {
   "cell_type": "code",
   "execution_count": 11,
   "metadata": {},
   "outputs": [],
   "source": [
    "# init =10\n",
    "# actual = np.asarray(optimizer.predicted)\n",
    "# approx = np.asarray(optimizer.visited)\n",
    "# approx = approx[len(approx)-len(actual):len(approx),:]\n"
   ]
  },
  {
   "cell_type": "code",
   "execution_count": 12,
   "metadata": {},
   "outputs": [],
   "source": [
    "# np.linalg.norm(target[1,:]-optimizer.visited[1,:])\n",
    "# optimizer.visited.shape"
   ]
  },
  {
   "cell_type": "code",
   "execution_count": 13,
   "metadata": {},
   "outputs": [
    {
     "data": {
      "text/plain": [
       "0.09855815"
      ]
     },
     "execution_count": 13,
     "metadata": {},
     "output_type": "execute_result"
    }
   ],
   "source": [
    "np.quantile(ecgs[1],0.5)"
   ]
  },
  {
   "cell_type": "code",
   "execution_count": 14,
   "metadata": {},
   "outputs": [
    {
     "data": {
      "image/png": "[encoded data removed]",
      "text/plain": [
       "<Figure size 432x288 with 1 Axes>"
      ]
     },
     "metadata": {
      "needs_background": "light"
     },
     "output_type": "display_data"
    }
   ],
   "source": [
    "plt.hist(ecgs[1])\n",
    "plt.show()"
   ]
  },
  {
   "cell_type": "code",
   "execution_count": 15,
   "metadata": {},
   "outputs": [],
   "source": [
    "def all_mean(ecgs):\n",
    "    mean_array = []\n",
    "    var_array = []\n",
    "    for i in range(len(ecgs)):\n",
    "        m = np.mean(ecgs[i])\n",
    "        v = np.var(ecgs[i])\n",
    "        mean_array = np.append(mean_array,m)\n",
    "        var_array = np.append(var_array,v)\n",
    "    return mean_array, var_array\n",
    "        \n",
    "        "
   ]
  },
  {
   "cell_type": "code",
   "execution_count": 16,
   "metadata": {},
   "outputs": [],
   "source": [
    "mean, var = all_mean(ecgs)"
   ]
  },
  {
   "cell_type": "code",
   "execution_count": 17,
   "metadata": {},
   "outputs": [
    {
     "data": {
      "image/png": "[encoded data removed]",
      "text/plain": [
       "<Figure size 432x288 with 1 Axes>"
      ]
     },
     "metadata": {
      "needs_background": "light"
     },
     "output_type": "display_data"
    }
   ],
   "source": [
    "plt.hist(var)\n",
    "plt.show()"
   ]
  },
  {
   "cell_type": "code",
   "execution_count": 18,
   "metadata": {},
   "outputs": [
    {
     "name": "stdout",
     "output_type": "stream",
     "text": [
      "+-------+---------+--------+----------+------+-------+------+\n",
      "|   x   |    y    |   z    | Distance | Corr |   Q1  |  Q3  |\n",
      "+-------+---------+--------+----------+------+-------+------+\n",
      "| 62.12 |  -93.27 | -70.62 |   0.0    | 1.0  | -0.04 | 0.55 |\n",
      "| 57.77 |  -91.36 | -78.26 |   8.99   | 0.95 | -0.03 | 0.58 |\n",
      "| 60.62 |  -91.2  | -77.89 |   7.7    | 0.97 | -0.04 | 0.58 |\n",
      "| 69.48 |  -93.18 | -78.62 |  10.87   | 0.96 | -0.04 | 0.59 |\n",
      "| 58.62 |  -88.31 | -75.45 |   7.75   | 0.97 | -0.03 | 0.57 |\n",
      "| 58.99 |  -93.25 | -80.42 |  10.29   | 0.9  | -0.02 | 0.58 |\n",
      "|  53.3 |  -83.07 | -70.76 |  13.48   | 0.91 | -0.02 | 0.54 |\n",
      "| 64.06 | -102.12 | -63.86 |  11.31   | 0.94 | -0.04 | 0.54 |\n",
      "| 64.49 |  -97.16 | -63.4  |   8.54   | 0.96 | -0.04 | 0.53 |\n",
      "| 62.88 |  -97.9  | -62.19 |   9.65   | 0.97 | -0.04 | 0.53 |\n",
      "| 64.23 | -100.88 | -64.39 |  10.06   | 0.96 | -0.04 | 0.55 |\n",
      "|  72.7 |  -98.57 | -70.89 |  11.85   | 0.89 | -0.06 | 0.58 |\n",
      "| 69.32 |  -87.24 | -80.57 |  13.68   | 0.95 | -0.04 | 0.62 |\n",
      "| 58.72 |  -92.9  | -69.72 |   3.53   | 0.99 | -0.03 | 0.54 |\n",
      "| 58.83 |  -98.17 | -72.96 |   6.35   | 0.94 | -0.02 | 0.55 |\n",
      "| 52.83 |  -86.6  | -64.09 |  13.16   | 0.95 | -0.02 | 0.53 |\n",
      "| 51.86 |  -94.47 | -68.26 |   10.6   | 0.83 |  -0.0 | 0.5  |\n",
      "| 69.45 |  -96.62 | -75.17 |   9.26   | 0.96 | -0.04 | 0.56 |\n",
      "|  70.6 |  -88.61 | -81.75 |  14.75   | 0.94 | -0.04 | 0.62 |\n",
      "| 63.24 |  -81.31 | -77.55 |  13.87   | 0.9  | -0.04 | 0.59 |\n",
      "| 50.28 |  -95.54 | -68.16 |   12.3   | 0.73 |  -0.0 | 0.5  |\n",
      "| 59.74 |  -96.75 | -72.08 |   4.46   | 0.99 | -0.04 | 0.56 |\n",
      "| 60.83 |  -95.94 | -71.9  |   3.23   | 1.0  | -0.04 | 0.56 |\n",
      "| 67.22 |  -96.63 | -82.52 |  13.37   | 0.91 | -0.04 | 0.62 |\n",
      "|  70.3 |  -94.53 | -79.67 |  12.26   | 0.93 | -0.04 | 0.59 |\n",
      "| 51.11 |  -85.92 | -73.89 |  13.63   | 0.91 | -0.02 | 0.54 |\n",
      "| 55.48 |  -93.96 | -81.62 |  12.87   | 0.74 | -0.01 | 0.55 |\n",
      "| 70.67 |  -96.77 | -81.41 |  14.21   | 0.88 | -0.05 | 0.59 |\n",
      "| 57.97 |  -94.23 | -81.2  |  11.41   | 0.84 | -0.02 | 0.57 |\n",
      "| 60.09 |  -88.22 | -74.82 |   6.87   | 0.97 | -0.03 | 0.57 |\n",
      "| 58.66 |  -96.99 | -84.42 |   14.7   | 0.81 | -0.02 | 0.61 |\n",
      "| 51.53 |  -83.02 | -71.46 |  14.76   | 0.89 | -0.02 | 0.54 |\n",
      "| 74.02 | -101.06 | -71.97 |  14.29   | 0.84 | -0.06 | 0.6  |\n",
      "| 64.79 |  -95.62 | -63.43 |   8.02   | 0.96 | -0.04 | 0.53 |\n",
      "| 62.54 | -103.37 | -63.82 |  12.19   | 0.93 | -0.02 | 0.52 |\n",
      "| 74.99 |  -99.95 | -72.69 |  14.65   | 0.83 | -0.06 | 0.6  |\n",
      "| 71.13 | -104.49 | -71.06 |   14.4   | 0.86 | -0.06 | 0.58 |\n",
      "| 62.11 | -104.72 | -63.2  |  13.65   | 0.89 |  -0.0 | 0.51 |\n",
      "| 59.57 | -100.23 | -74.21 |   8.24   | 0.9  | -0.01 | 0.55 |\n",
      "| 62.12 |  -93.27 | -70.62 |   0.0    | 1.0  | -0.04 | 0.55 |\n",
      "| 61.54 | -105.17 | -77.64 |  13.83   | 0.77 | -0.02 | 0.59 |\n",
      "| 49.75 |  -90.42 | -64.9  |  13.92   | 0.9  |  -0.0 | 0.5  |\n",
      "| 63.21 |  -81.9  | -79.91 |  14.72   | 0.91 | -0.04 | 0.6  |\n",
      "| 51.81 |  -87.07 | -64.1  |  13.68   | 0.95 | -0.02 | 0.52 |\n",
      "| 71.14 |  -88.85 | -79.89 |  13.67   | 0.93 | -0.04 | 0.61 |\n",
      "| 69.27 |  -98.91 | -76.75 |  10.98   | 0.93 | -0.05 | 0.57 |\n",
      "| 70.35 | -101.07 | -78.18 |  13.63   | 0.86 | -0.06 | 0.59 |\n",
      "| 50.74 |  -87.73 | -63.85 |  14.35   | 0.94 | -0.02 | 0.52 |\n",
      "| 57.11 |  -104.4 | -75.61 |  13.19   | 0.66 | -0.03 | 0.54 |\n",
      "| 63.85 |  -82.61 | -79.15 |  13.76   | 0.92 | -0.04 | 0.6  |\n",
      "| 50.61 |  -89.42 | -65.04 |  13.36   | 0.95 | -0.01 | 0.53 |\n",
      "| 58.04 | -101.65 | -74.06 |   9.93   | 0.76 | -0.01 | 0.55 |\n",
      "| 67.97 |  -97.56 | -75.5  |   8.75   | 0.98 | -0.04 | 0.57 |\n",
      "+-------+---------+--------+----------+------+-------+------+\n"
     ]
    }
   ],
   "source": [
    "def nearest(tidx,labels,ecgs,dis_limit):\n",
    "    target_loc = labels[tidx]\n",
    "    target_ecg = ecgs[tidx]\n",
    "    cc = np.array([[1]])\n",
    "    dis = np.array([[0]])\n",
    "    mean_target = np.array([[0]])+np.quantile(target_ecg,0.25)\n",
    "    var_target = np.array([[0]])+np.quantile(target_ecg,0.75)\n",
    "    first_row=np.concatenate((target_loc.reshape(1,3), dis,cc,mean_target,var_target),axis =1)\n",
    "    nn_loc = np.empty((0, 3))\n",
    "    nn_cc = np.empty ((0,1))\n",
    "    nn_dis = np.empty((0,1))\n",
    "    nn_mean = np.empty((0,1))\n",
    "    nn_var = np.empty((0,1))\n",
    "    for i in range(len(labels)):\n",
    "        d = np.sqrt(np.sum((target_loc - labels[i])**2))\n",
    "        if d < dis_limit:\n",
    "            nn_loc = np.append(nn_loc,labels[i].reshape(1,3),axis=0)\n",
    "            nn_cc = np.append(nn_cc,np.corrcoef(target_ecg, ecgs[i])[0, 1])\n",
    "            nn_dis = np.append(nn_dis,d)\n",
    "            nn_mean = np.append(nn_mean,np.quantile(ecgs[i],0.25))\n",
    "            nn_var = np.append(nn_var,np.quantile(ecgs[i],0.75))\n",
    "    nn_dis = nn_dis.reshape(-1,1)\n",
    "    nn_cc = nn_cc.reshape(-1,1)\n",
    "    nn_mean = nn_mean.reshape(-1,1)\n",
    "    nn_var = nn_var.reshape(-1,1)\n",
    "    near_points = np.concatenate((nn_loc, nn_dis, nn_cc,nn_mean,nn_var),axis =1)\n",
    "    table = np.concatenate((first_row,near_points), axis = 0)\n",
    "    table = np.around(table,2)\n",
    "    return table\n",
    "table=nearest(tidx,labels,ecgs,15)\n",
    "# plt.scatter(table[:,3],table[:,4])\n",
    "# plt.xlabel(\"distance\")\n",
    "# plt.ylabel(\"correlation\")\n",
    "# plt.show\n",
    "x= PrettyTable()\n",
    "x.field_names = ['x', 'y','z','Distance','Corr','Q1','Q3']\n",
    "for row in table:\n",
    "    x.add_row(row)\n",
    "print(x)"
   ]
  },
  {
   "cell_type": "code",
   "execution_count": 19,
   "metadata": {},
   "outputs": [
    {
     "data": {
      "text/plain": [
       "array([[ 6.2120e+01, -9.3270e+01, -7.0620e+01, ...,  1.0000e+00,\n",
       "        -4.0000e-02,  5.5000e-01],\n",
       "       [ 4.6090e+01, -9.7720e+01, -7.7370e+01, ...,  4.5000e-01,\n",
       "        -4.0000e-02,  5.3000e-01],\n",
       "       [ 4.7830e+01, -8.7820e+01, -7.6760e+01, ...,  6.0000e-01,\n",
       "        -0.0000e+00,  4.8000e-01],\n",
       "       ...,\n",
       "       [ 7.7590e+01, -9.5680e+01, -7.7000e+01, ...,  8.1000e-01,\n",
       "        -6.0000e-02,  6.0000e-01],\n",
       "       [ 5.4000e+01, -1.0755e+02, -7.2400e+01, ...,  5.8000e-01,\n",
       "        -3.0000e-02,  5.6000e-01],\n",
       "       [ 6.9060e+01, -9.0940e+01, -8.6220e+01, ...,  8.5000e-01,\n",
       "        -5.0000e-02,  6.4000e-01]])"
      ]
     },
     "execution_count": 19,
     "metadata": {},
     "output_type": "execute_result"
    }
   ],
   "source": [
    "nearest(tidx,labels,ecgs,20)"
   ]
  },
  {
   "cell_type": "code",
   "execution_count": 20,
   "metadata": {},
   "outputs": [],
   "source": [
    "def nearest(tidx,labels,ecgs,dis_limit):\n",
    "    target_loc = labels[tidx]\n",
    "    target_ecg = ecgs[tidx]\n",
    "    cc = np.array([[1]])\n",
    "    dis = np.array([[0]])\n",
    "    first_row=np.concatenate((target_loc.reshape(1,3), dis,cc),axis =1)\n",
    "    nn_loc = np.empty((0, 3))\n",
    "    nn_cc = np.empty ((0,1))\n",
    "    nn_dis = np.empty((0,1))\n",
    "    for i in range(len(labels)):\n",
    "        d = np.sqrt(np.sum((target_loc - labels[i])**2))\n",
    "        if d < dis_limit:\n",
    "            nn_loc = np.append(nn_loc,labels[i].reshape(1,3),axis=0)\n",
    "            nn_cc = np.append(nn_cc,np.corrcoef(target_ecg, ecgs[i])[0, 1])\n",
    "            nn_dis = np.append(nn_dis,d)\n",
    "    nn_dis = nn_dis.reshape(-1,1)\n",
    "    nn_cc = nn_cc.reshape(-1,1)\n",
    "    near_points = np.concatenate((nn_loc, nn_dis, nn_cc),axis =1)\n",
    "    table = np.concatenate((first_row,near_points), axis = 0)\n",
    "    table = np.around(table,2)\n",
    "    plt.figure(2)\n",
    "    plt.scatter(table[:,3],table[:,4])\n",
    "    plt.xlabel(\"distance\")\n",
    "    plt.ylabel(\"correlation\")\n",
    "    plt.show\n",
    "    return table"
   ]
  },
  {
   "cell_type": "code",
   "execution_count": 21,
   "metadata": {},
   "outputs": [
    {
     "data": {
      "text/plain": [
       "0.09855815"
      ]
     },
     "execution_count": 21,
     "metadata": {},
     "output_type": "execute_result"
    }
   ],
   "source": [
    "np.quantile(ecgs[1],0.5)"
   ]
  },
  {
   "cell_type": "code",
   "execution_count": 22,
   "metadata": {},
   "outputs": [
    {
     "data": {
      "image/png": "[encoded data removed]",
      "text/plain": [
       "<Figure size 432x288 with 3 Axes>"
      ]
     },
     "metadata": {
      "needs_background": "light"
     },
     "output_type": "display_data"
    }
   ],
   "source": [
    "x,y,z,nn_cc = corrplot3axes(tidx,labels,ecgs,15)"
   ]
  },
  {
   "cell_type": "code",
   "execution_count": 23,
   "metadata": {},
   "outputs": [],
   "source": [
    "def plot_exploration(visited, color_gradient):\n",
    "    \"\"\"\n",
    "    Handles plotting the predictions of the network over time\n",
    "    :param visited:\n",
    "    :return:\n",
    "    \"\"\"\n",
    "    path = np.array(visited)\n",
    "    color_gradient = np.array(color_gradient)\n",
    "\n",
    "    # Plot final for viewing\n",
    "    rest = np.delete(labels, np.where(np.isin(labels, path)), axis=0)\n",
    "    color_gradient = np.delete(color_gradient, np.where(np.isin(labels, path)), axis=0)\n",
    "    fig = plt.figure(0)\n",
    "    ax = fig.gca(projection='3d')\n",
    "\n",
    "    ax.scatter(xs=rest[:, 0], ys=rest[:, 1], zs=rest[:, 2], zdir='z', alpha=0.75, c=color_gradient, cmap = plt.cm.Reds)\n",
    "    ax.scatter(xs=path[:, 0], ys=path[:, 1], zs=path[:, 2], zdir='z', color='blue')\n",
    "    ax.plot(path[:, 0], path[:, 1], path[:, 2], color = 'blue')\n",
    "\n",
    "    m = path\n",
    "    for i in range(len(m)):\n",
    "        ax.text(m[i, 0], m[i, 1], m[i, 2], '%s' % (str(i)), size=10, zorder=1, color='k')\n",
    "    ax.scatter(xs=target[0], ys=target[1], zs=target[2], color='black', s = 100)\n",
    "    plt.show()\n"
   ]
  },
  {
   "cell_type": "code",
   "execution_count": 24,
   "metadata": {},
   "outputs": [
    {
     "data": {
      "image/png": "[encoded data removed]",
      "text/plain": [
       "<Figure size 432x288 with 1 Axes>"
      ]
     },
     "metadata": {
      "needs_background": "light"
     },
     "output_type": "display_data"
    }
   ],
   "source": [
    "color_gradient = []\n",
    "    # Loop through all points to get CC with that point\n",
    "for ecg, coord in zip(ecgs, labels):\n",
    "    if np.array_equal(target_ecg, ecg):\n",
    "        true = coord\n",
    "        color_gradient.append(1)\n",
    "        continue\n",
    "\n",
    "    cc = correlation_coef(target_ecg, ecg)\n",
    "    color_gradient.append(cc)\n",
    "# %matplotlib notebook\n",
    "plot_exploration(optimizer.visited, color_gradient)"
   ]
  },
  {
   "cell_type": "code",
   "execution_count": 25,
   "metadata": {},
   "outputs": [],
   "source": [
    "def cube(target,ecgs,labels):\n",
    "    c = corners(labels)\n",
    "    true = None\n",
    "    color_gradient = []\n",
    "    for ecg, coord in zip(ecgs, labels):\n",
    "        if np.array_equal(target, ecg):\n",
    "            true = coord\n",
    "            color_gradient.append(1)\n",
    "            continue\n",
    "        cc = correlation_coef(target, ecg)\n",
    "        color_gradient.append(cc)\n",
    "    fig = plt.figure(20)\n",
    "    ax = fig.gca(projection='3d')\n",
    "    ax.scatter(xs=labels[:, 0], ys=labels[:, 1], zs=labels[:, 2], c=color_gradient, cmap = plt.cm.rainbow)\n",
    "    ax.scatter(true[0], true[1], true[2], color='black', marker = \"X\", s = 100)\n",
    "    ax.scatter(c[:,0], c[:,1], c[:,2], color='red', marker = \"*\", s = 150)\n",
    "    ax.set_xlabel(\"X\"), ax.set_ylabel(\"Y\"), ax.set_zlabel(\"Z\")\n",
    "    plt.show()"
   ]
  },
  {
   "cell_type": "code",
   "execution_count": 26,
   "metadata": {},
   "outputs": [
    {
     "ename": "NameError",
     "evalue": "name 'corners' is not defined",
     "output_type": "error",
     "traceback": [
      "\u001b[0;31m---------------------------------------------------------------------------\u001b[0m",
      "\u001b[0;31mNameError\u001b[0m                                 Traceback (most recent call last)",
      "\u001b[0;32m<ipython-input-26-c6d580380cc5>\u001b[0m in \u001b[0;36m<module>\u001b[0;34m\u001b[0m\n\u001b[1;32m      1\u001b[0m \u001b[0;31m# %matplotlib qt\u001b[0m\u001b[0;34m\u001b[0m\u001b[0;34m\u001b[0m\u001b[0;34m\u001b[0m\u001b[0m\n\u001b[0;32m----> 2\u001b[0;31m \u001b[0mcube\u001b[0m\u001b[0;34m(\u001b[0m\u001b[0mtarget_ecg\u001b[0m\u001b[0;34m,\u001b[0m\u001b[0mecgs\u001b[0m\u001b[0;34m,\u001b[0m\u001b[0mlabels\u001b[0m\u001b[0;34m)\u001b[0m\u001b[0;34m\u001b[0m\u001b[0;34m\u001b[0m\u001b[0m\n\u001b[0m",
      "\u001b[0;32m<ipython-input-25-53726415782a>\u001b[0m in \u001b[0;36mcube\u001b[0;34m(target, ecgs, labels)\u001b[0m\n\u001b[1;32m      1\u001b[0m \u001b[0;32mdef\u001b[0m \u001b[0mcube\u001b[0m\u001b[0;34m(\u001b[0m\u001b[0mtarget\u001b[0m\u001b[0;34m,\u001b[0m\u001b[0mecgs\u001b[0m\u001b[0;34m,\u001b[0m\u001b[0mlabels\u001b[0m\u001b[0;34m)\u001b[0m\u001b[0;34m:\u001b[0m\u001b[0;34m\u001b[0m\u001b[0;34m\u001b[0m\u001b[0m\n\u001b[0;32m----> 2\u001b[0;31m     \u001b[0mc\u001b[0m \u001b[0;34m=\u001b[0m \u001b[0mcorners\u001b[0m\u001b[0;34m(\u001b[0m\u001b[0mlabels\u001b[0m\u001b[0;34m)\u001b[0m\u001b[0;34m\u001b[0m\u001b[0;34m\u001b[0m\u001b[0m\n\u001b[0m\u001b[1;32m      3\u001b[0m     \u001b[0mtrue\u001b[0m \u001b[0;34m=\u001b[0m \u001b[0;32mNone\u001b[0m\u001b[0;34m\u001b[0m\u001b[0;34m\u001b[0m\u001b[0m\n\u001b[1;32m      4\u001b[0m     \u001b[0mcolor_gradient\u001b[0m \u001b[0;34m=\u001b[0m \u001b[0;34m[\u001b[0m\u001b[0;34m]\u001b[0m\u001b[0;34m\u001b[0m\u001b[0;34m\u001b[0m\u001b[0m\n\u001b[1;32m      5\u001b[0m     \u001b[0;32mfor\u001b[0m \u001b[0mecg\u001b[0m\u001b[0;34m,\u001b[0m \u001b[0mcoord\u001b[0m \u001b[0;32min\u001b[0m \u001b[0mzip\u001b[0m\u001b[0;34m(\u001b[0m\u001b[0mecgs\u001b[0m\u001b[0;34m,\u001b[0m \u001b[0mlabels\u001b[0m\u001b[0;34m)\u001b[0m\u001b[0;34m:\u001b[0m\u001b[0;34m\u001b[0m\u001b[0;34m\u001b[0m\u001b[0m\n",
      "\u001b[0;31mNameError\u001b[0m: name 'corners' is not defined"
     ]
    }
   ],
   "source": [
    "# %matplotlib qt \n",
    "cube(target_ecg,ecgs,labels)"
   ]
  },
  {
   "cell_type": "code",
   "execution_count": null,
   "metadata": {},
   "outputs": [],
   "source": [
    "ecgs[1].shape"
   ]
  },
  {
   "cell_type": "code",
   "execution_count": null,
   "metadata": {},
   "outputs": [],
   "source": [
    "from scipy.stats import wasserstein_distance\n",
    "ww = np.empty((2000, 2000))\n",
    "for i in range(len(ecgs)):\n",
    "    for j in range(len(ecgs)):\n",
    "        d = wasserstein_distance(ecgs[i],ecgs[j])\n",
    "        ww[i,j] = d\n"
   ]
  },
  {
   "cell_type": "code",
   "execution_count": null,
   "metadata": {},
   "outputs": [],
   "source": [
    "ww.shape"
   ]
  },
  {
   "cell_type": "code",
   "execution_count": null,
   "metadata": {},
   "outputs": [],
   "source": [
    "def euclidean_distance(one, two):\n",
    "    return np.sqrt(np.sum((one - two)**2))"
   ]
  },
  {
   "cell_type": "code",
   "execution_count": null,
   "metadata": {},
   "outputs": [],
   "source": [
    "def corners(labels):\n",
    "    minx,maxx = np.amin(labels[:,0]),np.amax(labels[:,0])\n",
    "    miny,maxy = np.amin(labels[:,1]),np.amax(labels[:,1])\n",
    "    minz,maxz = np.amin(labels[:,2]),np.amax(labels[:,2])\n",
    "    c1 = np.array([minx,miny,minz])\n",
    "    c2 = np.array([maxx,miny,minz])\n",
    "    c3 = np.array([maxx,maxy,minz])\n",
    "    c4 = np.array([minx,maxy,minz])\n",
    "    c5 = np.array([minx,miny,maxz])\n",
    "    c6 = np.array([maxx,miny,maxz])\n",
    "    c7 = np.array([maxx,maxy,maxz])\n",
    "    c8 = np.array([minx,maxy,maxz])\n",
    "    c = np.asarray([c1,c2,c3,c4,c5,c6,c7,c8])   \n",
    "    c9 = np.asarray([np.mean(c[:,0]),np.mean(c[:,1]),np.mean(c[:,2])]).reshape(1,3)\n",
    "    c = np.concatenate((c, c9),axis =0)\n",
    "    for i in range(len(c)):\n",
    "        c[i] = approx(c[i],labels)\n",
    "    return c"
   ]
  },
  {
   "cell_type": "code",
   "execution_count": null,
   "metadata": {},
   "outputs": [],
   "source": []
  },
  {
   "cell_type": "code",
   "execution_count": null,
   "metadata": {},
   "outputs": [],
   "source": [
    "def approx(c1,labels):\n",
    "    dist = []\n",
    "    for i in range(len(labels)):\n",
    "        d = euclidean_distance(c1, labels[i])\n",
    "        dist = np.append(dist,d)\n",
    "    for j in range(len(dist)):\n",
    "        if dist[j]==np.amin(dist):\n",
    "            break\n",
    "    return labels[j]\n",
    "        \n",
    "        "
   ]
  },
  {
   "cell_type": "code",
   "execution_count": null,
   "metadata": {},
   "outputs": [],
   "source": [
    "c1 = np.array([minx,miny,minz])\n",
    "c1=approx(c1,labels)\n",
    "c1"
   ]
  },
  {
   "cell_type": "code",
   "execution_count": null,
   "metadata": {},
   "outputs": [],
   "source": [
    "c=corners(labels)"
   ]
  },
  {
   "cell_type": "code",
   "execution_count": null,
   "metadata": {},
   "outputs": [],
   "source": []
  },
  {
   "cell_type": "code",
   "execution_count": null,
   "metadata": {},
   "outputs": [],
   "source": []
  },
  {
   "cell_type": "code",
   "execution_count": null,
   "metadata": {},
   "outputs": [],
   "source": [
    "c.shape"
   ]
  },
  {
   "cell_type": "code",
   "execution_count": null,
   "metadata": {},
   "outputs": [],
   "source": []
  }
 ],
 "metadata": {
  "kernelspec": {
   "display_name": "Python [conda env:tf_gpu] *",
   "language": "python",
   "name": "conda-env-tf_gpu-py"
  },
  "language_info": {
   "codemirror_mode": {
    "name": "ipython",
    "version": 3
   },
   "file_extension": ".py",
   "mimetype": "text/x-python",
   "name": "python",
   "nbconvert_exporter": "python",
   "pygments_lexer": "ipython3",
   "version": "3.7.5"
  }
 },
 "nbformat": 4,
 "nbformat_minor": 2
}
